{
 "cells": [
  {
   "cell_type": "markdown",
   "id": "f6a1c60b",
   "metadata": {},
   "source": [
    "# Introduction to Julia by Dr. Mohammad Masiur Rahaman (masiurr@iitbbs.ac.in)"
   ]
  },
  {
   "cell_type": "markdown",
   "id": "087ea26f",
   "metadata": {},
   "source": [
    "## Julia built-in package for symbolic calculation\n",
    "\n",
    "Symbolics.jl is a fast and modern Computer Algebra System (CAS) for a fast and modern programming \n",
    "language (Julia). The goal is to have a high-performance and parallelized symbolic algebra system \n",
    "that is directly extendable in the same language as the users."
   ]
  },
  {
   "cell_type": "markdown",
   "id": "62d84458",
   "metadata": {},
   "source": [
    "#### Install the package"
   ]
  },
  {
   "cell_type": "code",
   "execution_count": null,
   "id": "db45fc6d",
   "metadata": {},
   "outputs": [
    {
     "name": "stderr",
     "output_type": "stream",
     "text": [
      "\u001b[32m\u001b[1m    Updating\u001b[22m\u001b[39m registry at `~/.julia/registries/General`\n",
      "\u001b[32m\u001b[1m   Resolving\u001b[22m\u001b[39m package versions...\n",
      "\u001b[32m\u001b[1m   Installed\u001b[22m\u001b[39m ForwardDiff ─────────────── v0.10.30\n",
      "\u001b[32m\u001b[1m   Installed\u001b[22m\u001b[39m Adapt ───────────────────── v3.4.0\n",
      "\u001b[32m\u001b[1m   Installed\u001b[22m\u001b[39m PlotUtils ───────────────── v1.3.0\n",
      "\u001b[32m\u001b[1m   Installed\u001b[22m\u001b[39m ASL_jll ─────────────────── v0.1.3+0\n",
      "\u001b[32m\u001b[1m   Installed\u001b[22m\u001b[39m TimerOutputs ────────────── v0.5.20\n",
      "\u001b[32m\u001b[1m   Installed\u001b[22m\u001b[39m gmsh_jll ────────────────── v4.10.2+0\n",
      "\u001b[32m\u001b[1m   Installed\u001b[22m\u001b[39m ConstructionBase ────────── v1.4.0\n",
      "\u001b[32m\u001b[1m   Installed\u001b[22m\u001b[39m DynamicPolynomials ──────── v0.3.21\n",
      "\u001b[32m\u001b[1m   Installed\u001b[22m\u001b[39m Symbolics ───────────────── v3.2.3\n",
      "\u001b[32m\u001b[1m   Installed\u001b[22m\u001b[39m RuntimeGeneratedFunctions ─ v0.5.3\n",
      "\u001b[32m\u001b[1m   Installed\u001b[22m\u001b[39m OffsetArrays ────────────── v1.12.7\n",
      "\u001b[32m\u001b[1m   Installed\u001b[22m\u001b[39m PDMats ──────────────────── v0.11.16\n",
      "\u001b[32m\u001b[1m   Installed\u001b[22m\u001b[39m Metis ───────────────────── v1.2.0\n",
      "\u001b[32m\u001b[1m   Installed\u001b[22m\u001b[39m StatsBase ───────────────── v0.33.20\n",
      "\u001b[32m\u001b[1m   Installed\u001b[22m\u001b[39m DataAPI ─────────────────── v1.10.0\n",
      "\u001b[32m\u001b[1m   Installed\u001b[22m\u001b[39m Preferences ─────────────── v1.3.0\n",
      "\u001b[32m\u001b[1m   Installed\u001b[22m\u001b[39m CEnum ───────────────────── v0.4.2\n",
      "\u001b[32m\u001b[1m   Installed\u001b[22m\u001b[39m LinearElasticity_jll ────── v5.0.0+0\n",
      "\u001b[32m\u001b[1m   Installed\u001b[22m\u001b[39m HDF5_jll ────────────────── v1.12.2+1\n",
      "\u001b[32m\u001b[1m   Installed\u001b[22m\u001b[39m StatsAPI ────────────────── v1.4.0\n",
      "\u001b[32m\u001b[1m   Installed\u001b[22m\u001b[39m MMG_jll ─────────────────── v5.6.0+0\n",
      "\u001b[32m\u001b[1m   Installed\u001b[22m\u001b[39m SCOTCH_jll ──────────────── v6.1.3+0\n",
      "\u001b[32m\u001b[1m   Installed\u001b[22m\u001b[39m CommonSolve ─────────────── v0.2.1\n",
      "\u001b[32m\u001b[1m   Installed\u001b[22m\u001b[39m TimeZones ───────────────── v1.9.0\n",
      "\u001b[32m\u001b[1m   Installed\u001b[22m\u001b[39m MUMPS_seq_jll ───────────── v5.2.1+4\n",
      "\u001b[32m\u001b[1m   Installed\u001b[22m\u001b[39m FFTW ────────────────────── v1.5.0\n",
      "\u001b[32m\u001b[1m   Installed\u001b[22m\u001b[39m Ipopt_jll ───────────────── v3.13.4+2\n",
      "\u001b[32m\u001b[1m   Installed\u001b[22m\u001b[39m Graphs ──────────────────── v1.7.1\n",
      "\u001b[32m\u001b[1m   Installed\u001b[22m\u001b[39m GitForge ────────────────── v0.2.9\n",
      "\u001b[32m\u001b[1m   Installed\u001b[22m\u001b[39m DomainSets ──────────────── v0.5.11\n",
      "\u001b[32m\u001b[1m   Installed\u001b[22m\u001b[39m NearestNeighbors ────────── v0.4.11\n",
      "\u001b[32m\u001b[1m   Installed\u001b[22m\u001b[39m XML2_jll ────────────────── v2.9.14+0\n",
      "\u001b[32m\u001b[1m   Installed\u001b[22m\u001b[39m Parsers ─────────────────── v2.3.2\n",
      "\u001b[32m\u001b[1m   Installed\u001b[22m\u001b[39m GR_jll ──────────────────── v0.66.0+0\n",
      "\u001b[32m\u001b[1m   Installed\u001b[22m\u001b[39m DataStructures ──────────── v0.18.13\n",
      "\u001b[32m\u001b[1m   Installed\u001b[22m\u001b[39m Optim ───────────────────── v1.7.1\n",
      "\u001b[32m\u001b[1m   Installed\u001b[22m\u001b[39m OpenBLAS32_jll ──────────── v0.3.12+1\n",
      "\u001b[32m\u001b[1m   Installed\u001b[22m\u001b[39m Graphics ────────────────── v1.1.2\n",
      "\u001b[32m\u001b[1m   Installed\u001b[22m\u001b[39m Revise ──────────────────── v3.4.0\n",
      "\u001b[32m\u001b[1m   Installed\u001b[22m\u001b[39m Latexify ────────────────── v0.15.16\n",
      "\u001b[32m\u001b[1m   Installed\u001b[22m\u001b[39m PNGFiles ────────────────── v0.3.16\n",
      "\u001b[32m\u001b[1m   Installed\u001b[22m\u001b[39m OpenSSL_jll ─────────────── v1.1.17+0\n",
      "\u001b[32m\u001b[1m   Installed\u001b[22m\u001b[39m CategoricalArrays ───────── v0.10.6\n",
      "\u001b[32m\u001b[1m   Installed\u001b[22m\u001b[39m FiniteDiff ──────────────── v2.13.1\n",
      "\u001b[32m\u001b[1m   Installed\u001b[22m\u001b[39m OpenMPI_jll ─────────────── v4.1.3+2\n",
      "\u001b[32m\u001b[1m   Installed\u001b[22m\u001b[39m InlineStrings ───────────── v1.1.4\n",
      "\u001b[32m\u001b[1m   Installed\u001b[22m\u001b[39m KernelDensity ───────────── v0.6.5\n",
      "\u001b[32m\u001b[1m   Installed\u001b[22m\u001b[39m LabelledArrays ──────────── v1.6.6\n",
      "\u001b[32m\u001b[1m   Installed\u001b[22m\u001b[39m MbedTLS ─────────────────── v1.1.2\n",
      "\u001b[32m\u001b[1m   Installed\u001b[22m\u001b[39m ArrayInterfaceCore ──────── v0.1.17\n",
      "\u001b[32m\u001b[1m   Installed\u001b[22m\u001b[39m FFMPEG_jll ──────────────── v4.4.2+0\n",
      "\u001b[32m\u001b[1m   Installed\u001b[22m\u001b[39m LLVMOpenMP_jll ──────────── v14.0.4+0\n",
      "\u001b[32m\u001b[1m   Installed\u001b[22m\u001b[39m URIs ────────────────────── v1.4.0\n",
      "\u001b[32m\u001b[1m   Installed\u001b[22m\u001b[39m Libtiff_jll ─────────────── v4.4.0+0\n",
      "\u001b[32m\u001b[1m   Installed\u001b[22m\u001b[39m Xorg_libXft_jll ─────────── v2.3.3+1\n",
      "\u001b[32m\u001b[1m   Installed\u001b[22m\u001b[39m Compat ──────────────────── v3.45.0\n",
      "\u001b[32m\u001b[1m   Installed\u001b[22m\u001b[39m GLU_jll ─────────────────── v9.0.1+0\n",
      "\u001b[32m\u001b[1m   Installed\u001b[22m\u001b[39m OCCT_jll ────────────────── v7.6.2+2\n",
      "\u001b[32m\u001b[1m   Installed\u001b[22m\u001b[39m Ipopt ───────────────────── v0.6.5\n",
      "\u001b[32m\u001b[1m   Installed\u001b[22m\u001b[39m IRTools ─────────────────── v0.4.6\n",
      "\u001b[32m\u001b[1m   Installed\u001b[22m\u001b[39m EllipsisNotation ────────── v1.6.0\n",
      "\u001b[32m\u001b[1m   Installed\u001b[22m\u001b[39m LoweredCodeUtils ────────── v2.2.2\n",
      "\u001b[32m\u001b[1m   Installed\u001b[22m\u001b[39m CompositeTypes ──────────── v0.1.2\n",
      "\u001b[32m\u001b[1m   Installed\u001b[22m\u001b[39m TreeViews ───────────────── v0.3.0\n",
      "\u001b[32m\u001b[1m   Installed\u001b[22m\u001b[39m ArrayInterface ──────────── v3.2.2\n",
      "\u001b[32m\u001b[1m   Installed\u001b[22m\u001b[39m SciMLBase ───────────────── v1.13.6\n",
      "\u001b[32m\u001b[1m   Installed\u001b[22m\u001b[39m Scratch ─────────────────── v1.1.1\n",
      "\u001b[32m\u001b[1m   Installed\u001b[22m\u001b[39m StaticArraysCore ────────── v1.0.1\n",
      "\u001b[32m\u001b[1m   Installed\u001b[22m\u001b[39m MultivariatePolynomials ─── v0.3.18\n",
      "\u001b[32m\u001b[1m   Installed\u001b[22m\u001b[39m MPIPreferences ──────────── v0.1.3\n",
      "\u001b[32m\u001b[1m   Installed\u001b[22m\u001b[39m FLTK_jll ────────────────── v1.3.8+0\n",
      "\u001b[32m\u001b[1m   Installed\u001b[22m\u001b[39m SymbolicUtils ───────────── v0.13.2\n",
      "\u001b[32m\u001b[1m   Installed\u001b[22m\u001b[39m libaom_jll ──────────────── v3.4.0+0\n",
      "\u001b[32m\u001b[1m   Installed\u001b[22m\u001b[39m GridapDistributed ───────── v0.2.6\n",
      "\u001b[32m\u001b[1m   Installed\u001b[22m\u001b[39m CompatHelper ────────────── v3.3.0\n",
      "\u001b[32m\u001b[1m   Installed\u001b[22m\u001b[39m CodeTracking ────────────── v1.1.0\n",
      "\u001b[32m\u001b[1m   Installed\u001b[22m\u001b[39m StaticArrays ────────────── v1.5.2\n",
      "\u001b[32m\u001b[1m   Installed\u001b[22m\u001b[39m MPICH_jll ───────────────── v4.0.2+4\n",
      "\u001b[32m\u001b[1m   Installed\u001b[22m\u001b[39m Tensors ─────────────────── v1.11.1\n",
      "\u001b[32m\u001b[1m   Installed\u001b[22m\u001b[39m CircularArrays ──────────── v1.3.1\n",
      "\u001b[32m\u001b[1m   Installed\u001b[22m\u001b[39m JuliaInterpreter ────────── v0.9.15\n",
      "\u001b[32m\u001b[1m   Installed\u001b[22m\u001b[39m Static ──────────────────── v0.4.1\n",
      "\u001b[32m\u001b[1m   Installed\u001b[22m\u001b[39m TiffImages ──────────────── v0.5.5\n",
      "\u001b[32m\u001b[1m   Installed\u001b[22m\u001b[39m RecursiveArrayTools ─────── v2.11.4\n",
      "\u001b[32m\u001b[1m   Installed\u001b[22m\u001b[39m FileIO ──────────────────── v1.15.0\n",
      "\u001b[32m\u001b[1m   Installed\u001b[22m\u001b[39m GR ──────────────────────── v0.64.4\n",
      "\u001b[32m\u001b[1m   Installed\u001b[22m\u001b[39m ColorSchemes ────────────── v3.19.0\n"
     ]
    }
   ],
   "source": [
    "using Pkg; \n",
    "Pkg.add(\"Symbolics\")"
   ]
  },
  {
   "cell_type": "markdown",
   "id": "3fd6cf85",
   "metadata": {},
   "source": [
    "#### Load the package"
   ]
  },
  {
   "cell_type": "code",
   "execution_count": 1,
   "id": "ec020cf4",
   "metadata": {},
   "outputs": [],
   "source": [
    "using Symbolics"
   ]
  },
  {
   "cell_type": "markdown",
   "id": "8c5aeaf1",
   "metadata": {},
   "source": [
    "#### Define one or more unknown variables\n",
    "\n",
    "Define symbolic variables via the **@variables** macro\n",
    "\n",
    "**(..)** signifies that the value should be left uncalled."
   ]
  },
  {
   "cell_type": "code",
   "execution_count": 2,
   "id": "2440b2c0",
   "metadata": {},
   "outputs": [
    {
     "data": {
      "text/latex": [
       "$$ \\begin{equation}\n",
       "\\left[\n",
       "\\begin{array}{c}\n",
       "x \\\\\n",
       "y \\\\\n",
       "\\end{array}\n",
       "\\right]\n",
       "\\end{equation}\n",
       " $$"
      ],
      "text/plain": [
       "2-element Vector{Num}:\n",
       " x\n",
       " y"
      ]
     },
     "execution_count": 2,
     "metadata": {},
     "output_type": "execute_result"
    }
   ],
   "source": [
    "@variables x y"
   ]
  },
  {
   "cell_type": "markdown",
   "id": "2ccd3538",
   "metadata": {},
   "source": [
    "After defining variables as symbolic, symbolic expressions, which we call a **istree** object, \n",
    "can be generated by utilizing Julia expressions.\n",
    "For example: Given below z is an expression **tree** for \"square x and add y\"."
   ]
  },
  {
   "cell_type": "code",
   "execution_count": 3,
   "id": "1ac93fd6",
   "metadata": {},
   "outputs": [
    {
     "data": {
      "text/latex": [
       "$$ \\begin{equation}\n",
       "y + x^{2}\n",
       "\\end{equation}\n",
       " $$"
      ],
      "text/plain": [
       "y + x^2"
      ]
     },
     "execution_count": 3,
     "metadata": {},
     "output_type": "execute_result"
    }
   ],
   "source": [
    "z = x^2 + y"
   ]
  },
  {
   "cell_type": "markdown",
   "id": "ca168cd9",
   "metadata": {},
   "source": [
    "#### To make an array of symbolic expressions\n",
    "\n",
    "Simply make an array of symbolic expressions:"
   ]
  },
  {
   "cell_type": "code",
   "execution_count": 4,
   "id": "08002329",
   "metadata": {},
   "outputs": [
    {
     "data": {
      "text/latex": [
       "$$ \\begin{equation}\n",
       "\\left[\n",
       "\\begin{array}{ccc}\n",
       "y + x^{2} & 0 & 2 x \\\\\n",
       "0 & 0 & 2 y \\\\\n",
       "x + y^{2} & 0 & 0 \\\\\n",
       "\\end{array}\n",
       "\\right]\n",
       "\\end{equation}\n",
       " $$"
      ],
      "text/plain": [
       "3×3 Matrix{Num}:\n",
       " y + x^2  0  2x\n",
       "       0  0  2y\n",
       " x + y^2  0   0"
      ]
     },
     "execution_count": 4,
     "metadata": {},
     "output_type": "execute_result"
    }
   ],
   "source": [
    "A = [x^2 + y 0 2x;\n",
    "     0       0 2y;\n",
    "     y^2 + x 0 0]"
   ]
  },
  {
   "cell_type": "markdown",
   "id": "115f7f51",
   "metadata": {},
   "source": [
    "#### Use normal Julia functions as generators for expressions"
   ]
  },
  {
   "cell_type": "code",
   "execution_count": 5,
   "id": "2dc519b9",
   "metadata": {},
   "outputs": [
    {
     "data": {
      "text/plain": [
       "f (generic function with 1 method)"
      ]
     },
     "execution_count": 5,
     "metadata": {},
     "output_type": "execute_result"
    }
   ],
   "source": [
    "function f(u)\n",
    "  [u[1] - u[3], u[1]^2 - u[2], u[3] + u[2]]\n",
    "end"
   ]
  },
  {
   "cell_type": "code",
   "execution_count": 6,
   "id": "cb9cbd2c",
   "metadata": {},
   "outputs": [
    {
     "data": {
      "text/latex": [
       "$$ \\begin{equation}\n",
       "\\left[\n",
       "\\begin{array}{c}\n",
       "x - y - x^{2} \\\\\n",
       "x^{2} - y \\\\\n",
       "x^{2} + 2 y \\\\\n",
       "\\end{array}\n",
       "\\right]\n",
       "\\end{equation}\n",
       " $$"
      ],
      "text/plain": [
       "3-element Vector{Num}:\n",
       " x - y - (x^2)\n",
       "       x^2 - y\n",
       "      x^2 + 2y"
      ]
     },
     "execution_count": 6,
     "metadata": {},
     "output_type": "execute_result"
    }
   ],
   "source": [
    "f([x, y, z]) # Recall that z = x^2 + y"
   ]
  },
  {
   "cell_type": "markdown",
   "id": "cc42233d",
   "metadata": {},
   "source": [
    "#### Build an array variable and use it to trace the function"
   ]
  },
  {
   "cell_type": "code",
   "execution_count": 7,
   "id": "1b36a7f2",
   "metadata": {},
   "outputs": [
    {
     "data": {
      "text/latex": [
       "$$ \\begin{equation}\n",
       "\\left[\n",
       "\\begin{array}{c}\n",
       " - u_3 + u_1 \\\\\n",
       "u_1^{2} - u_2 \\\\\n",
       "u_2 + u_3 \\\\\n",
       "\\end{array}\n",
       "\\right]\n",
       "\\end{equation}\n",
       " $$"
      ],
      "text/plain": [
       "3-element Vector{Num}:\n",
       "   u[1] - u[3]\n",
       " u[1]^2 - u[2]\n",
       "   u[2] + u[3]"
      ]
     },
     "execution_count": 7,
     "metadata": {},
     "output_type": "execute_result"
    }
   ],
   "source": [
    "@variables u[1:3]\n",
    "f(u)"
   ]
  },
  {
   "cell_type": "markdown",
   "id": "308227e9",
   "metadata": {},
   "source": [
    "## Derivatives"
   ]
  },
  {
   "cell_type": "markdown",
   "id": "18adc5fe",
   "metadata": {},
   "source": [
    "#### To build a differential operator, use *Differential*\n",
    "\n",
    "For example, the differential operator $D = \\frac{\\partial}{\\partial t}$ is defined as below."
   ]
  },
  {
   "cell_type": "code",
   "execution_count": 8,
   "id": "b2fbb701",
   "metadata": {},
   "outputs": [
    {
     "data": {
      "text/plain": [
       "(::Differential) (generic function with 2 methods)"
      ]
     },
     "execution_count": 8,
     "metadata": {},
     "output_type": "execute_result"
    }
   ],
   "source": [
    "@variables t\n",
    "D = Differential(t)"
   ]
  },
  {
   "cell_type": "code",
   "execution_count": 9,
   "id": "552b95ea",
   "metadata": {},
   "outputs": [
    {
     "data": {
      "text/latex": [
       "$$ \\begin{equation}\n",
       "\\frac{\\mathrm{d}}{\\mathrm{d}t} \\left( t + t^{2} \\right)\n",
       "\\end{equation}\n",
       " $$"
      ],
      "text/plain": [
       "Differential(t)(t + t^2)"
      ]
     },
     "execution_count": 9,
     "metadata": {},
     "output_type": "execute_result"
    }
   ],
   "source": [
    "z = t + t^2\n",
    "D(z)         "
   ]
  },
  {
   "cell_type": "markdown",
   "id": "011a234b",
   "metadata": {},
   "source": [
    "#### Use of *expand_derivatives*\n",
    "\n",
    "Notice that this hasn't computed anything yet: D is a lazy operator because it lets us symbolically \n",
    "represent \"The derivative of z with respect to t\", which is useful for example when representing \n",
    "our favorite thing in the world, differential equations. However, if we want to expand the derivative \n",
    "operators, we'd use **expand_derivatives**"
   ]
  },
  {
   "cell_type": "code",
   "execution_count": 10,
   "id": "8cf1d71c",
   "metadata": {},
   "outputs": [
    {
     "data": {
      "text/latex": [
       "$$ \\begin{equation}\n",
       "1 + 2 t\n",
       "\\end{equation}\n",
       " $$"
      ],
      "text/plain": [
       "1 + 2t"
      ]
     },
     "execution_count": 10,
     "metadata": {},
     "output_type": "execute_result"
    }
   ],
   "source": [
    "expand_derivatives(D(z)) "
   ]
  },
  {
   "cell_type": "code",
   "execution_count": 12,
   "id": "25159849",
   "metadata": {},
   "outputs": [
    {
     "data": {
      "text/latex": [
       "$$ \\begin{equation}\n",
       " - 2 t + 2 t e^{t^{2}}\n",
       "\\end{equation}\n",
       " $$"
      ],
      "text/plain": [
       "2t*exp(t^2) - 2t"
      ]
     },
     "execution_count": 12,
     "metadata": {},
     "output_type": "execute_result"
    }
   ],
   "source": [
    "expand_derivatives(D(exp(t^2)-t^2))"
   ]
  },
  {
   "cell_type": "markdown",
   "id": "ae70e492",
   "metadata": {},
   "source": [
    "#### To get the variable that you are taking the derivative with respect to is accessed with"
   ]
  },
  {
   "cell_type": "code",
   "execution_count": 13,
   "id": "9b2dd9e8",
   "metadata": {},
   "outputs": [
    {
     "data": {
      "text/latex": [
       "$$ \\begin{equation}\n",
       "t\n",
       "\\end{equation}\n",
       " $$"
      ],
      "text/plain": [
       "t"
      ]
     },
     "execution_count": 13,
     "metadata": {},
     "output_type": "execute_result"
    }
   ],
   "source": [
    "D.x"
   ]
  },
  {
   "cell_type": "markdown",
   "id": "eed7c35f",
   "metadata": {},
   "source": [
    "#### Simplified functions for multivariable calculus. \n",
    "\n",
    " For example, we can compute the Jacobian of an array of expressions like:"
   ]
  },
  {
   "cell_type": "code",
   "execution_count": 14,
   "id": "17572b0d",
   "metadata": {},
   "outputs": [
    {
     "data": {
      "text/latex": [
       "$$ \\begin{equation}\n",
       "\\left[\n",
       "\\begin{array}{cc}\n",
       "1 + y & x \\\\\n",
       "2 x & 1 \\\\\n",
       "\\end{array}\n",
       "\\right]\n",
       "\\end{equation}\n",
       " $$"
      ],
      "text/plain": [
       "2×2 Matrix{Num}:\n",
       " 1 + y  x\n",
       "    2x  1"
      ]
     },
     "execution_count": 14,
     "metadata": {},
     "output_type": "execute_result"
    }
   ],
   "source": [
    "Symbolics.jacobian([x + x*y, x^2 + y], [x, y])"
   ]
  },
  {
   "cell_type": "markdown",
   "id": "bc408db1",
   "metadata": {},
   "source": [
    "## Simplification and Substitution\n",
    "\n",
    "- To simplify symbolic expressions, use **simplify** command\n",
    "- To change values of an expression around, use **substitute** command"
   ]
  },
  {
   "cell_type": "code",
   "execution_count": 15,
   "id": "b0ac6816",
   "metadata": {},
   "outputs": [
    {
     "data": {
      "text/latex": [
       "$$ \\begin{equation}\n",
       "\\left[\n",
       "\\begin{array}{cc}\n",
       "2 t + 2 t^{2} & 6 t \\\\\n",
       "x + 2 t + 2 y & y^{2} \\\\\n",
       "\\end{array}\n",
       "\\right]\n",
       "\\end{equation}\n",
       " $$"
      ],
      "text/plain": [
       "2×2 Matrix{Num}:\n",
       " 2t + 2(t^2)   6t\n",
       " x + 2t + 2y  y^2"
      ]
     },
     "execution_count": 15,
     "metadata": {},
     "output_type": "execute_result"
    }
   ],
   "source": [
    "B = simplify.([t + t^2 + t + t^2  2t + 4t\n",
    "               x + y + y + 2t     x^2 - x^2 + y^2])"
   ]
  },
  {
   "cell_type": "code",
   "execution_count": 16,
   "id": "7694290b",
   "metadata": {},
   "outputs": [
    {
     "data": {
      "text/latex": [
       "$$ \\begin{equation}\n",
       "\\left[\n",
       "\\begin{array}{cc}\n",
       "2 t + 2 t^{2} & 6 t \\\\\n",
       "2 t + y^{2} + 2 y & y^{2} \\\\\n",
       "\\end{array}\n",
       "\\right]\n",
       "\\end{equation}\n",
       " $$"
      ],
      "text/plain": [
       "2×2 Matrix{Num}:\n",
       "   2t + 2(t^2)   6t\n",
       " 2t + y^2 + 2y  y^2"
      ]
     },
     "execution_count": 16,
     "metadata": {},
     "output_type": "execute_result"
    }
   ],
   "source": [
    "simplify.(substitute.(B, x => y^2))"
   ]
  },
  {
   "cell_type": "code",
   "execution_count": 17,
   "id": "c362f19e",
   "metadata": {},
   "outputs": [
    {
     "data": {
      "text/latex": [
       "$$ \\begin{equation}\n",
       "\\left[\n",
       "\\begin{array}{cc}\n",
       "2 t + 2 t^{2} & 6 t \\\\\n",
       "2 t + y^{2} + 2 y & y^{2} \\\\\n",
       "\\end{array}\n",
       "\\right]\n",
       "\\end{equation}\n",
       " $$"
      ],
      "text/plain": [
       "2×2 Matrix{Num}:\n",
       "   2t + 2(t^2)   6t\n",
       " 2t + y^2 + 2y  y^2"
      ]
     },
     "execution_count": 17,
     "metadata": {},
     "output_type": "execute_result"
    }
   ],
   "source": [
    "simplify.(substitute.(B, (Dict(x => y^2),)))"
   ]
  },
  {
   "cell_type": "markdown",
   "id": "db281eeb",
   "metadata": {},
   "source": [
    "#### Interactively evaluate expressions without generating and compiling Julia functions"
   ]
  },
  {
   "cell_type": "code",
   "execution_count": 18,
   "id": "e61f3b96",
   "metadata": {},
   "outputs": [
    {
     "data": {
      "text/latex": [
       "$$ \\begin{equation}\n",
       "\\left[\n",
       "\\begin{array}{cc}\n",
       "40.0 & 24.0 \\\\\n",
       "16.0 & 9.0 \\\\\n",
       "\\end{array}\n",
       "\\right]\n",
       "\\end{equation}\n",
       " $$"
      ],
      "text/plain": [
       "2×2 Matrix{Num}:\n",
       " 40.0  24.0\n",
       " 16.0   9.0"
      ]
     },
     "execution_count": 18,
     "metadata": {},
     "output_type": "execute_result"
    }
   ],
   "source": [
    "V = substitute.(B, (Dict(x => 2.0, y => 3.0, t => 4.0),))"
   ]
  },
  {
   "cell_type": "code",
   "execution_count": 19,
   "id": "c20b1dce",
   "metadata": {},
   "outputs": [
    {
     "data": {
      "text/plain": [
       "2×2 Matrix{Float64}:\n",
       " 40.0  24.0\n",
       " 16.0   9.0"
      ]
     },
     "execution_count": 19,
     "metadata": {},
     "output_type": "execute_result"
    }
   ],
   "source": [
    "Symbolics.value.(V)"
   ]
  },
  {
   "cell_type": "markdown",
   "id": "37a520e1",
   "metadata": {},
   "source": [
    "### Independent and Dependent variables\n",
    "\n",
    "Define t as a independent variable while x(t) and y(t) as dependent variables."
   ]
  },
  {
   "cell_type": "code",
   "execution_count": 20,
   "id": "4691a7e6",
   "metadata": {},
   "outputs": [
    {
     "data": {
      "text/latex": [
       "$$ \\begin{equation}\n",
       "\\left[\n",
       "\\begin{array}{c}\n",
       "t \\\\\n",
       "x\\left( t \\right) \\\\\n",
       "y\\left( t \\right) \\\\\n",
       "\\end{array}\n",
       "\\right]\n",
       "\\end{equation}\n",
       " $$"
      ],
      "text/plain": [
       "3-element Vector{Num}:\n",
       "    t\n",
       " x(t)\n",
       " y(t)"
      ]
     },
     "execution_count": 20,
     "metadata": {},
     "output_type": "execute_result"
    }
   ],
   "source": [
    "@variables t x(t) y(t)"
   ]
  },
  {
   "cell_type": "code",
   "execution_count": 21,
   "id": "1d5b0102",
   "metadata": {},
   "outputs": [
    {
     "data": {
      "text/latex": [
       "$$ \\begin{equation}\n",
       "t y\\left( t \\right) + x\\left( t \\right)\n",
       "\\end{equation}\n",
       " $$"
      ],
      "text/plain": [
       "t*y(t) + x(t)"
      ]
     },
     "execution_count": 21,
     "metadata": {},
     "output_type": "execute_result"
    }
   ],
   "source": [
    "z = x + y*t"
   ]
  },
  {
   "cell_type": "code",
   "execution_count": 22,
   "id": "7f550c41",
   "metadata": {},
   "outputs": [
    {
     "data": {
      "text/latex": [
       "$$ \\begin{equation}\n",
       "t \\frac{\\mathrm{d} y\\left( t \\right)}{\\mathrm{d}t} + y\\left( t \\right) + \\frac{\\mathrm{d} x\\left( t \\right)}{\\mathrm{d}t}\n",
       "\\end{equation}\n",
       " $$"
      ],
      "text/plain": [
       "t*Differential(t)(y(t)) + y(t) + Differential(t)(x(t))"
      ]
     },
     "execution_count": 22,
     "metadata": {},
     "output_type": "execute_result"
    }
   ],
   "source": [
    "expand_derivatives(D(z))"
   ]
  },
  {
   "cell_type": "markdown",
   "id": "8d5bfe40",
   "metadata": {},
   "source": [
    "### Define unrestricted functions"
   ]
  },
  {
   "cell_type": "code",
   "execution_count": 23,
   "id": "5991ba13",
   "metadata": {},
   "outputs": [
    {
     "data": {
      "text/plain": [
       "1-element Vector{Symbolics.CallWithMetadata{SymbolicUtils.FnType{Tuple, Real}, Base.ImmutableDict{DataType, Any}}}:\n",
       " g⋆"
      ]
     },
     "execution_count": 23,
     "metadata": {},
     "output_type": "execute_result"
    }
   ],
   "source": [
    "@variables g(..)"
   ]
  },
  {
   "cell_type": "markdown",
   "id": "8de48672",
   "metadata": {},
   "source": [
    "Here g is a variable that is a function of other variables. \n",
    "Any time that we reference g we have to utilize it as a function:"
   ]
  },
  {
   "cell_type": "code",
   "execution_count": 24,
   "id": "84f6f1e3",
   "metadata": {},
   "outputs": [
    {
     "data": {
      "text/latex": [
       "$$ \\begin{equation}\n",
       "g\\left( x\\left( t \\right) \\right) + g\\left( y\\left( t \\right) \\right)\n",
       "\\end{equation}\n",
       " $$"
      ],
      "text/plain": [
       "g(x(t)) + g(y(t))"
      ]
     },
     "execution_count": 24,
     "metadata": {},
     "output_type": "execute_result"
    }
   ],
   "source": [
    "z = g(x) + g(y)"
   ]
  },
  {
   "cell_type": "markdown",
   "id": "e803d7c2",
   "metadata": {},
   "source": [
    "## Registering Functions\n",
    "\n",
    "One of the benefits of a one-language Julia symbolic stack is that the primitives are all written in Julia,\n",
    "and therefore it's trivially extendible from Julia itself. By default, new functions are traced to the \n",
    "primitives and the symbolic expressions are written on the primitives. However, we can expand the allowed \n",
    "primitives by registering new functions. For example, let's register a new function h:"
   ]
  },
  {
   "cell_type": "code",
   "execution_count": 25,
   "id": "b81ac13d",
   "metadata": {},
   "outputs": [],
   "source": [
    "h(x, y) = x^2 + y\n",
    "@register h(x, y)"
   ]
  },
  {
   "cell_type": "markdown",
   "id": "eaeabfb0",
   "metadata": {},
   "source": [
    "Now when we use h(x, y), it is a symbolic expression and doesn't expand:"
   ]
  },
  {
   "cell_type": "code",
   "execution_count": 26,
   "id": "9851c1d5",
   "metadata": {},
   "outputs": [
    {
     "data": {
      "text/latex": [
       "$$ \\begin{equation}\n",
       "\\left( y\\left( t \\right) \\right)^{2} + h\\left( x\\left( t \\right), y\\left( t \\right) \\right)\n",
       "\\end{equation}\n",
       " $$"
      ],
      "text/plain": [
       "y(t)^2 + h(x(t), y(t))"
      ]
     },
     "execution_count": 26,
     "metadata": {},
     "output_type": "execute_result"
    }
   ],
   "source": [
    "h(x, y) + y^2"
   ]
  },
  {
   "cell_type": "markdown",
   "id": "998676c9",
   "metadata": {},
   "source": [
    "In order to use it with the differentiation system, \n",
    "we need to register its derivatives. We would do it like this:"
   ]
  },
  {
   "cell_type": "code",
   "execution_count": null,
   "id": "4b345a70",
   "metadata": {},
   "outputs": [],
   "source": [
    "# Derivative w.r.t. the first argument\n",
    "Symbolics.derivative(::typeof(h), args::NTuple{2,Any}, ::Val{1}) = 2args[1]\n",
    "# Derivative w.r.t. the second argument\n",
    "Symbolics.derivative(::typeof(h), args::NTuple{2,Any}, ::Val{2}) = 1"
   ]
  },
  {
   "cell_type": "markdown",
   "id": "05b70203",
   "metadata": {},
   "source": [
    "and now it works with the rest of the system:"
   ]
  },
  {
   "cell_type": "code",
   "execution_count": null,
   "id": "27fbcd1f",
   "metadata": {},
   "outputs": [],
   "source": [
    "Symbolics.derivative(h(x, y) + y^2, x) "
   ]
  },
  {
   "cell_type": "code",
   "execution_count": null,
   "id": "b3725a72",
   "metadata": {},
   "outputs": [],
   "source": [
    "Symbolics.derivative(h(x, y) + y^2, y) "
   ]
  },
  {
   "cell_type": "markdown",
   "id": "045f7f2b",
   "metadata": {},
   "source": [
    "## Solving linear system of equations"
   ]
  },
  {
   "cell_type": "code",
   "execution_count": 27,
   "id": "c523e3c2",
   "metadata": {},
   "outputs": [
    {
     "data": {
      "text/latex": [
       "$$ \\begin{equation}\n",
       "a + y = b\n",
       "\\end{equation}\n",
       " $$"
      ],
      "text/plain": [
       "a + y ~ b"
      ]
     },
     "execution_count": 27,
     "metadata": {},
     "output_type": "execute_result"
    }
   ],
   "source": [
    "@variables a b y\n",
    "eq = a + y ~ b"
   ]
  },
  {
   "cell_type": "code",
   "execution_count": 28,
   "id": "b5645919",
   "metadata": {},
   "outputs": [
    {
     "data": {
      "text/latex": [
       "$$ \\begin{equation}\n",
       "b - a\n",
       "\\end{equation}\n",
       " $$"
      ],
      "text/plain": [
       "b - a"
      ]
     },
     "execution_count": 28,
     "metadata": {},
     "output_type": "execute_result"
    }
   ],
   "source": [
    "Symbolics.solve_for(eq,y)"
   ]
  },
  {
   "cell_type": "code",
   "execution_count": 29,
   "id": "c800491e",
   "metadata": {},
   "outputs": [
    {
     "data": {
      "text/plain": [
       "2-element Vector{Float64}:\n",
       " 2.3846153846153846\n",
       " 0.07692307692307693"
      ]
     },
     "execution_count": 29,
     "metadata": {},
     "output_type": "execute_result"
    }
   ],
   "source": [
    "@variables x y\n",
    "eq1 = 2x + 3y ~ 5\n",
    "eq2 = 3x - 2y ~ 7\n",
    "Symbolics.solve_for([eq1,eq2],[x,y])"
   ]
  },
  {
   "cell_type": "code",
   "execution_count": 30,
   "id": "9e6d4468",
   "metadata": {},
   "outputs": [
    {
     "data": {
      "text/plain": [
       "3-element Vector{Float64}:\n",
       " 2.25\n",
       " 0.09375\n",
       " 0.21874999999999997"
      ]
     },
     "execution_count": 30,
     "metadata": {},
     "output_type": "execute_result"
    }
   ],
   "source": [
    "@variables x y z\n",
    "eq1 = 2x + 3y + z ~ 5\n",
    "eq2 = 3x - 2y + 2z ~ 7\n",
    "eq3 = 4x + 5y + 7z ~ 11\n",
    "Symbolics.solve_for([eq1,eq2,eq3],[x,y,z])"
   ]
  },
  {
   "cell_type": "markdown",
   "id": "50ae12cb",
   "metadata": {},
   "source": [
    "## Solving non-linear system of equations\n",
    "\n",
    "$x^2 + xy +sin(y) =3 $\n",
    "\n",
    "$x^3 - 4x +sin(2y) =0$"
   ]
  },
  {
   "cell_type": "code",
   "execution_count": 31,
   "id": "f449af6a",
   "metadata": {},
   "outputs": [
    {
     "ename": "LoadError",
     "evalue": "ArgumentError: Package NLsolve not found in current path:\n- Run `import Pkg; Pkg.add(\"NLsolve\")` to install the NLsolve package.\n",
     "output_type": "error",
     "traceback": [
      "ArgumentError: Package NLsolve not found in current path:\n- Run `import Pkg; Pkg.add(\"NLsolve\")` to install the NLsolve package.\n",
      "",
      "Stacktrace:",
      " [1] require(into::Module, mod::Symbol)",
      "   @ Base ./loading.jl:893",
      " [2] eval",
      "   @ ./boot.jl:360 [inlined]",
      " [3] include_string(mapexpr::typeof(REPL.softscope), mod::Module, code::String, filename::String)",
      "   @ Base ./loading.jl:1116"
     ]
    }
   ],
   "source": [
    "using NLsolve\n",
    "\n",
    "f(x) = [x[1]^2 + x[1]*x[2] + sin(x[2]) - 3;\n",
    "    x[1]^3 - 4x[1] + sin(2x[2])]\n",
    "\n",
    "results = nlsolve(f, [2.0; 0.0], autodiff=:forward)"
   ]
  },
  {
   "cell_type": "code",
   "execution_count": null,
   "id": "c86ade3c",
   "metadata": {},
   "outputs": [],
   "source": [
    "results.zero"
   ]
  },
  {
   "cell_type": "markdown",
   "id": "e1d368ec",
   "metadata": {},
   "source": [
    "## Linear Algebra"
   ]
  },
  {
   "cell_type": "code",
   "execution_count": null,
   "id": "02bc879d",
   "metadata": {},
   "outputs": [],
   "source": [
    "using LinearAlgebra"
   ]
  },
  {
   "cell_type": "markdown",
   "id": "c2206ff6",
   "metadata": {},
   "source": [
    "### Standard Functions\n",
    "\n",
    "Linear algebra functions in Julia are largely implemented by calling functions from **LAPACK**. \n",
    "Sparse factorizations call functions from **SuiteSparse**."
   ]
  },
  {
   "cell_type": "markdown",
   "id": "36dd2b3f",
   "metadata": {},
   "source": [
    "#### Base.:* — Method.\n",
    "\n",
    "Multiplication operator: x*y*z*... calls this function with all arguments, i.e. *(x, y, z, ...)."
   ]
  },
  {
   "cell_type": "code",
   "execution_count": null,
   "id": "e479b6e1",
   "metadata": {},
   "outputs": [],
   "source": [
    "*(2,3,5)"
   ]
  },
  {
   "cell_type": "code",
   "execution_count": null,
   "id": "89f1431b",
   "metadata": {},
   "outputs": [],
   "source": [
    "2*3*5"
   ]
  },
  {
   "cell_type": "markdown",
   "id": "a78c83a7",
   "metadata": {},
   "source": [
    "#### Base.:\\ — Method.\n",
    "\n",
    "Left division operator:  $\\(x, y)$ denotes multiplication of y by the inverse of x on the left. \n",
    "Gives floating-point results for integer arguments."
   ]
  },
  {
   "cell_type": "code",
   "execution_count": null,
   "id": "93b6ec0d",
   "metadata": {},
   "outputs": [],
   "source": [
    "\\(2,3)"
   ]
  },
  {
   "cell_type": "code",
   "execution_count": null,
   "id": "54eb37cf",
   "metadata": {},
   "outputs": [],
   "source": [
    "2\\3"
   ]
  },
  {
   "cell_type": "code",
   "execution_count": null,
   "id": "4ada494f",
   "metadata": {},
   "outputs": [],
   "source": [
    "3 \\ 6"
   ]
  },
  {
   "cell_type": "code",
   "execution_count": null,
   "id": "f16760c3",
   "metadata": {},
   "outputs": [],
   "source": [
    "inv(3)*6"
   ]
  },
  {
   "cell_type": "code",
   "execution_count": null,
   "id": "aa8e67cf",
   "metadata": {},
   "outputs": [],
   "source": [
    "A = [1 2; 3 4]; x = [5, 6];\n",
    "A\\x"
   ]
  },
  {
   "cell_type": "code",
   "execution_count": null,
   "id": "b38e22b8",
   "metadata": {},
   "outputs": [],
   "source": [
    "\\(A,x)"
   ]
  },
  {
   "cell_type": "code",
   "execution_count": null,
   "id": "74e4f3af",
   "metadata": {},
   "outputs": [],
   "source": [
    "inv(A)*x"
   ]
  },
  {
   "cell_type": "markdown",
   "id": "41c19adc",
   "metadata": {},
   "source": [
    "#### Base.:dot — Function.\n",
    "\n",
    "**dot()** : Dot product of two vectors"
   ]
  },
  {
   "cell_type": "code",
   "execution_count": null,
   "id": "a5b3bda5",
   "metadata": {},
   "outputs": [],
   "source": [
    "x = fill(2., (5,5))\n",
    "y = fill(3., (5,5))\n",
    "dot(x,y)"
   ]
  },
  {
   "cell_type": "markdown",
   "id": "5609a008",
   "metadata": {},
   "source": [
    "Synonym for dot(x, y) is x ⋅ y (where ⋅ can be typed by tab-completing \\cdot in the REPL) "
   ]
  },
  {
   "cell_type": "code",
   "execution_count": null,
   "id": "ff1f8ce1",
   "metadata": {},
   "outputs": [],
   "source": [
    "x⋅y"
   ]
  },
  {
   "cell_type": "markdown",
   "id": "aa3fc0e4",
   "metadata": {},
   "source": [
    "#### Base.:cross — Function.\n",
    "\n",
    "**cross()** : cross product of two vectors"
   ]
  },
  {
   "cell_type": "code",
   "execution_count": null,
   "id": "d1d381f3",
   "metadata": {},
   "outputs": [],
   "source": [
    "a = [0;1;0]"
   ]
  },
  {
   "cell_type": "code",
   "execution_count": null,
   "id": "8316c8cd",
   "metadata": {},
   "outputs": [],
   "source": [
    "b = [0;0;1]"
   ]
  },
  {
   "cell_type": "code",
   "execution_count": null,
   "id": "3c5624f7",
   "metadata": {},
   "outputs": [],
   "source": [
    "cross(a,b)"
   ]
  },
  {
   "cell_type": "markdown",
   "id": "37823c28",
   "metadata": {},
   "source": [
    "Synonym for cross(a,b) is ×(a,b) (where × can be typed by tab-completing \\times in the REPL)"
   ]
  },
  {
   "cell_type": "code",
   "execution_count": null,
   "id": "f431e4c9",
   "metadata": {},
   "outputs": [],
   "source": [
    "×(a,b)"
   ]
  },
  {
   "cell_type": "markdown",
   "id": "74aa1edf",
   "metadata": {},
   "source": [
    "#### Base.:Bidiagonal — Function\n",
    "\n",
    "**Bidiagonal(dv, ev, isupper::Bool)** constructs an upper (isupper=true) or lower (isupper=false) bidiagonal \n",
    "matrix using the given diagonal (dv) and off-diagonal (ev) vectors. The result is of type Bidiagonal and \n",
    "provides efficient specialized linear solvers, but may be converted into a regular matrix with\n",
    "convert(Array, _) (or Array(_) for short). ev's length must be one less than the length of dv."
   ]
  },
  {
   "cell_type": "code",
   "execution_count": null,
   "id": "02ea4c45",
   "metadata": {},
   "outputs": [],
   "source": [
    "dv = [1; 2; 3; 4]"
   ]
  },
  {
   "cell_type": "code",
   "execution_count": null,
   "id": "113006fb",
   "metadata": {},
   "outputs": [],
   "source": [
    "ev = [7; 8; 9]"
   ]
  },
  {
   "cell_type": "code",
   "execution_count": null,
   "id": "df84172d",
   "metadata": {},
   "outputs": [],
   "source": [
    "Bu = Bidiagonal(dv, ev, 'U')"
   ]
  },
  {
   "cell_type": "code",
   "execution_count": null,
   "id": "99d7f042",
   "metadata": {},
   "outputs": [],
   "source": [
    "Bl = Bidiagonal(dv, ev, 'L')"
   ]
  },
  {
   "cell_type": "markdown",
   "id": "4ba210ae",
   "metadata": {},
   "source": [
    "Construct a Bidiagonal matrix using **Bidiagonal(A,isupper::Bool)** from the main diagonal of A and \n",
    "its first super- (if isupper::U) or sub-diagonal (if isupper::L)."
   ]
  },
  {
   "cell_type": "code",
   "execution_count": null,
   "id": "629d99bb",
   "metadata": {},
   "outputs": [],
   "source": [
    "A = [1 1 1 1; 2 2 2 2; 3 3 3 3; 4 4 4 4]"
   ]
  },
  {
   "cell_type": "code",
   "execution_count": null,
   "id": "c9fdb413",
   "metadata": {},
   "outputs": [],
   "source": [
    "Bidiagonal(A, :U)"
   ]
  },
  {
   "cell_type": "code",
   "execution_count": null,
   "id": "291ec512",
   "metadata": {},
   "outputs": [],
   "source": [
    "Bidiagonal(A, :L)"
   ]
  }
 ],
 "metadata": {
  "@webio": {
   "lastCommId": null,
   "lastKernelId": null
  },
  "kernelspec": {
   "display_name": "Julia 1.6.2",
   "language": "julia",
   "name": "julia-1.6"
  },
  "language_info": {
   "file_extension": ".jl",
   "mimetype": "application/julia",
   "name": "julia",
   "version": "1.6.2"
  }
 },
 "nbformat": 4,
 "nbformat_minor": 5
}
