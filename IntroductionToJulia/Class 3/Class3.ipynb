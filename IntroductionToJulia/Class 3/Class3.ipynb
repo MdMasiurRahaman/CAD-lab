{
 "cells": [
  {
   "cell_type": "markdown",
   "id": "5bc697e2-35e1-4352-86ba-275196592a1c",
   "metadata": {},
   "source": [
    "# Introduction to Julia by Dr. Mohammad Masiur Rahaman (masiurr@iitbbs.ac.in)"
   ]
  },
  {
   "cell_type": "markdown",
   "id": "15c76df4-748e-42ba-9aa4-0c9611804ec8",
   "metadata": {},
   "source": [
    "## Probelm No. 1: Generate triangular mesh for a rectangle of length L and height H using Gmsh package in Julia"
   ]
  },
  {
   "cell_type": "code",
   "execution_count": 1,
   "id": "e649def1-6523-4ba4-863c-7d36946ac456",
   "metadata": {},
   "outputs": [],
   "source": [
    "# input parameters\n",
    "L = 2;\n",
    "H = 1;\n",
    "h = 0.25;"
   ]
  },
  {
   "cell_type": "code",
   "execution_count": 15,
   "id": "4de21a4f-5c93-4dd4-923a-0d72e9e9b4b8",
   "metadata": {},
   "outputs": [
    {
     "name": "stdout",
     "output_type": "stream",
     "text": [
      "Info    : Meshing 1D...\n",
      "Info    : [  0%] Meshing curve 1 (Line)\n",
      "Info    : [ 30%] Meshing curve 2 (Line)\n",
      "Info    : [ 60%] Meshing curve 3 (Line)\n",
      "Info    : [ 80%] Meshing curve 4 (Line)\n",
      "Info    : Done meshing 1D (Wall 0.000310183s, CPU 0s)\n",
      "Info    : Meshing 2D...\n",
      "Info    : Meshing surface 1 (Plane, Frontal-Delaunay)\n",
      "Info    : Done meshing 2D (Wall 0.00134993s, CPU 0s)\n",
      "Info    : 56 nodes 114 elements\n",
      "Info    : Writing 'rectangle.msh'...\n",
      "Info    : Done writing 'rectangle.msh'\n",
      "-------------------------------------------------------\n",
      "Version       : 4.13.1\n",
      "License       : GNU General Public License\n",
      "Build OS      : Windows64-sdk\n",
      "Build date    : 19700101\n",
      "Build host    : amdci7.julia.csail.mit.edu\n",
      "Build options : 64Bit ALGLIB[contrib] ANN[contrib] Bamg Blossom Cairo DIntegration DomHex Eigen[contrib] Fltk GMP Gmm[contrib] Hxt Jpeg Kbipack MathEx[contrib] Mesh Metis[contrib] Mmg Mpeg Netgen Nii2mesh NoSocklenT ONELAB ONELABMetamodel OpenCASCADE OpenCASCADE-CAF OpenGL OpenMP OptHom Parser Plugins Png Post QuadMeshingTools QuadTri Solver TetGen/BR TinyXML2[contrib] Untangle Voro++[contrib] WinslowUntangler Zlib\n",
      "FLTK version  : 1.3.8\n",
      "OCC version   : 7.7.2\n",
      "Packaged by   : root\n",
      "Web site      : https://gmsh.info\n",
      "Issue tracker : https://gitlab.onelab.info/gmsh/gmsh/issues\n",
      "-------------------------------------------------------\n"
     ]
    },
    {
     "name": "stderr",
     "output_type": "stream",
     "text": [
      "Warning : Unknown entity of dimension 2 and tag 1 in physical group 10\n",
      "Warning : Unknown entity of dimension 1 and tag 1 in physical group 1\n",
      "Warning : Unknown entity of dimension 1 and tag 2 in physical group 2\n",
      "Warning : Unknown entity of dimension 1 and tag 3 in physical group 3\n",
      "Warning : Unknown entity of dimension 1 and tag 4 in physical group 4\n"
     ]
    }
   ],
   "source": [
    "import Gmsh: gmsh\n",
    "\n",
    "# Initializing Gmsh (Initialize the Gmsh API)\n",
    "gmsh.initialize()\n",
    "# Create a Model (For example, let's create a rectangle of length L and height H)\n",
    "gmsh.model.add(\"Rectangle\")\n",
    "\n",
    "# Define points\n",
    "p1 = gmsh.model.geo.addPoint(0, 0, 0, h)\n",
    "p2 = gmsh.model.geo.addPoint(L, 0, 0, h)\n",
    "p3 = gmsh.model.geo.addPoint(L, H, 0, h)\n",
    "p4 = gmsh.model.geo.addPoint(0, H, 0, h)\n",
    "\n",
    "# Add lines\n",
    "l1 = gmsh.model.geo.addLine(p1, p2)\n",
    "l2 = gmsh.model.geo.addLine(p2, p3)\n",
    "l3 = gmsh.model.geo.addLine(p3, p4)\n",
    "l4 = gmsh.model.geo.addLine(p4, p1)\n",
    "\n",
    "# Create a curve loop and surface\n",
    "cl = gmsh.model.geo.addCurveLoop([l1, l2, l3, l4])\n",
    "s = gmsh.model.geo.addPlaneSurface([cl])\n",
    "\n",
    "# Create physical group for domain\n",
    "gmsh.model.addPhysicalGroup(2, [s], 10, \"Domain\")\n",
    "\n",
    "# Create physical groups for boundaries\n",
    "gmsh.model.addPhysicalGroup(1, [l1], 1, \"Bottom\")\n",
    "gmsh.model.addPhysicalGroup(1, [l2], 2, \"Right\")\n",
    "gmsh.model.addPhysicalGroup(1, [l3], 3, \"Top\")\n",
    "gmsh.model.addPhysicalGroup(1, [l4], 4, \"Left\")\n",
    "\n",
    "# Synchronize and Mesh (Synchronize the CAD model and generate a mesh:)\n",
    "gmsh.model.geo.synchronize()\n",
    "gmsh.model.mesh.generate(2)\n",
    "\n",
    "# Write mesh to file\n",
    "gmsh.write(\"rectangle.msh\")\n",
    "\n",
    "#Launch GUI or Finalize (Launch the GUI to visualize the mesh or finalize the Gmsh API:)\n",
    "gmsh.fltk.run()  # Launch GUI\n",
    "# or \n",
    "gmsh.finalize() # Finalize Gmsh API"
   ]
  },
  {
   "cell_type": "markdown",
   "id": "4f343917-fe4a-44e1-ae53-22cf903fb7e3",
   "metadata": {},
   "source": [
    "### To see the mesh file in paraview "
   ]
  },
  {
   "cell_type": "code",
   "execution_count": 16,
   "id": "9be9c721-f202-4577-9630-54726ea86de7",
   "metadata": {},
   "outputs": [
    {
     "name": "stdout",
     "output_type": "stream",
     "text": [
      "Info    : Reading 'rectangle.msh'...\n",
      "Info    : 9 entities\n",
      "Info    : 56 nodes\n",
      "Info    : 110 elements\n",
      "Info    : Done reading 'rectangle.msh'\n"
     ]
    },
    {
     "data": {
      "text/plain": [
       "UnstructuredDiscreteModel()"
      ]
     },
     "execution_count": 16,
     "metadata": {},
     "output_type": "execute_result"
    }
   ],
   "source": [
    "using GridapGmsh\n",
    "model = DiscreteModelFromFile(\"rectangle.msh\")"
   ]
  },
  {
   "cell_type": "code",
   "execution_count": 17,
   "id": "98b7d8f1-b2d3-4a5a-b3ae-739e15aff0b2",
   "metadata": {},
   "outputs": [
    {
     "data": {
      "text/plain": [
       "3-element Vector{Vector{String}}:\n",
       " [\"model_0.vtu\"]\n",
       " [\"model_1.vtu\"]\n",
       " [\"model_2.vtu\"]"
      ]
     },
     "execution_count": 17,
     "metadata": {},
     "output_type": "execute_result"
    }
   ],
   "source": [
    "writevtk(model,\"model\")"
   ]
  },
  {
   "cell_type": "markdown",
   "id": "14133365-96e0-4807-b06d-05a3a0d917ff",
   "metadata": {},
   "source": [
    "## Probelm No. 2: Generate rectangular mesh for a rectangle of length L and height H using Gmsh package in Julia"
   ]
  },
  {
   "cell_type": "code",
   "execution_count": 30,
   "id": "47f03597-dd27-427f-95b6-8da106ac59ba",
   "metadata": {},
   "outputs": [],
   "source": [
    "using GridapGmsh\n",
    "\n",
    "domain = (0,L,0,H)\n",
    "partition = (10,5)\n",
    "model = CartesianDiscreteModel(domain,partition)\n",
    "\n",
    "#Define new boundaries\n",
    "labels = get_face_labeling(model)\n",
    "add_tag_from_tags!(labels,\"Left\",[1,3,7]);\n",
    "add_tag_from_tags!(labels,\"Right\",[2,4,8]);\n",
    "add_tag_from_tags!(labels,\"Top\",[3,4,6]);\n",
    "add_tag_from_tags!(labels,\"Bottom\",[1,2,5]);"
   ]
  },
  {
   "cell_type": "code",
   "execution_count": 31,
   "id": "a7cbeb1d-77d7-4366-96a6-702483b55dff",
   "metadata": {},
   "outputs": [
    {
     "data": {
      "text/plain": [
       "3-element Vector{Vector{String}}:\n",
       " [\"modelRectEle_0.vtu\"]\n",
       " [\"modelRectEle_1.vtu\"]\n",
       " [\"modelRectEle_2.vtu\"]"
      ]
     },
     "execution_count": 31,
     "metadata": {},
     "output_type": "execute_result"
    }
   ],
   "source": [
    "writevtk(model,\"modelRectEle\")"
   ]
  }
 ],
 "metadata": {
  "kernelspec": {
   "display_name": "Julia 1.11.6",
   "language": "julia",
   "name": "julia-1.11"
  },
  "language_info": {
   "file_extension": ".jl",
   "mimetype": "application/julia",
   "name": "julia",
   "version": "1.11.6"
  }
 },
 "nbformat": 4,
 "nbformat_minor": 5
}
