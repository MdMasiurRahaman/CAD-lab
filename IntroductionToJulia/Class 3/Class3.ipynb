{
 "cells": [
  {
   "cell_type": "markdown",
   "id": "5bc697e2-35e1-4352-86ba-275196592a1c",
   "metadata": {},
   "source": [
    "# Introduction to Julia by Dr. Mohammad Masiur Rahaman (masiurr@iitbbs.ac.in)"
   ]
  },
  {
   "cell_type": "markdown",
   "id": "15c76df4-748e-42ba-9aa4-0c9611804ec8",
   "metadata": {},
   "source": [
    "## Probelm No. 1: Generate triangular mesh for a rectangle of length L and height H using Gmsh package in Julia"
   ]
  },
  {
   "cell_type": "code",
   "execution_count": 1,
   "id": "e649def1-6523-4ba4-863c-7d36946ac456",
   "metadata": {},
   "outputs": [],
   "source": [
    "# input parameters\n",
    "L = 2;\n",
    "H = 1;\n",
    "h = 0.25;"
   ]
  },
  {
   "cell_type": "code",
   "execution_count": null,
   "id": "4de21a4f-5c93-4dd4-923a-0d72e9e9b4b8",
   "metadata": {},
   "outputs": [],
   "source": [
    "import Gmsh: gmsh\n",
    "\n",
    "# Initializing Gmsh (Initialize the Gmsh API)\n",
    "gmsh.initialize()\n",
    "# Create a Model (For example, let's create a rectangle of length L and height H)\n",
    "gmsh.model.add(\"Rectangle\")\n",
    "\n",
    "# Define points\n",
    "p1 = gmsh.model.geo.addPoint(0, 0, 0, h)\n",
    "p2 = gmsh.model.geo.addPoint(L, 0, 0, h)\n",
    "p3 = gmsh.model.geo.addPoint(L, H, 0, h)\n",
    "p4 = gmsh.model.geo.addPoint(0, H, 0, h)\n",
    "\n",
    "# Add lines\n",
    "l1 = gmsh.model.geo.addLine(p1, p2)\n",
    "l2 = gmsh.model.geo.addLine(p2, p3)\n",
    "l3 = gmsh.model.geo.addLine(p3, p4)\n",
    "l4 = gmsh.model.geo.addLine(p4, p1)\n",
    "\n",
    "# Create a curve loop and surface\n",
    "cl = gmsh.model.geo.addCurveLoop([l1, l2, l3, l4])\n",
    "s = gmsh.model.geo.addPlaneSurface([cl])\n",
    "\n",
    "# Create physical group for domain\n",
    "gmsh.model.addPhysicalGroup(2, [s], 10, \"Domain\")\n",
    "\n",
    "# Create physical groups for boundaries\n",
    "gmsh.model.addPhysicalGroup(1, [l1], 1, \"Bottom\")\n",
    "gmsh.model.addPhysicalGroup(1, [l2], 2, \"Right\")\n",
    "gmsh.model.addPhysicalGroup(1, [l3], 3, \"Top\")\n",
    "gmsh.model.addPhysicalGroup(1, [l4], 4, \"Left\")\n",
    "\n",
    "# Synchronize and Mesh (Synchronize the CAD model and generate a mesh:)\n",
    "gmsh.model.geo.synchronize()\n",
    "gmsh.model.mesh.generate(2)\n",
    "\n",
    "# Write mesh to file\n",
    "gmsh.write(\"rectangle.msh\")\n",
    "\n",
    "#Launch GUI or Finalize (Launch the GUI to visualize the mesh or finalize the Gmsh API:)\n",
    "gmsh.fltk.run()  # Launch GUI\n",
    "# or \n",
    "gmsh.finalize() # Finalize Gmsh API"
   ]
  },
  {
   "cell_type": "markdown",
   "id": "4f343917-fe4a-44e1-ae53-22cf903fb7e3",
   "metadata": {},
   "source": [
    "### To see the mesh file in paraview "
   ]
  },
  {
   "cell_type": "code",
   "execution_count": null,
   "id": "9be9c721-f202-4577-9630-54726ea86de7",
   "metadata": {},
   "outputs": [],
   "source": [
    "using Gridap\n",
    "using GridapGmsh\n",
    "model = DiscreteModelFromFile(\"rectangle.msh\")"
   ]
  },
  {
   "cell_type": "code",
   "execution_count": null,
   "id": "98b7d8f1-b2d3-4a5a-b3ae-739e15aff0b2",
   "metadata": {},
   "outputs": [],
   "source": [
    "writevtk(model,\"model\")"
   ]
  },
  {
   "cell_type": "markdown",
   "id": "4e98ae5e-eb6f-4520-a3c6-183432515690",
   "metadata": {},
   "source": [
    "## Probelm No. 2: Generate rectangular mesh for a rectangle of length L and height H using GridapGmsh package in Julia"
   ]
  },
  {
   "cell_type": "code",
   "execution_count": null,
   "id": "47f03597-dd27-427f-95b6-8da106ac59ba",
   "metadata": {},
   "outputs": [],
   "source": [
    "using Gridap\n",
    "using GridapGmsh\n",
    "\n",
    "domain = (0,L,0,H)\n",
    "partition = (10,5)\n",
    "model = CartesianDiscreteModel(domain,partition)\n",
    "\n",
    "#Define new boundaries\n",
    "labels = get_face_labeling(model)\n",
    "add_tag_from_tags!(labels,\"Left\",[1,3,7]);\n",
    "add_tag_from_tags!(labels,\"Right\",[2,4,8]);\n",
    "add_tag_from_tags!(labels,\"Top\",[3,4,6]);\n",
    "add_tag_from_tags!(labels,\"Bottom\",[1,2,5]);"
   ]
  },
  {
   "cell_type": "code",
   "execution_count": null,
   "id": "a7cbeb1d-77d7-4366-96a6-702483b55dff",
   "metadata": {},
   "outputs": [],
   "source": [
    "writevtk(model,\"modelRectEle\")"
   ]
  },
  {
   "cell_type": "markdown",
   "id": "22590210-0792-44e5-aede-868f640276e5",
   "metadata": {},
   "source": [
    "## Probelm No. 3: Generate triangular mesh for a Brick"
   ]
  },
  {
   "cell_type": "code",
   "execution_count": null,
   "id": "6a6ac388-5773-450e-9589-9d87f7418773",
   "metadata": {},
   "outputs": [],
   "source": [
    "# Define brick dimensions\n",
    "L, W, H = 2.0, 1.0, 0.5;\n",
    "h = 0.1;"
   ]
  },
  {
   "cell_type": "code",
   "execution_count": null,
   "id": "dc86ac24-72d9-4a02-8024-471a130d3cb4",
   "metadata": {},
   "outputs": [],
   "source": [
    "using Gmsh\n",
    "\n",
    "# Initialize Gmsh\n",
    "gmsh.initialize()\n",
    "\n",
    "# Create a new model\n",
    "gmsh.model.add(\"brick\")\n",
    "\n",
    "# Define corner points\n",
    "p1 = gmsh.model.geo.addPoint(0, 0, 0, h)\n",
    "p2 = gmsh.model.geo.addPoint(L, 0, 0, h)\n",
    "p3 = gmsh.model.geo.addPoint(L, W, 0, h)\n",
    "p4 = gmsh.model.geo.addPoint(0, W, 0, h)\n",
    "\n",
    "# Bottom face lines\n",
    "l1 = gmsh.model.geo.addLine(p1, p2)\n",
    "l2 = gmsh.model.geo.addLine(p2, p3)\n",
    "l3 = gmsh.model.geo.addLine(p3, p4)\n",
    "l4 = gmsh.model.geo.addLine(p4, p1)\n",
    "\n",
    "# Curve loop and plane surface for bottom\n",
    "cl = gmsh.model.geo.addCurveLoop([l1, l2, l3, l4])\n",
    "s = gmsh.model.geo.addPlaneSurface([cl])\n",
    "\n",
    "# Extrude to create 3D brick\n",
    "ext = gmsh.model.geo.extrude([(p2, s)], 0, 0, H)\n",
    "\n",
    "# Synchronize geometry\n",
    "gmsh.model.geo.synchronize()\n",
    "\n",
    "# Generate 3D mesh\n",
    "gmsh.model.mesh.generate(3)\n",
    "\n",
    "# Save mesh\n",
    "gmsh.write(\"brick.msh\")\n",
    "\n",
    "#Launch GUI or Finalize (Launch the GUI to visualize the mesh or finalize the Gmsh API:)\n",
    "gmsh.fltk.run()  # Launch GUI\n",
    "# Finalize Gmsh\n",
    "gmsh.finalize()"
   ]
  },
  {
   "cell_type": "code",
   "execution_count": null,
   "id": "ea7b1d67-4347-4513-9b07-43a05461dbc8",
   "metadata": {},
   "outputs": [],
   "source": [
    "using Gridap\n",
    "using GridapGmsh\n",
    "model = DiscreteModelFromFile(\"brick.msh\")\n",
    "\n",
    "writevtk(model,\"model3Dbrick\")"
   ]
  }
 ],
 "metadata": {
  "kernelspec": {
   "display_name": "Julia 1.11.6",
   "language": "julia",
   "name": "julia-1.11"
  },
  "language_info": {
   "file_extension": ".jl",
   "mimetype": "application/julia",
   "name": "julia",
   "version": "1.11.6"
  }
 },
 "nbformat": 4,
 "nbformat_minor": 5
}
