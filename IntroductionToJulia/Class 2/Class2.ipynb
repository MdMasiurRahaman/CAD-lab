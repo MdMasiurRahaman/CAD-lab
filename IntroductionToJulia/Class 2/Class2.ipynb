{
 "cells": [
  {
   "cell_type": "markdown",
   "id": "462c50d2",
   "metadata": {},
   "source": [
    "## Introduction to Julia by Dr. Mohammad Masiur Rahaman (masiurr@iitbbs.ac.in)"
   ]
  },
  {
   "cell_type": "markdown",
   "id": "b6503aaf",
   "metadata": {},
   "source": [
    "## Conditionals\n",
    "\n",
    "In Julia the syntax is\n",
    "\n",
    "if **condition 1**\n",
    "    \n",
    "    *option 1*\n",
    "    \n",
    "elseif **condition 2**\n",
    "    \n",
    "    *option 2*\n",
    "    \n",
    "else \n",
    "    \n",
    "    *option 3*\n",
    "    \n",
    "end\n",
    "\n",
    "allows us to conditionally evaluate on of the options. "
   ]
  },
  {
   "cell_type": "code",
   "execution_count": 3,
   "id": "3309768f",
   "metadata": {},
   "outputs": [
    {
     "name": "stdout",
     "output_type": "stream",
     "text": [
      "x and y are equal\n"
     ]
    }
   ],
   "source": [
    "x = 5\n",
    "y = 5\n",
    "\n",
    "if x>y\n",
    "    println(\"x is larger than y\")\n",
    "elseif y>x\n",
    "    println(\"x is smaller than y\")\n",
    "else \n",
    "    println(\"x and y are equal\")\n",
    "end"
   ]
  },
  {
   "cell_type": "markdown",
   "id": "472aa750",
   "metadata": {},
   "source": [
    "### To return the larger of the two numbers"
   ]
  },
  {
   "cell_type": "code",
   "execution_count": 6,
   "id": "fb677205",
   "metadata": {},
   "outputs": [
    {
     "data": {
      "text/plain": [
       "8"
      ]
     },
     "execution_count": 6,
     "metadata": {},
     "output_type": "execute_result"
    }
   ],
   "source": [
    "x = 8\n",
    "y = 5\n",
    "\n",
    "if x > y\n",
    "   x\n",
    "else\n",
    "   y\n",
    "end"
   ]
  },
  {
   "cell_type": "markdown",
   "id": "1927531b",
   "metadata": {},
   "source": [
    "#### We can use ternary operator with the sytanx\n",
    "\n",
    "*condition ? value1 : value2* which is equivalent to \n",
    "\n",
    "if *condition*\n",
    "\n",
    "   value1\n",
    "   \n",
    "else\n",
    "\n",
    "   value2\n",
    "   \n",
    "end"
   ]
  },
  {
   "cell_type": "code",
   "execution_count": 8,
   "id": "ec06e701",
   "metadata": {},
   "outputs": [
    {
     "data": {
      "text/plain": [
       "3"
      ]
     },
     "execution_count": 8,
     "metadata": {},
     "output_type": "execute_result"
    }
   ],
   "source": [
    "x = 3\n",
    "y = 3\n",
    "\n",
    "(x>y) ? x : y"
   ]
  },
  {
   "cell_type": "markdown",
   "id": "327ce51a",
   "metadata": {},
   "source": [
    "#### Short-circuit evaluation with the syntax\n",
    "\n",
    "*condition && evaluation*\n",
    "\n",
    "When we use **&&** evaluation is done only when the condition is true. If the condition is false,\n",
    "then evaluation will not be done and simply give false."
   ]
  },
  {
   "cell_type": "code",
   "execution_count": 11,
   "id": "e47b13d4",
   "metadata": {},
   "outputs": [
    {
     "data": {
      "text/plain": [
       "3"
      ]
     },
     "execution_count": 11,
     "metadata": {},
     "output_type": "execute_result"
    }
   ],
   "source": [
    "x = 2\n",
    "y = 3"
   ]
  },
  {
   "cell_type": "code",
   "execution_count": 12,
   "id": "303b5c75",
   "metadata": {},
   "outputs": [
    {
     "data": {
      "text/plain": [
       "false"
      ]
     },
     "execution_count": 12,
     "metadata": {},
     "output_type": "execute_result"
    }
   ],
   "source": [
    "(x>y) && println(\"$x is larger than $y\")"
   ]
  },
  {
   "cell_type": "code",
   "execution_count": 13,
   "id": "61f87679",
   "metadata": {},
   "outputs": [
    {
     "name": "stdout",
     "output_type": "stream",
     "text": [
      "2 is smaller than 3\n"
     ]
    }
   ],
   "source": [
    "(x<y) && println(\"$x is smaller than $y\")"
   ]
  },
  {
   "cell_type": "markdown",
   "id": "7f39f28d",
   "metadata": {},
   "source": [
    "## Functions"
   ]
  },
  {
   "cell_type": "markdown",
   "id": "c2368ada",
   "metadata": {},
   "source": [
    "### How to declare a function"
   ]
  },
  {
   "cell_type": "markdown",
   "id": "41ba031a",
   "metadata": {},
   "source": [
    "#### Using the **function** and **end** keywords"
   ]
  },
  {
   "cell_type": "code",
   "execution_count": 14,
   "id": "42a66676",
   "metadata": {},
   "outputs": [
    {
     "data": {
      "text/plain": [
       "Welcome (generic function with 1 method)"
      ]
     },
     "execution_count": 14,
     "metadata": {},
     "output_type": "execute_result"
    }
   ],
   "source": [
    "function Welcome(name)\n",
    "     println(\"Hi $name, it's great to see you!\")\n",
    "end"
   ]
  },
  {
   "cell_type": "code",
   "execution_count": 15,
   "id": "6ef3957a",
   "metadata": {},
   "outputs": [
    {
     "name": "stdout",
     "output_type": "stream",
     "text": [
      "Hi Students, it's great to see you!\n"
     ]
    }
   ],
   "source": [
    "Welcome(\"Students\")"
   ]
  },
  {
   "cell_type": "code",
   "execution_count": 16,
   "id": "b6c1b60e",
   "metadata": {},
   "outputs": [
    {
     "data": {
      "text/plain": [
       "f (generic function with 1 method)"
      ]
     },
     "execution_count": 16,
     "metadata": {},
     "output_type": "execute_result"
    }
   ],
   "source": [
    "function f(x)\n",
    "       x^2\n",
    "end"
   ]
  },
  {
   "cell_type": "code",
   "execution_count": 17,
   "id": "24cb76f7",
   "metadata": {},
   "outputs": [
    {
     "data": {
      "text/plain": [
       "9"
      ]
     },
     "execution_count": 17,
     "metadata": {},
     "output_type": "execute_result"
    }
   ],
   "source": [
    "f(3)"
   ]
  },
  {
   "cell_type": "markdown",
   "id": "9a11e8da",
   "metadata": {},
   "source": [
    "#### Declare the functions in a single line using **\"=\"** sign"
   ]
  },
  {
   "cell_type": "code",
   "execution_count": 18,
   "id": "820a9082",
   "metadata": {},
   "outputs": [
    {
     "data": {
      "text/plain": [
       "SayHello (generic function with 1 method)"
      ]
     },
     "execution_count": 18,
     "metadata": {},
     "output_type": "execute_result"
    }
   ],
   "source": [
    "SayHello(name) = println(\"Hi $name, it's great to see you!\")"
   ]
  },
  {
   "cell_type": "code",
   "execution_count": 19,
   "id": "fa154ffb",
   "metadata": {},
   "outputs": [
    {
     "name": "stdout",
     "output_type": "stream",
     "text": [
      "Hi Everyone, it's great to see you!\n"
     ]
    }
   ],
   "source": [
    "SayHello(\"Everyone\")"
   ]
  },
  {
   "cell_type": "code",
   "execution_count": 20,
   "id": "afe7342b",
   "metadata": {},
   "outputs": [
    {
     "data": {
      "text/plain": [
       "g (generic function with 1 method)"
      ]
     },
     "execution_count": 20,
     "metadata": {},
     "output_type": "execute_result"
    }
   ],
   "source": [
    "g(x) = x^2"
   ]
  },
  {
   "cell_type": "code",
   "execution_count": 21,
   "id": "39474fd5",
   "metadata": {},
   "outputs": [
    {
     "data": {
      "text/plain": [
       "9"
      ]
     },
     "execution_count": 21,
     "metadata": {},
     "output_type": "execute_result"
    }
   ],
   "source": [
    "g(3)"
   ]
  },
  {
   "cell_type": "markdown",
   "id": "97b8bda9",
   "metadata": {},
   "source": [
    "#### Declare the functions as \"anonymous\" functions"
   ]
  },
  {
   "cell_type": "code",
   "execution_count": 22,
   "id": "06118962",
   "metadata": {},
   "outputs": [
    {
     "data": {
      "text/plain": [
       "#1 (generic function with 1 method)"
      ]
     },
     "execution_count": 22,
     "metadata": {},
     "output_type": "execute_result"
    }
   ],
   "source": [
    "SayHi = name -> println(\"Hi $name, it's great to see you!\")"
   ]
  },
  {
   "cell_type": "code",
   "execution_count": 23,
   "id": "3214ff11",
   "metadata": {},
   "outputs": [
    {
     "name": "stdout",
     "output_type": "stream",
     "text": [
      "Hi All, it's great to see you!\n"
     ]
    }
   ],
   "source": [
    "SayHi(\"All\")"
   ]
  },
  {
   "cell_type": "code",
   "execution_count": 24,
   "id": "02f9906b",
   "metadata": {},
   "outputs": [
    {
     "data": {
      "text/plain": [
       "#3 (generic function with 1 method)"
      ]
     },
     "execution_count": 24,
     "metadata": {},
     "output_type": "execute_result"
    }
   ],
   "source": [
    "h = x -> x^2"
   ]
  },
  {
   "cell_type": "code",
   "execution_count": 25,
   "id": "49c1d44a",
   "metadata": {},
   "outputs": [
    {
     "data": {
      "text/plain": [
       "64"
      ]
     },
     "execution_count": 25,
     "metadata": {},
     "output_type": "execute_result"
    }
   ],
   "source": [
    "h(8)"
   ]
  },
  {
   "cell_type": "markdown",
   "id": "b09c2621",
   "metadata": {},
   "source": [
    "### Duck-typing in Julia\n",
    "\n",
    "*\"If it quacks like a duck, its a duck.\"*\n",
    "\n",
    "Julia functions will just work on whatever inputs make sense\n",
    "\n",
    "For example, **Welcome** works on the name of this minor tv character, written as an integer."
   ]
  },
  {
   "cell_type": "code",
   "execution_count": 26,
   "id": "0a9597f8",
   "metadata": {},
   "outputs": [
    {
     "name": "stdout",
     "output_type": "stream",
     "text": [
      "Hi 123456, it's great to see you!\n"
     ]
    }
   ],
   "source": [
    "Welcome(123456)"
   ]
  },
  {
   "cell_type": "code",
   "execution_count": 39,
   "id": "d00c1542",
   "metadata": {},
   "outputs": [
    {
     "data": {
      "text/plain": [
       "2×2 Matrix{Int64}:\n",
       " 1  2\n",
       " 2  3"
      ]
     },
     "execution_count": 39,
     "metadata": {},
     "output_type": "execute_result"
    }
   ],
   "source": [
    "A = [1 2; 2 3]"
   ]
  },
  {
   "cell_type": "code",
   "execution_count": 41,
   "id": "59fbc83e",
   "metadata": {},
   "outputs": [
    {
     "data": {
      "text/plain": [
       "2×2 Matrix{Int64}:\n",
       " 1  4\n",
       " 4  9"
      ]
     },
     "execution_count": 41,
     "metadata": {},
     "output_type": "execute_result"
    }
   ],
   "source": [
    "f.(A)"
   ]
  },
  {
   "cell_type": "code",
   "execution_count": 40,
   "id": "ae0b43cd",
   "metadata": {},
   "outputs": [
    {
     "data": {
      "text/plain": [
       "2×2 Matrix{Int64}:\n",
       " 5   8\n",
       " 8  13"
      ]
     },
     "execution_count": 40,
     "metadata": {},
     "output_type": "execute_result"
    }
   ],
   "source": [
    "f(A)"
   ]
  },
  {
   "cell_type": "markdown",
   "id": "0e442847",
   "metadata": {},
   "source": [
    "#### But **f** will not work on a vector **v**. \n",
    "\n",
    "Because, meaning of **v^2** is ambigious"
   ]
  },
  {
   "cell_type": "code",
   "execution_count": 34,
   "id": "4e4b2299",
   "metadata": {},
   "outputs": [
    {
     "data": {
      "text/plain": [
       "3-element Vector{Float64}:\n",
       " 0.2905715205337669\n",
       " 0.42976336294215756\n",
       " 0.17968860468085368"
      ]
     },
     "execution_count": 34,
     "metadata": {},
     "output_type": "execute_result"
    }
   ],
   "source": [
    "v = rand(3)"
   ]
  },
  {
   "cell_type": "code",
   "execution_count": 36,
   "id": "52ea4527",
   "metadata": {},
   "outputs": [
    {
     "data": {
      "text/plain": [
       "3-element Vector{Float64}:\n",
       " 0.08443180854530531\n",
       " 0.18469654812735264\n",
       " 0.03228799465215211"
      ]
     },
     "execution_count": 36,
     "metadata": {},
     "output_type": "execute_result"
    }
   ],
   "source": [
    "f.(v)"
   ]
  },
  {
   "cell_type": "markdown",
   "id": "04ea75d0",
   "metadata": {},
   "source": [
    "### Mutating vs Non-mutating functions\n",
    "\n",
    "Function followed by **!** alter their contents and functions lackig **!** do not."
   ]
  },
  {
   "cell_type": "code",
   "execution_count": 42,
   "id": "7e1ec921",
   "metadata": {},
   "outputs": [
    {
     "data": {
      "text/plain": [
       "3-element Vector{Int64}:\n",
       "  6\n",
       " 10\n",
       "  3"
      ]
     },
     "execution_count": 42,
     "metadata": {},
     "output_type": "execute_result"
    }
   ],
   "source": [
    "v = [ 6, 10, 3]"
   ]
  },
  {
   "cell_type": "code",
   "execution_count": 43,
   "id": "6c69b494",
   "metadata": {},
   "outputs": [
    {
     "data": {
      "text/plain": [
       "3-element Vector{Int64}:\n",
       "  3\n",
       "  6\n",
       " 10"
      ]
     },
     "execution_count": 43,
     "metadata": {},
     "output_type": "execute_result"
    }
   ],
   "source": [
    "sort(v)"
   ]
  },
  {
   "cell_type": "code",
   "execution_count": 44,
   "id": "f3e57a26",
   "metadata": {},
   "outputs": [
    {
     "data": {
      "text/plain": [
       "3-element Vector{Int64}:\n",
       "  6\n",
       " 10\n",
       "  3"
      ]
     },
     "execution_count": 44,
     "metadata": {},
     "output_type": "execute_result"
    }
   ],
   "source": [
    "v"
   ]
  },
  {
   "cell_type": "code",
   "execution_count": 45,
   "id": "9f2c1958",
   "metadata": {},
   "outputs": [
    {
     "data": {
      "text/plain": [
       "3-element Vector{Int64}:\n",
       "  3\n",
       "  6\n",
       " 10"
      ]
     },
     "execution_count": 45,
     "metadata": {},
     "output_type": "execute_result"
    }
   ],
   "source": [
    "sort!(v)"
   ]
  },
  {
   "cell_type": "code",
   "execution_count": 46,
   "id": "9b4333d8",
   "metadata": {},
   "outputs": [
    {
     "data": {
      "text/plain": [
       "3-element Vector{Int64}:\n",
       "  3\n",
       "  6\n",
       " 10"
      ]
     },
     "execution_count": 46,
     "metadata": {},
     "output_type": "execute_result"
    }
   ],
   "source": [
    "v"
   ]
  },
  {
   "cell_type": "markdown",
   "id": "9cbe74cc",
   "metadata": {},
   "source": [
    "### Broadcasting \n",
    "\n",
    "By placing a **.** between any function name and its argument list, we tell that function\n",
    "to broadcast over the elements of the input objects.\n",
    "\n",
    "**f()** --- Non Broadcasting\n",
    "\n",
    "**f.()** --- Broadcasting"
   ]
  },
  {
   "cell_type": "code",
   "execution_count": 47,
   "id": "062cce47",
   "metadata": {},
   "outputs": [
    {
     "data": {
      "text/plain": [
       "3×3 Matrix{Int64}:\n",
       " 1  2  3\n",
       " 4  5  6\n",
       " 7  8  9"
      ]
     },
     "execution_count": 47,
     "metadata": {},
     "output_type": "execute_result"
    }
   ],
   "source": [
    "A = [i + 3*j for j in 0:2, i in 1:3]"
   ]
  },
  {
   "cell_type": "code",
   "execution_count": 48,
   "id": "f1d314ea",
   "metadata": {},
   "outputs": [
    {
     "data": {
      "text/plain": [
       "3×3 Matrix{Int64}:\n",
       "  30   36   42\n",
       "  66   81   96\n",
       " 102  126  150"
      ]
     },
     "execution_count": 48,
     "metadata": {},
     "output_type": "execute_result"
    }
   ],
   "source": [
    "A*A"
   ]
  },
  {
   "cell_type": "code",
   "execution_count": 49,
   "id": "4bf925f9",
   "metadata": {},
   "outputs": [
    {
     "data": {
      "text/plain": [
       "3×3 Matrix{Int64}:\n",
       "  30   36   42\n",
       "  66   81   96\n",
       " 102  126  150"
      ]
     },
     "execution_count": 49,
     "metadata": {},
     "output_type": "execute_result"
    }
   ],
   "source": [
    "f(A)"
   ]
  },
  {
   "cell_type": "code",
   "execution_count": 50,
   "id": "33fd3322",
   "metadata": {},
   "outputs": [
    {
     "data": {
      "text/plain": [
       "3×3 Matrix{Int64}:\n",
       "  1   4   9\n",
       " 16  25  36\n",
       " 49  64  81"
      ]
     },
     "execution_count": 50,
     "metadata": {},
     "output_type": "execute_result"
    }
   ],
   "source": [
    "f.(A)"
   ]
  },
  {
   "cell_type": "markdown",
   "id": "0ddac4d3",
   "metadata": {},
   "source": [
    "$f(A)= A^2 = A*A$, but $f.(A)$ returns a matrix with elements $A[i,j]^2$ for the matrix A"
   ]
  },
  {
   "cell_type": "code",
   "execution_count": 51,
   "id": "ec013256",
   "metadata": {},
   "outputs": [
    {
     "data": {
      "text/plain": [
       "3-element Vector{Int64}:\n",
       " 1\n",
       " 2\n",
       " 3"
      ]
     },
     "execution_count": 51,
     "metadata": {},
     "output_type": "execute_result"
    }
   ],
   "source": [
    "v = [1, 2, 3]"
   ]
  },
  {
   "cell_type": "code",
   "execution_count": 52,
   "id": "3e0e1dc4",
   "metadata": {},
   "outputs": [
    {
     "ename": "LoadError",
     "evalue": "MethodError: no method matching ^(::Vector{Int64}, ::Int64)\n\u001b[0mClosest candidates are:\n\u001b[0m  ^(\u001b[91m::Union{AbstractChar, AbstractString}\u001b[39m, ::Integer) at strings/basic.jl:718\n\u001b[0m  ^(\u001b[91m::LinearAlgebra.UniformScaling\u001b[39m, ::Number) at /buildworker/worker/package_linux64/build/usr/share/julia/stdlib/v1.6/LinearAlgebra/src/uniformscaling.jl:298\n\u001b[0m  ^(\u001b[91m::LinearAlgebra.Hermitian\u001b[39m, ::Integer) at /buildworker/worker/package_linux64/build/usr/share/julia/stdlib/v1.6/LinearAlgebra/src/symmetric.jl:890\n\u001b[0m  ...",
     "output_type": "error",
     "traceback": [
      "MethodError: no method matching ^(::Vector{Int64}, ::Int64)\n\u001b[0mClosest candidates are:\n\u001b[0m  ^(\u001b[91m::Union{AbstractChar, AbstractString}\u001b[39m, ::Integer) at strings/basic.jl:718\n\u001b[0m  ^(\u001b[91m::LinearAlgebra.UniformScaling\u001b[39m, ::Number) at /buildworker/worker/package_linux64/build/usr/share/julia/stdlib/v1.6/LinearAlgebra/src/uniformscaling.jl:298\n\u001b[0m  ^(\u001b[91m::LinearAlgebra.Hermitian\u001b[39m, ::Integer) at /buildworker/worker/package_linux64/build/usr/share/julia/stdlib/v1.6/LinearAlgebra/src/symmetric.jl:890\n\u001b[0m  ...",
      "",
      "Stacktrace:",
      " [1] macro expansion",
      "   @ ./none:0 [inlined]",
      " [2] literal_pow",
      "   @ ./none:0 [inlined]",
      " [3] f(x::Vector{Int64})",
      "   @ Main ./In[16]:2",
      " [4] top-level scope",
      "   @ In[52]:1",
      " [5] eval",
      "   @ ./boot.jl:360 [inlined]",
      " [6] include_string(mapexpr::typeof(REPL.softscope), mod::Module, code::String, filename::String)",
      "   @ Base ./loading.jl:1116"
     ]
    }
   ],
   "source": [
    "f(v)"
   ]
  },
  {
   "cell_type": "code",
   "execution_count": 53,
   "id": "fd4f5968",
   "metadata": {},
   "outputs": [
    {
     "data": {
      "text/plain": [
       "3-element Vector{Int64}:\n",
       " 1\n",
       " 4\n",
       " 9"
      ]
     },
     "execution_count": 53,
     "metadata": {},
     "output_type": "execute_result"
    }
   ],
   "source": [
    "f.(v)"
   ]
  },
  {
   "cell_type": "markdown",
   "id": "7bacdc90",
   "metadata": {},
   "source": [
    "## Packages"
   ]
  },
  {
   "cell_type": "markdown",
   "id": "4bf02303",
   "metadata": {},
   "source": [
    "#### How to add a package ?"
   ]
  },
  {
   "cell_type": "code",
   "execution_count": 54,
   "id": "7f810287",
   "metadata": {},
   "outputs": [
    {
     "name": "stderr",
     "output_type": "stream",
     "text": [
      "\u001b[32m\u001b[1m    Updating\u001b[22m\u001b[39m registry at `~/.julia/registries/General`\n",
      "┌ Warning: could not download https://pkg.julialang.org/registry/23338594-aafe-5451-b93e-139f81909106/4771dddd77391e2d6e4ddf450845a53991c514a6\n",
      "└ @ Pkg.Types /buildworker/worker/package_linux64/build/usr/share/julia/stdlib/v1.6/Pkg/src/Types.jl:1173\n"
     ]
    },
    {
     "ename": "LoadError",
     "evalue": "\"/tmp/jl_nPnyeS/Registry.toml\": No such file",
     "output_type": "error",
     "traceback": [
      "\"/tmp/jl_nPnyeS/Registry.toml\": No such file",
      "",
      "Stacktrace:",
      "  [1] error(::String, ::String)",
      "    @ Base ./error.jl:42",
      "  [2] readstring",
      "    @ /buildworker/worker/package_linux64/build/usr/share/julia/stdlib/v1.6/TOML/src/TOML.jl:21 [inlined]",
      "  [3] parsefile(f::String)",
      "    @ TOML /buildworker/worker/package_linux64/build/usr/share/julia/stdlib/v1.6/TOML/src/TOML.jl:43",
      "  [4] read_registry(reg_file::String; cache::Bool)",
      "    @ Pkg.Types /buildworker/worker/package_linux64/build/usr/share/julia/stdlib/v1.6/Pkg/src/Types.jl:1092",
      "  [5] (::Pkg.Types.var\"#95#98\"{Pkg.Types.Context, String, Pkg.Types.RegistrySpec, SubString{String}})(tmp::String)",
      "    @ Pkg.Types /buildworker/worker/package_linux64/build/usr/share/julia/stdlib/v1.6/Pkg/src/Types.jl:1182",
      "  [6] mktempdir(fn::Pkg.Types.var\"#95#98\"{Pkg.Types.Context, String, Pkg.Types.RegistrySpec, SubString{String}}, parent::String; prefix::String)",
      "    @ Base.Filesystem ./file.jl:729",
      "  [7] mktempdir (repeats 2 times)",
      "    @ ./file.jl:727 [inlined]",
      "  [8] update_registries(ctx::Pkg.Types.Context, regs::Vector{Pkg.Types.RegistrySpec}; force::Bool)",
      "    @ Pkg.Types /buildworker/worker/package_linux64/build/usr/share/julia/stdlib/v1.6/Pkg/src/Types.jl:1169",
      "  [9] update_registries (repeats 2 times)",
      "    @ /buildworker/worker/package_linux64/build/usr/share/julia/stdlib/v1.6/Pkg/src/Types.jl:1154 [inlined]",
      " [10] add(ctx::Pkg.Types.Context, pkgs::Vector{Pkg.Types.PackageSpec}; preserve::Pkg.Types.PreserveLevel, platform::Base.BinaryPlatforms.Platform, kwargs::Base.Iterators.Pairs{Symbol, IJulia.IJuliaStdio{Base.PipeEndpoint}, Tuple{Symbol}, NamedTuple{(:io,), Tuple{IJulia.IJuliaStdio{Base.PipeEndpoint}}}})",
      "    @ Pkg.API /buildworker/worker/package_linux64/build/usr/share/julia/stdlib/v1.6/Pkg/src/API.jl:188",
      " [11] add(pkgs::Vector{Pkg.Types.PackageSpec}; io::IJulia.IJuliaStdio{Base.PipeEndpoint}, kwargs::Base.Iterators.Pairs{Union{}, Union{}, Tuple{}, NamedTuple{(), Tuple{}}})",
      "    @ Pkg.API /buildworker/worker/package_linux64/build/usr/share/julia/stdlib/v1.6/Pkg/src/API.jl:80",
      " [12] add(pkgs::Vector{Pkg.Types.PackageSpec})",
      "    @ Pkg.API /buildworker/worker/package_linux64/build/usr/share/julia/stdlib/v1.6/Pkg/src/API.jl:78",
      " [13] #add#23",
      "    @ /buildworker/worker/package_linux64/build/usr/share/julia/stdlib/v1.6/Pkg/src/API.jl:76 [inlined]",
      " [14] add",
      "    @ /buildworker/worker/package_linux64/build/usr/share/julia/stdlib/v1.6/Pkg/src/API.jl:76 [inlined]",
      " [15] #add#22",
      "    @ /buildworker/worker/package_linux64/build/usr/share/julia/stdlib/v1.6/Pkg/src/API.jl:75 [inlined]",
      " [16] add(pkg::String)",
      "    @ Pkg.API /buildworker/worker/package_linux64/build/usr/share/julia/stdlib/v1.6/Pkg/src/API.jl:75",
      " [17] top-level scope",
      "    @ In[54]:1",
      " [18] eval",
      "    @ ./boot.jl:360 [inlined]",
      " [19] include_string(mapexpr::typeof(REPL.softscope), mod::Module, code::String, filename::String)",
      "    @ Base ./loading.jl:1116"
     ]
    }
   ],
   "source": [
    "import Pkg; Pkg.add(\"Colors\")"
   ]
  },
  {
   "cell_type": "markdown",
   "id": "1452edf9",
   "metadata": {},
   "source": [
    "#### How to use a package?"
   ]
  },
  {
   "cell_type": "code",
   "execution_count": 55,
   "id": "38ae99a5",
   "metadata": {},
   "outputs": [],
   "source": [
    "using Colors"
   ]
  },
  {
   "cell_type": "code",
   "execution_count": 57,
   "id": "82bb6e7e",
   "metadata": {},
   "outputs": [
    {
     "data": {
      "image/svg+xml": [
       "<?xml version=\"1.0\" encoding=\"UTF-8\"?>\n",
       "<!DOCTYPE svg PUBLIC \"-//W3C//DTD SVG 1.1//EN\"\n",
       " \"http://www.w3.org/Graphics/SVG/1.1/DTD/svg11.dtd\">\n",
       "<svg xmlns=\"http://www.w3.org/2000/svg\" version=\"1.1\"\n",
       "     width=\"125mm\" height=\"25mm\"\n",
       "     viewBox=\"0 0 5 1\" preserveAspectRatio=\"none\"\n",
       "     shape-rendering=\"crispEdges\" stroke=\"none\">\n",
       "<rect width=\".96\" height=\".96\" x=\"0\" y=\"0\" fill=\"#000000\" />\n",
       "<rect width=\".96\" height=\".96\" x=\"1\" y=\"0\" fill=\"#FFFF74\" />\n",
       "<rect width=\".96\" height=\".96\" x=\"2\" y=\"0\" fill=\"#FF9BFF\" />\n",
       "<rect width=\".96\" height=\".96\" x=\"3\" y=\"0\" fill=\"#00D3FF\" />\n",
       "<rect width=\".96\" height=\".96\" x=\"4\" y=\"0\" fill=\"#E2630D\" />\n",
       "</svg>"
      ],
      "text/plain": [
       "5-element Array{RGB{N0f8},1} with eltype RGB{FixedPointNumbers.N0f8}:\n",
       " RGB{N0f8}(0.0,0.0,0.0)\n",
       " RGB{N0f8}(1.0,1.0,0.455)\n",
       " RGB{N0f8}(1.0,0.608,1.0)\n",
       " RGB{N0f8}(0.0,0.827,1.0)\n",
       " RGB{N0f8}(0.886,0.388,0.051)"
      ]
     },
     "execution_count": 57,
     "metadata": {},
     "output_type": "execute_result"
    }
   ],
   "source": [
    "palette = distinguishable_colors(5)"
   ]
  },
  {
   "cell_type": "code",
   "execution_count": 58,
   "id": "d0ca8e8b",
   "metadata": {},
   "outputs": [
    {
     "data": {
      "image/svg+xml": [
       "<?xml version=\"1.0\" encoding=\"UTF-8\"?>\n",
       "<!DOCTYPE svg PUBLIC \"-//W3C//DTD SVG 1.1//EN\"\n",
       " \"http://www.w3.org/Graphics/SVG/1.1/DTD/svg11.dtd\">\n",
       "<svg xmlns=\"http://www.w3.org/2000/svg\" version=\"1.1\"\n",
       "     width=\"75mm\" height=\"75mm\"\n",
       "     viewBox=\"0 0 3 3\" preserveAspectRatio=\"none\"\n",
       "     shape-rendering=\"crispEdges\" stroke=\"none\">\n",
       "<rect width=\".96\" height=\".96\" x=\"0\" y=\"0\" fill=\"#FF9BFF\" />\n",
       "<rect width=\".96\" height=\".96\" x=\"1\" y=\"0\" fill=\"#FFFF74\" />\n",
       "<rect width=\".96\" height=\".96\" x=\"2\" y=\"0\" fill=\"#000000\" />\n",
       "<rect width=\".96\" height=\".96\" x=\"0\" y=\"1\" fill=\"#000000\" />\n",
       "<rect width=\".96\" height=\".96\" x=\"1\" y=\"1\" fill=\"#FF9BFF\" />\n",
       "<rect width=\".96\" height=\".96\" x=\"2\" y=\"1\" fill=\"#000000\" />\n",
       "<rect width=\".96\" height=\".96\" x=\"0\" y=\"2\" fill=\"#E2630D\" />\n",
       "<rect width=\".96\" height=\".96\" x=\"1\" y=\"2\" fill=\"#FF9BFF\" />\n",
       "<rect width=\".96\" height=\".96\" x=\"2\" y=\"2\" fill=\"#E2630D\" />\n",
       "</svg>"
      ],
      "text/plain": [
       "3×3 Array{RGB{N0f8},2} with eltype RGB{FixedPointNumbers.N0f8}:\n",
       " RGB{N0f8}(1.0,0.608,1.0)      …  RGB{N0f8}(0.0,0.0,0.0)\n",
       " RGB{N0f8}(0.0,0.0,0.0)           RGB{N0f8}(0.0,0.0,0.0)\n",
       " RGB{N0f8}(0.886,0.388,0.051)     RGB{N0f8}(0.886,0.388,0.051)"
      ]
     },
     "execution_count": 58,
     "metadata": {},
     "output_type": "execute_result"
    }
   ],
   "source": [
    "rand(palette,3,3)"
   ]
  },
  {
   "cell_type": "markdown",
   "id": "dbd968a6",
   "metadata": {},
   "source": [
    "## Plots"
   ]
  },
  {
   "cell_type": "code",
   "execution_count": null,
   "id": "f4899301",
   "metadata": {},
   "outputs": [],
   "source": [
    "import Pkg; Pkg.add(\"Plots\")"
   ]
  },
  {
   "cell_type": "markdown",
   "id": "624b0446",
   "metadata": {},
   "source": [
    "One of the advantages of **Plots.jl** is that it allows one to seamlessly change backends. \n",
    "Here we will try out **gr()** and **plotlyjs()** backends."
   ]
  },
  {
   "cell_type": "code",
   "execution_count": 59,
   "id": "d44bafe9",
   "metadata": {},
   "outputs": [],
   "source": [
    "using Plots"
   ]
  },
  {
   "cell_type": "code",
   "execution_count": 60,
   "id": "6dc89cb7",
   "metadata": {},
   "outputs": [
    {
     "data": {
      "text/plain": [
       "-2.0:0.1:2.0"
      ]
     },
     "execution_count": 60,
     "metadata": {},
     "output_type": "execute_result"
    }
   ],
   "source": [
    "x = -2:0.1:2"
   ]
  },
  {
   "cell_type": "code",
   "execution_count": 61,
   "id": "5855ae75",
   "metadata": {},
   "outputs": [
    {
     "data": {
      "text/plain": [
       "41-element Vector{Float64}:\n",
       " 4.0\n",
       " 3.61\n",
       " 3.24\n",
       " 2.8899999999999997\n",
       " 2.5600000000000005\n",
       " 2.25\n",
       " 1.9599999999999997\n",
       " 1.6900000000000002\n",
       " 1.44\n",
       " 1.2100000000000002\n",
       " 1.0\n",
       " 0.81\n",
       " 0.6400000000000001\n",
       " ⋮\n",
       " 0.81\n",
       " 1.0\n",
       " 1.2100000000000002\n",
       " 1.44\n",
       " 1.6900000000000002\n",
       " 1.9599999999999997\n",
       " 2.25\n",
       " 2.5600000000000005\n",
       " 2.8899999999999997\n",
       " 3.24\n",
       " 3.61\n",
       " 4.0"
      ]
     },
     "execution_count": 61,
     "metadata": {},
     "output_type": "execute_result"
    }
   ],
   "source": [
    "f(x) = x^2\n",
    "y = f.(x)"
   ]
  },
  {
   "cell_type": "markdown",
   "id": "a2b24b08",
   "metadata": {},
   "source": [
    "#### Using *gr()* backend"
   ]
  },
  {
   "cell_type": "code",
   "execution_count": 62,
   "id": "e7eda4f9",
   "metadata": {},
   "outputs": [
    {
     "data": {
      "text/plain": [
       "Plots.GRBackend()"
      ]
     },
     "execution_count": 62,
     "metadata": {},
     "output_type": "execute_result"
    }
   ],
   "source": [
    "gr()"
   ]
  },
  {
   "cell_type": "code",
   "execution_count": 65,
   "id": "602e624a",
   "metadata": {},
   "outputs": [
    {
     "data": {
      "image/svg+xml": [
       "<?xml version=\"1.0\" encoding=\"utf-8\"?>\n",
       "<svg xmlns=\"http://www.w3.org/2000/svg\" xmlns:xlink=\"http://www.w3.org/1999/xlink\" width=\"600\" height=\"400\" viewBox=\"0 0 2400 1600\">\n",
       "<defs>\n",
       "  <clipPath id=\"clip040\">\n",
       "    <rect x=\"0\" y=\"0\" width=\"2400\" height=\"1600\"/>\n",
       "  </clipPath>\n",
       "</defs>\n",
       "<path clip-path=\"url(#clip040)\" d=\"\n",
       "M0 1600 L2400 1600 L2400 0 L0 0  Z\n",
       "  \" fill=\"#ffffff\" fill-rule=\"evenodd\" fill-opacity=\"1\"/>\n",
       "<defs>\n",
       "  <clipPath id=\"clip041\">\n",
       "    <rect x=\"480\" y=\"0\" width=\"1681\" height=\"1600\"/>\n",
       "  </clipPath>\n",
       "</defs>\n",
       "<path clip-path=\"url(#clip040)\" d=\"\n",
       "M112.177 1486.45 L2352.76 1486.45 L2352.76 47.2441 L112.177 47.2441  Z\n",
       "  \" fill=\"#ffffff\" fill-rule=\"evenodd\" fill-opacity=\"1\"/>\n",
       "<defs>\n",
       "  <clipPath id=\"clip042\">\n",
       "    <rect x=\"112\" y=\"47\" width=\"2242\" height=\"1440\"/>\n",
       "  </clipPath>\n",
       "</defs>\n",
       "<polyline clip-path=\"url(#clip042)\" style=\"stroke:#000000; stroke-linecap:round; stroke-linejoin:round; stroke-width:2; stroke-opacity:0.1; fill:none\" points=\"\n",
       "  175.59,1486.45 175.59,47.2441 \n",
       "  \"/>\n",
       "<polyline clip-path=\"url(#clip042)\" style=\"stroke:#000000; stroke-linecap:round; stroke-linejoin:round; stroke-width:2; stroke-opacity:0.1; fill:none\" points=\"\n",
       "  704.028,1486.45 704.028,47.2441 \n",
       "  \"/>\n",
       "<polyline clip-path=\"url(#clip042)\" style=\"stroke:#000000; stroke-linecap:round; stroke-linejoin:round; stroke-width:2; stroke-opacity:0.1; fill:none\" points=\"\n",
       "  1232.47,1486.45 1232.47,47.2441 \n",
       "  \"/>\n",
       "<polyline clip-path=\"url(#clip042)\" style=\"stroke:#000000; stroke-linecap:round; stroke-linejoin:round; stroke-width:2; stroke-opacity:0.1; fill:none\" points=\"\n",
       "  1760.9,1486.45 1760.9,47.2441 \n",
       "  \"/>\n",
       "<polyline clip-path=\"url(#clip042)\" style=\"stroke:#000000; stroke-linecap:round; stroke-linejoin:round; stroke-width:2; stroke-opacity:0.1; fill:none\" points=\"\n",
       "  2289.34,1486.45 2289.34,47.2441 \n",
       "  \"/>\n",
       "<polyline clip-path=\"url(#clip040)\" style=\"stroke:#000000; stroke-linecap:round; stroke-linejoin:round; stroke-width:4; stroke-opacity:1; fill:none\" points=\"\n",
       "  112.177,1486.45 2352.76,1486.45 \n",
       "  \"/>\n",
       "<polyline clip-path=\"url(#clip040)\" style=\"stroke:#000000; stroke-linecap:round; stroke-linejoin:round; stroke-width:4; stroke-opacity:1; fill:none\" points=\"\n",
       "  175.59,1486.45 175.59,1467.55 \n",
       "  \"/>\n",
       "<polyline clip-path=\"url(#clip040)\" style=\"stroke:#000000; stroke-linecap:round; stroke-linejoin:round; stroke-width:4; stroke-opacity:1; fill:none\" points=\"\n",
       "  704.028,1486.45 704.028,1467.55 \n",
       "  \"/>\n",
       "<polyline clip-path=\"url(#clip040)\" style=\"stroke:#000000; stroke-linecap:round; stroke-linejoin:round; stroke-width:4; stroke-opacity:1; fill:none\" points=\"\n",
       "  1232.47,1486.45 1232.47,1467.55 \n",
       "  \"/>\n",
       "<polyline clip-path=\"url(#clip040)\" style=\"stroke:#000000; stroke-linecap:round; stroke-linejoin:round; stroke-width:4; stroke-opacity:1; fill:none\" points=\"\n",
       "  1760.9,1486.45 1760.9,1467.55 \n",
       "  \"/>\n",
       "<polyline clip-path=\"url(#clip040)\" style=\"stroke:#000000; stroke-linecap:round; stroke-linejoin:round; stroke-width:4; stroke-opacity:1; fill:none\" points=\"\n",
       "  2289.34,1486.45 2289.34,1467.55 \n",
       "  \"/>\n",
       "<path clip-path=\"url(#clip040)\" d=\"M145.532 1532.02 L175.208 1532.02 L175.208 1535.95 L145.532 1535.95 L145.532 1532.02 Z\" fill=\"#000000\" fill-rule=\"evenodd\" fill-opacity=\"1\" /><path clip-path=\"url(#clip040)\" d=\"M189.328 1544.91 L205.647 1544.91 L205.647 1548.85 L183.703 1548.85 L183.703 1544.91 Q186.365 1542.16 190.948 1537.53 Q195.555 1532.88 196.736 1531.53 Q198.981 1529.01 199.86 1527.27 Q200.763 1525.51 200.763 1523.82 Q200.763 1521.07 198.819 1519.33 Q196.898 1517.6 193.796 1517.6 Q191.597 1517.6 189.143 1518.36 Q186.712 1519.13 183.935 1520.68 L183.935 1515.95 Q186.759 1514.82 189.212 1514.24 Q191.666 1513.66 193.703 1513.66 Q199.073 1513.66 202.268 1516.35 Q205.462 1519.03 205.462 1523.52 Q205.462 1525.65 204.652 1527.57 Q203.865 1529.47 201.759 1532.07 Q201.18 1532.74 198.078 1535.95 Q194.976 1539.15 189.328 1544.91 Z\" fill=\"#000000\" fill-rule=\"evenodd\" fill-opacity=\"1\" /><path clip-path=\"url(#clip040)\" d=\"M673.785 1532.02 L703.461 1532.02 L703.461 1535.95 L673.785 1535.95 L673.785 1532.02 Z\" fill=\"#000000\" fill-rule=\"evenodd\" fill-opacity=\"1\" /><path clip-path=\"url(#clip040)\" d=\"M714.364 1544.91 L722.003 1544.91 L722.003 1518.55 L713.692 1520.21 L713.692 1515.95 L721.956 1514.29 L726.632 1514.29 L726.632 1544.91 L734.271 1544.91 L734.271 1548.85 L714.364 1548.85 L714.364 1544.91 Z\" fill=\"#000000\" fill-rule=\"evenodd\" fill-opacity=\"1\" /><path clip-path=\"url(#clip040)\" d=\"M1232.47 1517.37 Q1228.86 1517.37 1227.03 1520.93 Q1225.22 1524.47 1225.22 1531.6 Q1225.22 1538.71 1227.03 1542.27 Q1228.86 1545.82 1232.47 1545.82 Q1236.1 1545.82 1237.91 1542.27 Q1239.74 1538.71 1239.74 1531.6 Q1239.74 1524.47 1237.91 1520.93 Q1236.1 1517.37 1232.47 1517.37 M1232.47 1513.66 Q1238.28 1513.66 1241.33 1518.27 Q1244.41 1522.85 1244.41 1531.6 Q1244.41 1540.33 1241.33 1544.94 Q1238.28 1549.52 1232.47 1549.52 Q1226.66 1549.52 1223.58 1544.94 Q1220.52 1540.33 1220.52 1531.6 Q1220.52 1522.85 1223.58 1518.27 Q1226.66 1513.66 1232.47 1513.66 Z\" fill=\"#000000\" fill-rule=\"evenodd\" fill-opacity=\"1\" /><path clip-path=\"url(#clip040)\" d=\"M1751.29 1544.91 L1758.93 1544.91 L1758.93 1518.55 L1750.62 1520.21 L1750.62 1515.95 L1758.88 1514.29 L1763.56 1514.29 L1763.56 1544.91 L1771.19 1544.91 L1771.19 1548.85 L1751.29 1548.85 L1751.29 1544.91 Z\" fill=\"#000000\" fill-rule=\"evenodd\" fill-opacity=\"1\" /><path clip-path=\"url(#clip040)\" d=\"M2284 1544.91 L2300.32 1544.91 L2300.32 1548.85 L2278.37 1548.85 L2278.37 1544.91 Q2281.03 1542.16 2285.62 1537.53 Q2290.22 1532.88 2291.4 1531.53 Q2293.65 1529.01 2294.53 1527.27 Q2295.43 1525.51 2295.43 1523.82 Q2295.43 1521.07 2293.49 1519.33 Q2291.57 1517.6 2288.46 1517.6 Q2286.26 1517.6 2283.81 1518.36 Q2281.38 1519.13 2278.6 1520.68 L2278.6 1515.95 Q2281.43 1514.82 2283.88 1514.24 Q2286.33 1513.66 2288.37 1513.66 Q2293.74 1513.66 2296.94 1516.35 Q2300.13 1519.03 2300.13 1523.52 Q2300.13 1525.65 2299.32 1527.57 Q2298.53 1529.47 2296.43 1532.07 Q2295.85 1532.74 2292.75 1535.95 Q2289.64 1539.15 2284 1544.91 Z\" fill=\"#000000\" fill-rule=\"evenodd\" fill-opacity=\"1\" /><polyline clip-path=\"url(#clip042)\" style=\"stroke:#000000; stroke-linecap:round; stroke-linejoin:round; stroke-width:2; stroke-opacity:0.1; fill:none\" points=\"\n",
       "  112.177,1445.72 2352.76,1445.72 \n",
       "  \"/>\n",
       "<polyline clip-path=\"url(#clip042)\" style=\"stroke:#000000; stroke-linecap:round; stroke-linejoin:round; stroke-width:2; stroke-opacity:0.1; fill:none\" points=\"\n",
       "  112.177,1106.28 2352.76,1106.28 \n",
       "  \"/>\n",
       "<polyline clip-path=\"url(#clip042)\" style=\"stroke:#000000; stroke-linecap:round; stroke-linejoin:round; stroke-width:2; stroke-opacity:0.1; fill:none\" points=\"\n",
       "  112.177,766.846 2352.76,766.846 \n",
       "  \"/>\n",
       "<polyline clip-path=\"url(#clip042)\" style=\"stroke:#000000; stroke-linecap:round; stroke-linejoin:round; stroke-width:2; stroke-opacity:0.1; fill:none\" points=\"\n",
       "  112.177,427.411 2352.76,427.411 \n",
       "  \"/>\n",
       "<polyline clip-path=\"url(#clip042)\" style=\"stroke:#000000; stroke-linecap:round; stroke-linejoin:round; stroke-width:2; stroke-opacity:0.1; fill:none\" points=\"\n",
       "  112.177,87.9763 2352.76,87.9763 \n",
       "  \"/>\n",
       "<polyline clip-path=\"url(#clip040)\" style=\"stroke:#000000; stroke-linecap:round; stroke-linejoin:round; stroke-width:4; stroke-opacity:1; fill:none\" points=\"\n",
       "  112.177,1486.45 112.177,47.2441 \n",
       "  \"/>\n",
       "<polyline clip-path=\"url(#clip040)\" style=\"stroke:#000000; stroke-linecap:round; stroke-linejoin:round; stroke-width:4; stroke-opacity:1; fill:none\" points=\"\n",
       "  112.177,1445.72 131.075,1445.72 \n",
       "  \"/>\n",
       "<polyline clip-path=\"url(#clip040)\" style=\"stroke:#000000; stroke-linecap:round; stroke-linejoin:round; stroke-width:4; stroke-opacity:1; fill:none\" points=\"\n",
       "  112.177,1106.28 131.075,1106.28 \n",
       "  \"/>\n",
       "<polyline clip-path=\"url(#clip040)\" style=\"stroke:#000000; stroke-linecap:round; stroke-linejoin:round; stroke-width:4; stroke-opacity:1; fill:none\" points=\"\n",
       "  112.177,766.846 131.075,766.846 \n",
       "  \"/>\n",
       "<polyline clip-path=\"url(#clip040)\" style=\"stroke:#000000; stroke-linecap:round; stroke-linejoin:round; stroke-width:4; stroke-opacity:1; fill:none\" points=\"\n",
       "  112.177,427.411 131.075,427.411 \n",
       "  \"/>\n",
       "<polyline clip-path=\"url(#clip040)\" style=\"stroke:#000000; stroke-linecap:round; stroke-linejoin:round; stroke-width:4; stroke-opacity:1; fill:none\" points=\"\n",
       "  112.177,87.9763 131.075,87.9763 \n",
       "  \"/>\n",
       "<path clip-path=\"url(#clip040)\" d=\"M64.2328 1431.51 Q60.6217 1431.51 58.793 1435.08 Q56.9875 1438.62 56.9875 1445.75 Q56.9875 1452.86 58.793 1456.42 Q60.6217 1459.96 64.2328 1459.96 Q67.867 1459.96 69.6726 1456.42 Q71.5013 1452.86 71.5013 1445.75 Q71.5013 1438.62 69.6726 1435.08 Q67.867 1431.51 64.2328 1431.51 M64.2328 1427.81 Q70.0429 1427.81 73.0985 1432.42 Q76.1772 1437 76.1772 1445.75 Q76.1772 1454.48 73.0985 1459.08 Q70.0429 1463.67 64.2328 1463.67 Q58.4226 1463.67 55.344 1459.08 Q52.2884 1454.48 52.2884 1445.75 Q52.2884 1437 55.344 1432.42 Q58.4226 1427.81 64.2328 1427.81 Z\" fill=\"#000000\" fill-rule=\"evenodd\" fill-opacity=\"1\" /><path clip-path=\"url(#clip040)\" d=\"M56.2699 1119.63 L63.9087 1119.63 L63.9087 1093.26 L55.5986 1094.93 L55.5986 1090.67 L63.8624 1089 L68.5383 1089 L68.5383 1119.63 L76.1772 1119.63 L76.1772 1123.56 L56.2699 1123.56 L56.2699 1119.63 Z\" fill=\"#000000\" fill-rule=\"evenodd\" fill-opacity=\"1\" /><path clip-path=\"url(#clip040)\" d=\"M59.8578 780.191 L76.1772 780.191 L76.1772 784.126 L54.2328 784.126 L54.2328 780.191 Q56.8949 777.436 61.4782 772.807 Q66.0846 768.154 67.2652 766.811 Q69.5105 764.288 70.3902 762.552 Q71.2929 760.793 71.2929 759.103 Q71.2929 756.348 69.3485 754.612 Q67.4272 752.876 64.3254 752.876 Q62.1263 752.876 59.6726 753.64 Q57.2421 754.404 54.4643 755.955 L54.4643 751.233 Q57.2884 750.098 59.7421 749.52 Q62.1958 748.941 64.2328 748.941 Q69.6031 748.941 72.7976 751.626 Q75.992 754.311 75.992 758.802 Q75.992 760.932 75.1818 762.853 Q74.3948 764.751 72.2883 767.344 Q71.7096 768.015 68.6078 771.233 Q65.5059 774.427 59.8578 780.191 Z\" fill=\"#000000\" fill-rule=\"evenodd\" fill-opacity=\"1\" /><path clip-path=\"url(#clip040)\" d=\"M69.0476 426.057 Q72.404 426.775 74.279 429.043 Q76.1772 431.312 76.1772 434.645 Q76.1772 439.761 72.6587 442.562 Q69.1402 445.362 62.6587 445.362 Q60.4828 445.362 58.168 444.923 Q55.8764 444.506 53.4227 443.649 L53.4227 439.136 Q55.3671 440.27 57.6819 440.849 Q59.9967 441.427 62.5198 441.427 Q66.918 441.427 69.2096 439.691 Q71.5244 437.955 71.5244 434.645 Q71.5244 431.589 69.3717 429.876 Q67.242 428.14 63.4226 428.14 L59.3949 428.14 L59.3949 424.298 L63.6078 424.298 Q67.0569 424.298 68.8855 422.932 Q70.7142 421.543 70.7142 418.951 Q70.7142 416.289 68.8161 414.876 Q66.9411 413.441 63.4226 413.441 Q61.5013 413.441 59.3023 413.858 Q57.1032 414.275 54.4643 415.154 L54.4643 410.988 Q57.1264 410.247 59.4412 409.877 Q61.7791 409.506 63.8393 409.506 Q69.1633 409.506 72.2652 411.937 Q75.367 414.344 75.367 418.464 Q75.367 421.335 73.7235 423.326 Q72.08 425.293 69.0476 426.057 Z\" fill=\"#000000\" fill-rule=\"evenodd\" fill-opacity=\"1\" /><path clip-path=\"url(#clip040)\" d=\"M66.5939 74.7703 L54.7884 93.2193 L66.5939 93.2193 L66.5939 74.7703 M65.367 70.6963 L71.2466 70.6963 L71.2466 93.2193 L76.1772 93.2193 L76.1772 97.1082 L71.2466 97.1082 L71.2466 105.256 L66.5939 105.256 L66.5939 97.1082 L50.9921 97.1082 L50.9921 92.5943 L65.367 70.6963 Z\" fill=\"#000000\" fill-rule=\"evenodd\" fill-opacity=\"1\" /><polyline clip-path=\"url(#clip042)\" style=\"stroke:#009af9; stroke-linecap:round; stroke-linejoin:round; stroke-width:4; stroke-opacity:1; fill:none\" points=\"\n",
       "  175.59,87.9763 228.434,220.356 281.277,345.947 334.121,464.749 386.965,576.762 439.809,681.987 492.653,780.423 545.497,872.071 598.34,956.93 651.184,1035 \n",
       "  704.028,1106.28 756.872,1170.77 809.716,1228.48 862.56,1279.39 915.404,1323.52 968.247,1360.86 1021.09,1391.41 1073.94,1415.17 1126.78,1432.14 1179.62,1442.32 \n",
       "  1232.47,1445.72 1285.31,1442.32 1338.15,1432.14 1391,1415.17 1443.84,1391.41 1496.69,1360.86 1549.53,1323.52 1602.37,1279.39 1655.22,1228.48 1708.06,1170.77 \n",
       "  1760.9,1106.28 1813.75,1035 1866.59,956.93 1919.44,872.071 1972.28,780.423 2025.12,681.987 2077.97,576.762 2130.81,464.749 2183.66,345.947 2236.5,220.356 \n",
       "  2289.34,87.9763 \n",
       "  \"/>\n",
       "<circle clip-path=\"url(#clip042)\" cx=\"175.59\" cy=\"87.9763\" r=\"14.4\" fill=\"#e26f46\" fill-rule=\"evenodd\" fill-opacity=\"1\" stroke=\"#000000\" stroke-opacity=\"1\" stroke-width=\"3.2\"/>\n",
       "<circle clip-path=\"url(#clip042)\" cx=\"228.434\" cy=\"220.356\" r=\"14.4\" fill=\"#e26f46\" fill-rule=\"evenodd\" fill-opacity=\"1\" stroke=\"#000000\" stroke-opacity=\"1\" stroke-width=\"3.2\"/>\n",
       "<circle clip-path=\"url(#clip042)\" cx=\"281.277\" cy=\"345.947\" r=\"14.4\" fill=\"#e26f46\" fill-rule=\"evenodd\" fill-opacity=\"1\" stroke=\"#000000\" stroke-opacity=\"1\" stroke-width=\"3.2\"/>\n",
       "<circle clip-path=\"url(#clip042)\" cx=\"334.121\" cy=\"464.749\" r=\"14.4\" fill=\"#e26f46\" fill-rule=\"evenodd\" fill-opacity=\"1\" stroke=\"#000000\" stroke-opacity=\"1\" stroke-width=\"3.2\"/>\n",
       "<circle clip-path=\"url(#clip042)\" cx=\"386.965\" cy=\"576.762\" r=\"14.4\" fill=\"#e26f46\" fill-rule=\"evenodd\" fill-opacity=\"1\" stroke=\"#000000\" stroke-opacity=\"1\" stroke-width=\"3.2\"/>\n",
       "<circle clip-path=\"url(#clip042)\" cx=\"439.809\" cy=\"681.987\" r=\"14.4\" fill=\"#e26f46\" fill-rule=\"evenodd\" fill-opacity=\"1\" stroke=\"#000000\" stroke-opacity=\"1\" stroke-width=\"3.2\"/>\n",
       "<circle clip-path=\"url(#clip042)\" cx=\"492.653\" cy=\"780.423\" r=\"14.4\" fill=\"#e26f46\" fill-rule=\"evenodd\" fill-opacity=\"1\" stroke=\"#000000\" stroke-opacity=\"1\" stroke-width=\"3.2\"/>\n",
       "<circle clip-path=\"url(#clip042)\" cx=\"545.497\" cy=\"872.071\" r=\"14.4\" fill=\"#e26f46\" fill-rule=\"evenodd\" fill-opacity=\"1\" stroke=\"#000000\" stroke-opacity=\"1\" stroke-width=\"3.2\"/>\n",
       "<circle clip-path=\"url(#clip042)\" cx=\"598.34\" cy=\"956.93\" r=\"14.4\" fill=\"#e26f46\" fill-rule=\"evenodd\" fill-opacity=\"1\" stroke=\"#000000\" stroke-opacity=\"1\" stroke-width=\"3.2\"/>\n",
       "<circle clip-path=\"url(#clip042)\" cx=\"651.184\" cy=\"1035\" r=\"14.4\" fill=\"#e26f46\" fill-rule=\"evenodd\" fill-opacity=\"1\" stroke=\"#000000\" stroke-opacity=\"1\" stroke-width=\"3.2\"/>\n",
       "<circle clip-path=\"url(#clip042)\" cx=\"704.028\" cy=\"1106.28\" r=\"14.4\" fill=\"#e26f46\" fill-rule=\"evenodd\" fill-opacity=\"1\" stroke=\"#000000\" stroke-opacity=\"1\" stroke-width=\"3.2\"/>\n",
       "<circle clip-path=\"url(#clip042)\" cx=\"756.872\" cy=\"1170.77\" r=\"14.4\" fill=\"#e26f46\" fill-rule=\"evenodd\" fill-opacity=\"1\" stroke=\"#000000\" stroke-opacity=\"1\" stroke-width=\"3.2\"/>\n",
       "<circle clip-path=\"url(#clip042)\" cx=\"809.716\" cy=\"1228.48\" r=\"14.4\" fill=\"#e26f46\" fill-rule=\"evenodd\" fill-opacity=\"1\" stroke=\"#000000\" stroke-opacity=\"1\" stroke-width=\"3.2\"/>\n",
       "<circle clip-path=\"url(#clip042)\" cx=\"862.56\" cy=\"1279.39\" r=\"14.4\" fill=\"#e26f46\" fill-rule=\"evenodd\" fill-opacity=\"1\" stroke=\"#000000\" stroke-opacity=\"1\" stroke-width=\"3.2\"/>\n",
       "<circle clip-path=\"url(#clip042)\" cx=\"915.404\" cy=\"1323.52\" r=\"14.4\" fill=\"#e26f46\" fill-rule=\"evenodd\" fill-opacity=\"1\" stroke=\"#000000\" stroke-opacity=\"1\" stroke-width=\"3.2\"/>\n",
       "<circle clip-path=\"url(#clip042)\" cx=\"968.247\" cy=\"1360.86\" r=\"14.4\" fill=\"#e26f46\" fill-rule=\"evenodd\" fill-opacity=\"1\" stroke=\"#000000\" stroke-opacity=\"1\" stroke-width=\"3.2\"/>\n",
       "<circle clip-path=\"url(#clip042)\" cx=\"1021.09\" cy=\"1391.41\" r=\"14.4\" fill=\"#e26f46\" fill-rule=\"evenodd\" fill-opacity=\"1\" stroke=\"#000000\" stroke-opacity=\"1\" stroke-width=\"3.2\"/>\n",
       "<circle clip-path=\"url(#clip042)\" cx=\"1073.94\" cy=\"1415.17\" r=\"14.4\" fill=\"#e26f46\" fill-rule=\"evenodd\" fill-opacity=\"1\" stroke=\"#000000\" stroke-opacity=\"1\" stroke-width=\"3.2\"/>\n",
       "<circle clip-path=\"url(#clip042)\" cx=\"1126.78\" cy=\"1432.14\" r=\"14.4\" fill=\"#e26f46\" fill-rule=\"evenodd\" fill-opacity=\"1\" stroke=\"#000000\" stroke-opacity=\"1\" stroke-width=\"3.2\"/>\n",
       "<circle clip-path=\"url(#clip042)\" cx=\"1179.62\" cy=\"1442.32\" r=\"14.4\" fill=\"#e26f46\" fill-rule=\"evenodd\" fill-opacity=\"1\" stroke=\"#000000\" stroke-opacity=\"1\" stroke-width=\"3.2\"/>\n",
       "<circle clip-path=\"url(#clip042)\" cx=\"1232.47\" cy=\"1445.72\" r=\"14.4\" fill=\"#e26f46\" fill-rule=\"evenodd\" fill-opacity=\"1\" stroke=\"#000000\" stroke-opacity=\"1\" stroke-width=\"3.2\"/>\n",
       "<circle clip-path=\"url(#clip042)\" cx=\"1285.31\" cy=\"1442.32\" r=\"14.4\" fill=\"#e26f46\" fill-rule=\"evenodd\" fill-opacity=\"1\" stroke=\"#000000\" stroke-opacity=\"1\" stroke-width=\"3.2\"/>\n",
       "<circle clip-path=\"url(#clip042)\" cx=\"1338.15\" cy=\"1432.14\" r=\"14.4\" fill=\"#e26f46\" fill-rule=\"evenodd\" fill-opacity=\"1\" stroke=\"#000000\" stroke-opacity=\"1\" stroke-width=\"3.2\"/>\n",
       "<circle clip-path=\"url(#clip042)\" cx=\"1391\" cy=\"1415.17\" r=\"14.4\" fill=\"#e26f46\" fill-rule=\"evenodd\" fill-opacity=\"1\" stroke=\"#000000\" stroke-opacity=\"1\" stroke-width=\"3.2\"/>\n",
       "<circle clip-path=\"url(#clip042)\" cx=\"1443.84\" cy=\"1391.41\" r=\"14.4\" fill=\"#e26f46\" fill-rule=\"evenodd\" fill-opacity=\"1\" stroke=\"#000000\" stroke-opacity=\"1\" stroke-width=\"3.2\"/>\n",
       "<circle clip-path=\"url(#clip042)\" cx=\"1496.69\" cy=\"1360.86\" r=\"14.4\" fill=\"#e26f46\" fill-rule=\"evenodd\" fill-opacity=\"1\" stroke=\"#000000\" stroke-opacity=\"1\" stroke-width=\"3.2\"/>\n",
       "<circle clip-path=\"url(#clip042)\" cx=\"1549.53\" cy=\"1323.52\" r=\"14.4\" fill=\"#e26f46\" fill-rule=\"evenodd\" fill-opacity=\"1\" stroke=\"#000000\" stroke-opacity=\"1\" stroke-width=\"3.2\"/>\n",
       "<circle clip-path=\"url(#clip042)\" cx=\"1602.37\" cy=\"1279.39\" r=\"14.4\" fill=\"#e26f46\" fill-rule=\"evenodd\" fill-opacity=\"1\" stroke=\"#000000\" stroke-opacity=\"1\" stroke-width=\"3.2\"/>\n",
       "<circle clip-path=\"url(#clip042)\" cx=\"1655.22\" cy=\"1228.48\" r=\"14.4\" fill=\"#e26f46\" fill-rule=\"evenodd\" fill-opacity=\"1\" stroke=\"#000000\" stroke-opacity=\"1\" stroke-width=\"3.2\"/>\n",
       "<circle clip-path=\"url(#clip042)\" cx=\"1708.06\" cy=\"1170.77\" r=\"14.4\" fill=\"#e26f46\" fill-rule=\"evenodd\" fill-opacity=\"1\" stroke=\"#000000\" stroke-opacity=\"1\" stroke-width=\"3.2\"/>\n",
       "<circle clip-path=\"url(#clip042)\" cx=\"1760.9\" cy=\"1106.28\" r=\"14.4\" fill=\"#e26f46\" fill-rule=\"evenodd\" fill-opacity=\"1\" stroke=\"#000000\" stroke-opacity=\"1\" stroke-width=\"3.2\"/>\n",
       "<circle clip-path=\"url(#clip042)\" cx=\"1813.75\" cy=\"1035\" r=\"14.4\" fill=\"#e26f46\" fill-rule=\"evenodd\" fill-opacity=\"1\" stroke=\"#000000\" stroke-opacity=\"1\" stroke-width=\"3.2\"/>\n",
       "<circle clip-path=\"url(#clip042)\" cx=\"1866.59\" cy=\"956.93\" r=\"14.4\" fill=\"#e26f46\" fill-rule=\"evenodd\" fill-opacity=\"1\" stroke=\"#000000\" stroke-opacity=\"1\" stroke-width=\"3.2\"/>\n",
       "<circle clip-path=\"url(#clip042)\" cx=\"1919.44\" cy=\"872.071\" r=\"14.4\" fill=\"#e26f46\" fill-rule=\"evenodd\" fill-opacity=\"1\" stroke=\"#000000\" stroke-opacity=\"1\" stroke-width=\"3.2\"/>\n",
       "<circle clip-path=\"url(#clip042)\" cx=\"1972.28\" cy=\"780.423\" r=\"14.4\" fill=\"#e26f46\" fill-rule=\"evenodd\" fill-opacity=\"1\" stroke=\"#000000\" stroke-opacity=\"1\" stroke-width=\"3.2\"/>\n",
       "<circle clip-path=\"url(#clip042)\" cx=\"2025.12\" cy=\"681.987\" r=\"14.4\" fill=\"#e26f46\" fill-rule=\"evenodd\" fill-opacity=\"1\" stroke=\"#000000\" stroke-opacity=\"1\" stroke-width=\"3.2\"/>\n",
       "<circle clip-path=\"url(#clip042)\" cx=\"2077.97\" cy=\"576.762\" r=\"14.4\" fill=\"#e26f46\" fill-rule=\"evenodd\" fill-opacity=\"1\" stroke=\"#000000\" stroke-opacity=\"1\" stroke-width=\"3.2\"/>\n",
       "<circle clip-path=\"url(#clip042)\" cx=\"2130.81\" cy=\"464.749\" r=\"14.4\" fill=\"#e26f46\" fill-rule=\"evenodd\" fill-opacity=\"1\" stroke=\"#000000\" stroke-opacity=\"1\" stroke-width=\"3.2\"/>\n",
       "<circle clip-path=\"url(#clip042)\" cx=\"2183.66\" cy=\"345.947\" r=\"14.4\" fill=\"#e26f46\" fill-rule=\"evenodd\" fill-opacity=\"1\" stroke=\"#000000\" stroke-opacity=\"1\" stroke-width=\"3.2\"/>\n",
       "<circle clip-path=\"url(#clip042)\" cx=\"2236.5\" cy=\"220.356\" r=\"14.4\" fill=\"#e26f46\" fill-rule=\"evenodd\" fill-opacity=\"1\" stroke=\"#000000\" stroke-opacity=\"1\" stroke-width=\"3.2\"/>\n",
       "<circle clip-path=\"url(#clip042)\" cx=\"2289.34\" cy=\"87.9763\" r=\"14.4\" fill=\"#e26f46\" fill-rule=\"evenodd\" fill-opacity=\"1\" stroke=\"#000000\" stroke-opacity=\"1\" stroke-width=\"3.2\"/>\n",
       "<path clip-path=\"url(#clip040)\" d=\"\n",
       "M1929.26 250.738 L2278.07 250.738 L2278.07 95.2176 L1929.26 95.2176  Z\n",
       "  \" fill=\"#ffffff\" fill-rule=\"evenodd\" fill-opacity=\"1\"/>\n",
       "<polyline clip-path=\"url(#clip040)\" style=\"stroke:#000000; stroke-linecap:round; stroke-linejoin:round; stroke-width:4; stroke-opacity:1; fill:none\" points=\"\n",
       "  1929.26,250.738 2278.07,250.738 2278.07,95.2176 1929.26,95.2176 1929.26,250.738 \n",
       "  \"/>\n",
       "<polyline clip-path=\"url(#clip040)\" style=\"stroke:#009af9; stroke-linecap:round; stroke-linejoin:round; stroke-width:4; stroke-opacity:1; fill:none\" points=\"\n",
       "  1954.15,147.058 2103.52,147.058 \n",
       "  \"/>\n",
       "<path clip-path=\"url(#clip040)\" d=\"M2128.42 128.319 L2132.68 128.319 L2132.68 164.338 L2128.42 164.338 L2128.42 128.319 Z\" fill=\"#000000\" fill-rule=\"evenodd\" fill-opacity=\"1\" /><path clip-path=\"url(#clip040)\" d=\"M2141.59 138.412 L2145.85 138.412 L2145.85 164.338 L2141.59 164.338 L2141.59 138.412 M2141.59 128.319 L2145.85 128.319 L2145.85 133.713 L2141.59 133.713 L2141.59 128.319 Z\" fill=\"#000000\" fill-rule=\"evenodd\" fill-opacity=\"1\" /><path clip-path=\"url(#clip040)\" d=\"M2176.31 148.689 L2176.31 164.338 L2172.05 164.338 L2172.05 148.828 Q2172.05 145.148 2170.62 143.319 Q2169.18 141.49 2166.31 141.49 Q2162.86 141.49 2160.87 143.69 Q2158.88 145.889 2158.88 149.685 L2158.88 164.338 L2154.6 164.338 L2154.6 138.412 L2158.88 138.412 L2158.88 142.44 Q2160.41 140.102 2162.47 138.944 Q2164.55 137.787 2167.26 137.787 Q2171.73 137.787 2174.02 140.565 Q2176.31 143.319 2176.31 148.689 Z\" fill=\"#000000\" fill-rule=\"evenodd\" fill-opacity=\"1\" /><path clip-path=\"url(#clip040)\" d=\"M2206.98 150.31 L2206.98 152.393 L2187.4 152.393 Q2187.68 156.791 2190.04 159.106 Q2192.42 161.398 2196.66 161.398 Q2199.11 161.398 2201.4 160.796 Q2203.72 160.194 2205.99 158.99 L2205.99 163.018 Q2203.7 163.99 2201.29 164.5 Q2198.88 165.009 2196.4 165.009 Q2190.2 165.009 2186.57 161.398 Q2182.96 157.787 2182.96 151.629 Q2182.96 145.264 2186.38 141.537 Q2189.83 137.787 2195.66 137.787 Q2200.9 137.787 2203.93 141.166 Q2206.98 144.523 2206.98 150.31 M2202.72 149.06 Q2202.68 145.565 2200.76 143.481 Q2198.86 141.398 2195.71 141.398 Q2192.15 141.398 2189.99 143.412 Q2187.86 145.426 2187.54 149.083 L2202.72 149.06 Z\" fill=\"#000000\" fill-rule=\"evenodd\" fill-opacity=\"1\" /><circle clip-path=\"url(#clip040)\" cx=\"2028.84\" cy=\"198.898\" r=\"23.04\" fill=\"#e26f46\" fill-rule=\"evenodd\" fill-opacity=\"1\" stroke=\"#000000\" stroke-opacity=\"1\" stroke-width=\"5.12\"/>\n",
       "<path clip-path=\"url(#clip040)\" d=\"M2147.33 194.187 L2147.33 180.159 L2151.59 180.159 L2151.59 216.178 L2147.33 216.178 L2147.33 212.289 Q2145.99 214.603 2143.93 215.738 Q2141.89 216.849 2139.02 216.849 Q2134.32 216.849 2131.36 213.099 Q2128.42 209.349 2128.42 203.238 Q2128.42 197.127 2131.36 193.377 Q2134.32 189.627 2139.02 189.627 Q2141.89 189.627 2143.93 190.761 Q2145.99 191.872 2147.33 194.187 M2132.82 203.238 Q2132.82 207.937 2134.74 210.622 Q2136.68 213.284 2140.06 213.284 Q2143.44 213.284 2145.39 210.622 Q2147.33 207.937 2147.33 203.238 Q2147.33 198.539 2145.39 195.877 Q2143.44 193.192 2140.06 193.192 Q2136.68 193.192 2134.74 195.877 Q2132.82 198.539 2132.82 203.238 Z\" fill=\"#000000\" fill-rule=\"evenodd\" fill-opacity=\"1\" /><path clip-path=\"url(#clip040)\" d=\"M2172.15 203.145 Q2166.98 203.145 2164.99 204.326 Q2163 205.506 2163 208.354 Q2163 210.622 2164.48 211.965 Q2165.99 213.284 2168.56 213.284 Q2172.1 213.284 2174.23 210.784 Q2176.38 208.261 2176.38 204.094 L2176.38 203.145 L2172.15 203.145 M2180.64 201.386 L2180.64 216.178 L2176.38 216.178 L2176.38 212.242 Q2174.92 214.603 2172.75 215.738 Q2170.57 216.849 2167.42 216.849 Q2163.44 216.849 2161.08 214.627 Q2158.74 212.381 2158.74 208.631 Q2158.74 204.256 2161.66 202.034 Q2164.6 199.812 2170.41 199.812 L2176.38 199.812 L2176.38 199.395 Q2176.38 196.455 2174.44 194.858 Q2172.52 193.238 2169.02 193.238 Q2166.8 193.238 2164.69 193.77 Q2162.59 194.303 2160.64 195.367 L2160.64 191.432 Q2162.98 190.53 2165.18 190.09 Q2167.38 189.627 2169.46 189.627 Q2175.09 189.627 2177.86 192.543 Q2180.64 195.46 2180.64 201.386 Z\" fill=\"#000000\" fill-rule=\"evenodd\" fill-opacity=\"1\" /><path clip-path=\"url(#clip040)\" d=\"M2193.63 182.891 L2193.63 190.252 L2202.4 190.252 L2202.4 193.562 L2193.63 193.562 L2193.63 207.636 Q2193.63 210.807 2194.48 211.71 Q2195.36 212.613 2198.02 212.613 L2202.4 212.613 L2202.4 216.178 L2198.02 216.178 Q2193.09 216.178 2191.22 214.349 Q2189.34 212.497 2189.34 207.636 L2189.34 193.562 L2186.22 193.562 L2186.22 190.252 L2189.34 190.252 L2189.34 182.891 L2193.63 182.891 Z\" fill=\"#000000\" fill-rule=\"evenodd\" fill-opacity=\"1\" /><path clip-path=\"url(#clip040)\" d=\"M2219.78 203.145 Q2214.62 203.145 2212.63 204.326 Q2210.64 205.506 2210.64 208.354 Q2210.64 210.622 2212.12 211.965 Q2213.63 213.284 2216.2 213.284 Q2219.74 213.284 2221.87 210.784 Q2224.02 208.261 2224.02 204.094 L2224.02 203.145 L2219.78 203.145 M2228.28 201.386 L2228.28 216.178 L2224.02 216.178 L2224.02 212.242 Q2222.56 214.603 2220.39 215.738 Q2218.21 216.849 2215.06 216.849 Q2211.08 216.849 2208.72 214.627 Q2206.38 212.381 2206.38 208.631 Q2206.38 204.256 2209.3 202.034 Q2212.24 199.812 2218.05 199.812 L2224.02 199.812 L2224.02 199.395 Q2224.02 196.455 2222.08 194.858 Q2220.15 193.238 2216.66 193.238 Q2214.44 193.238 2212.33 193.77 Q2210.22 194.303 2208.28 195.367 L2208.28 191.432 Q2210.62 190.53 2212.82 190.09 Q2215.02 189.627 2217.1 189.627 Q2222.72 189.627 2225.5 192.543 Q2228.28 195.46 2228.28 201.386 Z\" fill=\"#000000\" fill-rule=\"evenodd\" fill-opacity=\"1\" /></svg>\n"
      ]
     },
     "execution_count": 65,
     "metadata": {},
     "output_type": "execute_result"
    }
   ],
   "source": [
    "plot(x,y,label=\"line\")\n",
    "scatter!(x,y,label=\"data\")"
   ]
  },
  {
   "cell_type": "markdown",
   "id": "d5ed86a2",
   "metadata": {},
   "source": [
    "#### Using *plotlyjs* backend"
   ]
  },
  {
   "cell_type": "code",
   "execution_count": 69,
   "id": "2b88a886",
   "metadata": {},
   "outputs": [],
   "source": [
    "#plotlyjs()"
   ]
  },
  {
   "cell_type": "code",
   "execution_count": null,
   "id": "840dab27",
   "metadata": {},
   "outputs": [],
   "source": [
    "#plot(x,y,label=\"line\")\n",
    "#scatter!(x,y,label=\"data\")"
   ]
  },
  {
   "cell_type": "markdown",
   "id": "42233e86",
   "metadata": {},
   "source": [
    "### Getting fancier plots\n",
    "\n",
    "Examine relationship between the global temperature and the number of pirates between roughly 1860 and 2000."
   ]
  },
  {
   "cell_type": "code",
   "execution_count": 70,
   "id": "cb90f09b",
   "metadata": {},
   "outputs": [
    {
     "data": {
      "text/plain": [
       "6-element Vector{Int64}:\n",
       " 45000\n",
       " 20000\n",
       " 15000\n",
       "  5000\n",
       "   400\n",
       "    17"
      ]
     },
     "execution_count": 70,
     "metadata": {},
     "output_type": "execute_result"
    }
   ],
   "source": [
    "globalTemp = [14, 14.5, 14.8, 15.2, 15.5, 15.8]\n",
    "numPirates = [45000, 20000, 15000, 5000, 400, 17]"
   ]
  },
  {
   "cell_type": "code",
   "execution_count": 71,
   "id": "108e0289",
   "metadata": {},
   "outputs": [
    {
     "data": {
      "image/svg+xml": [
       "<?xml version=\"1.0\" encoding=\"utf-8\"?>\n",
       "<svg xmlns=\"http://www.w3.org/2000/svg\" xmlns:xlink=\"http://www.w3.org/1999/xlink\" width=\"600\" height=\"400\" viewBox=\"0 0 2400 1600\">\n",
       "<defs>\n",
       "  <clipPath id=\"clip080\">\n",
       "    <rect x=\"0\" y=\"0\" width=\"2400\" height=\"1600\"/>\n",
       "  </clipPath>\n",
       "</defs>\n",
       "<path clip-path=\"url(#clip080)\" d=\"\n",
       "M0 1600 L2400 1600 L2400 0 L0 0  Z\n",
       "  \" fill=\"#ffffff\" fill-rule=\"evenodd\" fill-opacity=\"1\"/>\n",
       "<defs>\n",
       "  <clipPath id=\"clip081\">\n",
       "    <rect x=\"480\" y=\"0\" width=\"1681\" height=\"1600\"/>\n",
       "  </clipPath>\n",
       "</defs>\n",
       "<path clip-path=\"url(#clip080)\" d=\"\n",
       "M247.459 1410.9 L2352.76 1410.9 L2352.76 123.472 L247.459 123.472  Z\n",
       "  \" fill=\"#ffffff\" fill-rule=\"evenodd\" fill-opacity=\"1\"/>\n",
       "<defs>\n",
       "  <clipPath id=\"clip082\">\n",
       "    <rect x=\"247\" y=\"123\" width=\"2106\" height=\"1288\"/>\n",
       "  </clipPath>\n",
       "</defs>\n",
       "<polyline clip-path=\"url(#clip082)\" style=\"stroke:#000000; stroke-linecap:round; stroke-linejoin:round; stroke-width:2; stroke-opacity:0.1; fill:none\" points=\"\n",
       "  2293.92,1410.9 2293.92,123.472 \n",
       "  \"/>\n",
       "<polyline clip-path=\"url(#clip082)\" style=\"stroke:#000000; stroke-linecap:round; stroke-linejoin:round; stroke-width:2; stroke-opacity:0.1; fill:none\" points=\"\n",
       "  1852.39,1410.9 1852.39,123.472 \n",
       "  \"/>\n",
       "<polyline clip-path=\"url(#clip082)\" style=\"stroke:#000000; stroke-linecap:round; stroke-linejoin:round; stroke-width:2; stroke-opacity:0.1; fill:none\" points=\"\n",
       "  1410.86,1410.9 1410.86,123.472 \n",
       "  \"/>\n",
       "<polyline clip-path=\"url(#clip082)\" style=\"stroke:#000000; stroke-linecap:round; stroke-linejoin:round; stroke-width:2; stroke-opacity:0.1; fill:none\" points=\"\n",
       "  969.336,1410.9 969.336,123.472 \n",
       "  \"/>\n",
       "<polyline clip-path=\"url(#clip082)\" style=\"stroke:#000000; stroke-linecap:round; stroke-linejoin:round; stroke-width:2; stroke-opacity:0.1; fill:none\" points=\"\n",
       "  527.807,1410.9 527.807,123.472 \n",
       "  \"/>\n",
       "<polyline clip-path=\"url(#clip080)\" style=\"stroke:#000000; stroke-linecap:round; stroke-linejoin:round; stroke-width:4; stroke-opacity:1; fill:none\" points=\"\n",
       "  2352.76,1410.9 247.459,1410.9 \n",
       "  \"/>\n",
       "<polyline clip-path=\"url(#clip080)\" style=\"stroke:#000000; stroke-linecap:round; stroke-linejoin:round; stroke-width:4; stroke-opacity:1; fill:none\" points=\"\n",
       "  2293.92,1410.9 2293.92,1392 \n",
       "  \"/>\n",
       "<polyline clip-path=\"url(#clip080)\" style=\"stroke:#000000; stroke-linecap:round; stroke-linejoin:round; stroke-width:4; stroke-opacity:1; fill:none\" points=\"\n",
       "  1852.39,1410.9 1852.39,1392 \n",
       "  \"/>\n",
       "<polyline clip-path=\"url(#clip080)\" style=\"stroke:#000000; stroke-linecap:round; stroke-linejoin:round; stroke-width:4; stroke-opacity:1; fill:none\" points=\"\n",
       "  1410.86,1410.9 1410.86,1392 \n",
       "  \"/>\n",
       "<polyline clip-path=\"url(#clip080)\" style=\"stroke:#000000; stroke-linecap:round; stroke-linejoin:round; stroke-width:4; stroke-opacity:1; fill:none\" points=\"\n",
       "  969.336,1410.9 969.336,1392 \n",
       "  \"/>\n",
       "<polyline clip-path=\"url(#clip080)\" style=\"stroke:#000000; stroke-linecap:round; stroke-linejoin:round; stroke-width:4; stroke-opacity:1; fill:none\" points=\"\n",
       "  527.807,1410.9 527.807,1392 \n",
       "  \"/>\n",
       "<path clip-path=\"url(#clip080)\" d=\"M2293.92 1441.82 Q2290.31 1441.82 2288.48 1445.38 Q2286.68 1448.92 2286.68 1456.05 Q2286.68 1463.16 2288.48 1466.72 Q2290.31 1470.26 2293.92 1470.26 Q2297.56 1470.26 2299.36 1466.72 Q2301.19 1463.16 2301.19 1456.05 Q2301.19 1448.92 2299.36 1445.38 Q2297.56 1441.82 2293.92 1441.82 M2293.92 1438.11 Q2299.73 1438.11 2302.79 1442.72 Q2305.87 1447.3 2305.87 1456.05 Q2305.87 1464.78 2302.79 1469.38 Q2299.73 1473.97 2293.92 1473.97 Q2288.11 1473.97 2285.03 1469.38 Q2281.98 1464.78 2281.98 1456.05 Q2281.98 1447.3 2285.03 1442.72 Q2288.11 1438.11 2293.92 1438.11 Z\" fill=\"#000000\" fill-rule=\"evenodd\" fill-opacity=\"1\" /><path clip-path=\"url(#clip080)\" d=\"M1759.29 1485.02 L1766.93 1485.02 L1766.93 1458.66 L1758.62 1460.32 L1758.62 1456.06 L1766.88 1454.4 L1771.56 1454.4 L1771.56 1485.02 L1779.2 1485.02 L1779.2 1488.96 L1759.29 1488.96 L1759.29 1485.02 Z\" fill=\"#000000\" fill-rule=\"evenodd\" fill-opacity=\"1\" /><path clip-path=\"url(#clip080)\" d=\"M1788.64 1483.08 L1793.53 1483.08 L1793.53 1488.96 L1788.64 1488.96 L1788.64 1483.08 Z\" fill=\"#000000\" fill-rule=\"evenodd\" fill-opacity=\"1\" /><path clip-path=\"url(#clip080)\" d=\"M1813.71 1457.48 Q1810.1 1457.48 1808.27 1461.04 Q1806.47 1464.58 1806.47 1471.71 Q1806.47 1478.82 1808.27 1482.38 Q1810.1 1485.92 1813.71 1485.92 Q1817.35 1485.92 1819.15 1482.38 Q1820.98 1478.82 1820.98 1471.71 Q1820.98 1464.58 1819.15 1461.04 Q1817.35 1457.48 1813.71 1457.48 M1813.71 1453.77 Q1819.52 1453.77 1822.58 1458.38 Q1825.66 1462.96 1825.66 1471.71 Q1825.66 1480.44 1822.58 1485.04 Q1819.52 1489.63 1813.71 1489.63 Q1807.9 1489.63 1804.82 1485.04 Q1801.77 1480.44 1801.77 1471.71 Q1801.77 1462.96 1804.82 1458.38 Q1807.9 1453.77 1813.71 1453.77 Z\" fill=\"#000000\" fill-rule=\"evenodd\" fill-opacity=\"1\" /><path clip-path=\"url(#clip080)\" d=\"M1862.05 1463.49 L1851.47 1474.12 L1862.05 1484.7 L1859.29 1487.5 L1848.67 1476.87 L1838.04 1487.5 L1835.31 1484.7 L1845.87 1474.12 L1835.31 1463.49 L1838.04 1460.69 L1848.67 1471.32 L1859.29 1460.69 L1862.05 1463.49 Z\" fill=\"#000000\" fill-rule=\"evenodd\" fill-opacity=\"1\" /><path clip-path=\"url(#clip080)\" d=\"M1874.41 1485.02 L1882.05 1485.02 L1882.05 1458.66 L1873.74 1460.32 L1873.74 1456.06 L1882 1454.4 L1886.68 1454.4 L1886.68 1485.02 L1894.31 1485.02 L1894.31 1488.96 L1874.41 1488.96 L1874.41 1485.02 Z\" fill=\"#000000\" fill-rule=\"evenodd\" fill-opacity=\"1\" /><path clip-path=\"url(#clip080)\" d=\"M1913.76 1457.48 Q1910.15 1457.48 1908.32 1461.04 Q1906.51 1464.58 1906.51 1471.71 Q1906.51 1478.82 1908.32 1482.38 Q1910.15 1485.92 1913.76 1485.92 Q1917.39 1485.92 1919.2 1482.38 Q1921.03 1478.82 1921.03 1471.71 Q1921.03 1464.58 1919.2 1461.04 Q1917.39 1457.48 1913.76 1457.48 M1913.76 1453.77 Q1919.57 1453.77 1922.62 1458.38 Q1925.7 1462.96 1925.7 1471.71 Q1925.7 1480.44 1922.62 1485.04 Q1919.57 1489.63 1913.76 1489.63 Q1907.95 1489.63 1904.87 1485.04 Q1901.81 1480.44 1901.81 1471.71 Q1901.81 1462.96 1904.87 1458.38 Q1907.95 1453.77 1913.76 1453.77 Z\" fill=\"#000000\" fill-rule=\"evenodd\" fill-opacity=\"1\" /><path clip-path=\"url(#clip080)\" d=\"M1938.38 1436.78 L1928.79 1451.77 L1938.38 1451.77 L1938.38 1436.78 M1937.38 1433.47 L1942.16 1433.47 L1942.16 1451.77 L1946.17 1451.77 L1946.17 1454.93 L1942.16 1454.93 L1942.16 1461.55 L1938.38 1461.55 L1938.38 1454.93 L1925.7 1454.93 L1925.7 1451.26 L1937.38 1433.47 Z\" fill=\"#000000\" fill-rule=\"evenodd\" fill-opacity=\"1\" /><path clip-path=\"url(#clip080)\" d=\"M1321.85 1485.02 L1338.17 1485.02 L1338.17 1488.96 L1316.22 1488.96 L1316.22 1485.02 Q1318.89 1482.27 1323.47 1477.64 Q1328.08 1472.98 1329.26 1471.64 Q1331.5 1469.12 1332.38 1467.38 Q1333.28 1465.62 1333.28 1463.93 Q1333.28 1461.18 1331.34 1459.44 Q1329.42 1457.71 1326.32 1457.71 Q1324.12 1457.71 1321.66 1458.47 Q1319.23 1459.23 1316.46 1460.79 L1316.46 1456.06 Q1319.28 1454.93 1321.73 1454.35 Q1324.19 1453.77 1326.22 1453.77 Q1331.59 1453.77 1334.79 1456.46 Q1337.98 1459.14 1337.98 1463.63 Q1337.98 1465.76 1337.17 1467.68 Q1336.39 1469.58 1334.28 1472.17 Q1333.7 1472.85 1330.6 1476.06 Q1327.5 1479.26 1321.85 1485.02 Z\" fill=\"#000000\" fill-rule=\"evenodd\" fill-opacity=\"1\" /><path clip-path=\"url(#clip080)\" d=\"M1347.98 1483.08 L1352.87 1483.08 L1352.87 1488.96 L1347.98 1488.96 L1347.98 1483.08 Z\" fill=\"#000000\" fill-rule=\"evenodd\" fill-opacity=\"1\" /><path clip-path=\"url(#clip080)\" d=\"M1373.05 1457.48 Q1369.44 1457.48 1367.61 1461.04 Q1365.81 1464.58 1365.81 1471.71 Q1365.81 1478.82 1367.61 1482.38 Q1369.44 1485.92 1373.05 1485.92 Q1376.69 1485.92 1378.49 1482.38 Q1380.32 1478.82 1380.32 1471.71 Q1380.32 1464.58 1378.49 1461.04 Q1376.69 1457.48 1373.05 1457.48 M1373.05 1453.77 Q1378.86 1453.77 1381.92 1458.38 Q1385 1462.96 1385 1471.71 Q1385 1480.44 1381.92 1485.04 Q1378.86 1489.63 1373.05 1489.63 Q1367.24 1489.63 1364.16 1485.04 Q1361.11 1480.44 1361.11 1471.71 Q1361.11 1462.96 1364.16 1458.38 Q1367.24 1453.77 1373.05 1453.77 Z\" fill=\"#000000\" fill-rule=\"evenodd\" fill-opacity=\"1\" /><path clip-path=\"url(#clip080)\" d=\"M1421.39 1463.49 L1410.81 1474.12 L1421.39 1484.7 L1418.63 1487.5 L1408.01 1476.87 L1397.38 1487.5 L1394.65 1484.7 L1405.21 1474.12 L1394.65 1463.49 L1397.38 1460.69 L1408.01 1471.32 L1418.63 1460.69 L1421.39 1463.49 Z\" fill=\"#000000\" fill-rule=\"evenodd\" fill-opacity=\"1\" /><path clip-path=\"url(#clip080)\" d=\"M1433.75 1485.02 L1441.39 1485.02 L1441.39 1458.66 L1433.08 1460.32 L1433.08 1456.06 L1441.34 1454.4 L1446.02 1454.4 L1446.02 1485.02 L1453.65 1485.02 L1453.65 1488.96 L1433.75 1488.96 L1433.75 1485.02 Z\" fill=\"#000000\" fill-rule=\"evenodd\" fill-opacity=\"1\" /><path clip-path=\"url(#clip080)\" d=\"M1473.1 1457.48 Q1469.49 1457.48 1467.66 1461.04 Q1465.85 1464.58 1465.85 1471.71 Q1465.85 1478.82 1467.66 1482.38 Q1469.49 1485.92 1473.1 1485.92 Q1476.73 1485.92 1478.54 1482.38 Q1480.37 1478.82 1480.37 1471.71 Q1480.37 1464.58 1478.54 1461.04 Q1476.73 1457.48 1473.1 1457.48 M1473.1 1453.77 Q1478.91 1453.77 1481.96 1458.38 Q1485.04 1462.96 1485.04 1471.71 Q1485.04 1480.44 1481.96 1485.04 Q1478.91 1489.63 1473.1 1489.63 Q1467.29 1489.63 1464.21 1485.04 Q1461.15 1480.44 1461.15 1471.71 Q1461.15 1462.96 1464.21 1458.38 Q1467.29 1453.77 1473.1 1453.77 Z\" fill=\"#000000\" fill-rule=\"evenodd\" fill-opacity=\"1\" /><path clip-path=\"url(#clip080)\" d=\"M1497.72 1436.78 L1488.13 1451.77 L1497.72 1451.77 L1497.72 1436.78 M1496.72 1433.47 L1501.5 1433.47 L1501.5 1451.77 L1505.51 1451.77 L1505.51 1454.93 L1501.5 1454.93 L1501.5 1461.55 L1497.72 1461.55 L1497.72 1454.93 L1485.04 1454.93 L1485.04 1451.26 L1496.72 1433.47 Z\" fill=\"#000000\" fill-rule=\"evenodd\" fill-opacity=\"1\" /><path clip-path=\"url(#clip080)\" d=\"M890.39 1470.32 Q893.746 1471.04 895.621 1473.31 Q897.519 1475.58 897.519 1478.91 Q897.519 1484.03 894.001 1486.83 Q890.482 1489.63 884.001 1489.63 Q881.825 1489.63 879.51 1489.19 Q877.218 1488.77 874.765 1487.91 L874.765 1483.4 Q876.709 1484.54 879.024 1485.11 Q881.339 1485.69 883.862 1485.69 Q888.26 1485.69 890.552 1483.96 Q892.866 1482.22 892.866 1478.91 Q892.866 1475.85 890.714 1474.14 Q888.584 1472.41 884.765 1472.41 L880.737 1472.41 L880.737 1468.56 L884.95 1468.56 Q888.399 1468.56 890.228 1467.2 Q892.056 1465.81 892.056 1463.22 Q892.056 1460.55 890.158 1459.14 Q888.283 1457.71 884.765 1457.71 Q882.843 1457.71 880.644 1458.12 Q878.445 1458.54 875.806 1459.42 L875.806 1455.25 Q878.468 1454.51 880.783 1454.14 Q883.121 1453.77 885.181 1453.77 Q890.505 1453.77 893.607 1456.2 Q896.709 1458.61 896.709 1462.73 Q896.709 1465.6 895.066 1467.59 Q893.422 1469.56 890.39 1470.32 Z\" fill=\"#000000\" fill-rule=\"evenodd\" fill-opacity=\"1\" /><path clip-path=\"url(#clip080)\" d=\"M906.385 1483.08 L911.269 1483.08 L911.269 1488.96 L906.385 1488.96 L906.385 1483.08 Z\" fill=\"#000000\" fill-rule=\"evenodd\" fill-opacity=\"1\" /><path clip-path=\"url(#clip080)\" d=\"M931.454 1457.48 Q927.843 1457.48 926.014 1461.04 Q924.209 1464.58 924.209 1471.71 Q924.209 1478.82 926.014 1482.38 Q927.843 1485.92 931.454 1485.92 Q935.088 1485.92 936.894 1482.38 Q938.723 1478.82 938.723 1471.71 Q938.723 1464.58 936.894 1461.04 Q935.088 1457.48 931.454 1457.48 M931.454 1453.77 Q937.264 1453.77 940.32 1458.38 Q943.399 1462.96 943.399 1471.71 Q943.399 1480.44 940.32 1485.04 Q937.264 1489.63 931.454 1489.63 Q925.644 1489.63 922.565 1485.04 Q919.51 1480.44 919.51 1471.71 Q919.51 1462.96 922.565 1458.38 Q925.644 1453.77 931.454 1453.77 Z\" fill=\"#000000\" fill-rule=\"evenodd\" fill-opacity=\"1\" /><path clip-path=\"url(#clip080)\" d=\"M979.787 1463.49 L969.209 1474.12 L979.787 1484.7 L977.033 1487.5 L966.408 1476.87 L955.783 1487.5 L953.051 1484.7 L963.607 1474.12 L953.051 1463.49 L955.783 1460.69 L966.408 1471.32 L977.033 1460.69 L979.787 1463.49 Z\" fill=\"#000000\" fill-rule=\"evenodd\" fill-opacity=\"1\" /><path clip-path=\"url(#clip080)\" d=\"M992.148 1485.02 L999.787 1485.02 L999.787 1458.66 L991.477 1460.32 L991.477 1456.06 L999.741 1454.4 L1004.42 1454.4 L1004.42 1485.02 L1012.06 1485.02 L1012.06 1488.96 L992.148 1488.96 L992.148 1485.02 Z\" fill=\"#000000\" fill-rule=\"evenodd\" fill-opacity=\"1\" /><path clip-path=\"url(#clip080)\" d=\"M1031.5 1457.48 Q1027.89 1457.48 1026.06 1461.04 Q1024.25 1464.58 1024.25 1471.71 Q1024.25 1478.82 1026.06 1482.38 Q1027.89 1485.92 1031.5 1485.92 Q1035.13 1485.92 1036.94 1482.38 Q1038.77 1478.82 1038.77 1471.71 Q1038.77 1464.58 1036.94 1461.04 Q1035.13 1457.48 1031.5 1457.48 M1031.5 1453.77 Q1037.31 1453.77 1040.37 1458.38 Q1043.44 1462.96 1043.44 1471.71 Q1043.44 1480.44 1040.37 1485.04 Q1037.31 1489.63 1031.5 1489.63 Q1025.69 1489.63 1022.61 1485.04 Q1019.56 1480.44 1019.56 1471.71 Q1019.56 1462.96 1022.61 1458.38 Q1025.69 1453.77 1031.5 1453.77 Z\" fill=\"#000000\" fill-rule=\"evenodd\" fill-opacity=\"1\" /><path clip-path=\"url(#clip080)\" d=\"M1056.12 1436.78 L1046.53 1451.77 L1056.12 1451.77 L1056.12 1436.78 M1055.12 1433.47 L1059.9 1433.47 L1059.9 1451.77 L1063.91 1451.77 L1063.91 1454.93 L1059.9 1454.93 L1059.9 1461.55 L1056.12 1461.55 L1056.12 1454.93 L1043.44 1454.93 L1043.44 1451.26 L1055.12 1433.47 Z\" fill=\"#000000\" fill-rule=\"evenodd\" fill-opacity=\"1\" /><path clip-path=\"url(#clip080)\" d=\"M448.189 1458.47 L436.384 1476.92 L448.189 1476.92 L448.189 1458.47 M446.963 1454.4 L452.842 1454.4 L452.842 1476.92 L457.773 1476.92 L457.773 1480.81 L452.842 1480.81 L452.842 1488.96 L448.189 1488.96 L448.189 1480.81 L432.588 1480.81 L432.588 1476.29 L446.963 1454.4 Z\" fill=\"#000000\" fill-rule=\"evenodd\" fill-opacity=\"1\" /><path clip-path=\"url(#clip080)\" d=\"M465.504 1483.08 L470.388 1483.08 L470.388 1488.96 L465.504 1488.96 L465.504 1483.08 Z\" fill=\"#000000\" fill-rule=\"evenodd\" fill-opacity=\"1\" /><path clip-path=\"url(#clip080)\" d=\"M490.573 1457.48 Q486.962 1457.48 485.134 1461.04 Q483.328 1464.58 483.328 1471.71 Q483.328 1478.82 485.134 1482.38 Q486.962 1485.92 490.573 1485.92 Q494.208 1485.92 496.013 1482.38 Q497.842 1478.82 497.842 1471.71 Q497.842 1464.58 496.013 1461.04 Q494.208 1457.48 490.573 1457.48 M490.573 1453.77 Q496.384 1453.77 499.439 1458.38 Q502.518 1462.96 502.518 1471.71 Q502.518 1480.44 499.439 1485.04 Q496.384 1489.63 490.573 1489.63 Q484.763 1489.63 481.685 1485.04 Q478.629 1480.44 478.629 1471.71 Q478.629 1462.96 481.685 1458.38 Q484.763 1453.77 490.573 1453.77 Z\" fill=\"#000000\" fill-rule=\"evenodd\" fill-opacity=\"1\" /><path clip-path=\"url(#clip080)\" d=\"M538.907 1463.49 L528.328 1474.12 L538.907 1484.7 L536.152 1487.5 L525.527 1476.87 L514.902 1487.5 L512.171 1484.7 L522.726 1474.12 L512.171 1463.49 L514.902 1460.69 L525.527 1471.32 L536.152 1460.69 L538.907 1463.49 Z\" fill=\"#000000\" fill-rule=\"evenodd\" fill-opacity=\"1\" /><path clip-path=\"url(#clip080)\" d=\"M551.268 1485.02 L558.906 1485.02 L558.906 1458.66 L550.596 1460.32 L550.596 1456.06 L558.86 1454.4 L563.536 1454.4 L563.536 1485.02 L571.175 1485.02 L571.175 1488.96 L551.268 1488.96 L551.268 1485.02 Z\" fill=\"#000000\" fill-rule=\"evenodd\" fill-opacity=\"1\" /><path clip-path=\"url(#clip080)\" d=\"M590.619 1457.48 Q587.008 1457.48 585.179 1461.04 Q583.374 1464.58 583.374 1471.71 Q583.374 1478.82 585.179 1482.38 Q587.008 1485.92 590.619 1485.92 Q594.253 1485.92 596.059 1482.38 Q597.888 1478.82 597.888 1471.71 Q597.888 1464.58 596.059 1461.04 Q594.253 1457.48 590.619 1457.48 M590.619 1453.77 Q596.429 1453.77 599.485 1458.38 Q602.564 1462.96 602.564 1471.71 Q602.564 1480.44 599.485 1485.04 Q596.429 1489.63 590.619 1489.63 Q584.809 1489.63 581.73 1485.04 Q578.675 1480.44 578.675 1471.71 Q578.675 1462.96 581.73 1458.38 Q584.809 1453.77 590.619 1453.77 Z\" fill=\"#000000\" fill-rule=\"evenodd\" fill-opacity=\"1\" /><path clip-path=\"url(#clip080)\" d=\"M615.24 1436.78 L605.648 1451.77 L615.24 1451.77 L615.24 1436.78 M614.243 1433.47 L619.02 1433.47 L619.02 1451.77 L623.026 1451.77 L623.026 1454.93 L619.02 1454.93 L619.02 1461.55 L615.24 1461.55 L615.24 1454.93 L602.564 1454.93 L602.564 1451.26 L614.243 1433.47 Z\" fill=\"#000000\" fill-rule=\"evenodd\" fill-opacity=\"1\" /><path clip-path=\"url(#clip080)\" d=\"M767.886 1526.67 L776.544 1526.67 L797.614 1566.42 L797.614 1526.67 L803.853 1526.67 L803.853 1574.19 L795.195 1574.19 L774.125 1534.43 L774.125 1574.19 L767.886 1574.19 L767.886 1526.67 Z\" fill=\"#000000\" fill-rule=\"evenodd\" fill-opacity=\"1\" /><path clip-path=\"url(#clip080)\" d=\"M815.788 1560.12 L815.788 1538.54 L821.645 1538.54 L821.645 1559.89 Q821.645 1564.96 823.618 1567.5 Q825.592 1570.02 829.538 1570.02 Q834.281 1570.02 837.018 1566.99 Q839.787 1563.97 839.787 1558.75 L839.787 1538.54 L845.644 1538.54 L845.644 1574.19 L839.787 1574.19 L839.787 1568.71 Q837.655 1571.96 834.822 1573.55 Q832.021 1575.11 828.297 1575.11 Q822.154 1575.11 818.971 1571.29 Q815.788 1567.47 815.788 1560.12 M830.525 1537.68 L830.525 1537.68 Z\" fill=\"#000000\" fill-rule=\"evenodd\" fill-opacity=\"1\" /><path clip-path=\"url(#clip080)\" d=\"M885.461 1545.38 Q887.657 1541.43 890.713 1539.56 Q893.768 1537.68 897.906 1537.68 Q903.476 1537.68 906.5 1541.59 Q909.523 1545.48 909.523 1552.67 L909.523 1574.19 L903.635 1574.19 L903.635 1552.86 Q903.635 1547.74 901.821 1545.25 Q900.007 1542.77 896.283 1542.77 Q891.731 1542.77 889.09 1545.79 Q886.448 1548.82 886.448 1554.04 L886.448 1574.19 L880.559 1574.19 L880.559 1552.86 Q880.559 1547.7 878.745 1545.25 Q876.931 1542.77 873.143 1542.77 Q868.656 1542.77 866.014 1545.83 Q863.372 1548.85 863.372 1554.04 L863.372 1574.19 L857.484 1574.19 L857.484 1538.54 L863.372 1538.54 L863.372 1544.08 Q865.377 1540.8 868.178 1539.24 Q870.979 1537.68 874.83 1537.68 Q878.713 1537.68 881.419 1539.65 Q884.156 1541.62 885.461 1545.38 Z\" fill=\"#000000\" fill-rule=\"evenodd\" fill-opacity=\"1\" /><path clip-path=\"url(#clip080)\" d=\"M946.795 1556.39 Q946.795 1549.93 944.121 1546.27 Q941.479 1542.58 936.832 1542.58 Q932.185 1542.58 929.512 1546.27 Q926.87 1549.93 926.87 1556.39 Q926.87 1562.85 929.512 1566.55 Q932.185 1570.21 936.832 1570.21 Q941.479 1570.21 944.121 1566.55 Q946.795 1562.85 946.795 1556.39 M926.87 1543.95 Q928.716 1540.77 931.517 1539.24 Q934.35 1537.68 938.265 1537.68 Q944.758 1537.68 948.8 1542.83 Q952.874 1547.99 952.874 1556.39 Q952.874 1564.8 948.8 1569.95 Q944.758 1575.11 938.265 1575.11 Q934.35 1575.11 931.517 1573.58 Q928.716 1572.02 926.87 1568.84 L926.87 1574.19 L920.982 1574.19 L920.982 1524.66 L926.87 1524.66 L926.87 1543.95 Z\" fill=\"#000000\" fill-rule=\"evenodd\" fill-opacity=\"1\" /><path clip-path=\"url(#clip080)\" d=\"M993.073 1554.9 L993.073 1557.76 L966.146 1557.76 Q966.528 1563.81 969.775 1566.99 Q973.053 1570.14 978.878 1570.14 Q982.252 1570.14 985.403 1569.32 Q988.586 1568.49 991.705 1566.83 L991.705 1572.37 Q988.554 1573.71 985.244 1574.41 Q981.933 1575.11 978.528 1575.11 Q969.998 1575.11 965.001 1570.14 Q960.035 1565.18 960.035 1556.71 Q960.035 1547.96 964.746 1542.83 Q969.488 1537.68 977.509 1537.68 Q984.702 1537.68 988.872 1542.33 Q993.073 1546.94 993.073 1554.9 M987.217 1553.18 Q987.153 1548.37 984.511 1545.51 Q981.902 1542.64 977.573 1542.64 Q972.671 1542.64 969.711 1545.41 Q966.783 1548.18 966.337 1553.21 L987.217 1553.18 Z\" fill=\"#000000\" fill-rule=\"evenodd\" fill-opacity=\"1\" /><path clip-path=\"url(#clip080)\" d=\"M1023.34 1544.01 Q1022.36 1543.44 1021.18 1543.18 Q1020.03 1542.9 1018.63 1542.9 Q1013.67 1542.9 1010.99 1546.14 Q1008.35 1549.36 1008.35 1555.41 L1008.35 1574.19 L1002.46 1574.19 L1002.46 1538.54 L1008.35 1538.54 L1008.35 1544.08 Q1010.2 1540.83 1013.16 1539.27 Q1016.12 1537.68 1020.35 1537.68 Q1020.96 1537.68 1021.69 1537.77 Q1022.42 1537.84 1023.31 1538 L1023.34 1544.01 Z\" fill=\"#000000\" fill-rule=\"evenodd\" fill-opacity=\"1\" /><path clip-path=\"url(#clip080)\" d=\"M1064.02 1542.64 Q1059.31 1542.64 1056.57 1546.34 Q1053.83 1550 1053.83 1556.39 Q1053.83 1562.79 1056.54 1566.48 Q1059.28 1570.14 1064.02 1570.14 Q1068.7 1570.14 1071.44 1566.45 Q1074.17 1562.76 1074.17 1556.39 Q1074.17 1550.06 1071.44 1546.37 Q1068.7 1542.64 1064.02 1542.64 M1064.02 1537.68 Q1071.66 1537.68 1076.02 1542.64 Q1080.38 1547.61 1080.38 1556.39 Q1080.38 1565.15 1076.02 1570.14 Q1071.66 1575.11 1064.02 1575.11 Q1056.35 1575.11 1051.99 1570.14 Q1047.66 1565.15 1047.66 1556.39 Q1047.66 1547.61 1051.99 1542.64 Q1056.35 1537.68 1064.02 1537.68 Z\" fill=\"#000000\" fill-rule=\"evenodd\" fill-opacity=\"1\" /><path clip-path=\"url(#clip080)\" d=\"M1108.13 1524.66 L1108.13 1529.53 L1102.53 1529.53 Q1099.38 1529.53 1098.14 1530.8 Q1096.93 1532.08 1096.93 1535.39 L1096.93 1538.54 L1106.57 1538.54 L1106.57 1543.09 L1096.93 1543.09 L1096.93 1574.19 L1091.04 1574.19 L1091.04 1543.09 L1085.44 1543.09 L1085.44 1538.54 L1091.04 1538.54 L1091.04 1536.05 Q1091.04 1530.1 1093.81 1527.4 Q1096.58 1524.66 1102.6 1524.66 L1108.13 1524.66 Z\" fill=\"#000000\" fill-rule=\"evenodd\" fill-opacity=\"1\" /><path clip-path=\"url(#clip080)\" d=\"M1140.44 1531.95 L1140.44 1549.8 L1148.52 1549.8 Q1153.01 1549.8 1155.46 1547.48 Q1157.91 1545.16 1157.91 1540.86 Q1157.91 1536.6 1155.46 1534.27 Q1153.01 1531.95 1148.52 1531.95 L1140.44 1531.95 M1134.01 1526.67 L1148.52 1526.67 Q1156.51 1526.67 1160.59 1530.29 Q1164.69 1533.89 1164.69 1540.86 Q1164.69 1547.9 1160.59 1551.49 Q1156.51 1555.09 1148.52 1555.09 L1140.44 1555.09 L1140.44 1574.19 L1134.01 1574.19 L1134.01 1526.67 Z\" fill=\"#000000\" fill-rule=\"evenodd\" fill-opacity=\"1\" /><path clip-path=\"url(#clip080)\" d=\"M1171.63 1538.54 L1177.49 1538.54 L1177.49 1574.19 L1171.63 1574.19 L1171.63 1538.54 M1171.63 1524.66 L1177.49 1524.66 L1177.49 1532.08 L1171.63 1532.08 L1171.63 1524.66 Z\" fill=\"#000000\" fill-rule=\"evenodd\" fill-opacity=\"1\" /><path clip-path=\"url(#clip080)\" d=\"M1210.4 1544.01 Q1209.41 1543.44 1208.23 1543.18 Q1207.09 1542.9 1205.69 1542.9 Q1200.72 1542.9 1198.05 1546.14 Q1195.41 1549.36 1195.41 1555.41 L1195.41 1574.19 L1189.52 1574.19 L1189.52 1538.54 L1195.41 1538.54 L1195.41 1544.08 Q1197.25 1540.83 1200.21 1539.27 Q1203.17 1537.68 1207.41 1537.68 Q1208.01 1537.68 1208.74 1537.77 Q1209.48 1537.84 1210.37 1538 L1210.4 1544.01 Z\" fill=\"#000000\" fill-rule=\"evenodd\" fill-opacity=\"1\" /><path clip-path=\"url(#clip080)\" d=\"M1232.74 1556.27 Q1225.64 1556.27 1222.91 1557.89 Q1220.17 1559.51 1220.17 1563.43 Q1220.17 1566.55 1222.21 1568.39 Q1224.28 1570.21 1227.81 1570.21 Q1232.68 1570.21 1235.61 1566.77 Q1238.57 1563.3 1238.57 1557.57 L1238.57 1556.27 L1232.74 1556.27 M1244.42 1553.85 L1244.42 1574.19 L1238.57 1574.19 L1238.57 1568.77 Q1236.56 1572.02 1233.57 1573.58 Q1230.58 1575.11 1226.25 1575.11 Q1220.77 1575.11 1217.53 1572.05 Q1214.31 1568.97 1214.31 1563.81 Q1214.31 1557.79 1218.32 1554.74 Q1222.37 1551.68 1230.36 1551.68 L1238.57 1551.68 L1238.57 1551.11 Q1238.57 1547.07 1235.89 1544.87 Q1233.25 1542.64 1228.45 1542.64 Q1225.39 1542.64 1222.49 1543.38 Q1219.6 1544.11 1216.92 1545.57 L1216.92 1540.16 Q1220.14 1538.92 1223.16 1538.31 Q1226.19 1537.68 1229.05 1537.68 Q1236.78 1537.68 1240.6 1541.69 Q1244.42 1545.7 1244.42 1553.85 Z\" fill=\"#000000\" fill-rule=\"evenodd\" fill-opacity=\"1\" /><path clip-path=\"url(#clip080)\" d=\"M1262.28 1528.42 L1262.28 1538.54 L1274.34 1538.54 L1274.34 1543.09 L1262.28 1543.09 L1262.28 1562.44 Q1262.28 1566.8 1263.46 1568.04 Q1264.67 1569.28 1268.33 1569.28 L1274.34 1569.28 L1274.34 1574.19 L1268.33 1574.19 Q1261.55 1574.19 1258.97 1571.67 Q1256.39 1569.12 1256.39 1562.44 L1256.39 1543.09 L1252.09 1543.09 L1252.09 1538.54 L1256.39 1538.54 L1256.39 1528.42 L1262.28 1528.42 Z\" fill=\"#000000\" fill-rule=\"evenodd\" fill-opacity=\"1\" /><path clip-path=\"url(#clip080)\" d=\"M1312.54 1554.9 L1312.54 1557.76 L1285.61 1557.76 Q1285.99 1563.81 1289.24 1566.99 Q1292.52 1570.14 1298.34 1570.14 Q1301.71 1570.14 1304.87 1569.32 Q1308.05 1568.49 1311.17 1566.83 L1311.17 1572.37 Q1308.02 1573.71 1304.71 1574.41 Q1301.4 1575.11 1297.99 1575.11 Q1289.46 1575.11 1284.46 1570.14 Q1279.5 1565.18 1279.5 1556.71 Q1279.5 1547.96 1284.21 1542.83 Q1288.95 1537.68 1296.97 1537.68 Q1304.17 1537.68 1308.33 1542.33 Q1312.54 1546.94 1312.54 1554.9 M1306.68 1553.18 Q1306.62 1548.37 1303.97 1545.51 Q1301.36 1542.64 1297.04 1542.64 Q1292.13 1542.64 1289.17 1545.41 Q1286.25 1548.18 1285.8 1553.21 L1306.68 1553.18 Z\" fill=\"#000000\" fill-rule=\"evenodd\" fill-opacity=\"1\" /><path clip-path=\"url(#clip080)\" d=\"M1344.87 1539.59 L1344.87 1545.13 Q1342.39 1543.85 1339.72 1543.22 Q1337.04 1542.58 1334.18 1542.58 Q1329.82 1542.58 1327.62 1543.92 Q1325.46 1545.25 1325.46 1547.93 Q1325.46 1549.96 1327.02 1551.14 Q1328.58 1552.29 1333.29 1553.34 L1335.29 1553.78 Q1341.53 1555.12 1344.14 1557.57 Q1346.78 1559.99 1346.78 1564.35 Q1346.78 1569.32 1342.84 1572.21 Q1338.92 1575.11 1332.05 1575.11 Q1329.18 1575.11 1326.06 1574.54 Q1322.98 1573.99 1319.54 1572.88 L1319.54 1566.83 Q1322.79 1568.52 1325.94 1569.38 Q1329.09 1570.21 1332.17 1570.21 Q1336.31 1570.21 1338.54 1568.81 Q1340.77 1567.37 1340.77 1564.8 Q1340.77 1562.41 1339.15 1561.14 Q1337.55 1559.86 1332.11 1558.68 L1330.07 1558.21 Q1324.63 1557.06 1322.21 1554.71 Q1319.79 1552.32 1319.79 1548.18 Q1319.79 1543.15 1323.36 1540.42 Q1326.92 1537.68 1333.48 1537.68 Q1336.73 1537.68 1339.59 1538.16 Q1342.46 1538.63 1344.87 1539.59 Z\" fill=\"#000000\" fill-rule=\"evenodd\" fill-opacity=\"1\" /><path clip-path=\"url(#clip080)\" d=\"M1376.29 1524.66 L1389.78 1524.66 L1389.78 1529.21 L1382.15 1529.21 L1382.15 1578.23 L1389.78 1578.23 L1389.78 1582.78 L1376.29 1582.78 L1376.29 1524.66 Z\" fill=\"#000000\" fill-rule=\"evenodd\" fill-opacity=\"1\" /><path clip-path=\"url(#clip080)\" d=\"M1418.4 1533 L1409.68 1556.65 L1427.15 1556.65 L1418.4 1533 M1414.77 1526.67 L1422.06 1526.67 L1440.17 1574.19 L1433.48 1574.19 L1429.16 1562 L1407.74 1562 L1403.41 1574.19 L1396.63 1574.19 L1414.77 1526.67 Z\" fill=\"#000000\" fill-rule=\"evenodd\" fill-opacity=\"1\" /><path clip-path=\"url(#clip080)\" d=\"M1452.52 1568.84 L1452.52 1587.74 L1446.63 1587.74 L1446.63 1538.54 L1452.52 1538.54 L1452.52 1543.95 Q1454.36 1540.77 1457.17 1539.24 Q1460 1537.68 1463.91 1537.68 Q1470.41 1537.68 1474.45 1542.83 Q1478.52 1547.99 1478.52 1556.39 Q1478.52 1564.8 1474.45 1569.95 Q1470.41 1575.11 1463.91 1575.11 Q1460 1575.11 1457.17 1573.58 Q1454.36 1572.02 1452.52 1568.84 M1472.44 1556.39 Q1472.44 1549.93 1469.77 1546.27 Q1467.13 1542.58 1462.48 1542.58 Q1457.83 1542.58 1455.16 1546.27 Q1452.52 1549.93 1452.52 1556.39 Q1452.52 1562.85 1455.16 1566.55 Q1457.83 1570.21 1462.48 1570.21 Q1467.13 1570.21 1469.77 1566.55 Q1472.44 1562.85 1472.44 1556.39 Z\" fill=\"#000000\" fill-rule=\"evenodd\" fill-opacity=\"1\" /><path clip-path=\"url(#clip080)\" d=\"M1493.9 1568.84 L1493.9 1587.74 L1488.01 1587.74 L1488.01 1538.54 L1493.9 1538.54 L1493.9 1543.95 Q1495.74 1540.77 1498.54 1539.24 Q1501.38 1537.68 1505.29 1537.68 Q1511.78 1537.68 1515.83 1542.83 Q1519.9 1547.99 1519.9 1556.39 Q1519.9 1564.8 1515.83 1569.95 Q1511.78 1575.11 1505.29 1575.11 Q1501.38 1575.11 1498.54 1573.58 Q1495.74 1572.02 1493.9 1568.84 M1513.82 1556.39 Q1513.82 1549.93 1511.15 1546.27 Q1508.5 1542.58 1503.86 1542.58 Q1499.21 1542.58 1496.54 1546.27 Q1493.9 1549.93 1493.9 1556.39 Q1493.9 1562.85 1496.54 1566.55 Q1499.21 1570.21 1503.86 1570.21 Q1508.5 1570.21 1511.15 1566.55 Q1513.82 1562.85 1513.82 1556.39 Z\" fill=\"#000000\" fill-rule=\"evenodd\" fill-opacity=\"1\" /><path clip-path=\"url(#clip080)\" d=\"M1550.26 1544.01 Q1549.28 1543.44 1548.1 1543.18 Q1546.95 1542.9 1545.55 1542.9 Q1540.59 1542.9 1537.91 1546.14 Q1535.27 1549.36 1535.27 1555.41 L1535.27 1574.19 L1529.38 1574.19 L1529.38 1538.54 L1535.27 1538.54 L1535.27 1544.08 Q1537.12 1540.83 1540.08 1539.27 Q1543.04 1537.68 1547.27 1537.68 Q1547.88 1537.68 1548.61 1537.77 Q1549.34 1537.84 1550.23 1538 L1550.26 1544.01 Z\" fill=\"#000000\" fill-rule=\"evenodd\" fill-opacity=\"1\" /><path clip-path=\"url(#clip080)\" d=\"M1568.79 1542.64 Q1564.08 1542.64 1561.34 1546.34 Q1558.6 1550 1558.6 1556.39 Q1558.6 1562.79 1561.31 1566.48 Q1564.05 1570.14 1568.79 1570.14 Q1573.47 1570.14 1576.2 1566.45 Q1578.94 1562.76 1578.94 1556.39 Q1578.94 1550.06 1576.2 1546.37 Q1573.47 1542.64 1568.79 1542.64 M1568.79 1537.68 Q1576.43 1537.68 1580.79 1542.64 Q1585.15 1547.61 1585.15 1556.39 Q1585.15 1565.15 1580.79 1570.14 Q1576.43 1575.11 1568.79 1575.11 Q1561.12 1575.11 1556.76 1570.14 Q1552.43 1565.15 1552.43 1556.39 Q1552.43 1547.61 1556.76 1542.64 Q1561.12 1537.68 1568.79 1537.68 Z\" fill=\"#000000\" fill-rule=\"evenodd\" fill-opacity=\"1\" /><path clip-path=\"url(#clip080)\" d=\"M1622.48 1538.54 L1609.59 1555.88 L1623.15 1574.19 L1616.24 1574.19 L1605.87 1560.18 L1595.49 1574.19 L1588.59 1574.19 L1602.43 1555.53 L1589.76 1538.54 L1596.67 1538.54 L1606.12 1551.24 L1615.58 1538.54 L1622.48 1538.54 Z\" fill=\"#000000\" fill-rule=\"evenodd\" fill-opacity=\"1\" /><path clip-path=\"url(#clip080)\" d=\"M1631.43 1538.54 L1637.28 1538.54 L1637.28 1574.19 L1631.43 1574.19 L1631.43 1538.54 M1631.43 1524.66 L1637.28 1524.66 L1637.28 1532.08 L1631.43 1532.08 L1631.43 1524.66 Z\" fill=\"#000000\" fill-rule=\"evenodd\" fill-opacity=\"1\" /><path clip-path=\"url(#clip080)\" d=\"M1677.29 1545.38 Q1679.49 1541.43 1682.54 1539.56 Q1685.6 1537.68 1689.74 1537.68 Q1695.31 1537.68 1698.33 1541.59 Q1701.35 1545.48 1701.35 1552.67 L1701.35 1574.19 L1695.47 1574.19 L1695.47 1552.86 Q1695.47 1547.74 1693.65 1545.25 Q1691.84 1542.77 1688.11 1542.77 Q1683.56 1542.77 1680.92 1545.79 Q1678.28 1548.82 1678.28 1554.04 L1678.28 1574.19 L1672.39 1574.19 L1672.39 1552.86 Q1672.39 1547.7 1670.58 1545.25 Q1668.76 1542.77 1664.97 1542.77 Q1660.49 1542.77 1657.84 1545.83 Q1655.2 1548.85 1655.2 1554.04 L1655.2 1574.19 L1649.31 1574.19 L1649.31 1538.54 L1655.2 1538.54 L1655.2 1544.08 Q1657.21 1540.8 1660.01 1539.24 Q1662.81 1537.68 1666.66 1537.68 Q1670.54 1537.68 1673.25 1539.65 Q1675.99 1541.62 1677.29 1545.38 Z\" fill=\"#000000\" fill-rule=\"evenodd\" fill-opacity=\"1\" /><path clip-path=\"url(#clip080)\" d=\"M1729.24 1556.27 Q1722.14 1556.27 1719.4 1557.89 Q1716.66 1559.51 1716.66 1563.43 Q1716.66 1566.55 1718.7 1568.39 Q1720.77 1570.21 1724.3 1570.21 Q1729.17 1570.21 1732.1 1566.77 Q1735.06 1563.3 1735.06 1557.57 L1735.06 1556.27 L1729.24 1556.27 M1740.92 1553.85 L1740.92 1574.19 L1735.06 1574.19 L1735.06 1568.77 Q1733.05 1572.02 1730.06 1573.58 Q1727.07 1575.11 1722.74 1575.11 Q1717.27 1575.11 1714.02 1572.05 Q1710.81 1568.97 1710.81 1563.81 Q1710.81 1557.79 1714.82 1554.74 Q1718.86 1551.68 1726.85 1551.68 L1735.06 1551.68 L1735.06 1551.11 Q1735.06 1547.07 1732.39 1544.87 Q1729.74 1542.64 1724.94 1542.64 Q1721.88 1542.64 1718.99 1543.38 Q1716.09 1544.11 1713.42 1545.57 L1713.42 1540.16 Q1716.63 1538.92 1719.66 1538.31 Q1722.68 1537.68 1725.54 1537.68 Q1733.28 1537.68 1737.1 1541.69 Q1740.92 1545.7 1740.92 1553.85 Z\" fill=\"#000000\" fill-rule=\"evenodd\" fill-opacity=\"1\" /><path clip-path=\"url(#clip080)\" d=\"M1758.77 1528.42 L1758.77 1538.54 L1770.84 1538.54 L1770.84 1543.09 L1758.77 1543.09 L1758.77 1562.44 Q1758.77 1566.8 1759.95 1568.04 Q1761.16 1569.28 1764.82 1569.28 L1770.84 1569.28 L1770.84 1574.19 L1764.82 1574.19 Q1758.04 1574.19 1755.46 1571.67 Q1752.88 1569.12 1752.88 1562.44 L1752.88 1543.09 L1748.59 1543.09 L1748.59 1538.54 L1752.88 1538.54 L1752.88 1528.42 L1758.77 1528.42 Z\" fill=\"#000000\" fill-rule=\"evenodd\" fill-opacity=\"1\" /><path clip-path=\"url(#clip080)\" d=\"M1809.03 1554.9 L1809.03 1557.76 L1782.1 1557.76 Q1782.48 1563.81 1785.73 1566.99 Q1789.01 1570.14 1794.83 1570.14 Q1798.21 1570.14 1801.36 1569.32 Q1804.54 1568.49 1807.66 1566.83 L1807.66 1572.37 Q1804.51 1573.71 1801.2 1574.41 Q1797.89 1575.11 1794.48 1575.11 Q1785.95 1575.11 1780.96 1570.14 Q1775.99 1565.18 1775.99 1556.71 Q1775.99 1547.96 1780.7 1542.83 Q1785.44 1537.68 1793.47 1537.68 Q1800.66 1537.68 1804.83 1542.33 Q1809.03 1546.94 1809.03 1554.9 M1803.17 1553.18 Q1803.11 1548.37 1800.47 1545.51 Q1797.86 1542.64 1793.53 1542.64 Q1788.63 1542.64 1785.67 1545.41 Q1782.74 1548.18 1782.29 1553.21 L1803.17 1553.18 Z\" fill=\"#000000\" fill-rule=\"evenodd\" fill-opacity=\"1\" /><path clip-path=\"url(#clip080)\" d=\"M1832.33 1524.66 L1832.33 1582.78 L1818.83 1582.78 L1818.83 1578.23 L1826.44 1578.23 L1826.44 1529.21 L1818.83 1529.21 L1818.83 1524.66 L1832.33 1524.66 Z\" fill=\"#000000\" fill-rule=\"evenodd\" fill-opacity=\"1\" /><polyline clip-path=\"url(#clip082)\" style=\"stroke:#000000; stroke-linecap:round; stroke-linejoin:round; stroke-width:2; stroke-opacity:0.1; fill:none\" points=\"\n",
       "  2352.76,1374.46 247.459,1374.46 \n",
       "  \"/>\n",
       "<polyline clip-path=\"url(#clip082)\" style=\"stroke:#000000; stroke-linecap:round; stroke-linejoin:round; stroke-width:2; stroke-opacity:0.1; fill:none\" points=\"\n",
       "  2352.76,1037.08 247.459,1037.08 \n",
       "  \"/>\n",
       "<polyline clip-path=\"url(#clip082)\" style=\"stroke:#000000; stroke-linecap:round; stroke-linejoin:round; stroke-width:2; stroke-opacity:0.1; fill:none\" points=\"\n",
       "  2352.76,699.709 247.459,699.709 \n",
       "  \"/>\n",
       "<polyline clip-path=\"url(#clip082)\" style=\"stroke:#000000; stroke-linecap:round; stroke-linejoin:round; stroke-width:2; stroke-opacity:0.1; fill:none\" points=\"\n",
       "  2352.76,362.334 247.459,362.334 \n",
       "  \"/>\n",
       "<polyline clip-path=\"url(#clip080)\" style=\"stroke:#000000; stroke-linecap:round; stroke-linejoin:round; stroke-width:4; stroke-opacity:1; fill:none\" points=\"\n",
       "  247.459,1410.9 247.459,123.472 \n",
       "  \"/>\n",
       "<polyline clip-path=\"url(#clip080)\" style=\"stroke:#000000; stroke-linecap:round; stroke-linejoin:round; stroke-width:4; stroke-opacity:1; fill:none\" points=\"\n",
       "  247.459,1374.46 266.356,1374.46 \n",
       "  \"/>\n",
       "<polyline clip-path=\"url(#clip080)\" style=\"stroke:#000000; stroke-linecap:round; stroke-linejoin:round; stroke-width:4; stroke-opacity:1; fill:none\" points=\"\n",
       "  247.459,1037.08 266.356,1037.08 \n",
       "  \"/>\n",
       "<polyline clip-path=\"url(#clip080)\" style=\"stroke:#000000; stroke-linecap:round; stroke-linejoin:round; stroke-width:4; stroke-opacity:1; fill:none\" points=\"\n",
       "  247.459,699.709 266.356,699.709 \n",
       "  \"/>\n",
       "<polyline clip-path=\"url(#clip080)\" style=\"stroke:#000000; stroke-linecap:round; stroke-linejoin:round; stroke-width:4; stroke-opacity:1; fill:none\" points=\"\n",
       "  247.459,362.334 266.356,362.334 \n",
       "  \"/>\n",
       "<path clip-path=\"url(#clip080)\" d=\"M114.931 1387.8 L122.57 1387.8 L122.57 1361.44 L114.26 1363.11 L114.26 1358.85 L122.524 1357.18 L127.2 1357.18 L127.2 1387.8 L134.839 1387.8 L134.839 1391.74 L114.931 1391.74 L114.931 1387.8 Z\" fill=\"#000000\" fill-rule=\"evenodd\" fill-opacity=\"1\" /><path clip-path=\"url(#clip080)\" d=\"M157.13 1361.25 L145.325 1379.7 L157.13 1379.7 L157.13 1361.25 M155.903 1357.18 L161.783 1357.18 L161.783 1379.7 L166.714 1379.7 L166.714 1383.59 L161.783 1383.59 L161.783 1391.74 L157.13 1391.74 L157.13 1383.59 L141.529 1383.59 L141.529 1379.08 L155.903 1357.18 Z\" fill=\"#000000\" fill-rule=\"evenodd\" fill-opacity=\"1\" /><path clip-path=\"url(#clip080)\" d=\"M174.445 1385.86 L179.329 1385.86 L179.329 1391.74 L174.445 1391.74 L174.445 1385.86 Z\" fill=\"#000000\" fill-rule=\"evenodd\" fill-opacity=\"1\" /><path clip-path=\"url(#clip080)\" d=\"M199.514 1360.26 Q195.903 1360.26 194.075 1363.82 Q192.269 1367.37 192.269 1374.49 Q192.269 1381.6 194.075 1385.17 Q195.903 1388.71 199.514 1388.71 Q203.149 1388.71 204.954 1385.17 Q206.783 1381.6 206.783 1374.49 Q206.783 1367.37 204.954 1363.82 Q203.149 1360.26 199.514 1360.26 M199.514 1356.56 Q205.324 1356.56 208.38 1361.16 Q211.459 1365.74 211.459 1374.49 Q211.459 1383.22 208.38 1387.83 Q205.324 1392.41 199.514 1392.41 Q193.704 1392.41 190.625 1387.83 Q187.57 1383.22 187.57 1374.49 Q187.57 1365.74 190.625 1361.16 Q193.704 1356.56 199.514 1356.56 Z\" fill=\"#000000\" fill-rule=\"evenodd\" fill-opacity=\"1\" /><path clip-path=\"url(#clip080)\" d=\"M115.927 1050.43 L123.566 1050.43 L123.566 1024.06 L115.256 1025.73 L115.256 1021.47 L123.519 1019.8 L128.195 1019.8 L128.195 1050.43 L135.834 1050.43 L135.834 1054.36 L115.927 1054.36 L115.927 1050.43 Z\" fill=\"#000000\" fill-rule=\"evenodd\" fill-opacity=\"1\" /><path clip-path=\"url(#clip080)\" d=\"M158.126 1023.88 L146.32 1042.33 L158.126 1042.33 L158.126 1023.88 M156.899 1019.8 L162.778 1019.8 L162.778 1042.33 L167.709 1042.33 L167.709 1046.22 L162.778 1046.22 L162.778 1054.36 L158.126 1054.36 L158.126 1046.22 L142.524 1046.22 L142.524 1041.7 L156.899 1019.8 Z\" fill=\"#000000\" fill-rule=\"evenodd\" fill-opacity=\"1\" /><path clip-path=\"url(#clip080)\" d=\"M175.44 1048.49 L180.325 1048.49 L180.325 1054.36 L175.44 1054.36 L175.44 1048.49 Z\" fill=\"#000000\" fill-rule=\"evenodd\" fill-opacity=\"1\" /><path clip-path=\"url(#clip080)\" d=\"M190.556 1019.8 L208.912 1019.8 L208.912 1023.74 L194.838 1023.74 L194.838 1032.21 Q195.857 1031.86 196.875 1031.7 Q197.894 1031.52 198.912 1031.52 Q204.699 1031.52 208.079 1034.69 Q211.459 1037.86 211.459 1043.28 Q211.459 1048.86 207.987 1051.96 Q204.514 1055.04 198.195 1055.04 Q196.019 1055.04 193.75 1054.67 Q191.505 1054.3 189.098 1053.55 L189.098 1048.86 Q191.181 1049.99 193.403 1050.55 Q195.625 1051.1 198.102 1051.1 Q202.107 1051.1 204.445 1048.99 Q206.783 1046.89 206.783 1043.28 Q206.783 1039.67 204.445 1037.56 Q202.107 1035.45 198.102 1035.45 Q196.227 1035.45 194.352 1035.87 Q192.5 1036.29 190.556 1037.17 L190.556 1019.8 Z\" fill=\"#000000\" fill-rule=\"evenodd\" fill-opacity=\"1\" /><path clip-path=\"url(#clip080)\" d=\"M114.931 713.054 L122.57 713.054 L122.57 686.689 L114.26 688.355 L114.26 684.096 L122.524 682.429 L127.2 682.429 L127.2 713.054 L134.839 713.054 L134.839 716.989 L114.931 716.989 L114.931 713.054 Z\" fill=\"#000000\" fill-rule=\"evenodd\" fill-opacity=\"1\" /><path clip-path=\"url(#clip080)\" d=\"M144.329 682.429 L162.686 682.429 L162.686 686.364 L148.612 686.364 L148.612 694.837 Q149.63 694.489 150.649 694.327 Q151.667 694.142 152.686 694.142 Q158.473 694.142 161.852 697.313 Q165.232 700.485 165.232 705.901 Q165.232 711.48 161.76 714.582 Q158.288 717.661 151.968 717.661 Q149.792 717.661 147.524 717.29 Q145.279 716.92 142.871 716.179 L142.871 711.48 Q144.954 712.614 147.177 713.17 Q149.399 713.725 151.876 713.725 Q155.88 713.725 158.218 711.619 Q160.556 709.512 160.556 705.901 Q160.556 702.29 158.218 700.184 Q155.88 698.077 151.876 698.077 Q150.001 698.077 148.126 698.494 Q146.274 698.911 144.329 699.79 L144.329 682.429 Z\" fill=\"#000000\" fill-rule=\"evenodd\" fill-opacity=\"1\" /><path clip-path=\"url(#clip080)\" d=\"M174.445 711.11 L179.329 711.11 L179.329 716.989 L174.445 716.989 L174.445 711.11 Z\" fill=\"#000000\" fill-rule=\"evenodd\" fill-opacity=\"1\" /><path clip-path=\"url(#clip080)\" d=\"M199.514 685.508 Q195.903 685.508 194.075 689.073 Q192.269 692.614 192.269 699.744 Q192.269 706.85 194.075 710.415 Q195.903 713.957 199.514 713.957 Q203.149 713.957 204.954 710.415 Q206.783 706.85 206.783 699.744 Q206.783 692.614 204.954 689.073 Q203.149 685.508 199.514 685.508 M199.514 681.804 Q205.324 681.804 208.38 686.411 Q211.459 690.994 211.459 699.744 Q211.459 708.471 208.38 713.077 Q205.324 717.661 199.514 717.661 Q193.704 717.661 190.625 713.077 Q187.57 708.471 187.57 699.744 Q187.57 690.994 190.625 686.411 Q193.704 681.804 199.514 681.804 Z\" fill=\"#000000\" fill-rule=\"evenodd\" fill-opacity=\"1\" /><path clip-path=\"url(#clip080)\" d=\"M115.927 375.679 L123.566 375.679 L123.566 349.313 L115.256 350.98 L115.256 346.721 L123.519 345.054 L128.195 345.054 L128.195 375.679 L135.834 375.679 L135.834 379.614 L115.927 379.614 L115.927 375.679 Z\" fill=\"#000000\" fill-rule=\"evenodd\" fill-opacity=\"1\" /><path clip-path=\"url(#clip080)\" d=\"M145.325 345.054 L163.681 345.054 L163.681 348.989 L149.607 348.989 L149.607 357.461 Q150.626 357.114 151.644 356.952 Q152.663 356.767 153.681 356.767 Q159.468 356.767 162.848 359.938 Q166.227 363.109 166.227 368.526 Q166.227 374.105 162.755 377.207 Q159.283 380.285 152.964 380.285 Q150.788 380.285 148.519 379.915 Q146.274 379.544 143.866 378.804 L143.866 374.105 Q145.95 375.239 148.172 375.794 Q150.394 376.35 152.871 376.35 Q156.876 376.35 159.214 374.244 Q161.552 372.137 161.552 368.526 Q161.552 364.915 159.214 362.808 Q156.876 360.702 152.871 360.702 Q150.996 360.702 149.121 361.119 Q147.269 361.535 145.325 362.415 L145.325 345.054 Z\" fill=\"#000000\" fill-rule=\"evenodd\" fill-opacity=\"1\" /><path clip-path=\"url(#clip080)\" d=\"M175.44 373.734 L180.325 373.734 L180.325 379.614 L175.44 379.614 L175.44 373.734 Z\" fill=\"#000000\" fill-rule=\"evenodd\" fill-opacity=\"1\" /><path clip-path=\"url(#clip080)\" d=\"M190.556 345.054 L208.912 345.054 L208.912 348.989 L194.838 348.989 L194.838 357.461 Q195.857 357.114 196.875 356.952 Q197.894 356.767 198.912 356.767 Q204.699 356.767 208.079 359.938 Q211.459 363.109 211.459 368.526 Q211.459 374.105 207.987 377.207 Q204.514 380.285 198.195 380.285 Q196.019 380.285 193.75 379.915 Q191.505 379.544 189.098 378.804 L189.098 374.105 Q191.181 375.239 193.403 375.794 Q195.625 376.35 198.102 376.35 Q202.107 376.35 204.445 374.244 Q206.783 372.137 206.783 368.526 Q206.783 364.915 204.445 362.808 Q202.107 360.702 198.102 360.702 Q196.227 360.702 194.352 361.119 Q192.5 361.535 190.556 362.415 L190.556 345.054 Z\" fill=\"#000000\" fill-rule=\"evenodd\" fill-opacity=\"1\" /><path clip-path=\"url(#clip080)\" d=\"M57.2247 1106.75 L44.4614 1106.75 L44.4614 1117.25 L39.1779 1117.25 L39.1779 1100.38 L59.58 1100.38 Q62.2218 1104.11 63.5904 1108.59 Q64.9272 1113.08 64.9272 1118.17 Q64.9272 1129.31 58.4342 1135.62 Q51.9093 1141.89 40.2919 1141.89 Q28.6427 1141.89 22.1496 1135.62 Q15.6248 1129.31 15.6248 1118.17 Q15.6248 1113.53 16.7706 1109.36 Q17.9164 1105.16 20.1444 1101.62 L26.9876 1101.62 Q23.9639 1105.19 22.4361 1109.2 Q20.9083 1113.21 20.9083 1117.63 Q20.9083 1126.35 25.7781 1130.75 Q30.6479 1135.11 40.2919 1135.11 Q49.9041 1135.11 54.7739 1130.75 Q59.6436 1126.35 59.6436 1117.63 Q59.6436 1114.23 59.0707 1111.55 Q58.466 1108.88 57.2247 1106.75 Z\" fill=\"#000000\" fill-rule=\"evenodd\" fill-opacity=\"1\" /><path clip-path=\"url(#clip080)\" d=\"M14.479 1088.89 L14.479 1083.03 L64.0042 1083.03 L64.0042 1088.89 L14.479 1088.89 Z\" fill=\"#000000\" fill-rule=\"evenodd\" fill-opacity=\"1\" /><path clip-path=\"url(#clip080)\" d=\"M32.4621 1056.97 Q32.4621 1061.68 36.1542 1064.42 Q39.8145 1067.15 46.212 1067.15 Q52.6095 1067.15 56.3017 1064.45 Q59.9619 1061.71 59.9619 1056.97 Q59.9619 1052.29 56.2698 1049.55 Q52.5777 1046.81 46.212 1046.81 Q39.8781 1046.81 36.186 1049.55 Q32.4621 1052.29 32.4621 1056.97 M27.4968 1056.97 Q27.4968 1049.33 32.4621 1044.97 Q37.4273 1040.61 46.212 1040.61 Q54.9649 1040.61 59.9619 1044.97 Q64.9272 1049.33 64.9272 1056.97 Q64.9272 1064.64 59.9619 1069 Q54.9649 1073.33 46.212 1073.33 Q37.4273 1073.33 32.4621 1069 Q27.4968 1064.64 27.4968 1056.97 Z\" fill=\"#000000\" fill-rule=\"evenodd\" fill-opacity=\"1\" /><path clip-path=\"url(#clip080)\" d=\"M46.212 1005.31 Q39.7508 1005.31 36.0905 1007.98 Q32.3984 1010.62 32.3984 1015.27 Q32.3984 1019.92 36.0905 1022.59 Q39.7508 1025.23 46.212 1025.23 Q52.6732 1025.23 56.3653 1022.59 Q60.0256 1019.92 60.0256 1015.27 Q60.0256 1010.62 56.3653 1007.98 Q52.6732 1005.31 46.212 1005.31 M33.7671 1025.23 Q30.5842 1023.39 29.0564 1020.59 Q27.4968 1017.75 27.4968 1013.84 Q27.4968 1007.35 32.6531 1003.3 Q37.8093 999.23 46.212 999.23 Q54.6147 999.23 59.771 1003.3 Q64.9272 1007.35 64.9272 1013.84 Q64.9272 1017.75 63.3994 1020.59 Q61.8398 1023.39 58.657 1025.23 L64.0042 1025.23 L64.0042 1031.12 L14.479 1031.12 L14.479 1025.23 L33.7671 1025.23 Z\" fill=\"#000000\" fill-rule=\"evenodd\" fill-opacity=\"1\" /><path clip-path=\"url(#clip080)\" d=\"M46.0847 973.322 Q46.0847 980.42 47.7079 983.157 Q49.3312 985.894 53.2461 985.894 Q56.3653 985.894 58.2114 983.857 Q60.0256 981.788 60.0256 978.255 Q60.0256 973.386 56.5881 970.457 Q53.1188 967.497 47.3897 967.497 L46.0847 967.497 L46.0847 973.322 M43.6657 961.641 L64.0042 961.641 L64.0042 967.497 L58.5933 967.497 Q61.8398 969.502 63.3994 972.494 Q64.9272 975.486 64.9272 979.815 Q64.9272 985.289 61.8716 988.536 Q58.7843 991.751 53.6281 991.751 Q47.6125 991.751 44.5569 987.74 Q41.5014 983.698 41.5014 975.709 L41.5014 967.497 L40.9285 967.497 Q36.8862 967.497 34.6901 970.171 Q32.4621 972.813 32.4621 977.619 Q32.4621 980.674 33.1941 983.571 Q33.9262 986.467 35.3903 989.141 L29.9795 989.141 Q28.7381 985.926 28.1334 982.902 Q27.4968 979.879 27.4968 977.014 Q27.4968 969.28 31.5072 965.46 Q35.5176 961.641 43.6657 961.641 Z\" fill=\"#000000\" fill-rule=\"evenodd\" fill-opacity=\"1\" /><path clip-path=\"url(#clip080)\" d=\"M14.479 949.578 L14.479 943.721 L64.0042 943.721 L64.0042 949.578 L14.479 949.578 Z\" fill=\"#000000\" fill-rule=\"evenodd\" fill-opacity=\"1\" /><path clip-path=\"url(#clip080)\" d=\"M16.4842 917.081 L16.4842 876.881 L21.895 876.881 L21.895 893.751 L64.0042 893.751 L64.0042 900.212 L21.895 900.212 L21.895 917.081 L16.4842 917.081 Z\" fill=\"#000000\" fill-rule=\"evenodd\" fill-opacity=\"1\" /><path clip-path=\"url(#clip080)\" d=\"M44.7161 851.514 L47.5806 851.514 L47.5806 878.441 Q53.6281 878.059 56.8109 874.813 Q59.9619 871.534 59.9619 865.71 Q59.9619 862.336 59.1344 859.185 Q58.3069 856.002 56.6518 852.883 L62.1899 852.883 Q63.5267 856.034 64.227 859.344 Q64.9272 862.654 64.9272 866.06 Q64.9272 874.59 59.9619 879.587 Q54.9967 884.552 46.5303 884.552 Q37.7774 884.552 32.6531 879.841 Q27.4968 875.099 27.4968 867.078 Q27.4968 859.885 32.1438 855.715 Q36.7589 851.514 44.7161 851.514 M42.9973 857.371 Q38.1912 857.434 35.3266 860.076 Q32.4621 862.686 32.4621 867.015 Q32.4621 871.916 35.2312 874.876 Q38.0002 877.804 43.0292 878.25 L42.9973 857.371 Z\" fill=\"#000000\" fill-rule=\"evenodd\" fill-opacity=\"1\" /><path clip-path=\"url(#clip080)\" d=\"M35.1993 814.147 Q31.2526 811.951 29.3747 808.896 Q27.4968 805.84 27.4968 801.702 Q27.4968 796.132 31.4117 793.109 Q35.2948 790.085 42.4881 790.085 L64.0042 790.085 L64.0042 795.973 L42.679 795.973 Q37.5546 795.973 35.072 797.788 Q32.5894 799.602 32.5894 803.326 Q32.5894 807.877 35.6131 810.519 Q38.6368 813.161 43.8567 813.161 L64.0042 813.161 L64.0042 819.049 L42.679 819.049 Q37.5228 819.049 35.072 820.863 Q32.5894 822.677 32.5894 826.465 Q32.5894 830.953 35.6449 833.595 Q38.6686 836.236 43.8567 836.236 L64.0042 836.236 L64.0042 842.125 L28.3562 842.125 L28.3562 836.236 L33.8944 836.236 Q30.616 834.231 29.0564 831.43 Q27.4968 828.629 27.4968 824.778 Q27.4968 820.895 29.4702 818.19 Q31.4436 815.452 35.1993 814.147 Z\" fill=\"#000000\" fill-rule=\"evenodd\" fill-opacity=\"1\" /><path clip-path=\"url(#clip080)\" d=\"M58.657 772.738 L77.5631 772.738 L77.5631 778.627 L28.3562 778.627 L28.3562 772.738 L33.7671 772.738 Q30.5842 770.892 29.0564 768.091 Q27.4968 765.259 27.4968 761.344 Q27.4968 754.851 32.6531 750.809 Q37.8093 746.735 46.212 746.735 Q54.6147 746.735 59.771 750.809 Q64.9272 754.851 64.9272 761.344 Q64.9272 765.259 63.3994 768.091 Q61.8398 770.892 58.657 772.738 M46.212 752.814 Q39.7508 752.814 36.0905 755.487 Q32.3984 758.129 32.3984 762.776 Q32.3984 767.423 36.0905 770.097 Q39.7508 772.738 46.212 772.738 Q52.6732 772.738 56.3653 770.097 Q60.0256 767.423 60.0256 762.776 Q60.0256 758.129 56.3653 755.487 Q52.6732 752.814 46.212 752.814 Z\" fill=\"#000000\" fill-rule=\"evenodd\" fill-opacity=\"1\" /><path clip-path=\"url(#clip080)\" d=\"M44.7161 706.535 L47.5806 706.535 L47.5806 733.462 Q53.6281 733.08 56.8109 729.834 Q59.9619 726.555 59.9619 720.731 Q59.9619 717.357 59.1344 714.206 Q58.3069 711.023 56.6518 707.904 L62.1899 707.904 Q63.5267 711.055 64.227 714.365 Q64.9272 717.675 64.9272 721.081 Q64.9272 729.611 59.9619 734.608 Q54.9967 739.573 46.5303 739.573 Q37.7774 739.573 32.6531 734.863 Q27.4968 730.12 27.4968 722.099 Q27.4968 714.906 32.1438 710.736 Q36.7589 706.535 44.7161 706.535 M42.9973 712.392 Q38.1912 712.455 35.3266 715.097 Q32.4621 717.707 32.4621 722.036 Q32.4621 726.937 35.2312 729.897 Q38.0002 732.825 43.0292 733.271 L42.9973 712.392 Z\" fill=\"#000000\" fill-rule=\"evenodd\" fill-opacity=\"1\" /><path clip-path=\"url(#clip080)\" d=\"M33.8307 676.266 Q33.2578 677.253 33.0032 678.431 Q32.7167 679.576 32.7167 680.977 Q32.7167 685.942 35.9632 688.616 Q39.1779 691.257 45.2253 691.257 L64.0042 691.257 L64.0042 697.146 L28.3562 697.146 L28.3562 691.257 L33.8944 691.257 Q30.6479 689.411 29.0883 686.451 Q27.4968 683.491 27.4968 679.258 Q27.4968 678.653 27.5923 677.921 Q27.656 677.189 27.8151 676.298 L33.8307 676.266 Z\" fill=\"#000000\" fill-rule=\"evenodd\" fill-opacity=\"1\" /><path clip-path=\"url(#clip080)\" d=\"M46.0847 653.923 Q46.0847 661.02 47.7079 663.758 Q49.3312 666.495 53.2461 666.495 Q56.3653 666.495 58.2114 664.458 Q60.0256 662.389 60.0256 658.856 Q60.0256 653.986 56.5881 651.058 Q53.1188 648.098 47.3897 648.098 L46.0847 648.098 L46.0847 653.923 M43.6657 642.241 L64.0042 642.241 L64.0042 648.098 L58.5933 648.098 Q61.8398 650.103 63.3994 653.095 Q64.9272 656.087 64.9272 660.416 Q64.9272 665.89 61.8716 669.137 Q58.7843 672.351 53.6281 672.351 Q47.6125 672.351 44.5569 668.341 Q41.5014 664.299 41.5014 656.31 L41.5014 648.098 L40.9285 648.098 Q36.8862 648.098 34.6901 650.772 Q32.4621 653.413 32.4621 658.219 Q32.4621 661.275 33.1941 664.171 Q33.9262 667.068 35.3903 669.741 L29.9795 669.741 Q28.7381 666.527 28.1334 663.503 Q27.4968 660.479 27.4968 657.615 Q27.4968 649.88 31.5072 646.061 Q35.5176 642.241 43.6657 642.241 Z\" fill=\"#000000\" fill-rule=\"evenodd\" fill-opacity=\"1\" /><path clip-path=\"url(#clip080)\" d=\"M18.2347 624.386 L28.3562 624.386 L28.3562 612.323 L32.9077 612.323 L32.9077 624.386 L52.2594 624.386 Q56.6199 624.386 57.8613 623.208 Q59.1026 621.999 59.1026 618.338 L59.1026 612.323 L64.0042 612.323 L64.0042 618.338 Q64.0042 625.118 61.4897 627.696 Q58.9434 630.274 52.2594 630.274 L32.9077 630.274 L32.9077 634.571 L28.3562 634.571 L28.3562 630.274 L18.2347 630.274 L18.2347 624.386 Z\" fill=\"#000000\" fill-rule=\"evenodd\" fill-opacity=\"1\" /><path clip-path=\"url(#clip080)\" d=\"M49.9359 605.225 L28.3562 605.225 L28.3562 599.368 L49.7131 599.368 Q54.7739 599.368 57.3202 597.395 Q59.8346 595.422 59.8346 591.475 Q59.8346 586.733 56.8109 583.995 Q53.7872 581.226 48.5673 581.226 L28.3562 581.226 L28.3562 575.37 L64.0042 575.37 L64.0042 581.226 L58.5296 581.226 Q61.7762 583.359 63.3676 586.191 Q64.9272 588.992 64.9272 592.716 Q64.9272 598.859 61.1078 602.042 Q57.2883 605.225 49.9359 605.225 M27.4968 590.488 L27.4968 590.488 Z\" fill=\"#000000\" fill-rule=\"evenodd\" fill-opacity=\"1\" /><path clip-path=\"url(#clip080)\" d=\"M33.8307 542.65 Q33.2578 543.637 33.0032 544.814 Q32.7167 545.96 32.7167 547.361 Q32.7167 552.326 35.9632 554.999 Q39.1779 557.641 45.2253 557.641 L64.0042 557.641 L64.0042 563.53 L28.3562 563.53 L28.3562 557.641 L33.8944 557.641 Q30.6479 555.795 29.0883 552.835 Q27.4968 549.875 27.4968 545.642 Q27.4968 545.037 27.5923 544.305 Q27.656 543.573 27.8151 542.682 L33.8307 542.65 Z\" fill=\"#000000\" fill-rule=\"evenodd\" fill-opacity=\"1\" /><path clip-path=\"url(#clip080)\" d=\"M44.7161 507.448 L47.5806 507.448 L47.5806 534.375 Q53.6281 533.993 56.8109 530.746 Q59.9619 527.468 59.9619 521.643 Q59.9619 518.269 59.1344 515.118 Q58.3069 511.935 56.6518 508.816 L62.1899 508.816 Q63.5267 511.967 64.227 515.277 Q64.9272 518.588 64.9272 521.993 Q64.9272 530.523 59.9619 535.52 Q54.9967 540.486 46.5303 540.486 Q37.7774 540.486 32.6531 535.775 Q27.4968 531.033 27.4968 523.012 Q27.4968 515.819 32.1438 511.649 Q36.7589 507.448 44.7161 507.448 M42.9973 513.304 Q38.1912 513.368 35.3266 516.01 Q32.4621 518.619 32.4621 522.948 Q32.4621 527.85 35.2312 530.81 Q38.0002 533.738 43.0292 534.184 L42.9973 513.304 Z\" fill=\"#000000\" fill-rule=\"evenodd\" fill-opacity=\"1\" /><path clip-path=\"url(#clip080)\" d=\"M14.5426 463.047 Q21.8632 467.312 29.0246 469.381 Q36.186 471.45 43.5384 471.45 Q50.8908 471.45 58.1159 469.381 Q65.3091 467.28 72.5979 463.047 L72.5979 468.139 Q65.1182 472.914 57.8931 475.301 Q50.668 477.656 43.5384 477.656 Q36.4406 477.656 29.2474 475.301 Q22.0542 472.946 14.5426 468.139 L14.5426 463.047 Z\" fill=\"#000000\" fill-rule=\"evenodd\" fill-opacity=\"1\" /><path clip-path=\"url(#clip080)\" d=\"M20.1444 415.845 L26.9239 415.845 Q23.9002 419.092 22.4043 422.784 Q20.9083 426.444 20.9083 430.582 Q20.9083 438.73 25.9054 443.059 Q30.8707 447.387 40.2919 447.387 Q49.6813 447.387 54.6784 443.059 Q59.6436 438.73 59.6436 430.582 Q59.6436 426.444 58.1477 422.784 Q56.6518 419.092 53.6281 415.845 L60.3439 415.845 Q62.6355 419.219 63.7814 423.007 Q64.9272 426.762 64.9272 430.964 Q64.9272 441.754 58.3387 447.96 Q51.7183 454.167 40.2919 454.167 Q28.8336 454.167 22.2451 447.96 Q15.6248 441.754 15.6248 430.964 Q15.6248 426.699 16.7706 422.943 Q17.8846 419.155 20.1444 415.845 Z\" fill=\"#000000\" fill-rule=\"evenodd\" fill-opacity=\"1\" /><path clip-path=\"url(#clip080)\" d=\"M14.5426 407.092 L14.5426 402 Q22.0542 397.225 29.2474 394.87 Q36.4406 392.483 43.5384 392.483 Q50.668 392.483 57.8931 394.87 Q65.1182 397.225 72.5979 402 L72.5979 407.092 Q65.3091 402.859 58.1159 400.79 Q50.8908 398.69 43.5384 398.69 Q36.186 398.69 29.0246 400.79 Q21.8632 402.859 14.5426 407.092 Z\" fill=\"#000000\" fill-rule=\"evenodd\" fill-opacity=\"1\" /><path clip-path=\"url(#clip080)\" d=\"M215.721 12.096 L223.904 12.096 L223.904 72.576 L215.721 72.576 L215.721 12.096 Z\" fill=\"#000000\" fill-rule=\"evenodd\" fill-opacity=\"1\" /><path clip-path=\"url(#clip080)\" d=\"M277.578 45.1919 L277.578 72.576 L270.124 72.576 L270.124 45.4349 Q270.124 38.994 267.613 35.7938 Q265.101 32.5936 260.078 32.5936 Q254.042 32.5936 250.559 36.4419 Q247.075 40.2903 247.075 46.9338 L247.075 72.576 L239.581 72.576 L239.581 27.2059 L247.075 27.2059 L247.075 34.2544 Q249.748 30.163 253.354 28.1376 Q256.999 26.1121 261.739 26.1121 Q269.557 26.1121 273.568 30.9732 Q277.578 35.7938 277.578 45.1919 Z\" fill=\"#000000\" fill-rule=\"evenodd\" fill-opacity=\"1\" /><path clip-path=\"url(#clip080)\" d=\"M315.414 9.54393 L315.414 15.7418 L308.284 15.7418 Q304.274 15.7418 302.694 17.3622 Q301.154 18.9825 301.154 23.1955 L301.154 27.2059 L313.429 27.2059 L313.429 32.9987 L301.154 32.9987 L301.154 72.576 L293.66 72.576 L293.66 32.9987 L286.531 32.9987 L286.531 27.2059 L293.66 27.2059 L293.66 24.0462 Q293.66 16.471 297.184 13.0277 Q300.709 9.54393 308.365 9.54393 L315.414 9.54393 Z\" fill=\"#000000\" fill-rule=\"evenodd\" fill-opacity=\"1\" /><path clip-path=\"url(#clip080)\" d=\"M321.652 9.54393 L329.106 9.54393 L329.106 72.576 L321.652 72.576 L321.652 9.54393 Z\" fill=\"#000000\" fill-rule=\"evenodd\" fill-opacity=\"1\" /><path clip-path=\"url(#clip080)\" d=\"M343.932 54.671 L343.932 27.2059 L351.386 27.2059 L351.386 54.3874 Q351.386 60.8284 353.897 64.0691 Q356.409 67.2693 361.432 67.2693 Q367.468 67.2693 370.951 63.421 Q374.476 59.5726 374.476 52.9291 L374.476 27.2059 L381.929 27.2059 L381.929 72.576 L374.476 72.576 L374.476 65.6084 Q371.762 69.7404 368.156 71.7658 Q364.591 73.7508 359.852 73.7508 Q352.034 73.7508 347.983 68.8897 Q343.932 64.0286 343.932 54.671 M362.688 26.1121 L362.688 26.1121 Z\" fill=\"#000000\" fill-rule=\"evenodd\" fill-opacity=\"1\" /><path clip-path=\"url(#clip080)\" d=\"M436.09 48.0275 L436.09 51.6733 L401.819 51.6733 Q402.305 59.3701 406.437 63.421 Q410.61 67.4314 418.023 67.4314 Q422.317 67.4314 426.327 66.3781 Q430.378 65.3249 434.348 63.2184 L434.348 70.267 Q430.338 71.9684 426.125 72.8596 Q421.912 73.7508 417.577 73.7508 Q406.721 73.7508 400.361 67.4314 Q394.042 61.1119 394.042 50.3365 Q394.042 39.1965 400.037 32.6746 Q406.073 26.1121 416.281 26.1121 Q425.436 26.1121 430.743 32.0264 Q436.09 37.9003 436.09 48.0275 M428.636 45.84 Q428.555 39.7232 425.193 36.0774 Q421.871 32.4315 416.362 32.4315 Q410.124 32.4315 406.356 35.9558 Q402.629 39.4801 402.062 45.8805 L428.636 45.84 Z\" fill=\"#000000\" fill-rule=\"evenodd\" fill-opacity=\"1\" /><path clip-path=\"url(#clip080)\" d=\"M486.038 45.1919 L486.038 72.576 L478.584 72.576 L478.584 45.4349 Q478.584 38.994 476.072 35.7938 Q473.561 32.5936 468.538 32.5936 Q462.502 32.5936 459.018 36.4419 Q455.534 40.2903 455.534 46.9338 L455.534 72.576 L448.04 72.576 L448.04 27.2059 L455.534 27.2059 L455.534 34.2544 Q458.208 30.163 461.813 28.1376 Q465.459 26.1121 470.199 26.1121 Q478.017 26.1121 482.027 30.9732 Q486.038 35.7938 486.038 45.1919 Z\" fill=\"#000000\" fill-rule=\"evenodd\" fill-opacity=\"1\" /><path clip-path=\"url(#clip080)\" d=\"M533.555 28.9478 L533.555 35.9153 Q530.395 34.1734 527.195 33.3227 Q524.035 32.4315 520.794 32.4315 Q513.543 32.4315 509.533 37.0496 Q505.522 41.6271 505.522 49.9314 Q505.522 58.2358 509.533 62.8538 Q513.543 67.4314 520.794 67.4314 Q524.035 67.4314 527.195 66.5807 Q530.395 65.6895 533.555 63.9476 L533.555 70.8341 Q530.436 72.2924 527.073 73.0216 Q523.752 73.7508 519.984 73.7508 Q509.735 73.7508 503.7 67.3098 Q497.664 60.8689 497.664 49.9314 Q497.664 38.832 503.74 32.472 Q509.857 26.1121 520.47 26.1121 Q523.914 26.1121 527.195 26.8413 Q530.476 27.5299 533.555 28.9478 Z\" fill=\"#000000\" fill-rule=\"evenodd\" fill-opacity=\"1\" /><path clip-path=\"url(#clip080)\" d=\"M585.325 48.0275 L585.325 51.6733 L551.055 51.6733 Q551.541 59.3701 555.673 63.421 Q559.845 67.4314 567.258 67.4314 Q571.552 67.4314 575.563 66.3781 Q579.613 65.3249 583.583 63.2184 L583.583 70.267 Q579.573 71.9684 575.36 72.8596 Q571.147 73.7508 566.813 73.7508 Q555.956 73.7508 549.596 67.4314 Q543.277 61.1119 543.277 50.3365 Q543.277 39.1965 549.272 32.6746 Q555.308 26.1121 565.516 26.1121 Q574.671 26.1121 579.978 32.0264 Q585.325 37.9003 585.325 48.0275 M577.872 45.84 Q577.791 39.7232 574.428 36.0774 Q571.107 32.4315 565.597 32.4315 Q559.359 32.4315 555.592 35.9558 Q551.865 39.4801 551.298 45.8805 L577.872 45.84 Z\" fill=\"#000000\" fill-rule=\"evenodd\" fill-opacity=\"1\" /><path clip-path=\"url(#clip080)\" d=\"M641.511 32.4315 Q635.516 32.4315 632.032 37.1306 Q628.548 41.7891 628.548 49.9314 Q628.548 58.0738 631.992 62.7728 Q635.475 67.4314 641.511 67.4314 Q647.466 67.4314 650.95 62.7323 Q654.434 58.0333 654.434 49.9314 Q654.434 41.8701 650.95 37.1711 Q647.466 32.4315 641.511 32.4315 M641.511 26.1121 Q651.233 26.1121 656.783 32.4315 Q662.333 38.7509 662.333 49.9314 Q662.333 61.0714 656.783 67.4314 Q651.233 73.7508 641.511 73.7508 Q631.749 73.7508 626.199 67.4314 Q620.69 61.0714 620.69 49.9314 Q620.69 38.7509 626.199 32.4315 Q631.749 26.1121 641.511 26.1121 Z\" fill=\"#000000\" fill-rule=\"evenodd\" fill-opacity=\"1\" /><path clip-path=\"url(#clip080)\" d=\"M697.657 9.54393 L697.657 15.7418 L690.527 15.7418 Q686.517 15.7418 684.937 17.3622 Q683.398 18.9825 683.398 23.1955 L683.398 27.2059 L695.672 27.2059 L695.672 32.9987 L683.398 32.9987 L683.398 72.576 L675.903 72.576 L675.903 32.9987 L668.774 32.9987 L668.774 27.2059 L675.903 27.2059 L675.903 24.0462 Q675.903 16.471 679.428 13.0277 Q682.952 9.54393 690.608 9.54393 L697.657 9.54393 Z\" fill=\"#000000\" fill-rule=\"evenodd\" fill-opacity=\"1\" /><path clip-path=\"url(#clip080)\" d=\"M760.122 49.3643 Q760.122 41.2625 756.76 36.8065 Q753.438 32.3505 747.402 32.3505 Q741.407 32.3505 738.044 36.8065 Q734.723 41.2625 734.723 49.3643 Q734.723 57.4256 738.044 61.8816 Q741.407 66.3376 747.402 66.3376 Q753.438 66.3376 756.76 61.8816 Q760.122 57.4256 760.122 49.3643 M767.575 66.9452 Q767.575 78.5308 762.431 84.1616 Q757.286 89.8329 746.673 89.8329 Q742.743 89.8329 739.26 89.2252 Q735.776 88.6581 732.495 87.4428 L732.495 80.1917 Q735.776 81.9741 738.976 82.8248 Q742.176 83.6755 745.498 83.6755 Q752.83 83.6755 756.476 79.8271 Q760.122 76.0193 760.122 68.282 L760.122 64.5957 Q757.813 68.6061 754.207 70.5911 Q750.602 72.576 745.579 72.576 Q737.234 72.576 732.13 66.2161 Q727.026 59.8562 727.026 49.3643 Q727.026 38.832 732.13 32.472 Q737.234 26.1121 745.579 26.1121 Q750.602 26.1121 754.207 28.0971 Q757.813 30.082 760.122 34.0924 L760.122 27.2059 L767.575 27.2059 L767.575 66.9452 Z\" fill=\"#000000\" fill-rule=\"evenodd\" fill-opacity=\"1\" /><path clip-path=\"url(#clip080)\" d=\"M782.928 9.54393 L790.382 9.54393 L790.382 72.576 L782.928 72.576 L782.928 9.54393 Z\" fill=\"#000000\" fill-rule=\"evenodd\" fill-opacity=\"1\" /><path clip-path=\"url(#clip080)\" d=\"M826.597 49.7694 Q817.564 49.7694 814.08 51.8354 Q810.596 53.9013 810.596 58.8839 Q810.596 62.8538 813.189 65.2034 Q815.822 67.5124 820.318 67.5124 Q826.516 67.5124 830.243 63.1374 Q834.01 58.7219 834.01 51.4303 L834.01 49.7694 L826.597 49.7694 M841.464 46.6907 L841.464 72.576 L834.01 72.576 L834.01 65.6895 Q831.458 69.8214 827.65 71.8063 Q823.842 73.7508 818.333 73.7508 Q811.366 73.7508 807.234 69.8619 Q803.142 65.9325 803.142 59.3701 Q803.142 51.7138 808.247 47.825 Q813.391 43.9361 823.559 43.9361 L834.01 43.9361 L834.01 43.2069 Q834.01 38.0623 830.608 35.2672 Q827.245 32.4315 821.128 32.4315 Q817.24 32.4315 813.553 33.3632 Q809.867 34.295 806.464 36.1584 L806.464 29.2718 Q810.556 27.692 814.404 26.9223 Q818.252 26.1121 821.898 26.1121 Q831.742 26.1121 836.603 31.2163 Q841.464 36.3204 841.464 46.6907 Z\" fill=\"#000000\" fill-rule=\"evenodd\" fill-opacity=\"1\" /><path clip-path=\"url(#clip080)\" d=\"M889.386 49.9314 Q889.386 41.7081 885.983 37.0496 Q882.621 32.3505 876.707 32.3505 Q870.792 32.3505 867.39 37.0496 Q864.027 41.7081 864.027 49.9314 Q864.027 58.1548 867.39 62.8538 Q870.792 67.5124 876.707 67.5124 Q882.621 67.5124 885.983 62.8538 Q889.386 58.1548 889.386 49.9314 M864.027 34.0924 Q866.377 30.0415 869.942 28.0971 Q873.547 26.1121 878.53 26.1121 Q886.794 26.1121 891.938 32.6746 Q897.123 39.2371 897.123 49.9314 Q897.123 60.6258 891.938 67.1883 Q886.794 73.7508 878.53 73.7508 Q873.547 73.7508 869.942 71.8063 Q866.377 69.8214 864.027 65.7705 L864.027 72.576 L856.533 72.576 L856.533 9.54393 L864.027 9.54393 L864.027 34.0924 Z\" fill=\"#000000\" fill-rule=\"evenodd\" fill-opacity=\"1\" /><path clip-path=\"url(#clip080)\" d=\"M930.098 49.7694 Q921.064 49.7694 917.58 51.8354 Q914.097 53.9013 914.097 58.8839 Q914.097 62.8538 916.689 65.2034 Q919.322 67.5124 923.819 67.5124 Q930.017 67.5124 933.744 63.1374 Q937.511 58.7219 937.511 51.4303 L937.511 49.7694 L930.098 49.7694 M944.965 46.6907 L944.965 72.576 L937.511 72.576 L937.511 65.6895 Q934.959 69.8214 931.151 71.8063 Q927.343 73.7508 921.834 73.7508 Q914.866 73.7508 910.734 69.8619 Q906.643 65.9325 906.643 59.3701 Q906.643 51.7138 911.747 47.825 Q916.892 43.9361 927.06 43.9361 L937.511 43.9361 L937.511 43.2069 Q937.511 38.0623 934.108 35.2672 Q930.746 32.4315 924.629 32.4315 Q920.74 32.4315 917.054 33.3632 Q913.367 34.295 909.965 36.1584 L909.965 29.2718 Q914.056 27.692 917.904 26.9223 Q921.753 26.1121 925.399 26.1121 Q935.242 26.1121 940.103 31.2163 Q944.965 36.3204 944.965 46.6907 Z\" fill=\"#000000\" fill-rule=\"evenodd\" fill-opacity=\"1\" /><path clip-path=\"url(#clip080)\" d=\"M960.317 9.54393 L967.771 9.54393 L967.771 72.576 L960.317 72.576 L960.317 9.54393 Z\" fill=\"#000000\" fill-rule=\"evenodd\" fill-opacity=\"1\" /><path clip-path=\"url(#clip080)\" d=\"M1017.11 14.324 L1017.11 27.2059 L1032.46 27.2059 L1032.46 32.9987 L1017.11 32.9987 L1017.11 57.6282 Q1017.11 63.1779 1018.61 64.7578 Q1020.15 66.3376 1024.81 66.3376 L1032.46 66.3376 L1032.46 72.576 L1024.81 72.576 Q1016.18 72.576 1012.9 69.3758 Q1009.62 66.1351 1009.62 57.6282 L1009.62 32.9987 L1004.15 32.9987 L1004.15 27.2059 L1009.62 27.2059 L1009.62 14.324 L1017.11 14.324 Z\" fill=\"#000000\" fill-rule=\"evenodd\" fill-opacity=\"1\" /><path clip-path=\"url(#clip080)\" d=\"M1081.07 48.0275 L1081.07 51.6733 L1046.8 51.6733 Q1047.29 59.3701 1051.42 63.421 Q1055.59 67.4314 1063.01 67.4314 Q1067.3 67.4314 1071.31 66.3781 Q1075.36 65.3249 1079.33 63.2184 L1079.33 70.267 Q1075.32 71.9684 1071.11 72.8596 Q1066.9 73.7508 1062.56 73.7508 Q1051.71 73.7508 1045.35 67.4314 Q1039.03 61.1119 1039.03 50.3365 Q1039.03 39.1965 1045.02 32.6746 Q1051.06 26.1121 1061.27 26.1121 Q1070.42 26.1121 1075.73 32.0264 Q1081.07 37.9003 1081.07 48.0275 M1073.62 45.84 Q1073.54 39.7232 1070.18 36.0774 Q1066.86 32.4315 1061.35 32.4315 Q1055.11 32.4315 1051.34 35.9558 Q1047.61 39.4801 1047.05 45.8805 L1073.62 45.84 Z\" fill=\"#000000\" fill-rule=\"evenodd\" fill-opacity=\"1\" /><path clip-path=\"url(#clip080)\" d=\"M1128.63 35.9153 Q1131.43 30.8922 1135.32 28.5022 Q1139.21 26.1121 1144.47 26.1121 Q1151.56 26.1121 1155.41 31.0947 Q1159.26 36.0368 1159.26 45.1919 L1159.26 72.576 L1151.76 72.576 L1151.76 45.4349 Q1151.76 38.913 1149.45 35.7533 Q1147.15 32.5936 1142.41 32.5936 Q1136.61 32.5936 1133.25 36.4419 Q1129.89 40.2903 1129.89 46.9338 L1129.89 72.576 L1122.39 72.576 L1122.39 45.4349 Q1122.39 38.8725 1120.09 35.7533 Q1117.78 32.5936 1112.96 32.5936 Q1107.24 32.5936 1103.88 36.4824 Q1100.52 40.3308 1100.52 46.9338 L1100.52 72.576 L1093.03 72.576 L1093.03 27.2059 L1100.52 27.2059 L1100.52 34.2544 Q1103.07 30.082 1106.64 28.0971 Q1110.2 26.1121 1115.1 26.1121 Q1120.04 26.1121 1123.49 28.6237 Q1126.97 31.1352 1128.63 35.9153 Z\" fill=\"#000000\" fill-rule=\"evenodd\" fill-opacity=\"1\" /><path clip-path=\"url(#clip080)\" d=\"M1181.33 65.7705 L1181.33 89.8329 L1173.84 89.8329 L1173.84 27.2059 L1181.33 27.2059 L1181.33 34.0924 Q1183.68 30.0415 1187.25 28.0971 Q1190.85 26.1121 1195.84 26.1121 Q1204.1 26.1121 1209.25 32.6746 Q1214.43 39.2371 1214.43 49.9314 Q1214.43 60.6258 1209.25 67.1883 Q1204.1 73.7508 1195.84 73.7508 Q1190.85 73.7508 1187.25 71.8063 Q1183.68 69.8214 1181.33 65.7705 M1206.69 49.9314 Q1206.69 41.7081 1203.29 37.0496 Q1199.93 32.3505 1194.01 32.3505 Q1188.1 32.3505 1184.7 37.0496 Q1181.33 41.7081 1181.33 49.9314 Q1181.33 58.1548 1184.7 62.8538 Q1188.1 67.5124 1194.01 67.5124 Q1199.93 67.5124 1203.29 62.8538 Q1206.69 58.1548 1206.69 49.9314 Z\" fill=\"#000000\" fill-rule=\"evenodd\" fill-opacity=\"1\" /><path clip-path=\"url(#clip080)\" d=\"M1265.59 48.0275 L1265.59 51.6733 L1231.32 51.6733 Q1231.81 59.3701 1235.94 63.421 Q1240.11 67.4314 1247.53 67.4314 Q1251.82 67.4314 1255.83 66.3781 Q1259.88 65.3249 1263.85 63.2184 L1263.85 70.267 Q1259.84 71.9684 1255.63 72.8596 Q1251.42 73.7508 1247.08 73.7508 Q1236.22 73.7508 1229.86 67.4314 Q1223.55 61.1119 1223.55 50.3365 Q1223.55 39.1965 1229.54 32.6746 Q1235.58 26.1121 1245.78 26.1121 Q1254.94 26.1121 1260.25 32.0264 Q1265.59 37.9003 1265.59 48.0275 M1258.14 45.84 Q1258.06 39.7232 1254.7 36.0774 Q1251.37 32.4315 1245.87 32.4315 Q1239.63 32.4315 1235.86 35.9558 Q1232.13 39.4801 1231.57 45.8805 L1258.14 45.84 Z\" fill=\"#000000\" fill-rule=\"evenodd\" fill-opacity=\"1\" /><path clip-path=\"url(#clip080)\" d=\"M1304.12 34.1734 Q1302.86 33.4443 1301.36 33.1202 Q1299.9 32.7556 1298.12 32.7556 Q1291.8 32.7556 1288.4 36.8875 Q1285.04 40.9789 1285.04 48.6757 L1285.04 72.576 L1277.54 72.576 L1277.54 27.2059 L1285.04 27.2059 L1285.04 34.2544 Q1287.39 30.1225 1291.15 28.1376 Q1294.92 26.1121 1300.31 26.1121 Q1301.08 26.1121 1302.01 26.2337 Q1302.94 26.3147 1304.08 26.5172 L1304.12 34.1734 Z\" fill=\"#000000\" fill-rule=\"evenodd\" fill-opacity=\"1\" /><path clip-path=\"url(#clip080)\" d=\"M1332.56 49.7694 Q1323.52 49.7694 1320.04 51.8354 Q1316.55 53.9013 1316.55 58.8839 Q1316.55 62.8538 1319.15 65.2034 Q1321.78 67.5124 1326.28 67.5124 Q1332.47 67.5124 1336.2 63.1374 Q1339.97 58.7219 1339.97 51.4303 L1339.97 49.7694 L1332.56 49.7694 M1347.42 46.6907 L1347.42 72.576 L1339.97 72.576 L1339.97 65.6895 Q1337.42 69.8214 1333.61 71.8063 Q1329.8 73.7508 1324.29 73.7508 Q1317.32 73.7508 1313.19 69.8619 Q1309.1 65.9325 1309.1 59.3701 Q1309.1 51.7138 1314.2 47.825 Q1319.35 43.9361 1329.52 43.9361 L1339.97 43.9361 L1339.97 43.2069 Q1339.97 38.0623 1336.57 35.2672 Q1333.2 32.4315 1327.09 32.4315 Q1323.2 32.4315 1319.51 33.3632 Q1315.82 34.295 1312.42 36.1584 L1312.42 29.2718 Q1316.51 27.692 1320.36 26.9223 Q1324.21 26.1121 1327.86 26.1121 Q1337.7 26.1121 1342.56 31.2163 Q1347.42 36.3204 1347.42 46.6907 Z\" fill=\"#000000\" fill-rule=\"evenodd\" fill-opacity=\"1\" /><path clip-path=\"url(#clip080)\" d=\"M1370.15 14.324 L1370.15 27.2059 L1385.5 27.2059 L1385.5 32.9987 L1370.15 32.9987 L1370.15 57.6282 Q1370.15 63.1779 1371.65 64.7578 Q1373.19 66.3376 1377.84 66.3376 L1385.5 66.3376 L1385.5 72.576 L1377.84 72.576 Q1369.22 72.576 1365.93 69.3758 Q1362.65 66.1351 1362.65 57.6282 L1362.65 32.9987 L1357.18 32.9987 L1357.18 27.2059 L1362.65 27.2059 L1362.65 14.324 L1370.15 14.324 Z\" fill=\"#000000\" fill-rule=\"evenodd\" fill-opacity=\"1\" /><path clip-path=\"url(#clip080)\" d=\"M1394.53 54.671 L1394.53 27.2059 L1401.99 27.2059 L1401.99 54.3874 Q1401.99 60.8284 1404.5 64.0691 Q1407.01 67.2693 1412.03 67.2693 Q1418.07 67.2693 1421.55 63.421 Q1425.08 59.5726 1425.08 52.9291 L1425.08 27.2059 L1432.53 27.2059 L1432.53 72.576 L1425.08 72.576 L1425.08 65.6084 Q1422.36 69.7404 1418.76 71.7658 Q1415.19 73.7508 1410.45 73.7508 Q1402.64 73.7508 1398.58 68.8897 Q1394.53 64.0286 1394.53 54.671 M1413.29 26.1121 L1413.29 26.1121 Z\" fill=\"#000000\" fill-rule=\"evenodd\" fill-opacity=\"1\" /><path clip-path=\"url(#clip080)\" d=\"M1474.17 34.1734 Q1472.92 33.4443 1471.42 33.1202 Q1469.96 32.7556 1468.18 32.7556 Q1461.86 32.7556 1458.46 36.8875 Q1455.09 40.9789 1455.09 48.6757 L1455.09 72.576 L1447.6 72.576 L1447.6 27.2059 L1455.09 27.2059 L1455.09 34.2544 Q1457.44 30.1225 1461.21 28.1376 Q1464.98 26.1121 1470.37 26.1121 Q1471.14 26.1121 1472.07 26.2337 Q1473 26.3147 1474.13 26.5172 L1474.17 34.1734 Z\" fill=\"#000000\" fill-rule=\"evenodd\" fill-opacity=\"1\" /><path clip-path=\"url(#clip080)\" d=\"M1518.98 48.0275 L1518.98 51.6733 L1484.71 51.6733 Q1485.19 59.3701 1489.33 63.421 Q1493.5 67.4314 1500.91 67.4314 Q1505.2 67.4314 1509.21 66.3781 Q1513.27 65.3249 1517.24 63.2184 L1517.24 70.267 Q1513.23 71.9684 1509.01 72.8596 Q1504.8 73.7508 1500.47 73.7508 Q1489.61 73.7508 1483.25 67.4314 Q1476.93 61.1119 1476.93 50.3365 Q1476.93 39.1965 1482.92 32.6746 Q1488.96 26.1121 1499.17 26.1121 Q1508.32 26.1121 1513.63 32.0264 Q1518.98 37.9003 1518.98 48.0275 M1511.52 45.84 Q1511.44 39.7232 1508.08 36.0774 Q1504.76 32.4315 1499.25 32.4315 Q1493.01 32.4315 1489.24 35.9558 Q1485.52 39.4801 1484.95 45.8805 L1511.52 45.84 Z\" fill=\"#000000\" fill-rule=\"evenodd\" fill-opacity=\"1\" /><path clip-path=\"url(#clip080)\" d=\"M1575.16 32.4315 Q1569.17 32.4315 1565.68 37.1306 Q1562.2 41.7891 1562.2 49.9314 Q1562.2 58.0738 1565.64 62.7728 Q1569.13 67.4314 1575.16 67.4314 Q1581.12 67.4314 1584.6 62.7323 Q1588.09 58.0333 1588.09 49.9314 Q1588.09 41.8701 1584.6 37.1711 Q1581.12 32.4315 1575.16 32.4315 M1575.16 26.1121 Q1584.89 26.1121 1590.44 32.4315 Q1595.99 38.7509 1595.99 49.9314 Q1595.99 61.0714 1590.44 67.4314 Q1584.89 73.7508 1575.16 73.7508 Q1565.4 73.7508 1559.85 67.4314 Q1554.34 61.0714 1554.34 49.9314 Q1554.34 38.7509 1559.85 32.4315 Q1565.4 26.1121 1575.16 26.1121 Z\" fill=\"#000000\" fill-rule=\"evenodd\" fill-opacity=\"1\" /><path clip-path=\"url(#clip080)\" d=\"M1646.05 45.1919 L1646.05 72.576 L1638.6 72.576 L1638.6 45.4349 Q1638.6 38.994 1636.09 35.7938 Q1633.58 32.5936 1628.55 32.5936 Q1622.52 32.5936 1619.03 36.4419 Q1615.55 40.2903 1615.55 46.9338 L1615.55 72.576 L1608.06 72.576 L1608.06 27.2059 L1615.55 27.2059 L1615.55 34.2544 Q1618.22 30.163 1621.83 28.1376 Q1625.48 26.1121 1630.22 26.1121 Q1638.03 26.1121 1642.04 30.9732 Q1646.05 35.7938 1646.05 45.1919 Z\" fill=\"#000000\" fill-rule=\"evenodd\" fill-opacity=\"1\" /><path clip-path=\"url(#clip080)\" d=\"M1694.5 65.7705 L1694.5 89.8329 L1687.01 89.8329 L1687.01 27.2059 L1694.5 27.2059 L1694.5 34.0924 Q1696.85 30.0415 1700.42 28.0971 Q1704.02 26.1121 1709.01 26.1121 Q1717.27 26.1121 1722.41 32.6746 Q1727.6 39.2371 1727.6 49.9314 Q1727.6 60.6258 1722.41 67.1883 Q1717.27 73.7508 1709.01 73.7508 Q1704.02 73.7508 1700.42 71.8063 Q1696.85 69.8214 1694.5 65.7705 M1719.86 49.9314 Q1719.86 41.7081 1716.46 37.0496 Q1713.1 32.3505 1707.18 32.3505 Q1701.27 32.3505 1697.87 37.0496 Q1694.5 41.7081 1694.5 49.9314 Q1694.5 58.1548 1697.87 62.8538 Q1701.27 67.5124 1707.18 67.5124 Q1713.1 67.5124 1716.46 62.8538 Q1719.86 58.1548 1719.86 49.9314 Z\" fill=\"#000000\" fill-rule=\"evenodd\" fill-opacity=\"1\" /><path clip-path=\"url(#clip080)\" d=\"M1739.95 27.2059 L1747.41 27.2059 L1747.41 72.576 L1739.95 72.576 L1739.95 27.2059 M1739.95 9.54393 L1747.41 9.54393 L1747.41 18.9825 L1739.95 18.9825 L1739.95 9.54393 Z\" fill=\"#000000\" fill-rule=\"evenodd\" fill-opacity=\"1\" /><path clip-path=\"url(#clip080)\" d=\"M1789.29 34.1734 Q1788.04 33.4443 1786.54 33.1202 Q1785.08 32.7556 1783.3 32.7556 Q1776.98 32.7556 1773.58 36.8875 Q1770.21 40.9789 1770.21 48.6757 L1770.21 72.576 L1762.72 72.576 L1762.72 27.2059 L1770.21 27.2059 L1770.21 34.2544 Q1772.56 30.1225 1776.33 28.1376 Q1780.1 26.1121 1785.49 26.1121 Q1786.26 26.1121 1787.19 26.2337 Q1788.12 26.3147 1789.25 26.5172 L1789.29 34.1734 Z\" fill=\"#000000\" fill-rule=\"evenodd\" fill-opacity=\"1\" /><path clip-path=\"url(#clip080)\" d=\"M1817.73 49.7694 Q1808.7 49.7694 1805.21 51.8354 Q1801.73 53.9013 1801.73 58.8839 Q1801.73 62.8538 1804.32 65.2034 Q1806.96 67.5124 1811.45 67.5124 Q1817.65 67.5124 1821.38 63.1374 Q1825.15 58.7219 1825.15 51.4303 L1825.15 49.7694 L1817.73 49.7694 M1832.6 46.6907 L1832.6 72.576 L1825.15 72.576 L1825.15 65.6895 Q1822.59 69.8214 1818.79 71.8063 Q1814.98 73.7508 1809.47 73.7508 Q1802.5 73.7508 1798.37 69.8619 Q1794.28 65.9325 1794.28 59.3701 Q1794.28 51.7138 1799.38 47.825 Q1804.53 43.9361 1814.69 43.9361 L1825.15 43.9361 L1825.15 43.2069 Q1825.15 38.0623 1821.74 35.2672 Q1818.38 32.4315 1812.26 32.4315 Q1808.37 32.4315 1804.69 33.3632 Q1801 34.295 1797.6 36.1584 L1797.6 29.2718 Q1801.69 27.692 1805.54 26.9223 Q1809.39 26.1121 1813.03 26.1121 Q1822.88 26.1121 1827.74 31.2163 Q1832.6 36.3204 1832.6 46.6907 Z\" fill=\"#000000\" fill-rule=\"evenodd\" fill-opacity=\"1\" /><path clip-path=\"url(#clip080)\" d=\"M1855.32 14.324 L1855.32 27.2059 L1870.68 27.2059 L1870.68 32.9987 L1855.32 32.9987 L1855.32 57.6282 Q1855.32 63.1779 1856.82 64.7578 Q1858.36 66.3376 1863.02 66.3376 L1870.68 66.3376 L1870.68 72.576 L1863.02 72.576 Q1854.39 72.576 1851.11 69.3758 Q1847.83 66.1351 1847.83 57.6282 L1847.83 32.9987 L1842.36 32.9987 L1842.36 27.2059 L1847.83 27.2059 L1847.83 14.324 L1855.32 14.324 Z\" fill=\"#000000\" fill-rule=\"evenodd\" fill-opacity=\"1\" /><path clip-path=\"url(#clip080)\" d=\"M1919.29 48.0275 L1919.29 51.6733 L1885.02 51.6733 Q1885.5 59.3701 1889.64 63.421 Q1893.81 67.4314 1901.22 67.4314 Q1905.51 67.4314 1909.53 66.3781 Q1913.58 65.3249 1917.55 63.2184 L1917.55 70.267 Q1913.54 71.9684 1909.32 72.8596 Q1905.11 73.7508 1900.78 73.7508 Q1889.92 73.7508 1883.56 67.4314 Q1877.24 61.1119 1877.24 50.3365 Q1877.24 39.1965 1883.23 32.6746 Q1889.27 26.1121 1899.48 26.1121 Q1908.63 26.1121 1913.94 32.0264 Q1919.29 37.9003 1919.29 48.0275 M1911.83 45.84 Q1911.75 39.7232 1908.39 36.0774 Q1905.07 32.4315 1899.56 32.4315 Q1893.32 32.4315 1889.55 35.9558 Q1885.83 39.4801 1885.26 45.8805 L1911.83 45.84 Z\" fill=\"#000000\" fill-rule=\"evenodd\" fill-opacity=\"1\" /><path clip-path=\"url(#clip080)\" d=\"M1965.1 65.7705 L1965.1 89.8329 L1957.61 89.8329 L1957.61 27.2059 L1965.1 27.2059 L1965.1 34.0924 Q1967.45 30.0415 1971.02 28.0971 Q1974.62 26.1121 1979.61 26.1121 Q1987.87 26.1121 1993.01 32.6746 Q1998.2 39.2371 1998.2 49.9314 Q1998.2 60.6258 1993.01 67.1883 Q1987.87 73.7508 1979.61 73.7508 Q1974.62 73.7508 1971.02 71.8063 Q1967.45 69.8214 1965.1 65.7705 M1990.46 49.9314 Q1990.46 41.7081 1987.06 37.0496 Q1983.7 32.3505 1977.78 32.3505 Q1971.87 32.3505 1968.47 37.0496 Q1965.1 41.7081 1965.1 49.9314 Q1965.1 58.1548 1968.47 62.8538 Q1971.87 67.5124 1977.78 67.5124 Q1983.7 67.5124 1987.06 62.8538 Q1990.46 58.1548 1990.46 49.9314 Z\" fill=\"#000000\" fill-rule=\"evenodd\" fill-opacity=\"1\" /><path clip-path=\"url(#clip080)\" d=\"M2028.14 32.4315 Q2022.14 32.4315 2018.66 37.1306 Q2015.17 41.7891 2015.17 49.9314 Q2015.17 58.0738 2018.62 62.7728 Q2022.1 67.4314 2028.14 67.4314 Q2034.09 67.4314 2037.57 62.7323 Q2041.06 58.0333 2041.06 49.9314 Q2041.06 41.8701 2037.57 37.1711 Q2034.09 32.4315 2028.14 32.4315 M2028.14 26.1121 Q2037.86 26.1121 2043.41 32.4315 Q2048.96 38.7509 2048.96 49.9314 Q2048.96 61.0714 2043.41 67.4314 Q2037.86 73.7508 2028.14 73.7508 Q2018.37 73.7508 2012.82 67.4314 Q2007.31 61.0714 2007.31 49.9314 Q2007.31 38.7509 2012.82 32.4315 Q2018.37 26.1121 2028.14 26.1121 Z\" fill=\"#000000\" fill-rule=\"evenodd\" fill-opacity=\"1\" /><path clip-path=\"url(#clip080)\" d=\"M2068.52 65.7705 L2068.52 89.8329 L2061.03 89.8329 L2061.03 27.2059 L2068.52 27.2059 L2068.52 34.0924 Q2070.87 30.0415 2074.44 28.0971 Q2078.04 26.1121 2083.03 26.1121 Q2091.29 26.1121 2096.43 32.6746 Q2101.62 39.2371 2101.62 49.9314 Q2101.62 60.6258 2096.43 67.1883 Q2091.29 73.7508 2083.03 73.7508 Q2078.04 73.7508 2074.44 71.8063 Q2070.87 69.8214 2068.52 65.7705 M2093.88 49.9314 Q2093.88 41.7081 2090.48 37.0496 Q2087.12 32.3505 2081.2 32.3505 Q2075.29 32.3505 2071.89 37.0496 Q2068.52 41.7081 2068.52 49.9314 Q2068.52 58.1548 2071.89 62.8538 Q2075.29 67.5124 2081.2 67.5124 Q2087.12 67.5124 2090.48 62.8538 Q2093.88 58.1548 2093.88 49.9314 Z\" fill=\"#000000\" fill-rule=\"evenodd\" fill-opacity=\"1\" /><path clip-path=\"url(#clip080)\" d=\"M2113.2 54.671 L2113.2 27.2059 L2120.66 27.2059 L2120.66 54.3874 Q2120.66 60.8284 2123.17 64.0691 Q2125.68 67.2693 2130.7 67.2693 Q2136.74 67.2693 2140.22 63.421 Q2143.75 59.5726 2143.75 52.9291 L2143.75 27.2059 L2151.2 27.2059 L2151.2 72.576 L2143.75 72.576 L2143.75 65.6084 Q2141.03 69.7404 2137.43 71.7658 Q2133.86 73.7508 2129.12 73.7508 Q2121.31 73.7508 2117.26 68.8897 Q2113.2 64.0286 2113.2 54.671 M2131.96 26.1121 L2131.96 26.1121 Z\" fill=\"#000000\" fill-rule=\"evenodd\" fill-opacity=\"1\" /><path clip-path=\"url(#clip080)\" d=\"M2166.56 9.54393 L2174.01 9.54393 L2174.01 72.576 L2166.56 72.576 L2166.56 9.54393 Z\" fill=\"#000000\" fill-rule=\"evenodd\" fill-opacity=\"1\" /><path clip-path=\"url(#clip080)\" d=\"M2210.22 49.7694 Q2201.19 49.7694 2197.71 51.8354 Q2194.22 53.9013 2194.22 58.8839 Q2194.22 62.8538 2196.82 65.2034 Q2199.45 67.5124 2203.95 67.5124 Q2210.14 67.5124 2213.87 63.1374 Q2217.64 58.7219 2217.64 51.4303 L2217.64 49.7694 L2210.22 49.7694 M2225.09 46.6907 L2225.09 72.576 L2217.64 72.576 L2217.64 65.6895 Q2215.09 69.8214 2211.28 71.8063 Q2207.47 73.7508 2201.96 73.7508 Q2194.99 73.7508 2190.86 69.8619 Q2186.77 65.9325 2186.77 59.3701 Q2186.77 51.7138 2191.87 47.825 Q2197.02 43.9361 2207.19 43.9361 L2217.64 43.9361 L2217.64 43.2069 Q2217.64 38.0623 2214.23 35.2672 Q2210.87 32.4315 2204.76 32.4315 Q2200.87 32.4315 2197.18 33.3632 Q2193.49 34.295 2190.09 36.1584 L2190.09 29.2718 Q2194.18 27.692 2198.03 26.9223 Q2201.88 26.1121 2205.52 26.1121 Q2215.37 26.1121 2220.23 31.2163 Q2225.09 36.3204 2225.09 46.6907 Z\" fill=\"#000000\" fill-rule=\"evenodd\" fill-opacity=\"1\" /><path clip-path=\"url(#clip080)\" d=\"M2247.82 14.324 L2247.82 27.2059 L2263.17 27.2059 L2263.17 32.9987 L2247.82 32.9987 L2247.82 57.6282 Q2247.82 63.1779 2249.32 64.7578 Q2250.85 66.3376 2255.51 66.3376 L2263.17 66.3376 L2263.17 72.576 L2255.51 72.576 Q2246.88 72.576 2243.6 69.3758 Q2240.32 66.1351 2240.32 57.6282 L2240.32 32.9987 L2234.85 32.9987 L2234.85 27.2059 L2240.32 27.2059 L2240.32 14.324 L2247.82 14.324 Z\" fill=\"#000000\" fill-rule=\"evenodd\" fill-opacity=\"1\" /><path clip-path=\"url(#clip080)\" d=\"M2272.97 27.2059 L2280.43 27.2059 L2280.43 72.576 L2272.97 72.576 L2272.97 27.2059 M2272.97 9.54393 L2280.43 9.54393 L2280.43 18.9825 L2272.97 18.9825 L2272.97 9.54393 Z\" fill=\"#000000\" fill-rule=\"evenodd\" fill-opacity=\"1\" /><path clip-path=\"url(#clip080)\" d=\"M2313.6 32.4315 Q2307.61 32.4315 2304.12 37.1306 Q2300.64 41.7891 2300.64 49.9314 Q2300.64 58.0738 2304.08 62.7728 Q2307.57 67.4314 2313.6 67.4314 Q2319.56 67.4314 2323.04 62.7323 Q2326.53 58.0333 2326.53 49.9314 Q2326.53 41.8701 2323.04 37.1711 Q2319.56 32.4315 2313.6 32.4315 M2313.6 26.1121 Q2323.33 26.1121 2328.87 32.4315 Q2334.42 38.7509 2334.42 49.9314 Q2334.42 61.0714 2328.87 67.4314 Q2323.33 73.7508 2313.6 73.7508 Q2303.84 73.7508 2298.29 67.4314 Q2292.78 61.0714 2292.78 49.9314 Q2292.78 38.7509 2298.29 32.4315 Q2303.84 26.1121 2313.6 26.1121 Z\" fill=\"#000000\" fill-rule=\"evenodd\" fill-opacity=\"1\" /><path clip-path=\"url(#clip080)\" d=\"M2384.49 45.1919 L2384.49 72.576 L2377.04 72.576 L2377.04 45.4349 Q2377.04 38.994 2374.53 35.7938 Q2372.02 32.5936 2366.99 32.5936 Q2360.96 32.5936 2357.47 36.4419 Q2353.99 40.2903 2353.99 46.9338 L2353.99 72.576 L2346.5 72.576 L2346.5 27.2059 L2353.99 27.2059 L2353.99 34.2544 Q2356.66 30.163 2360.27 28.1376 Q2363.92 26.1121 2368.65 26.1121 Q2376.47 26.1121 2380.48 30.9732 Q2384.49 35.7938 2384.49 45.1919 Z\" fill=\"#000000\" fill-rule=\"evenodd\" fill-opacity=\"1\" /><polyline clip-path=\"url(#clip082)\" style=\"stroke:#009af9; stroke-linecap:round; stroke-linejoin:round; stroke-width:4; stroke-opacity:1; fill:none\" points=\"\n",
       "  307.043,1374.46 1410.86,1037.08 1631.63,834.659 2073.16,564.759 2276.26,362.334 2293.17,159.909 \n",
       "  \"/>\n",
       "<circle clip-path=\"url(#clip082)\" cx=\"307.043\" cy=\"1374.46\" r=\"14.4\" fill=\"#e26f46\" fill-rule=\"evenodd\" fill-opacity=\"1\" stroke=\"#000000\" stroke-opacity=\"1\" stroke-width=\"3.2\"/>\n",
       "<circle clip-path=\"url(#clip082)\" cx=\"1410.86\" cy=\"1037.08\" r=\"14.4\" fill=\"#e26f46\" fill-rule=\"evenodd\" fill-opacity=\"1\" stroke=\"#000000\" stroke-opacity=\"1\" stroke-width=\"3.2\"/>\n",
       "<circle clip-path=\"url(#clip082)\" cx=\"1631.63\" cy=\"834.659\" r=\"14.4\" fill=\"#e26f46\" fill-rule=\"evenodd\" fill-opacity=\"1\" stroke=\"#000000\" stroke-opacity=\"1\" stroke-width=\"3.2\"/>\n",
       "<circle clip-path=\"url(#clip082)\" cx=\"2073.16\" cy=\"564.759\" r=\"14.4\" fill=\"#e26f46\" fill-rule=\"evenodd\" fill-opacity=\"1\" stroke=\"#000000\" stroke-opacity=\"1\" stroke-width=\"3.2\"/>\n",
       "<circle clip-path=\"url(#clip082)\" cx=\"2276.26\" cy=\"362.334\" r=\"14.4\" fill=\"#e26f46\" fill-rule=\"evenodd\" fill-opacity=\"1\" stroke=\"#000000\" stroke-opacity=\"1\" stroke-width=\"3.2\"/>\n",
       "<circle clip-path=\"url(#clip082)\" cx=\"2293.17\" cy=\"159.909\" r=\"14.4\" fill=\"#e26f46\" fill-rule=\"evenodd\" fill-opacity=\"1\" stroke=\"#000000\" stroke-opacity=\"1\" stroke-width=\"3.2\"/>\n",
       "</svg>\n"
      ]
     },
     "execution_count": 71,
     "metadata": {},
     "output_type": "execute_result"
    }
   ],
   "source": [
    "# First plot the data\n",
    "plot(numPirates,globalTemp, legend = false)\n",
    "scatter!(numPirates,globalTemp, legend = false)\n",
    "# Reverse x-axis\n",
    "xflip!()\n",
    "\n",
    "# Add titles and labels \n",
    "xlabel!(\"Number of Pirates [Approximate]\")\n",
    "ylabel!(\"Global Temperature (C)\")\n",
    "title!(\"Influence of glabal temperature on pirate population\")"
   ]
  },
  {
   "cell_type": "markdown",
   "id": "84387002",
   "metadata": {},
   "source": [
    "#### To create plot with subplots"
   ]
  },
  {
   "cell_type": "code",
   "execution_count": 72,
   "id": "f7659951",
   "metadata": {},
   "outputs": [
    {
     "data": {
      "image/svg+xml": [
       "<?xml version=\"1.0\" encoding=\"utf-8\"?>\n",
       "<svg xmlns=\"http://www.w3.org/2000/svg\" xmlns:xlink=\"http://www.w3.org/1999/xlink\" width=\"600\" height=\"400\" viewBox=\"0 0 2400 1600\">\n",
       "<defs>\n",
       "  <clipPath id=\"clip120\">\n",
       "    <rect x=\"0\" y=\"0\" width=\"2400\" height=\"1600\"/>\n",
       "  </clipPath>\n",
       "</defs>\n",
       "<path clip-path=\"url(#clip120)\" d=\"\n",
       "M0 1600 L2400 1600 L2400 0 L0 0  Z\n",
       "  \" fill=\"#ffffff\" fill-rule=\"evenodd\" fill-opacity=\"1\"/>\n",
       "<defs>\n",
       "  <clipPath id=\"clip121\">\n",
       "    <rect x=\"480\" y=\"0\" width=\"1681\" height=\"1600\"/>\n",
       "  </clipPath>\n",
       "</defs>\n",
       "<path clip-path=\"url(#clip120)\" d=\"\n",
       "M148.867 686.448 L1157.71 686.448 L1157.71 47.2441 L148.867 47.2441  Z\n",
       "  \" fill=\"#ffffff\" fill-rule=\"evenodd\" fill-opacity=\"1\"/>\n",
       "<defs>\n",
       "  <clipPath id=\"clip122\">\n",
       "    <rect x=\"148\" y=\"47\" width=\"1010\" height=\"640\"/>\n",
       "  </clipPath>\n",
       "</defs>\n",
       "<polyline clip-path=\"url(#clip122)\" style=\"stroke:#000000; stroke-linecap:round; stroke-linejoin:round; stroke-width:2; stroke-opacity:0.1; fill:none\" points=\"\n",
       "  177.419,686.448 177.419,47.2441 \n",
       "  \"/>\n",
       "<polyline clip-path=\"url(#clip122)\" style=\"stroke:#000000; stroke-linecap:round; stroke-linejoin:round; stroke-width:2; stroke-opacity:0.1; fill:none\" points=\"\n",
       "  415.354,686.448 415.354,47.2441 \n",
       "  \"/>\n",
       "<polyline clip-path=\"url(#clip122)\" style=\"stroke:#000000; stroke-linecap:round; stroke-linejoin:round; stroke-width:2; stroke-opacity:0.1; fill:none\" points=\"\n",
       "  653.288,686.448 653.288,47.2441 \n",
       "  \"/>\n",
       "<polyline clip-path=\"url(#clip122)\" style=\"stroke:#000000; stroke-linecap:round; stroke-linejoin:round; stroke-width:2; stroke-opacity:0.1; fill:none\" points=\"\n",
       "  891.223,686.448 891.223,47.2441 \n",
       "  \"/>\n",
       "<polyline clip-path=\"url(#clip122)\" style=\"stroke:#000000; stroke-linecap:round; stroke-linejoin:round; stroke-width:2; stroke-opacity:0.1; fill:none\" points=\"\n",
       "  1129.16,686.448 1129.16,47.2441 \n",
       "  \"/>\n",
       "<polyline clip-path=\"url(#clip120)\" style=\"stroke:#000000; stroke-linecap:round; stroke-linejoin:round; stroke-width:4; stroke-opacity:1; fill:none\" points=\"\n",
       "  148.867,686.448 1157.71,686.448 \n",
       "  \"/>\n",
       "<polyline clip-path=\"url(#clip120)\" style=\"stroke:#000000; stroke-linecap:round; stroke-linejoin:round; stroke-width:4; stroke-opacity:1; fill:none\" points=\"\n",
       "  177.419,686.448 177.419,667.55 \n",
       "  \"/>\n",
       "<polyline clip-path=\"url(#clip120)\" style=\"stroke:#000000; stroke-linecap:round; stroke-linejoin:round; stroke-width:4; stroke-opacity:1; fill:none\" points=\"\n",
       "  415.354,686.448 415.354,667.55 \n",
       "  \"/>\n",
       "<polyline clip-path=\"url(#clip120)\" style=\"stroke:#000000; stroke-linecap:round; stroke-linejoin:round; stroke-width:4; stroke-opacity:1; fill:none\" points=\"\n",
       "  653.288,686.448 653.288,667.55 \n",
       "  \"/>\n",
       "<polyline clip-path=\"url(#clip120)\" style=\"stroke:#000000; stroke-linecap:round; stroke-linejoin:round; stroke-width:4; stroke-opacity:1; fill:none\" points=\"\n",
       "  891.223,686.448 891.223,667.55 \n",
       "  \"/>\n",
       "<polyline clip-path=\"url(#clip120)\" style=\"stroke:#000000; stroke-linecap:round; stroke-linejoin:round; stroke-width:4; stroke-opacity:1; fill:none\" points=\"\n",
       "  1129.16,686.448 1129.16,667.55 \n",
       "  \"/>\n",
       "<path clip-path=\"url(#clip120)\" d=\"M147.361 732.019 L177.037 732.019 L177.037 735.954 L147.361 735.954 L147.361 732.019 Z\" fill=\"#000000\" fill-rule=\"evenodd\" fill-opacity=\"1\" /><path clip-path=\"url(#clip120)\" d=\"M191.157 744.913 L207.477 744.913 L207.477 748.848 L185.532 748.848 L185.532 744.913 Q188.194 742.158 192.778 737.528 Q197.384 732.876 198.565 731.533 Q200.81 729.01 201.69 727.274 Q202.592 725.515 202.592 723.825 Q202.592 721.07 200.648 719.334 Q198.727 717.598 195.625 717.598 Q193.426 717.598 190.972 718.362 Q188.542 719.126 185.764 720.677 L185.764 715.955 Q188.588 714.82 191.042 714.242 Q193.495 713.663 195.532 713.663 Q200.903 713.663 204.097 716.348 Q207.291 719.033 207.291 723.524 Q207.291 725.654 206.481 727.575 Q205.694 729.473 203.588 732.066 Q203.009 732.737 199.907 735.954 Q196.805 739.149 191.157 744.913 Z\" fill=\"#000000\" fill-rule=\"evenodd\" fill-opacity=\"1\" /><path clip-path=\"url(#clip120)\" d=\"M385.111 732.019 L414.786 732.019 L414.786 735.954 L385.111 735.954 L385.111 732.019 Z\" fill=\"#000000\" fill-rule=\"evenodd\" fill-opacity=\"1\" /><path clip-path=\"url(#clip120)\" d=\"M425.689 744.913 L433.328 744.913 L433.328 718.547 L425.018 720.214 L425.018 715.955 L433.282 714.288 L437.958 714.288 L437.958 744.913 L445.596 744.913 L445.596 748.848 L425.689 748.848 L425.689 744.913 Z\" fill=\"#000000\" fill-rule=\"evenodd\" fill-opacity=\"1\" /><path clip-path=\"url(#clip120)\" d=\"M653.288 717.367 Q649.677 717.367 647.848 720.931 Q646.043 724.473 646.043 731.603 Q646.043 738.709 647.848 742.274 Q649.677 745.815 653.288 745.815 Q656.922 745.815 658.728 742.274 Q660.557 738.709 660.557 731.603 Q660.557 724.473 658.728 720.931 Q656.922 717.367 653.288 717.367 M653.288 713.663 Q659.098 713.663 662.154 718.269 Q665.233 722.853 665.233 731.603 Q665.233 740.329 662.154 744.936 Q659.098 749.519 653.288 749.519 Q647.478 749.519 644.399 744.936 Q641.344 740.329 641.344 731.603 Q641.344 722.853 644.399 718.269 Q647.478 713.663 653.288 713.663 Z\" fill=\"#000000\" fill-rule=\"evenodd\" fill-opacity=\"1\" /><path clip-path=\"url(#clip120)\" d=\"M881.605 744.913 L889.244 744.913 L889.244 718.547 L880.934 720.214 L880.934 715.955 L889.197 714.288 L893.873 714.288 L893.873 744.913 L901.512 744.913 L901.512 748.848 L881.605 748.848 L881.605 744.913 Z\" fill=\"#000000\" fill-rule=\"evenodd\" fill-opacity=\"1\" /><path clip-path=\"url(#clip120)\" d=\"M1123.81 744.913 L1140.13 744.913 L1140.13 748.848 L1118.19 748.848 L1118.19 744.913 Q1120.85 742.158 1125.43 737.528 Q1130.04 732.876 1131.22 731.533 Q1133.46 729.01 1134.34 727.274 Q1135.25 725.515 1135.25 723.825 Q1135.25 721.07 1133.3 719.334 Q1131.38 717.598 1128.28 717.598 Q1126.08 717.598 1123.63 718.362 Q1121.19 719.126 1118.42 720.677 L1118.42 715.955 Q1121.24 714.82 1123.69 714.242 Q1126.15 713.663 1128.19 713.663 Q1133.56 713.663 1136.75 716.348 Q1139.94 719.033 1139.94 723.524 Q1139.94 725.654 1139.13 727.575 Q1138.35 729.473 1136.24 732.066 Q1135.66 732.737 1132.56 735.954 Q1129.46 739.149 1123.81 744.913 Z\" fill=\"#000000\" fill-rule=\"evenodd\" fill-opacity=\"1\" /><polyline clip-path=\"url(#clip122)\" style=\"stroke:#000000; stroke-linecap:round; stroke-linejoin:round; stroke-width:2; stroke-opacity:0.1; fill:none\" points=\"\n",
       "  148.867,668.357 1157.71,668.357 \n",
       "  \"/>\n",
       "<polyline clip-path=\"url(#clip122)\" style=\"stroke:#000000; stroke-linecap:round; stroke-linejoin:round; stroke-width:2; stroke-opacity:0.1; fill:none\" points=\"\n",
       "  148.867,517.602 1157.71,517.602 \n",
       "  \"/>\n",
       "<polyline clip-path=\"url(#clip122)\" style=\"stroke:#000000; stroke-linecap:round; stroke-linejoin:round; stroke-width:2; stroke-opacity:0.1; fill:none\" points=\"\n",
       "  148.867,366.846 1157.71,366.846 \n",
       "  \"/>\n",
       "<polyline clip-path=\"url(#clip122)\" style=\"stroke:#000000; stroke-linecap:round; stroke-linejoin:round; stroke-width:2; stroke-opacity:0.1; fill:none\" points=\"\n",
       "  148.867,216.09 1157.71,216.09 \n",
       "  \"/>\n",
       "<polyline clip-path=\"url(#clip122)\" style=\"stroke:#000000; stroke-linecap:round; stroke-linejoin:round; stroke-width:2; stroke-opacity:0.1; fill:none\" points=\"\n",
       "  148.867,65.3348 1157.71,65.3348 \n",
       "  \"/>\n",
       "<polyline clip-path=\"url(#clip120)\" style=\"stroke:#000000; stroke-linecap:round; stroke-linejoin:round; stroke-width:4; stroke-opacity:1; fill:none\" points=\"\n",
       "  148.867,686.448 148.867,47.2441 \n",
       "  \"/>\n",
       "<polyline clip-path=\"url(#clip120)\" style=\"stroke:#000000; stroke-linecap:round; stroke-linejoin:round; stroke-width:4; stroke-opacity:1; fill:none\" points=\"\n",
       "  148.867,668.357 167.764,668.357 \n",
       "  \"/>\n",
       "<polyline clip-path=\"url(#clip120)\" style=\"stroke:#000000; stroke-linecap:round; stroke-linejoin:round; stroke-width:4; stroke-opacity:1; fill:none\" points=\"\n",
       "  148.867,517.602 167.764,517.602 \n",
       "  \"/>\n",
       "<polyline clip-path=\"url(#clip120)\" style=\"stroke:#000000; stroke-linecap:round; stroke-linejoin:round; stroke-width:4; stroke-opacity:1; fill:none\" points=\"\n",
       "  148.867,366.846 167.764,366.846 \n",
       "  \"/>\n",
       "<polyline clip-path=\"url(#clip120)\" style=\"stroke:#000000; stroke-linecap:round; stroke-linejoin:round; stroke-width:4; stroke-opacity:1; fill:none\" points=\"\n",
       "  148.867,216.09 167.764,216.09 \n",
       "  \"/>\n",
       "<polyline clip-path=\"url(#clip120)\" style=\"stroke:#000000; stroke-linecap:round; stroke-linejoin:round; stroke-width:4; stroke-opacity:1; fill:none\" points=\"\n",
       "  148.867,65.3348 167.764,65.3348 \n",
       "  \"/>\n",
       "<path clip-path=\"url(#clip120)\" d=\"M52.7514 668.809 L82.4271 668.809 L82.4271 672.744 L52.7514 672.744 L52.7514 668.809 Z\" fill=\"#000000\" fill-rule=\"evenodd\" fill-opacity=\"1\" /><path clip-path=\"url(#clip120)\" d=\"M96.5474 681.702 L112.867 681.702 L112.867 685.637 L90.9225 685.637 L90.9225 681.702 Q93.5845 678.947 98.1678 674.318 Q102.774 669.665 103.955 668.322 Q106.2 665.799 107.08 664.063 Q107.983 662.304 107.983 660.614 Q107.983 657.86 106.038 656.123 Q104.117 654.387 101.015 654.387 Q98.8159 654.387 96.3623 655.151 Q93.9317 655.915 91.1539 657.466 L91.1539 652.744 Q93.978 651.61 96.4317 651.031 Q98.8854 650.452 100.922 650.452 Q106.293 650.452 109.487 653.137 Q112.682 655.823 112.682 660.313 Q112.682 662.443 111.871 664.364 Q111.084 666.262 108.978 668.855 Q108.399 669.526 105.297 672.744 Q102.196 675.938 96.5474 681.702 Z\" fill=\"#000000\" fill-rule=\"evenodd\" fill-opacity=\"1\" /><path clip-path=\"url(#clip120)\" d=\"M52.381 518.053 L82.0568 518.053 L82.0568 521.988 L52.381 521.988 L52.381 518.053 Z\" fill=\"#000000\" fill-rule=\"evenodd\" fill-opacity=\"1\" /><path clip-path=\"url(#clip120)\" d=\"M92.9595 530.946 L100.598 530.946 L100.598 504.581 L92.2882 506.247 L92.2882 501.988 L100.552 500.322 L105.228 500.322 L105.228 530.946 L112.867 530.946 L112.867 534.882 L92.9595 534.882 L92.9595 530.946 Z\" fill=\"#000000\" fill-rule=\"evenodd\" fill-opacity=\"1\" /><path clip-path=\"url(#clip120)\" d=\"M100.922 352.645 Q97.3113 352.645 95.4826 356.209 Q93.6771 359.751 93.6771 366.881 Q93.6771 373.987 95.4826 377.552 Q97.3113 381.094 100.922 381.094 Q104.557 381.094 106.362 377.552 Q108.191 373.987 108.191 366.881 Q108.191 359.751 106.362 356.209 Q104.557 352.645 100.922 352.645 M100.922 348.941 Q106.733 348.941 109.788 353.547 Q112.867 358.131 112.867 366.881 Q112.867 375.608 109.788 380.214 Q106.733 384.797 100.922 384.797 Q95.1123 384.797 92.0336 380.214 Q88.978 375.608 88.978 366.881 Q88.978 358.131 92.0336 353.547 Q95.1123 348.941 100.922 348.941 Z\" fill=\"#000000\" fill-rule=\"evenodd\" fill-opacity=\"1\" /><path clip-path=\"url(#clip120)\" d=\"M92.9595 229.435 L100.598 229.435 L100.598 203.07 L92.2882 204.736 L92.2882 200.477 L100.552 198.81 L105.228 198.81 L105.228 229.435 L112.867 229.435 L112.867 233.37 L92.9595 233.37 L92.9595 229.435 Z\" fill=\"#000000\" fill-rule=\"evenodd\" fill-opacity=\"1\" /><path clip-path=\"url(#clip120)\" d=\"M96.5474 78.6796 L112.867 78.6796 L112.867 82.6148 L90.9225 82.6148 L90.9225 78.6796 Q93.5845 75.925 98.1678 71.2954 Q102.774 66.6426 103.955 65.3 Q106.2 62.7769 107.08 61.0408 Q107.983 59.2816 107.983 57.5918 Q107.983 54.8371 106.038 53.101 Q104.117 51.3649 101.015 51.3649 Q98.8159 51.3649 96.3623 52.1288 Q93.9317 52.8927 91.1539 54.4436 L91.1539 49.7214 Q93.978 48.5872 96.4317 48.0085 Q98.8854 47.4298 100.922 47.4298 Q106.293 47.4298 109.487 50.1149 Q112.682 52.8001 112.682 57.2908 Q112.682 59.4204 111.871 61.3417 Q111.084 63.2399 108.978 65.8325 Q108.399 66.5037 105.297 69.7213 Q102.196 72.9157 96.5474 78.6796 Z\" fill=\"#000000\" fill-rule=\"evenodd\" fill-opacity=\"1\" /><polyline clip-path=\"url(#clip122)\" style=\"stroke:#009af9; stroke-linecap:round; stroke-linejoin:round; stroke-width:4; stroke-opacity:1; fill:none\" points=\"\n",
       "  177.419,668.357 201.212,653.282 225.006,638.206 248.799,623.131 272.593,608.055 296.386,592.979 320.18,577.904 343.973,562.828 367.767,547.753 391.56,532.677 \n",
       "  415.354,517.602 439.147,502.526 462.94,487.45 486.734,472.375 510.527,457.299 534.321,442.224 558.114,427.148 581.908,412.073 605.701,396.997 629.495,381.922 \n",
       "  653.288,366.846 677.082,351.77 700.875,336.695 724.669,321.619 748.462,306.544 772.255,291.468 796.049,276.393 819.842,261.317 843.636,246.241 867.429,231.166 \n",
       "  891.223,216.09 915.016,201.015 938.81,185.939 962.603,170.864 986.397,155.788 1010.19,140.713 1033.98,125.637 1057.78,110.561 1081.57,95.4859 1105.36,80.4103 \n",
       "  1129.16,65.3348 \n",
       "  \"/>\n",
       "<path clip-path=\"url(#clip120)\" d=\"\n",
       "M1343.91 686.448 L2352.76 686.448 L2352.76 47.2441 L1343.91 47.2441  Z\n",
       "  \" fill=\"#ffffff\" fill-rule=\"evenodd\" fill-opacity=\"1\"/>\n",
       "<defs>\n",
       "  <clipPath id=\"clip123\">\n",
       "    <rect x=\"1343\" y=\"47\" width=\"1010\" height=\"640\"/>\n",
       "  </clipPath>\n",
       "</defs>\n",
       "<polyline clip-path=\"url(#clip123)\" style=\"stroke:#000000; stroke-linecap:round; stroke-linejoin:round; stroke-width:2; stroke-opacity:0.1; fill:none\" points=\"\n",
       "  1372.47,686.448 1372.47,47.2441 \n",
       "  \"/>\n",
       "<polyline clip-path=\"url(#clip123)\" style=\"stroke:#000000; stroke-linecap:round; stroke-linejoin:round; stroke-width:2; stroke-opacity:0.1; fill:none\" points=\"\n",
       "  1610.4,686.448 1610.4,47.2441 \n",
       "  \"/>\n",
       "<polyline clip-path=\"url(#clip123)\" style=\"stroke:#000000; stroke-linecap:round; stroke-linejoin:round; stroke-width:2; stroke-opacity:0.1; fill:none\" points=\"\n",
       "  1848.33,686.448 1848.33,47.2441 \n",
       "  \"/>\n",
       "<polyline clip-path=\"url(#clip123)\" style=\"stroke:#000000; stroke-linecap:round; stroke-linejoin:round; stroke-width:2; stroke-opacity:0.1; fill:none\" points=\"\n",
       "  2086.27,686.448 2086.27,47.2441 \n",
       "  \"/>\n",
       "<polyline clip-path=\"url(#clip123)\" style=\"stroke:#000000; stroke-linecap:round; stroke-linejoin:round; stroke-width:2; stroke-opacity:0.1; fill:none\" points=\"\n",
       "  2324.2,686.448 2324.2,47.2441 \n",
       "  \"/>\n",
       "<polyline clip-path=\"url(#clip120)\" style=\"stroke:#000000; stroke-linecap:round; stroke-linejoin:round; stroke-width:4; stroke-opacity:1; fill:none\" points=\"\n",
       "  1343.91,686.448 2352.76,686.448 \n",
       "  \"/>\n",
       "<polyline clip-path=\"url(#clip120)\" style=\"stroke:#000000; stroke-linecap:round; stroke-linejoin:round; stroke-width:4; stroke-opacity:1; fill:none\" points=\"\n",
       "  1372.47,686.448 1372.47,667.55 \n",
       "  \"/>\n",
       "<polyline clip-path=\"url(#clip120)\" style=\"stroke:#000000; stroke-linecap:round; stroke-linejoin:round; stroke-width:4; stroke-opacity:1; fill:none\" points=\"\n",
       "  1610.4,686.448 1610.4,667.55 \n",
       "  \"/>\n",
       "<polyline clip-path=\"url(#clip120)\" style=\"stroke:#000000; stroke-linecap:round; stroke-linejoin:round; stroke-width:4; stroke-opacity:1; fill:none\" points=\"\n",
       "  1848.33,686.448 1848.33,667.55 \n",
       "  \"/>\n",
       "<polyline clip-path=\"url(#clip120)\" style=\"stroke:#000000; stroke-linecap:round; stroke-linejoin:round; stroke-width:4; stroke-opacity:1; fill:none\" points=\"\n",
       "  2086.27,686.448 2086.27,667.55 \n",
       "  \"/>\n",
       "<polyline clip-path=\"url(#clip120)\" style=\"stroke:#000000; stroke-linecap:round; stroke-linejoin:round; stroke-width:4; stroke-opacity:1; fill:none\" points=\"\n",
       "  2324.2,686.448 2324.2,667.55 \n",
       "  \"/>\n",
       "<path clip-path=\"url(#clip120)\" d=\"M1342.41 732.019 L1372.08 732.019 L1372.08 735.954 L1342.41 735.954 L1342.41 732.019 Z\" fill=\"#000000\" fill-rule=\"evenodd\" fill-opacity=\"1\" /><path clip-path=\"url(#clip120)\" d=\"M1386.2 744.913 L1402.52 744.913 L1402.52 748.848 L1380.58 748.848 L1380.58 744.913 Q1383.24 742.158 1387.82 737.528 Q1392.43 732.876 1393.61 731.533 Q1395.86 729.01 1396.74 727.274 Q1397.64 725.515 1397.64 723.825 Q1397.64 721.07 1395.69 719.334 Q1393.77 717.598 1390.67 717.598 Q1388.47 717.598 1386.02 718.362 Q1383.59 719.126 1380.81 720.677 L1380.81 715.955 Q1383.63 714.82 1386.09 714.242 Q1388.54 713.663 1390.58 713.663 Q1395.95 713.663 1399.14 716.348 Q1402.34 719.033 1402.34 723.524 Q1402.34 725.654 1401.53 727.575 Q1400.74 729.473 1398.63 732.066 Q1398.06 732.737 1394.95 735.954 Q1391.85 739.149 1386.2 744.913 Z\" fill=\"#000000\" fill-rule=\"evenodd\" fill-opacity=\"1\" /><path clip-path=\"url(#clip120)\" d=\"M1580.16 732.019 L1609.83 732.019 L1609.83 735.954 L1580.16 735.954 L1580.16 732.019 Z\" fill=\"#000000\" fill-rule=\"evenodd\" fill-opacity=\"1\" /><path clip-path=\"url(#clip120)\" d=\"M1620.74 744.913 L1628.37 744.913 L1628.37 718.547 L1620.06 720.214 L1620.06 715.955 L1628.33 714.288 L1633 714.288 L1633 744.913 L1640.64 744.913 L1640.64 748.848 L1620.74 748.848 L1620.74 744.913 Z\" fill=\"#000000\" fill-rule=\"evenodd\" fill-opacity=\"1\" /><path clip-path=\"url(#clip120)\" d=\"M1848.33 717.367 Q1844.72 717.367 1842.89 720.931 Q1841.09 724.473 1841.09 731.603 Q1841.09 738.709 1842.89 742.274 Q1844.72 745.815 1848.33 745.815 Q1851.97 745.815 1853.77 742.274 Q1855.6 738.709 1855.6 731.603 Q1855.6 724.473 1853.77 720.931 Q1851.97 717.367 1848.33 717.367 M1848.33 713.663 Q1854.14 713.663 1857.2 718.269 Q1860.28 722.853 1860.28 731.603 Q1860.28 740.329 1857.2 744.936 Q1854.14 749.519 1848.33 749.519 Q1842.52 749.519 1839.45 744.936 Q1836.39 740.329 1836.39 731.603 Q1836.39 722.853 1839.45 718.269 Q1842.52 713.663 1848.33 713.663 Z\" fill=\"#000000\" fill-rule=\"evenodd\" fill-opacity=\"1\" /><path clip-path=\"url(#clip120)\" d=\"M2076.65 744.913 L2084.29 744.913 L2084.29 718.547 L2075.98 720.214 L2075.98 715.955 L2084.24 714.288 L2088.92 714.288 L2088.92 744.913 L2096.56 744.913 L2096.56 748.848 L2076.65 748.848 L2076.65 744.913 Z\" fill=\"#000000\" fill-rule=\"evenodd\" fill-opacity=\"1\" /><path clip-path=\"url(#clip120)\" d=\"M2318.86 744.913 L2335.18 744.913 L2335.18 748.848 L2313.23 748.848 L2313.23 744.913 Q2315.89 742.158 2320.48 737.528 Q2325.08 732.876 2326.26 731.533 Q2328.51 729.01 2329.39 727.274 Q2330.29 725.515 2330.29 723.825 Q2330.29 721.07 2328.35 719.334 Q2326.43 717.598 2323.32 717.598 Q2321.13 717.598 2318.67 718.362 Q2316.24 719.126 2313.46 720.677 L2313.46 715.955 Q2316.29 714.82 2318.74 714.242 Q2321.19 713.663 2323.23 713.663 Q2328.6 713.663 2331.8 716.348 Q2334.99 719.033 2334.99 723.524 Q2334.99 725.654 2334.18 727.575 Q2333.39 729.473 2331.29 732.066 Q2330.71 732.737 2327.61 735.954 Q2324.5 739.149 2318.86 744.913 Z\" fill=\"#000000\" fill-rule=\"evenodd\" fill-opacity=\"1\" /><polyline clip-path=\"url(#clip123)\" style=\"stroke:#000000; stroke-linecap:round; stroke-linejoin:round; stroke-width:2; stroke-opacity:0.1; fill:none\" points=\"\n",
       "  1343.91,668.357 2352.76,668.357 \n",
       "  \"/>\n",
       "<polyline clip-path=\"url(#clip123)\" style=\"stroke:#000000; stroke-linecap:round; stroke-linejoin:round; stroke-width:2; stroke-opacity:0.1; fill:none\" points=\"\n",
       "  1343.91,517.602 2352.76,517.602 \n",
       "  \"/>\n",
       "<polyline clip-path=\"url(#clip123)\" style=\"stroke:#000000; stroke-linecap:round; stroke-linejoin:round; stroke-width:2; stroke-opacity:0.1; fill:none\" points=\"\n",
       "  1343.91,366.846 2352.76,366.846 \n",
       "  \"/>\n",
       "<polyline clip-path=\"url(#clip123)\" style=\"stroke:#000000; stroke-linecap:round; stroke-linejoin:round; stroke-width:2; stroke-opacity:0.1; fill:none\" points=\"\n",
       "  1343.91,216.09 2352.76,216.09 \n",
       "  \"/>\n",
       "<polyline clip-path=\"url(#clip123)\" style=\"stroke:#000000; stroke-linecap:round; stroke-linejoin:round; stroke-width:2; stroke-opacity:0.1; fill:none\" points=\"\n",
       "  1343.91,65.3348 2352.76,65.3348 \n",
       "  \"/>\n",
       "<polyline clip-path=\"url(#clip120)\" style=\"stroke:#000000; stroke-linecap:round; stroke-linejoin:round; stroke-width:4; stroke-opacity:1; fill:none\" points=\"\n",
       "  1343.91,686.448 1343.91,47.2441 \n",
       "  \"/>\n",
       "<polyline clip-path=\"url(#clip120)\" style=\"stroke:#000000; stroke-linecap:round; stroke-linejoin:round; stroke-width:4; stroke-opacity:1; fill:none\" points=\"\n",
       "  1343.91,668.357 1362.81,668.357 \n",
       "  \"/>\n",
       "<polyline clip-path=\"url(#clip120)\" style=\"stroke:#000000; stroke-linecap:round; stroke-linejoin:round; stroke-width:4; stroke-opacity:1; fill:none\" points=\"\n",
       "  1343.91,517.602 1362.81,517.602 \n",
       "  \"/>\n",
       "<polyline clip-path=\"url(#clip120)\" style=\"stroke:#000000; stroke-linecap:round; stroke-linejoin:round; stroke-width:4; stroke-opacity:1; fill:none\" points=\"\n",
       "  1343.91,366.846 1362.81,366.846 \n",
       "  \"/>\n",
       "<polyline clip-path=\"url(#clip120)\" style=\"stroke:#000000; stroke-linecap:round; stroke-linejoin:round; stroke-width:4; stroke-opacity:1; fill:none\" points=\"\n",
       "  1343.91,216.09 1362.81,216.09 \n",
       "  \"/>\n",
       "<polyline clip-path=\"url(#clip120)\" style=\"stroke:#000000; stroke-linecap:round; stroke-linejoin:round; stroke-width:4; stroke-opacity:1; fill:none\" points=\"\n",
       "  1343.91,65.3348 1362.81,65.3348 \n",
       "  \"/>\n",
       "<path clip-path=\"url(#clip120)\" d=\"M1295.97 654.156 Q1292.36 654.156 1290.53 657.721 Q1288.72 661.262 1288.72 668.392 Q1288.72 675.498 1290.53 679.063 Q1292.36 682.605 1295.97 682.605 Q1299.6 682.605 1301.41 679.063 Q1303.24 675.498 1303.24 668.392 Q1303.24 661.262 1301.41 657.721 Q1299.6 654.156 1295.97 654.156 M1295.97 650.452 Q1301.78 650.452 1304.83 655.059 Q1307.91 659.642 1307.91 668.392 Q1307.91 677.119 1304.83 681.725 Q1301.78 686.308 1295.97 686.308 Q1290.16 686.308 1287.08 681.725 Q1284.02 677.119 1284.02 668.392 Q1284.02 659.642 1287.08 655.059 Q1290.16 650.452 1295.97 650.452 Z\" fill=\"#000000\" fill-rule=\"evenodd\" fill-opacity=\"1\" /><path clip-path=\"url(#clip120)\" d=\"M1288.01 530.946 L1295.64 530.946 L1295.64 504.581 L1287.33 506.247 L1287.33 501.988 L1295.6 500.322 L1300.27 500.322 L1300.27 530.946 L1307.91 530.946 L1307.91 534.882 L1288.01 534.882 L1288.01 530.946 Z\" fill=\"#000000\" fill-rule=\"evenodd\" fill-opacity=\"1\" /><path clip-path=\"url(#clip120)\" d=\"M1291.59 380.191 L1307.91 380.191 L1307.91 384.126 L1285.97 384.126 L1285.97 380.191 Q1288.63 377.436 1293.21 372.807 Q1297.82 368.154 1299 366.811 Q1301.25 364.288 1302.13 362.552 Q1303.03 360.793 1303.03 359.103 Q1303.03 356.348 1301.08 354.612 Q1299.16 352.876 1296.06 352.876 Q1293.86 352.876 1291.41 353.64 Q1288.98 354.404 1286.2 355.955 L1286.2 351.233 Q1289.02 350.098 1291.48 349.52 Q1293.93 348.941 1295.97 348.941 Q1301.34 348.941 1304.53 351.626 Q1307.73 354.311 1307.73 358.802 Q1307.73 360.932 1306.92 362.853 Q1306.13 364.751 1304.02 367.344 Q1303.45 368.015 1300.34 371.233 Q1297.24 374.427 1291.59 380.191 Z\" fill=\"#000000\" fill-rule=\"evenodd\" fill-opacity=\"1\" /><path clip-path=\"url(#clip120)\" d=\"M1300.78 214.736 Q1304.14 215.454 1306.01 217.722 Q1307.91 219.991 1307.91 223.324 Q1307.91 228.44 1304.39 231.241 Q1300.88 234.042 1294.39 234.042 Q1292.22 234.042 1289.9 233.602 Q1287.61 233.185 1285.16 232.329 L1285.16 227.815 Q1287.1 228.949 1289.42 229.528 Q1291.73 230.107 1294.26 230.107 Q1298.65 230.107 1300.95 228.37 Q1303.26 226.634 1303.26 223.324 Q1303.26 220.269 1301.11 218.556 Q1298.98 216.82 1295.16 216.82 L1291.13 216.82 L1291.13 212.977 L1295.34 212.977 Q1298.79 212.977 1300.62 211.611 Q1302.45 210.222 1302.45 207.63 Q1302.45 204.968 1300.55 203.556 Q1298.68 202.121 1295.16 202.121 Q1293.24 202.121 1291.04 202.537 Q1288.84 202.954 1286.2 203.833 L1286.2 199.667 Q1288.86 198.926 1291.18 198.556 Q1293.52 198.185 1295.58 198.185 Q1300.9 198.185 1304 200.616 Q1307.1 203.023 1307.1 207.144 Q1307.1 210.014 1305.46 212.005 Q1303.82 213.972 1300.78 214.736 Z\" fill=\"#000000\" fill-rule=\"evenodd\" fill-opacity=\"1\" /><path clip-path=\"url(#clip120)\" d=\"M1298.33 52.1288 L1286.52 70.5778 L1298.33 70.5778 L1298.33 52.1288 M1297.1 48.0548 L1302.98 48.0548 L1302.98 70.5778 L1307.91 70.5778 L1307.91 74.4667 L1302.98 74.4667 L1302.98 82.6148 L1298.33 82.6148 L1298.33 74.4667 L1282.73 74.4667 L1282.73 69.9528 L1297.1 48.0548 Z\" fill=\"#000000\" fill-rule=\"evenodd\" fill-opacity=\"1\" /><polyline clip-path=\"url(#clip123)\" style=\"stroke:#009af9; stroke-linecap:round; stroke-linejoin:round; stroke-width:4; stroke-opacity:1; fill:none\" points=\"\n",
       "  1372.47,65.3348 1396.26,124.129 1420.05,179.909 1443.85,232.673 1467.64,282.423 1491.43,329.157 1515.23,372.876 1539.02,413.58 1562.81,451.269 1586.61,485.943 \n",
       "  1610.4,517.602 1634.19,546.245 1657.99,571.874 1681.78,594.487 1705.57,614.085 1729.37,630.668 1753.16,644.236 1776.95,654.789 1800.75,662.327 1824.54,666.85 \n",
       "  1848.33,668.357 1872.13,666.85 1895.92,662.327 1919.71,654.789 1943.51,644.236 1967.3,630.668 1991.1,614.085 2014.89,594.487 2038.68,571.874 2062.48,546.245 \n",
       "  2086.27,517.602 2110.06,485.943 2133.86,451.269 2157.65,413.58 2181.44,372.876 2205.24,329.157 2229.03,282.423 2252.82,232.673 2276.62,179.909 2300.41,124.129 \n",
       "  2324.2,65.3348 \n",
       "  \"/>\n",
       "<path clip-path=\"url(#clip120)\" d=\"\n",
       "M148.867 1486.45 L1157.71 1486.45 L1157.71 847.244 L148.867 847.244  Z\n",
       "  \" fill=\"#ffffff\" fill-rule=\"evenodd\" fill-opacity=\"1\"/>\n",
       "<defs>\n",
       "  <clipPath id=\"clip124\">\n",
       "    <rect x=\"148\" y=\"847\" width=\"1010\" height=\"640\"/>\n",
       "  </clipPath>\n",
       "</defs>\n",
       "<polyline clip-path=\"url(#clip124)\" style=\"stroke:#000000; stroke-linecap:round; stroke-linejoin:round; stroke-width:2; stroke-opacity:0.1; fill:none\" points=\"\n",
       "  177.419,1486.45 177.419,847.244 \n",
       "  \"/>\n",
       "<polyline clip-path=\"url(#clip124)\" style=\"stroke:#000000; stroke-linecap:round; stroke-linejoin:round; stroke-width:2; stroke-opacity:0.1; fill:none\" points=\"\n",
       "  415.354,1486.45 415.354,847.244 \n",
       "  \"/>\n",
       "<polyline clip-path=\"url(#clip124)\" style=\"stroke:#000000; stroke-linecap:round; stroke-linejoin:round; stroke-width:2; stroke-opacity:0.1; fill:none\" points=\"\n",
       "  653.288,1486.45 653.288,847.244 \n",
       "  \"/>\n",
       "<polyline clip-path=\"url(#clip124)\" style=\"stroke:#000000; stroke-linecap:round; stroke-linejoin:round; stroke-width:2; stroke-opacity:0.1; fill:none\" points=\"\n",
       "  891.223,1486.45 891.223,847.244 \n",
       "  \"/>\n",
       "<polyline clip-path=\"url(#clip124)\" style=\"stroke:#000000; stroke-linecap:round; stroke-linejoin:round; stroke-width:2; stroke-opacity:0.1; fill:none\" points=\"\n",
       "  1129.16,1486.45 1129.16,847.244 \n",
       "  \"/>\n",
       "<polyline clip-path=\"url(#clip120)\" style=\"stroke:#000000; stroke-linecap:round; stroke-linejoin:round; stroke-width:4; stroke-opacity:1; fill:none\" points=\"\n",
       "  148.867,1486.45 1157.71,1486.45 \n",
       "  \"/>\n",
       "<polyline clip-path=\"url(#clip120)\" style=\"stroke:#000000; stroke-linecap:round; stroke-linejoin:round; stroke-width:4; stroke-opacity:1; fill:none\" points=\"\n",
       "  177.419,1486.45 177.419,1467.55 \n",
       "  \"/>\n",
       "<polyline clip-path=\"url(#clip120)\" style=\"stroke:#000000; stroke-linecap:round; stroke-linejoin:round; stroke-width:4; stroke-opacity:1; fill:none\" points=\"\n",
       "  415.354,1486.45 415.354,1467.55 \n",
       "  \"/>\n",
       "<polyline clip-path=\"url(#clip120)\" style=\"stroke:#000000; stroke-linecap:round; stroke-linejoin:round; stroke-width:4; stroke-opacity:1; fill:none\" points=\"\n",
       "  653.288,1486.45 653.288,1467.55 \n",
       "  \"/>\n",
       "<polyline clip-path=\"url(#clip120)\" style=\"stroke:#000000; stroke-linecap:round; stroke-linejoin:round; stroke-width:4; stroke-opacity:1; fill:none\" points=\"\n",
       "  891.223,1486.45 891.223,1467.55 \n",
       "  \"/>\n",
       "<polyline clip-path=\"url(#clip120)\" style=\"stroke:#000000; stroke-linecap:round; stroke-linejoin:round; stroke-width:4; stroke-opacity:1; fill:none\" points=\"\n",
       "  1129.16,1486.45 1129.16,1467.55 \n",
       "  \"/>\n",
       "<path clip-path=\"url(#clip120)\" d=\"M147.361 1532.02 L177.037 1532.02 L177.037 1535.95 L147.361 1535.95 L147.361 1532.02 Z\" fill=\"#000000\" fill-rule=\"evenodd\" fill-opacity=\"1\" /><path clip-path=\"url(#clip120)\" d=\"M191.157 1544.91 L207.477 1544.91 L207.477 1548.85 L185.532 1548.85 L185.532 1544.91 Q188.194 1542.16 192.778 1537.53 Q197.384 1532.88 198.565 1531.53 Q200.81 1529.01 201.69 1527.27 Q202.592 1525.51 202.592 1523.82 Q202.592 1521.07 200.648 1519.33 Q198.727 1517.6 195.625 1517.6 Q193.426 1517.6 190.972 1518.36 Q188.542 1519.13 185.764 1520.68 L185.764 1515.95 Q188.588 1514.82 191.042 1514.24 Q193.495 1513.66 195.532 1513.66 Q200.903 1513.66 204.097 1516.35 Q207.291 1519.03 207.291 1523.52 Q207.291 1525.65 206.481 1527.57 Q205.694 1529.47 203.588 1532.07 Q203.009 1532.74 199.907 1535.95 Q196.805 1539.15 191.157 1544.91 Z\" fill=\"#000000\" fill-rule=\"evenodd\" fill-opacity=\"1\" /><path clip-path=\"url(#clip120)\" d=\"M385.111 1532.02 L414.786 1532.02 L414.786 1535.95 L385.111 1535.95 L385.111 1532.02 Z\" fill=\"#000000\" fill-rule=\"evenodd\" fill-opacity=\"1\" /><path clip-path=\"url(#clip120)\" d=\"M425.689 1544.91 L433.328 1544.91 L433.328 1518.55 L425.018 1520.21 L425.018 1515.95 L433.282 1514.29 L437.958 1514.29 L437.958 1544.91 L445.596 1544.91 L445.596 1548.85 L425.689 1548.85 L425.689 1544.91 Z\" fill=\"#000000\" fill-rule=\"evenodd\" fill-opacity=\"1\" /><path clip-path=\"url(#clip120)\" d=\"M653.288 1517.37 Q649.677 1517.37 647.848 1520.93 Q646.043 1524.47 646.043 1531.6 Q646.043 1538.71 647.848 1542.27 Q649.677 1545.82 653.288 1545.82 Q656.922 1545.82 658.728 1542.27 Q660.557 1538.71 660.557 1531.6 Q660.557 1524.47 658.728 1520.93 Q656.922 1517.37 653.288 1517.37 M653.288 1513.66 Q659.098 1513.66 662.154 1518.27 Q665.233 1522.85 665.233 1531.6 Q665.233 1540.33 662.154 1544.94 Q659.098 1549.52 653.288 1549.52 Q647.478 1549.52 644.399 1544.94 Q641.344 1540.33 641.344 1531.6 Q641.344 1522.85 644.399 1518.27 Q647.478 1513.66 653.288 1513.66 Z\" fill=\"#000000\" fill-rule=\"evenodd\" fill-opacity=\"1\" /><path clip-path=\"url(#clip120)\" d=\"M881.605 1544.91 L889.244 1544.91 L889.244 1518.55 L880.934 1520.21 L880.934 1515.95 L889.197 1514.29 L893.873 1514.29 L893.873 1544.91 L901.512 1544.91 L901.512 1548.85 L881.605 1548.85 L881.605 1544.91 Z\" fill=\"#000000\" fill-rule=\"evenodd\" fill-opacity=\"1\" /><path clip-path=\"url(#clip120)\" d=\"M1123.81 1544.91 L1140.13 1544.91 L1140.13 1548.85 L1118.19 1548.85 L1118.19 1544.91 Q1120.85 1542.16 1125.43 1537.53 Q1130.04 1532.88 1131.22 1531.53 Q1133.46 1529.01 1134.34 1527.27 Q1135.25 1525.51 1135.25 1523.82 Q1135.25 1521.07 1133.3 1519.33 Q1131.38 1517.6 1128.28 1517.6 Q1126.08 1517.6 1123.63 1518.36 Q1121.19 1519.13 1118.42 1520.68 L1118.42 1515.95 Q1121.24 1514.82 1123.69 1514.24 Q1126.15 1513.66 1128.19 1513.66 Q1133.56 1513.66 1136.75 1516.35 Q1139.94 1519.03 1139.94 1523.52 Q1139.94 1525.65 1139.13 1527.57 Q1138.35 1529.47 1136.24 1532.07 Q1135.66 1532.74 1132.56 1535.95 Q1129.46 1539.15 1123.81 1544.91 Z\" fill=\"#000000\" fill-rule=\"evenodd\" fill-opacity=\"1\" /><polyline clip-path=\"url(#clip124)\" style=\"stroke:#000000; stroke-linecap:round; stroke-linejoin:round; stroke-width:2; stroke-opacity:0.1; fill:none\" points=\"\n",
       "  148.867,1392.98 1157.71,1392.98 \n",
       "  \"/>\n",
       "<polyline clip-path=\"url(#clip124)\" style=\"stroke:#000000; stroke-linecap:round; stroke-linejoin:round; stroke-width:2; stroke-opacity:0.1; fill:none\" points=\"\n",
       "  148.867,1279.91 1157.71,1279.91 \n",
       "  \"/>\n",
       "<polyline clip-path=\"url(#clip124)\" style=\"stroke:#000000; stroke-linecap:round; stroke-linejoin:round; stroke-width:2; stroke-opacity:0.1; fill:none\" points=\"\n",
       "  148.867,1166.85 1157.71,1166.85 \n",
       "  \"/>\n",
       "<polyline clip-path=\"url(#clip124)\" style=\"stroke:#000000; stroke-linecap:round; stroke-linejoin:round; stroke-width:2; stroke-opacity:0.1; fill:none\" points=\"\n",
       "  148.867,1053.78 1157.71,1053.78 \n",
       "  \"/>\n",
       "<polyline clip-path=\"url(#clip124)\" style=\"stroke:#000000; stroke-linecap:round; stroke-linejoin:round; stroke-width:2; stroke-opacity:0.1; fill:none\" points=\"\n",
       "  148.867,940.713 1157.71,940.713 \n",
       "  \"/>\n",
       "<polyline clip-path=\"url(#clip120)\" style=\"stroke:#000000; stroke-linecap:round; stroke-linejoin:round; stroke-width:4; stroke-opacity:1; fill:none\" points=\"\n",
       "  148.867,1486.45 148.867,847.244 \n",
       "  \"/>\n",
       "<polyline clip-path=\"url(#clip120)\" style=\"stroke:#000000; stroke-linecap:round; stroke-linejoin:round; stroke-width:4; stroke-opacity:1; fill:none\" points=\"\n",
       "  148.867,1392.98 167.764,1392.98 \n",
       "  \"/>\n",
       "<polyline clip-path=\"url(#clip120)\" style=\"stroke:#000000; stroke-linecap:round; stroke-linejoin:round; stroke-width:4; stroke-opacity:1; fill:none\" points=\"\n",
       "  148.867,1279.91 167.764,1279.91 \n",
       "  \"/>\n",
       "<polyline clip-path=\"url(#clip120)\" style=\"stroke:#000000; stroke-linecap:round; stroke-linejoin:round; stroke-width:4; stroke-opacity:1; fill:none\" points=\"\n",
       "  148.867,1166.85 167.764,1166.85 \n",
       "  \"/>\n",
       "<polyline clip-path=\"url(#clip120)\" style=\"stroke:#000000; stroke-linecap:round; stroke-linejoin:round; stroke-width:4; stroke-opacity:1; fill:none\" points=\"\n",
       "  148.867,1053.78 167.764,1053.78 \n",
       "  \"/>\n",
       "<polyline clip-path=\"url(#clip120)\" style=\"stroke:#000000; stroke-linecap:round; stroke-linejoin:round; stroke-width:4; stroke-opacity:1; fill:none\" points=\"\n",
       "  148.867,940.713 167.764,940.713 \n",
       "  \"/>\n",
       "<path clip-path=\"url(#clip120)\" d=\"M50.9921 1393.43 L80.6679 1393.43 L80.6679 1397.37 L50.9921 1397.37 L50.9921 1393.43 Z\" fill=\"#000000\" fill-rule=\"evenodd\" fill-opacity=\"1\" /><path clip-path=\"url(#clip120)\" d=\"M101.339 1391.12 Q98.1909 1391.12 96.3391 1393.27 Q94.5104 1395.42 94.5104 1399.17 Q94.5104 1402.9 96.3391 1405.07 Q98.1909 1407.23 101.339 1407.23 Q104.487 1407.23 106.316 1405.07 Q108.168 1402.9 108.168 1399.17 Q108.168 1395.42 106.316 1393.27 Q104.487 1391.12 101.339 1391.12 M110.621 1376.46 L110.621 1380.72 Q108.862 1379.89 107.057 1379.45 Q105.274 1379.01 103.515 1379.01 Q98.8854 1379.01 96.4317 1382.13 Q94.0012 1385.26 93.6539 1391.58 Q95.0197 1389.57 97.0798 1388.5 Q99.14 1387.41 101.617 1387.41 Q106.825 1387.41 109.834 1390.58 Q112.867 1393.73 112.867 1399.17 Q112.867 1404.5 109.719 1407.71 Q106.571 1410.93 101.339 1410.93 Q95.3437 1410.93 92.1725 1406.35 Q89.0012 1401.74 89.0012 1393.01 Q89.0012 1384.82 92.89 1379.96 Q96.7789 1375.07 103.33 1375.07 Q105.089 1375.07 106.871 1375.42 Q108.677 1375.77 110.621 1376.46 Z\" fill=\"#000000\" fill-rule=\"evenodd\" fill-opacity=\"1\" /><path clip-path=\"url(#clip120)\" d=\"M51.8023 1280.36 L81.4781 1280.36 L81.4781 1284.3 L51.8023 1284.3 L51.8023 1280.36 Z\" fill=\"#000000\" fill-rule=\"evenodd\" fill-opacity=\"1\" /><path clip-path=\"url(#clip120)\" d=\"M105.737 1278.56 Q109.094 1279.28 110.969 1281.54 Q112.867 1283.81 112.867 1287.15 Q112.867 1292.26 109.348 1295.06 Q105.83 1297.86 99.3483 1297.86 Q97.1724 1297.86 94.8576 1297.42 Q92.566 1297.01 90.1123 1296.15 L90.1123 1291.64 Q92.0567 1292.77 94.3715 1293.35 Q96.6863 1293.93 99.2095 1293.93 Q103.608 1293.93 105.899 1292.19 Q108.214 1290.46 108.214 1287.15 Q108.214 1284.09 106.061 1282.38 Q103.932 1280.64 100.112 1280.64 L96.0845 1280.64 L96.0845 1276.8 L100.297 1276.8 Q103.746 1276.8 105.575 1275.43 Q107.404 1274.04 107.404 1271.45 Q107.404 1268.79 105.506 1267.38 Q103.631 1265.94 100.112 1265.94 Q98.1909 1265.94 95.9919 1266.36 Q93.7928 1266.78 91.1539 1267.66 L91.1539 1263.49 Q93.816 1262.75 96.1308 1262.38 Q98.4687 1262.01 100.529 1262.01 Q105.853 1262.01 108.955 1264.44 Q112.057 1266.85 112.057 1270.97 Q112.057 1273.84 110.413 1275.83 Q108.77 1277.79 105.737 1278.56 Z\" fill=\"#000000\" fill-rule=\"evenodd\" fill-opacity=\"1\" /><path clip-path=\"url(#clip120)\" d=\"M100.922 1152.64 Q97.3113 1152.64 95.4826 1156.21 Q93.6771 1159.75 93.6771 1166.88 Q93.6771 1173.99 95.4826 1177.55 Q97.3113 1181.09 100.922 1181.09 Q104.557 1181.09 106.362 1177.55 Q108.191 1173.99 108.191 1166.88 Q108.191 1159.75 106.362 1156.21 Q104.557 1152.64 100.922 1152.64 M100.922 1148.94 Q106.733 1148.94 109.788 1153.55 Q112.867 1158.13 112.867 1166.88 Q112.867 1175.61 109.788 1180.21 Q106.733 1184.8 100.922 1184.8 Q95.1123 1184.8 92.0336 1180.21 Q88.978 1175.61 88.978 1166.88 Q88.978 1158.13 92.0336 1153.55 Q95.1123 1148.94 100.922 1148.94 Z\" fill=\"#000000\" fill-rule=\"evenodd\" fill-opacity=\"1\" /><path clip-path=\"url(#clip120)\" d=\"M105.737 1052.43 Q109.094 1053.14 110.969 1055.41 Q112.867 1057.68 112.867 1061.01 Q112.867 1066.13 109.348 1068.93 Q105.83 1071.73 99.3483 1071.73 Q97.1724 1071.73 94.8576 1071.29 Q92.566 1070.87 90.1123 1070.02 L90.1123 1065.5 Q92.0567 1066.64 94.3715 1067.22 Q96.6863 1067.8 99.2095 1067.8 Q103.608 1067.8 105.899 1066.06 Q108.214 1064.32 108.214 1061.01 Q108.214 1057.96 106.061 1056.24 Q103.932 1054.51 100.112 1054.51 L96.0845 1054.51 L96.0845 1050.67 L100.297 1050.67 Q103.746 1050.67 105.575 1049.3 Q107.404 1047.91 107.404 1045.32 Q107.404 1042.66 105.506 1041.24 Q103.631 1039.81 100.112 1039.81 Q98.1909 1039.81 95.9919 1040.23 Q93.7928 1040.64 91.1539 1041.52 L91.1539 1037.36 Q93.816 1036.62 96.1308 1036.24 Q98.4687 1035.87 100.529 1035.87 Q105.853 1035.87 108.955 1038.3 Q112.057 1040.71 112.057 1044.83 Q112.057 1047.7 110.413 1049.69 Q108.77 1051.66 105.737 1052.43 Z\" fill=\"#000000\" fill-rule=\"evenodd\" fill-opacity=\"1\" /><path clip-path=\"url(#clip120)\" d=\"M101.339 938.849 Q98.1909 938.849 96.3391 941.002 Q94.5104 943.155 94.5104 946.905 Q94.5104 950.632 96.3391 952.807 Q98.1909 954.96 101.339 954.96 Q104.487 954.96 106.316 952.807 Q108.168 950.632 108.168 946.905 Q108.168 943.155 106.316 941.002 Q104.487 938.849 101.339 938.849 M110.621 924.196 L110.621 928.456 Q108.862 927.622 107.057 927.183 Q105.274 926.743 103.515 926.743 Q98.8854 926.743 96.4317 929.868 Q94.0012 932.993 93.6539 939.312 Q95.0197 937.298 97.0798 936.233 Q99.14 935.145 101.617 935.145 Q106.825 935.145 109.834 938.317 Q112.867 941.465 112.867 946.905 Q112.867 952.229 109.719 955.446 Q106.571 958.664 101.339 958.664 Q95.3437 958.664 92.1725 954.081 Q89.0012 949.474 89.0012 940.747 Q89.0012 932.553 92.89 927.692 Q96.7789 922.808 103.33 922.808 Q105.089 922.808 106.871 923.155 Q108.677 923.502 110.621 924.196 Z\" fill=\"#000000\" fill-rule=\"evenodd\" fill-opacity=\"1\" /><polyline clip-path=\"url(#clip124)\" style=\"stroke:#009af9; stroke-linecap:round; stroke-linejoin:round; stroke-width:4; stroke-opacity:1; fill:none\" points=\"\n",
       "  177.419,1468.36 201.212,1425.35 225.006,1386.65 248.799,1352.01 272.593,1321.22 296.386,1294.05 320.18,1270.26 343.973,1249.65 367.767,1231.97 391.56,1217.01 \n",
       "  415.354,1204.53 439.147,1194.32 462.94,1186.14 486.734,1179.77 510.527,1174.99 534.321,1171.56 558.114,1169.26 581.908,1167.86 605.701,1167.15 629.495,1166.88 \n",
       "  653.288,1166.85 677.082,1166.81 700.875,1166.54 724.669,1165.83 748.462,1164.43 772.255,1162.13 796.049,1158.71 819.842,1153.92 843.636,1147.55 867.429,1139.37 \n",
       "  891.223,1129.16 915.016,1116.68 938.81,1101.72 962.603,1084.04 986.397,1063.43 1010.19,1039.65 1033.98,1012.47 1057.78,981.68 1081.57,947.044 1105.36,908.338 \n",
       "  1129.16,865.335 \n",
       "  \"/>\n",
       "<path clip-path=\"url(#clip120)\" d=\"\n",
       "M1343.91 1486.45 L2352.76 1486.45 L2352.76 847.244 L1343.91 847.244  Z\n",
       "  \" fill=\"#ffffff\" fill-rule=\"evenodd\" fill-opacity=\"1\"/>\n",
       "<defs>\n",
       "  <clipPath id=\"clip125\">\n",
       "    <rect x=\"1343\" y=\"847\" width=\"1010\" height=\"640\"/>\n",
       "  </clipPath>\n",
       "</defs>\n",
       "<polyline clip-path=\"url(#clip125)\" style=\"stroke:#000000; stroke-linecap:round; stroke-linejoin:round; stroke-width:2; stroke-opacity:0.1; fill:none\" points=\"\n",
       "  1372.47,1486.45 1372.47,847.244 \n",
       "  \"/>\n",
       "<polyline clip-path=\"url(#clip125)\" style=\"stroke:#000000; stroke-linecap:round; stroke-linejoin:round; stroke-width:2; stroke-opacity:0.1; fill:none\" points=\"\n",
       "  1610.4,1486.45 1610.4,847.244 \n",
       "  \"/>\n",
       "<polyline clip-path=\"url(#clip125)\" style=\"stroke:#000000; stroke-linecap:round; stroke-linejoin:round; stroke-width:2; stroke-opacity:0.1; fill:none\" points=\"\n",
       "  1848.33,1486.45 1848.33,847.244 \n",
       "  \"/>\n",
       "<polyline clip-path=\"url(#clip125)\" style=\"stroke:#000000; stroke-linecap:round; stroke-linejoin:round; stroke-width:2; stroke-opacity:0.1; fill:none\" points=\"\n",
       "  2086.27,1486.45 2086.27,847.244 \n",
       "  \"/>\n",
       "<polyline clip-path=\"url(#clip125)\" style=\"stroke:#000000; stroke-linecap:round; stroke-linejoin:round; stroke-width:2; stroke-opacity:0.1; fill:none\" points=\"\n",
       "  2324.2,1486.45 2324.2,847.244 \n",
       "  \"/>\n",
       "<polyline clip-path=\"url(#clip120)\" style=\"stroke:#000000; stroke-linecap:round; stroke-linejoin:round; stroke-width:4; stroke-opacity:1; fill:none\" points=\"\n",
       "  1343.91,1486.45 2352.76,1486.45 \n",
       "  \"/>\n",
       "<polyline clip-path=\"url(#clip120)\" style=\"stroke:#000000; stroke-linecap:round; stroke-linejoin:round; stroke-width:4; stroke-opacity:1; fill:none\" points=\"\n",
       "  1372.47,1486.45 1372.47,1467.55 \n",
       "  \"/>\n",
       "<polyline clip-path=\"url(#clip120)\" style=\"stroke:#000000; stroke-linecap:round; stroke-linejoin:round; stroke-width:4; stroke-opacity:1; fill:none\" points=\"\n",
       "  1610.4,1486.45 1610.4,1467.55 \n",
       "  \"/>\n",
       "<polyline clip-path=\"url(#clip120)\" style=\"stroke:#000000; stroke-linecap:round; stroke-linejoin:round; stroke-width:4; stroke-opacity:1; fill:none\" points=\"\n",
       "  1848.33,1486.45 1848.33,1467.55 \n",
       "  \"/>\n",
       "<polyline clip-path=\"url(#clip120)\" style=\"stroke:#000000; stroke-linecap:round; stroke-linejoin:round; stroke-width:4; stroke-opacity:1; fill:none\" points=\"\n",
       "  2086.27,1486.45 2086.27,1467.55 \n",
       "  \"/>\n",
       "<polyline clip-path=\"url(#clip120)\" style=\"stroke:#000000; stroke-linecap:round; stroke-linejoin:round; stroke-width:4; stroke-opacity:1; fill:none\" points=\"\n",
       "  2324.2,1486.45 2324.2,1467.55 \n",
       "  \"/>\n",
       "<path clip-path=\"url(#clip120)\" d=\"M1342.41 1532.02 L1372.08 1532.02 L1372.08 1535.95 L1342.41 1535.95 L1342.41 1532.02 Z\" fill=\"#000000\" fill-rule=\"evenodd\" fill-opacity=\"1\" /><path clip-path=\"url(#clip120)\" d=\"M1386.2 1544.91 L1402.52 1544.91 L1402.52 1548.85 L1380.58 1548.85 L1380.58 1544.91 Q1383.24 1542.16 1387.82 1537.53 Q1392.43 1532.88 1393.61 1531.53 Q1395.86 1529.01 1396.74 1527.27 Q1397.64 1525.51 1397.64 1523.82 Q1397.64 1521.07 1395.69 1519.33 Q1393.77 1517.6 1390.67 1517.6 Q1388.47 1517.6 1386.02 1518.36 Q1383.59 1519.13 1380.81 1520.68 L1380.81 1515.95 Q1383.63 1514.82 1386.09 1514.24 Q1388.54 1513.66 1390.58 1513.66 Q1395.95 1513.66 1399.14 1516.35 Q1402.34 1519.03 1402.34 1523.52 Q1402.34 1525.65 1401.53 1527.57 Q1400.74 1529.47 1398.63 1532.07 Q1398.06 1532.74 1394.95 1535.95 Q1391.85 1539.15 1386.2 1544.91 Z\" fill=\"#000000\" fill-rule=\"evenodd\" fill-opacity=\"1\" /><path clip-path=\"url(#clip120)\" d=\"M1580.16 1532.02 L1609.83 1532.02 L1609.83 1535.95 L1580.16 1535.95 L1580.16 1532.02 Z\" fill=\"#000000\" fill-rule=\"evenodd\" fill-opacity=\"1\" /><path clip-path=\"url(#clip120)\" d=\"M1620.74 1544.91 L1628.37 1544.91 L1628.37 1518.55 L1620.06 1520.21 L1620.06 1515.95 L1628.33 1514.29 L1633 1514.29 L1633 1544.91 L1640.64 1544.91 L1640.64 1548.85 L1620.74 1548.85 L1620.74 1544.91 Z\" fill=\"#000000\" fill-rule=\"evenodd\" fill-opacity=\"1\" /><path clip-path=\"url(#clip120)\" d=\"M1848.33 1517.37 Q1844.72 1517.37 1842.89 1520.93 Q1841.09 1524.47 1841.09 1531.6 Q1841.09 1538.71 1842.89 1542.27 Q1844.72 1545.82 1848.33 1545.82 Q1851.97 1545.82 1853.77 1542.27 Q1855.6 1538.71 1855.6 1531.6 Q1855.6 1524.47 1853.77 1520.93 Q1851.97 1517.37 1848.33 1517.37 M1848.33 1513.66 Q1854.14 1513.66 1857.2 1518.27 Q1860.28 1522.85 1860.28 1531.6 Q1860.28 1540.33 1857.2 1544.94 Q1854.14 1549.52 1848.33 1549.52 Q1842.52 1549.52 1839.45 1544.94 Q1836.39 1540.33 1836.39 1531.6 Q1836.39 1522.85 1839.45 1518.27 Q1842.52 1513.66 1848.33 1513.66 Z\" fill=\"#000000\" fill-rule=\"evenodd\" fill-opacity=\"1\" /><path clip-path=\"url(#clip120)\" d=\"M2076.65 1544.91 L2084.29 1544.91 L2084.29 1518.55 L2075.98 1520.21 L2075.98 1515.95 L2084.24 1514.29 L2088.92 1514.29 L2088.92 1544.91 L2096.56 1544.91 L2096.56 1548.85 L2076.65 1548.85 L2076.65 1544.91 Z\" fill=\"#000000\" fill-rule=\"evenodd\" fill-opacity=\"1\" /><path clip-path=\"url(#clip120)\" d=\"M2318.86 1544.91 L2335.18 1544.91 L2335.18 1548.85 L2313.23 1548.85 L2313.23 1544.91 Q2315.89 1542.16 2320.48 1537.53 Q2325.08 1532.88 2326.26 1531.53 Q2328.51 1529.01 2329.39 1527.27 Q2330.29 1525.51 2330.29 1523.82 Q2330.29 1521.07 2328.35 1519.33 Q2326.43 1517.6 2323.32 1517.6 Q2321.13 1517.6 2318.67 1518.36 Q2316.24 1519.13 2313.46 1520.68 L2313.46 1515.95 Q2316.29 1514.82 2318.74 1514.24 Q2321.19 1513.66 2323.23 1513.66 Q2328.6 1513.66 2331.8 1516.35 Q2334.99 1519.03 2334.99 1523.52 Q2334.99 1525.65 2334.18 1527.57 Q2333.39 1529.47 2331.29 1532.07 Q2330.71 1532.74 2327.61 1535.95 Q2324.5 1539.15 2318.86 1544.91 Z\" fill=\"#000000\" fill-rule=\"evenodd\" fill-opacity=\"1\" /><polyline clip-path=\"url(#clip125)\" style=\"stroke:#000000; stroke-linecap:round; stroke-linejoin:round; stroke-width:2; stroke-opacity:0.1; fill:none\" points=\"\n",
       "  1343.91,1468.36 2352.76,1468.36 \n",
       "  \"/>\n",
       "<polyline clip-path=\"url(#clip125)\" style=\"stroke:#000000; stroke-linecap:round; stroke-linejoin:round; stroke-width:2; stroke-opacity:0.1; fill:none\" points=\"\n",
       "  1343.91,1279.91 2352.76,1279.91 \n",
       "  \"/>\n",
       "<polyline clip-path=\"url(#clip125)\" style=\"stroke:#000000; stroke-linecap:round; stroke-linejoin:round; stroke-width:2; stroke-opacity:0.1; fill:none\" points=\"\n",
       "  1343.91,1091.47 2352.76,1091.47 \n",
       "  \"/>\n",
       "<polyline clip-path=\"url(#clip125)\" style=\"stroke:#000000; stroke-linecap:round; stroke-linejoin:round; stroke-width:2; stroke-opacity:0.1; fill:none\" points=\"\n",
       "  1343.91,903.024 2352.76,903.024 \n",
       "  \"/>\n",
       "<polyline clip-path=\"url(#clip120)\" style=\"stroke:#000000; stroke-linecap:round; stroke-linejoin:round; stroke-width:4; stroke-opacity:1; fill:none\" points=\"\n",
       "  1343.91,1486.45 1343.91,847.244 \n",
       "  \"/>\n",
       "<polyline clip-path=\"url(#clip120)\" style=\"stroke:#000000; stroke-linecap:round; stroke-linejoin:round; stroke-width:4; stroke-opacity:1; fill:none\" points=\"\n",
       "  1343.91,1468.36 1362.81,1468.36 \n",
       "  \"/>\n",
       "<polyline clip-path=\"url(#clip120)\" style=\"stroke:#000000; stroke-linecap:round; stroke-linejoin:round; stroke-width:4; stroke-opacity:1; fill:none\" points=\"\n",
       "  1343.91,1279.91 1362.81,1279.91 \n",
       "  \"/>\n",
       "<polyline clip-path=\"url(#clip120)\" style=\"stroke:#000000; stroke-linecap:round; stroke-linejoin:round; stroke-width:4; stroke-opacity:1; fill:none\" points=\"\n",
       "  1343.91,1091.47 1362.81,1091.47 \n",
       "  \"/>\n",
       "<polyline clip-path=\"url(#clip120)\" style=\"stroke:#000000; stroke-linecap:round; stroke-linejoin:round; stroke-width:4; stroke-opacity:1; fill:none\" points=\"\n",
       "  1343.91,903.024 1362.81,903.024 \n",
       "  \"/>\n",
       "<path clip-path=\"url(#clip120)\" d=\"M1295.97 1454.16 Q1292.36 1454.16 1290.53 1457.72 Q1288.72 1461.26 1288.72 1468.39 Q1288.72 1475.5 1290.53 1479.06 Q1292.36 1482.6 1295.97 1482.6 Q1299.6 1482.6 1301.41 1479.06 Q1303.24 1475.5 1303.24 1468.39 Q1303.24 1461.26 1301.41 1457.72 Q1299.6 1454.16 1295.97 1454.16 M1295.97 1450.45 Q1301.78 1450.45 1304.83 1455.06 Q1307.91 1459.64 1307.91 1468.39 Q1307.91 1477.12 1304.83 1481.73 Q1301.78 1486.31 1295.97 1486.31 Q1290.16 1486.31 1287.08 1481.73 Q1284.02 1477.12 1284.02 1468.39 Q1284.02 1459.64 1287.08 1455.06 Q1290.16 1450.45 1295.97 1450.45 Z\" fill=\"#000000\" fill-rule=\"evenodd\" fill-opacity=\"1\" /><path clip-path=\"url(#clip120)\" d=\"M1287.01 1262.63 L1305.37 1262.63 L1305.37 1266.57 L1291.29 1266.57 L1291.29 1275.04 Q1292.31 1274.69 1293.33 1274.53 Q1294.35 1274.35 1295.37 1274.35 Q1301.15 1274.35 1304.53 1277.52 Q1307.91 1280.69 1307.91 1286.1 Q1307.91 1291.68 1304.44 1294.79 Q1300.97 1297.86 1294.65 1297.86 Q1292.47 1297.86 1290.2 1297.49 Q1287.96 1297.12 1285.55 1296.38 L1285.55 1291.68 Q1287.64 1292.82 1289.86 1293.37 Q1292.08 1293.93 1294.56 1293.93 Q1298.56 1293.93 1300.9 1291.82 Q1303.24 1289.72 1303.24 1286.1 Q1303.24 1282.49 1300.9 1280.39 Q1298.56 1278.28 1294.56 1278.28 Q1292.68 1278.28 1290.81 1278.7 Q1288.95 1279.11 1287.01 1279.99 L1287.01 1262.63 Z\" fill=\"#000000\" fill-rule=\"evenodd\" fill-opacity=\"1\" /><path clip-path=\"url(#clip120)\" d=\"M1256.62 1104.81 L1264.26 1104.81 L1264.26 1078.45 L1255.95 1080.11 L1255.95 1075.85 L1264.21 1074.19 L1268.89 1074.19 L1268.89 1104.81 L1276.52 1104.81 L1276.52 1108.75 L1256.62 1108.75 L1256.62 1104.81 Z\" fill=\"#000000\" fill-rule=\"evenodd\" fill-opacity=\"1\" /><path clip-path=\"url(#clip120)\" d=\"M1295.97 1077.27 Q1292.36 1077.27 1290.53 1080.83 Q1288.72 1084.37 1288.72 1091.5 Q1288.72 1098.61 1290.53 1102.17 Q1292.36 1105.72 1295.97 1105.72 Q1299.6 1105.72 1301.41 1102.17 Q1303.24 1098.61 1303.24 1091.5 Q1303.24 1084.37 1301.41 1080.83 Q1299.6 1077.27 1295.97 1077.27 M1295.97 1073.56 Q1301.78 1073.56 1304.83 1078.17 Q1307.91 1082.75 1307.91 1091.5 Q1307.91 1100.23 1304.83 1104.84 Q1301.78 1109.42 1295.97 1109.42 Q1290.16 1109.42 1287.08 1104.84 Q1284.02 1100.23 1284.02 1091.5 Q1284.02 1082.75 1287.08 1078.17 Q1290.16 1073.56 1295.97 1073.56 Z\" fill=\"#000000\" fill-rule=\"evenodd\" fill-opacity=\"1\" /><path clip-path=\"url(#clip120)\" d=\"M1257.61 916.369 L1265.25 916.369 L1265.25 890.003 L1256.94 891.67 L1256.94 887.41 L1265.21 885.744 L1269.88 885.744 L1269.88 916.369 L1277.52 916.369 L1277.52 920.304 L1257.61 920.304 L1257.61 916.369 Z\" fill=\"#000000\" fill-rule=\"evenodd\" fill-opacity=\"1\" /><path clip-path=\"url(#clip120)\" d=\"M1287.01 885.744 L1305.37 885.744 L1305.37 889.679 L1291.29 889.679 L1291.29 898.151 Q1292.31 897.804 1293.33 897.642 Q1294.35 897.457 1295.37 897.457 Q1301.15 897.457 1304.53 900.628 Q1307.91 903.799 1307.91 909.216 Q1307.91 914.794 1304.44 917.896 Q1300.97 920.975 1294.65 920.975 Q1292.47 920.975 1290.2 920.605 Q1287.96 920.234 1285.55 919.493 L1285.55 914.794 Q1287.64 915.929 1289.86 916.484 Q1292.08 917.04 1294.56 917.04 Q1298.56 917.04 1300.9 914.933 Q1303.24 912.827 1303.24 909.216 Q1303.24 905.605 1300.9 903.498 Q1298.56 901.392 1294.56 901.392 Q1292.68 901.392 1290.81 901.808 Q1288.95 902.225 1287.01 903.105 L1287.01 885.744 Z\" fill=\"#000000\" fill-rule=\"evenodd\" fill-opacity=\"1\" /><polyline clip-path=\"url(#clip125)\" style=\"stroke:#009af9; stroke-linecap:round; stroke-linejoin:round; stroke-width:4; stroke-opacity:1; fill:none\" points=\"\n",
       "  1372.47,865.335 1396.26,977.192 1420.05,1072.71 1443.85,1153.58 1467.64,1221.36 1491.43,1277.56 1515.23,1323.57 1539.02,1360.71 1562.81,1390.21 1586.61,1413.18 \n",
       "  1610.4,1430.67 1634.19,1443.63 1657.99,1452.92 1681.78,1459.31 1705.57,1463.47 1729.37,1466 1753.16,1467.39 1776.95,1468.05 1800.75,1468.3 1824.54,1468.35 \n",
       "  1848.33,1468.36 1872.13,1468.35 1895.92,1468.3 1919.71,1468.05 1943.51,1467.39 1967.3,1466 1991.1,1463.47 2014.89,1459.31 2038.68,1452.92 2062.48,1443.63 \n",
       "  2086.27,1430.67 2110.06,1413.18 2133.86,1390.21 2157.65,1360.71 2181.44,1323.57 2205.24,1277.56 2229.03,1221.36 2252.82,1153.58 2276.62,1072.71 2300.41,977.192 \n",
       "  2324.2,865.335 \n",
       "  \"/>\n",
       "</svg>\n"
      ]
     },
     "execution_count": 72,
     "metadata": {},
     "output_type": "execute_result"
    }
   ],
   "source": [
    "p1 = plot(x,x)\n",
    "p2 = plot(x,x.^2)\n",
    "p3 = plot(x,x.^3)\n",
    "p4 = plot(x,x.^4)\n",
    "plot(p1,p2,p3,p4,layout=(2,2),legend=false)"
   ]
  },
  {
   "cell_type": "markdown",
   "id": "1a82e747",
   "metadata": {},
   "source": [
    "## Multiple dispatch\n",
    "\n",
    "One of the key features of Julia is Multiple dispatch that makes softwares:\n",
    "\n",
    "- fast\n",
    "- extensible \n",
    "- programmable\n",
    "- fun to play with"
   ]
  },
  {
   "cell_type": "code",
   "execution_count": 1,
   "id": "44dcb8ad",
   "metadata": {},
   "outputs": [
    {
     "data": {
      "text/html": [
       "# 190 methods for generic function <b>+</b>:<ul><li> +(x::<b>T</b>, y::<b>T</b>)<i> where T<:Union{Int128, Int16, Int32, Int64, Int8, UInt128, UInt16, UInt32, UInt64, UInt8}</i> in Base at <a href=\"https://github.com/JuliaLang/julia/tree/1b93d53fc4bb59350ada898038ed4de2994cce33/base/int.jl#L87\" target=\"_blank\">int.jl:87</a></li> <li> +(c::<b>Union{UInt16, UInt32, UInt64, UInt8}</b>, x::<b>BigInt</b>) in Base.GMP at <a href=\"https://github.com/JuliaLang/julia/tree/1b93d53fc4bb59350ada898038ed4de2994cce33/base/gmp.jl#L528\" target=\"_blank\">gmp.jl:528</a></li> <li> +(c::<b>Union{Int16, Int32, Int64, Int8}</b>, x::<b>BigInt</b>) in Base.GMP at <a href=\"https://github.com/JuliaLang/julia/tree/1b93d53fc4bb59350ada898038ed4de2994cce33/base/gmp.jl#L534\" target=\"_blank\">gmp.jl:534</a></li> <li> +(c::<b>Union{UInt16, UInt32, UInt64, UInt8}</b>, x::<b>BigFloat</b>) in Base.MPFR at <a href=\"https://github.com/JuliaLang/julia/tree/1b93d53fc4bb59350ada898038ed4de2994cce33/base/mpfr.jl#L376\" target=\"_blank\">mpfr.jl:376</a></li> <li> +(c::<b>Union{Int16, Int32, Int64, Int8}</b>, x::<b>BigFloat</b>) in Base.MPFR at <a href=\"https://github.com/JuliaLang/julia/tree/1b93d53fc4bb59350ada898038ed4de2994cce33/base/mpfr.jl#L384\" target=\"_blank\">mpfr.jl:384</a></li> <li> +(c::<b>Union{Float16, Float32, Float64}</b>, x::<b>BigFloat</b>) in Base.MPFR at <a href=\"https://github.com/JuliaLang/julia/tree/1b93d53fc4bb59350ada898038ed4de2994cce33/base/mpfr.jl#L392\" target=\"_blank\">mpfr.jl:392</a></li> <li> +(x::<b>Union{Dates.CompoundPeriod, Dates.Period}</b>) in Dates at <a href=\"file:///buildworker/worker/package_linux64/build/usr/share/julia/stdlib/v1.6/Dates/src/periods.jl\" target=\"_blank\">/opt/julia-1.6.2/share/julia/stdlib/v1.6/Dates/src/periods.jl:362</a></li> <li> +(y::<b>AbstractFloat</b>, x::<b>Bool</b>) in Base at <a href=\"https://github.com/JuliaLang/julia/tree/1b93d53fc4bb59350ada898038ed4de2994cce33/base/bool.jl#L102\" target=\"_blank\">bool.jl:102</a></li> <li> +(A::<b>LinearAlgebra.Bidiagonal</b>, B::<b>LinearAlgebra.Bidiagonal</b>) in LinearAlgebra at <a href=\"file:///buildworker/worker/package_linux64/build/usr/share/julia/stdlib/v1.6/LinearAlgebra/src/bidiag.jl\" target=\"_blank\">/opt/julia-1.6.2/share/julia/stdlib/v1.6/LinearAlgebra/src/bidiag.jl:354</a></li> <li> +(A::<b>LinearAlgebra.Bidiagonal</b>, B::<b>LinearAlgebra.UpperTriangular</b>) in LinearAlgebra at <a href=\"file:///buildworker/worker/package_linux64/build/usr/share/julia/stdlib/v1.6/LinearAlgebra/src/special.jl\" target=\"_blank\">/opt/julia-1.6.2/share/julia/stdlib/v1.6/LinearAlgebra/src/special.jl:94</a></li> <li> +(A::<b>LinearAlgebra.Bidiagonal</b>, B::<b>LinearAlgebra.UnitUpperTriangular</b>) in LinearAlgebra at <a href=\"file:///buildworker/worker/package_linux64/build/usr/share/julia/stdlib/v1.6/LinearAlgebra/src/special.jl\" target=\"_blank\">/opt/julia-1.6.2/share/julia/stdlib/v1.6/LinearAlgebra/src/special.jl:94</a></li> <li> +(A::<b>LinearAlgebra.Bidiagonal</b>, B::<b>LinearAlgebra.LowerTriangular</b>) in LinearAlgebra at <a href=\"file:///buildworker/worker/package_linux64/build/usr/share/julia/stdlib/v1.6/LinearAlgebra/src/special.jl\" target=\"_blank\">/opt/julia-1.6.2/share/julia/stdlib/v1.6/LinearAlgebra/src/special.jl:94</a></li> <li> +(A::<b>LinearAlgebra.Bidiagonal</b>, B::<b>LinearAlgebra.UnitLowerTriangular</b>) in LinearAlgebra at <a href=\"file:///buildworker/worker/package_linux64/build/usr/share/julia/stdlib/v1.6/LinearAlgebra/src/special.jl\" target=\"_blank\">/opt/julia-1.6.2/share/julia/stdlib/v1.6/LinearAlgebra/src/special.jl:94</a></li> <li> +(A::<b>LinearAlgebra.Bidiagonal</b>, B::<b>LinearAlgebra.Diagonal</b>) in LinearAlgebra at <a href=\"file:///buildworker/worker/package_linux64/build/usr/share/julia/stdlib/v1.6/LinearAlgebra/src/special.jl\" target=\"_blank\">/opt/julia-1.6.2/share/julia/stdlib/v1.6/LinearAlgebra/src/special.jl:115</a></li> <li> +(A::<b>LinearAlgebra.Bidiagonal</b>, B::<b>LinearAlgebra.Tridiagonal</b>) in LinearAlgebra at <a href=\"file:///buildworker/worker/package_linux64/build/usr/share/julia/stdlib/v1.6/LinearAlgebra/src/special.jl\" target=\"_blank\">/opt/julia-1.6.2/share/julia/stdlib/v1.6/LinearAlgebra/src/special.jl:183</a></li> <li> +(A::<b>LinearAlgebra.Bidiagonal</b>, B::<b>LinearAlgebra.SymTridiagonal</b>) in LinearAlgebra at <a href=\"file:///buildworker/worker/package_linux64/build/usr/share/julia/stdlib/v1.6/LinearAlgebra/src/special.jl\" target=\"_blank\">/opt/julia-1.6.2/share/julia/stdlib/v1.6/LinearAlgebra/src/special.jl:203</a></li> <li> +(A::<b>LinearAlgebra.Bidiagonal{var\"#s832\", V} where {var\"#s832\"<:Number, V<:AbstractVector{var\"#s832\"}}</b>, B::<b>LinearAlgebra.UniformScaling</b>) in LinearAlgebra at <a href=\"file:///buildworker/worker/package_linux64/build/usr/share/julia/stdlib/v1.6/LinearAlgebra/src/special.jl\" target=\"_blank\">/opt/julia-1.6.2/share/julia/stdlib/v1.6/LinearAlgebra/src/special.jl:236</a></li> <li> +(J::<b>LinearAlgebra.UniformScaling</b>) in LinearAlgebra at <a href=\"file:///buildworker/worker/package_linux64/build/usr/share/julia/stdlib/v1.6/LinearAlgebra/src/uniformscaling.jl\" target=\"_blank\">/opt/julia-1.6.2/share/julia/stdlib/v1.6/LinearAlgebra/src/uniformscaling.jl:150</a></li> <li> +(J::<b>LinearAlgebra.UniformScaling</b>, x::<b>Number</b>) in LinearAlgebra at <a href=\"file:///buildworker/worker/package_linux64/build/usr/share/julia/stdlib/v1.6/LinearAlgebra/src/uniformscaling.jl\" target=\"_blank\">/opt/julia-1.6.2/share/julia/stdlib/v1.6/LinearAlgebra/src/uniformscaling.jl:145</a></li> <li> +(J1::<b>LinearAlgebra.UniformScaling</b>, J2::<b>LinearAlgebra.UniformScaling</b>) in LinearAlgebra at <a href=\"file:///buildworker/worker/package_linux64/build/usr/share/julia/stdlib/v1.6/LinearAlgebra/src/uniformscaling.jl\" target=\"_blank\">/opt/julia-1.6.2/share/julia/stdlib/v1.6/LinearAlgebra/src/uniformscaling.jl:151</a></li> <li> +(J::<b>LinearAlgebra.UniformScaling</b>, B::<b>BitMatrix</b>) in LinearAlgebra at <a href=\"file:///buildworker/worker/package_linux64/build/usr/share/julia/stdlib/v1.6/LinearAlgebra/src/uniformscaling.jl\" target=\"_blank\">/opt/julia-1.6.2/share/julia/stdlib/v1.6/LinearAlgebra/src/uniformscaling.jl:153</a></li> <li> +(J::<b>LinearAlgebra.UniformScaling</b>, F::<b>LinearAlgebra.Hessenberg</b>) in LinearAlgebra at <a href=\"file:///buildworker/worker/package_linux64/build/usr/share/julia/stdlib/v1.6/LinearAlgebra/src/hessenberg.jl\" target=\"_blank\">/opt/julia-1.6.2/share/julia/stdlib/v1.6/LinearAlgebra/src/hessenberg.jl:560</a></li> <li> +(A::<b>LinearAlgebra.UniformScaling</b>, B::<b>LinearAlgebra.Tridiagonal{var\"#s832\", V} where {var\"#s832\"<:Number, V<:AbstractVector{var\"#s832\"}}</b>) in LinearAlgebra at <a href=\"file:///buildworker/worker/package_linux64/build/usr/share/julia/stdlib/v1.6/LinearAlgebra/src/special.jl\" target=\"_blank\">/opt/julia-1.6.2/share/julia/stdlib/v1.6/LinearAlgebra/src/special.jl:245</a></li> <li> +(A::<b>LinearAlgebra.UniformScaling</b>, B::<b>LinearAlgebra.SymTridiagonal{var\"#s832\", V} where {var\"#s832\"<:Number, V<:AbstractVector{var\"#s832\"}}</b>) in LinearAlgebra at <a href=\"file:///buildworker/worker/package_linux64/build/usr/share/julia/stdlib/v1.6/LinearAlgebra/src/special.jl\" target=\"_blank\">/opt/julia-1.6.2/share/julia/stdlib/v1.6/LinearAlgebra/src/special.jl:250</a></li> <li> +(A::<b>LinearAlgebra.UniformScaling</b>, B::<b>LinearAlgebra.Bidiagonal{var\"#s832\", V} where {var\"#s832\"<:Number, V<:AbstractVector{var\"#s832\"}}</b>) in LinearAlgebra at <a href=\"file:///buildworker/worker/package_linux64/build/usr/share/julia/stdlib/v1.6/LinearAlgebra/src/special.jl\" target=\"_blank\">/opt/julia-1.6.2/share/julia/stdlib/v1.6/LinearAlgebra/src/special.jl:255</a></li> <li> +(A::<b>LinearAlgebra.UniformScaling</b>, B::<b>LinearAlgebra.Diagonal{var\"#s832\", V} where {var\"#s832\"<:Number, V<:AbstractVector{var\"#s832\"}}</b>) in LinearAlgebra at <a href=\"file:///buildworker/worker/package_linux64/build/usr/share/julia/stdlib/v1.6/LinearAlgebra/src/special.jl\" target=\"_blank\">/opt/julia-1.6.2/share/julia/stdlib/v1.6/LinearAlgebra/src/special.jl:260</a></li> <li> +(J::<b>LinearAlgebra.UniformScaling</b>, A::<b>AbstractMatrix{T} where T</b>) in LinearAlgebra at <a href=\"file:///buildworker/worker/package_linux64/build/usr/share/julia/stdlib/v1.6/LinearAlgebra/src/uniformscaling.jl\" target=\"_blank\">/opt/julia-1.6.2/share/julia/stdlib/v1.6/LinearAlgebra/src/uniformscaling.jl:154</a></li> <li> +(x::<b>Rational</b>, y::<b>Integer</b>) in Base at <a href=\"https://github.com/JuliaLang/julia/tree/1b93d53fc4bb59350ada898038ed4de2994cce33/base/rational.jl#L289\" target=\"_blank\">rational.jl:289</a></li> <li> +(A::<b>LinearAlgebra.Symmetric</b>, B::<b>LinearAlgebra.Symmetric</b>) in LinearAlgebra at <a href=\"file:///buildworker/worker/package_linux64/build/usr/share/julia/stdlib/v1.6/LinearAlgebra/src/symmetric.jl\" target=\"_blank\">/opt/julia-1.6.2/share/julia/stdlib/v1.6/LinearAlgebra/src/symmetric.jl:469</a></li> <li> +(S::<b>LinearAlgebra.Symmetric</b>, D::<b>LinearAlgebra.Diagonal</b>) in LinearAlgebra at <a href=\"file:///buildworker/worker/package_linux64/build/usr/share/julia/stdlib/v1.6/LinearAlgebra/src/diagonal.jl\" target=\"_blank\">/opt/julia-1.6.2/share/julia/stdlib/v1.6/LinearAlgebra/src/diagonal.jl:163</a></li> <li> +(A::<b>LinearAlgebra.Symmetric{var\"#s830\", var\"#s829\"} where {var\"#s830\", var\"#s829\"<:(SparseArrays.AbstractSparseMatrix{Tv, Ti} where {Tv, Ti})}</b>, B::<b>SparseArrays.AbstractSparseMatrix{Tv, Ti} where {Tv, Ti}</b>) in SparseArrays at <a href=\"file:///buildworker/worker/package_linux64/build/usr/share/julia/stdlib/v1.6/SparseArrays/src/linalg.jl\" target=\"_blank\">/opt/julia-1.6.2/share/julia/stdlib/v1.6/SparseArrays/src/linalg.jl:15</a></li> <li> +(A::<b>LinearAlgebra.Symmetric</b>, B::<b>SparseArrays.AbstractSparseMatrix{Tv, Ti} where {Tv, Ti}</b>) in SparseArrays at <a href=\"file:///buildworker/worker/package_linux64/build/usr/share/julia/stdlib/v1.6/SparseArrays/src/linalg.jl\" target=\"_blank\">/opt/julia-1.6.2/share/julia/stdlib/v1.6/SparseArrays/src/linalg.jl:18</a></li> <li> +(A::<b>LinearAlgebra.Symmetric{var\"#s824\", var\"#s823\"} where {var\"#s824\"<:Real, var\"#s823\"<:(SparseArrays.AbstractSparseMatrix{Tv, Ti} where {Tv, Ti})}</b>, B::<b>LinearAlgebra.Hermitian{var\"#s822\", var\"#s821\"} where {var\"#s822\", var\"#s821\"<:(SparseArrays.AbstractSparseMatrix{Tv, Ti} where {Tv, Ti})}</b>) in SparseArrays at <a href=\"file:///buildworker/worker/package_linux64/build/usr/share/julia/stdlib/v1.6/SparseArrays/src/linalg.jl\" target=\"_blank\">/opt/julia-1.6.2/share/julia/stdlib/v1.6/SparseArrays/src/linalg.jl:25</a></li> <li> +(A::<b>LinearAlgebra.Symmetric{var\"#s831\", S} where {var\"#s831\"<:Real, S<:(AbstractMatrix{var\"#s832\"} where var\"#s832\"<:var\"#s831\")}</b>, B::<b>LinearAlgebra.Hermitian</b>) in LinearAlgebra at <a href=\"file:///buildworker/worker/package_linux64/build/usr/share/julia/stdlib/v1.6/LinearAlgebra/src/symmetric.jl\" target=\"_blank\">/opt/julia-1.6.2/share/julia/stdlib/v1.6/LinearAlgebra/src/symmetric.jl:484</a></li> <li> +(A::<b>LinearAlgebra.Symmetric{var\"#s832\", var\"#s831\"} where {var\"#s832\", var\"#s831\"<:(SparseArrays.AbstractSparseMatrix{Tv, Ti} where {Tv, Ti})}</b>, B::<b>LinearAlgebra.Hermitian{var\"#s830\", var\"#s829\"} where {var\"#s830\", var\"#s829\"<:(SparseArrays.AbstractSparseMatrix{Tv, Ti} where {Tv, Ti})}</b>) in SparseArrays at <a href=\"file:///buildworker/worker/package_linux64/build/usr/share/julia/stdlib/v1.6/SparseArrays/src/linalg.jl\" target=\"_blank\">/opt/julia-1.6.2/share/julia/stdlib/v1.6/SparseArrays/src/linalg.jl:23</a></li> <li> +(x::<b>AbstractIrrational</b>, y::<b>AbstractIrrational</b>) in Base at <a href=\"https://github.com/JuliaLang/julia/tree/1b93d53fc4bb59350ada898038ed4de2994cce33/base/irrationals.jl#L156\" target=\"_blank\">irrationals.jl:156</a></li> <li> +(Da::<b>LinearAlgebra.Diagonal</b>, Db::<b>LinearAlgebra.Diagonal</b>) in LinearAlgebra at <a href=\"file:///buildworker/worker/package_linux64/build/usr/share/julia/stdlib/v1.6/LinearAlgebra/src/diagonal.jl\" target=\"_blank\">/opt/julia-1.6.2/share/julia/stdlib/v1.6/LinearAlgebra/src/diagonal.jl:156</a></li> <li> +(D::<b>LinearAlgebra.Diagonal</b>, S::<b>LinearAlgebra.Symmetric</b>) in LinearAlgebra at <a href=\"file:///buildworker/worker/package_linux64/build/usr/share/julia/stdlib/v1.6/LinearAlgebra/src/diagonal.jl\" target=\"_blank\">/opt/julia-1.6.2/share/julia/stdlib/v1.6/LinearAlgebra/src/diagonal.jl:160</a></li> <li> +(D::<b>LinearAlgebra.Diagonal{var\"#s832\", V} where {var\"#s832\"<:Real, V<:AbstractVector{var\"#s832\"}}</b>, H::<b>LinearAlgebra.Hermitian</b>) in LinearAlgebra at <a href=\"file:///buildworker/worker/package_linux64/build/usr/share/julia/stdlib/v1.6/LinearAlgebra/src/diagonal.jl\" target=\"_blank\">/opt/julia-1.6.2/share/julia/stdlib/v1.6/LinearAlgebra/src/diagonal.jl:166</a></li> <li> +(A::<b>LinearAlgebra.Diagonal</b>, B::<b>LinearAlgebra.Bidiagonal</b>) in LinearAlgebra at <a href=\"file:///buildworker/worker/package_linux64/build/usr/share/julia/stdlib/v1.6/LinearAlgebra/src/special.jl\" target=\"_blank\">/opt/julia-1.6.2/share/julia/stdlib/v1.6/LinearAlgebra/src/special.jl:125</a></li> <li> +(A::<b>LinearAlgebra.Diagonal</b>, B::<b>LinearAlgebra.SymTridiagonal</b>) in LinearAlgebra at <a href=\"file:///buildworker/worker/package_linux64/build/usr/share/julia/stdlib/v1.6/LinearAlgebra/src/special.jl\" target=\"_blank\">/opt/julia-1.6.2/share/julia/stdlib/v1.6/LinearAlgebra/src/special.jl:135</a></li> <li> +(A::<b>LinearAlgebra.Diagonal</b>, B::<b>LinearAlgebra.Tridiagonal</b>) in LinearAlgebra at <a href=\"file:///buildworker/worker/package_linux64/build/usr/share/julia/stdlib/v1.6/LinearAlgebra/src/special.jl\" target=\"_blank\">/opt/julia-1.6.2/share/julia/stdlib/v1.6/LinearAlgebra/src/special.jl:163</a></li> <li> +(A::<b>LinearAlgebra.Diagonal{var\"#s832\", V} where {var\"#s832\"<:Number, V<:AbstractVector{var\"#s832\"}}</b>, B::<b>LinearAlgebra.UniformScaling</b>) in LinearAlgebra at <a href=\"file:///buildworker/worker/package_linux64/build/usr/share/julia/stdlib/v1.6/LinearAlgebra/src/special.jl\" target=\"_blank\">/opt/julia-1.6.2/share/julia/stdlib/v1.6/LinearAlgebra/src/special.jl:241</a></li> <li> +(A::<b>LinearAlgebra.UnitUpperTriangular</b>, B::<b>LinearAlgebra.UpperTriangular</b>) in LinearAlgebra at <a href=\"file:///buildworker/worker/package_linux64/build/usr/share/julia/stdlib/v1.6/LinearAlgebra/src/triangular.jl\" target=\"_blank\">/opt/julia-1.6.2/share/julia/stdlib/v1.6/LinearAlgebra/src/triangular.jl:652</a></li> <li> +(A::<b>LinearAlgebra.UnitUpperTriangular</b>, B::<b>LinearAlgebra.UnitUpperTriangular</b>) in LinearAlgebra at <a href=\"file:///buildworker/worker/package_linux64/build/usr/share/julia/stdlib/v1.6/LinearAlgebra/src/triangular.jl\" target=\"_blank\">/opt/julia-1.6.2/share/julia/stdlib/v1.6/LinearAlgebra/src/triangular.jl:654</a></li> <li> +(UL::<b>LinearAlgebra.UnitUpperTriangular</b>, J::<b>LinearAlgebra.UniformScaling</b>) in LinearAlgebra at <a href=\"file:///buildworker/worker/package_linux64/build/usr/share/julia/stdlib/v1.6/LinearAlgebra/src/uniformscaling.jl\" target=\"_blank\">/opt/julia-1.6.2/share/julia/stdlib/v1.6/LinearAlgebra/src/uniformscaling.jl:182</a></li> <li> +(A::<b>LinearAlgebra.UnitUpperTriangular</b>, B::<b>LinearAlgebra.Bidiagonal</b>) in LinearAlgebra at <a href=\"file:///buildworker/worker/package_linux64/build/usr/share/julia/stdlib/v1.6/LinearAlgebra/src/special.jl\" target=\"_blank\">/opt/julia-1.6.2/share/julia/stdlib/v1.6/LinearAlgebra/src/special.jl:86</a></li> <li> +(A::<b>LinearAlgebra.SymTridiagonal</b>, B::<b>LinearAlgebra.SymTridiagonal</b>) in LinearAlgebra at <a href=\"file:///buildworker/worker/package_linux64/build/usr/share/julia/stdlib/v1.6/LinearAlgebra/src/tridiag.jl\" target=\"_blank\">/opt/julia-1.6.2/share/julia/stdlib/v1.6/LinearAlgebra/src/tridiag.jl:205</a></li> <li> +(A::<b>LinearAlgebra.SymTridiagonal</b>, B::<b>LinearAlgebra.Diagonal</b>) in LinearAlgebra at <a href=\"file:///buildworker/worker/package_linux64/build/usr/share/julia/stdlib/v1.6/LinearAlgebra/src/special.jl\" target=\"_blank\">/opt/julia-1.6.2/share/julia/stdlib/v1.6/LinearAlgebra/src/special.jl:145</a></li> <li> +(A::<b>LinearAlgebra.SymTridiagonal</b>, B::<b>LinearAlgebra.Tridiagonal</b>) in LinearAlgebra at <a href=\"file:///buildworker/worker/package_linux64/build/usr/share/julia/stdlib/v1.6/LinearAlgebra/src/special.jl\" target=\"_blank\">/opt/julia-1.6.2/share/julia/stdlib/v1.6/LinearAlgebra/src/special.jl:159</a></li> <li> +(A::<b>LinearAlgebra.SymTridiagonal</b>, B::<b>LinearAlgebra.Bidiagonal</b>) in LinearAlgebra at <a href=\"file:///buildworker/worker/package_linux64/build/usr/share/julia/stdlib/v1.6/LinearAlgebra/src/special.jl\" target=\"_blank\">/opt/julia-1.6.2/share/julia/stdlib/v1.6/LinearAlgebra/src/special.jl:213</a></li> <li> +(A::<b>LinearAlgebra.SymTridiagonal{var\"#s832\", V} where {var\"#s832\"<:Number, V<:AbstractVector{var\"#s832\"}}</b>, B::<b>LinearAlgebra.UniformScaling</b>) in LinearAlgebra at <a href=\"file:///buildworker/worker/package_linux64/build/usr/share/julia/stdlib/v1.6/LinearAlgebra/src/special.jl\" target=\"_blank\">/opt/julia-1.6.2/share/julia/stdlib/v1.6/LinearAlgebra/src/special.jl:231</a></li> <li> +(r::<b>AbstractRange{var\"#s832\"} where var\"#s832\"<:Dates.TimeType</b>, x::<b>Dates.Period</b>) in Dates at <a href=\"file:///buildworker/worker/package_linux64/build/usr/share/julia/stdlib/v1.6/Dates/src/ranges.jl\" target=\"_blank\">/opt/julia-1.6.2/share/julia/stdlib/v1.6/Dates/src/ranges.jl:63</a></li> <li> +(A::<b>LinearAlgebra.UpperHessenberg</b>, B::<b>LinearAlgebra.UpperHessenberg</b>) in LinearAlgebra at <a href=\"file:///buildworker/worker/package_linux64/build/usr/share/julia/stdlib/v1.6/LinearAlgebra/src/hessenberg.jl\" target=\"_blank\">/opt/julia-1.6.2/share/julia/stdlib/v1.6/LinearAlgebra/src/hessenberg.jl:101</a></li> <li> +(H::<b>LinearAlgebra.UpperHessenberg</b>, J::<b>LinearAlgebra.UniformScaling</b>) in LinearAlgebra at <a href=\"file:///buildworker/worker/package_linux64/build/usr/share/julia/stdlib/v1.6/LinearAlgebra/src/hessenberg.jl\" target=\"_blank\">/opt/julia-1.6.2/share/julia/stdlib/v1.6/LinearAlgebra/src/hessenberg.jl:106</a></li> <li> +(x::<b>T</b>, y::<b>Integer</b>)<i> where T<:AbstractChar</i> in Base at <a href=\"https://github.com/JuliaLang/julia/tree/1b93d53fc4bb59350ada898038ed4de2994cce33/base/char.jl#L223\" target=\"_blank\">char.jl:223</a></li> <li> +(A::<b>Array</b>, Bs::<b>Array...</b>) in Base at <a href=\"https://github.com/JuliaLang/julia/tree/1b93d53fc4bb59350ada898038ed4de2994cce33/base/arraymath.jl#L43\" target=\"_blank\">arraymath.jl:43</a></li> <li> +(X::<b>StridedArray{var\"#s832\", N} where {var\"#s832\"<:Union{Dates.CompoundPeriod, Dates.Period}, N}</b>, Y::<b>StridedArray{var\"#s831\", N} where {var\"#s831\"<:Union{Dates.CompoundPeriod, Dates.Period}, N}</b>) in Dates at <a href=\"file:///buildworker/worker/package_linux64/build/usr/share/julia/stdlib/v1.6/Dates/src/deprecated.jl\" target=\"_blank\">/opt/julia-1.6.2/share/julia/stdlib/v1.6/Dates/src/deprecated.jl:62</a></li> <li> +(A::<b>Array</b>, B::<b>SparseArrays.AbstractSparseMatrixCSC</b>) in SparseArrays at <a href=\"file:///buildworker/worker/package_linux64/build/usr/share/julia/stdlib/v1.6/SparseArrays/src/sparsematrix.jl\" target=\"_blank\">/opt/julia-1.6.2/share/julia/stdlib/v1.6/SparseArrays/src/sparsematrix.jl:1745</a></li> <li> +(x::<b>StridedArray{var\"#s832\", N} where {var\"#s832\"<:Union{Dates.CompoundPeriod, Dates.Period}, N}</b>) in Dates at <a href=\"file:///buildworker/worker/package_linux64/build/usr/share/julia/stdlib/v1.6/Dates/src/deprecated.jl\" target=\"_blank\">/opt/julia-1.6.2/share/julia/stdlib/v1.6/Dates/src/deprecated.jl:55</a></li> <li> +(x::<b>StridedArray{var\"#s832\", N} where {var\"#s832\"<:Union{Dates.CompoundPeriod, Dates.Period}, N}</b>, y::<b>Dates.TimeType</b>) in Dates at <a href=\"file:///buildworker/worker/package_linux64/build/usr/share/julia/stdlib/v1.6/Dates/src/deprecated.jl\" target=\"_blank\">/opt/julia-1.6.2/share/julia/stdlib/v1.6/Dates/src/deprecated.jl:10</a></li> <li> +(x::<b>Dates.Instant</b>) in Dates at <a href=\"file:///buildworker/worker/package_linux64/build/usr/share/julia/stdlib/v1.6/Dates/src/arithmetic.jl\" target=\"_blank\">/opt/julia-1.6.2/share/julia/stdlib/v1.6/Dates/src/arithmetic.jl:4</a></li> <li> +(A::<b>LinearAlgebra.Tridiagonal</b>, B::<b>LinearAlgebra.Tridiagonal</b>) in LinearAlgebra at <a href=\"file:///buildworker/worker/package_linux64/build/usr/share/julia/stdlib/v1.6/LinearAlgebra/src/tridiag.jl\" target=\"_blank\">/opt/julia-1.6.2/share/julia/stdlib/v1.6/LinearAlgebra/src/tridiag.jl:733</a></li> <li> +(A::<b>LinearAlgebra.Tridiagonal</b>, B::<b>LinearAlgebra.SymTridiagonal</b>) in LinearAlgebra at <a href=\"file:///buildworker/worker/package_linux64/build/usr/share/julia/stdlib/v1.6/LinearAlgebra/src/special.jl\" target=\"_blank\">/opt/julia-1.6.2/share/julia/stdlib/v1.6/LinearAlgebra/src/special.jl:157</a></li> <li> +(A::<b>LinearAlgebra.Tridiagonal</b>, B::<b>LinearAlgebra.Diagonal</b>) in LinearAlgebra at <a href=\"file:///buildworker/worker/package_linux64/build/usr/share/julia/stdlib/v1.6/LinearAlgebra/src/special.jl\" target=\"_blank\">/opt/julia-1.6.2/share/julia/stdlib/v1.6/LinearAlgebra/src/special.jl:173</a></li> <li> +(A::<b>LinearAlgebra.Tridiagonal</b>, B::<b>LinearAlgebra.Bidiagonal</b>) in LinearAlgebra at <a href=\"file:///buildworker/worker/package_linux64/build/usr/share/julia/stdlib/v1.6/LinearAlgebra/src/special.jl\" target=\"_blank\">/opt/julia-1.6.2/share/julia/stdlib/v1.6/LinearAlgebra/src/special.jl:193</a></li> <li> +(A::<b>LinearAlgebra.Tridiagonal{var\"#s832\", V} where {var\"#s832\"<:Number, V<:AbstractVector{var\"#s832\"}}</b>, B::<b>LinearAlgebra.UniformScaling</b>) in LinearAlgebra at <a href=\"file:///buildworker/worker/package_linux64/build/usr/share/julia/stdlib/v1.6/LinearAlgebra/src/special.jl\" target=\"_blank\">/opt/julia-1.6.2/share/julia/stdlib/v1.6/LinearAlgebra/src/special.jl:226</a></li> <li> +(r1::<b>StepRangeLen{T, R, S} where S</b>, r2::<b>StepRangeLen{T, R, S} where S</b>)<i> where {R<:Base.TwicePrecision, T}</i> in Base at <a href=\"https://github.com/JuliaLang/julia/tree/1b93d53fc4bb59350ada898038ed4de2994cce33/base/twiceprecision.jl#L574\" target=\"_blank\">twiceprecision.jl:574</a></li> <li> +(r1::<b>StepRangeLen{T, S, S1} where S1</b>, r2::<b>StepRangeLen{T, S, S1} where S1</b>)<i> where {T, S}</i> in Base at <a href=\"https://github.com/JuliaLang/julia/tree/1b93d53fc4bb59350ada898038ed4de2994cce33/base/range.jl#L1126\" target=\"_blank\">range.jl:1126</a></li> <li> +(x::<b>Ptr</b>, y::<b>Integer</b>) in Base at <a href=\"https://github.com/JuliaLang/julia/tree/1b93d53fc4bb59350ada898038ed4de2994cce33/base/pointer.jl#L159\" target=\"_blank\">pointer.jl:159</a></li> <li> +(r1::<b>LinRange{T}</b>, r2::<b>LinRange{T}</b>)<i> where T</i> in Base at <a href=\"https://github.com/JuliaLang/julia/tree/1b93d53fc4bb59350ada898038ed4de2994cce33/base/range.jl#L1110\" target=\"_blank\">range.jl:1110</a></li> <li> +(x::<b>Base.TwicePrecision</b>, y::<b>Number</b>) in Base at <a href=\"https://github.com/JuliaLang/julia/tree/1b93d53fc4bb59350ada898038ed4de2994cce33/base/twiceprecision.jl#L267\" target=\"_blank\">twiceprecision.jl:267</a></li> <li> +(x::<b>Base.TwicePrecision{T}</b>, y::<b>Base.TwicePrecision{T}</b>)<i> where T</i> in Base at <a href=\"https://github.com/JuliaLang/julia/tree/1b93d53fc4bb59350ada898038ed4de2994cce33/base/twiceprecision.jl#L273\" target=\"_blank\">twiceprecision.jl:273</a></li> <li> +(x::<b>Base.TwicePrecision</b>, y::<b>Base.TwicePrecision</b>) in Base at <a href=\"https://github.com/JuliaLang/julia/tree/1b93d53fc4bb59350ada898038ed4de2994cce33/base/twiceprecision.jl#L278\" target=\"_blank\">twiceprecision.jl:278</a></li> <li> +(A::<b>LinearAlgebra.UnitLowerTriangular</b>, B::<b>LinearAlgebra.LowerTriangular</b>) in LinearAlgebra at <a href=\"file:///buildworker/worker/package_linux64/build/usr/share/julia/stdlib/v1.6/LinearAlgebra/src/triangular.jl\" target=\"_blank\">/opt/julia-1.6.2/share/julia/stdlib/v1.6/LinearAlgebra/src/triangular.jl:653</a></li> <li> +(A::<b>LinearAlgebra.UnitLowerTriangular</b>, B::<b>LinearAlgebra.UnitLowerTriangular</b>) in LinearAlgebra at <a href=\"file:///buildworker/worker/package_linux64/build/usr/share/julia/stdlib/v1.6/LinearAlgebra/src/triangular.jl\" target=\"_blank\">/opt/julia-1.6.2/share/julia/stdlib/v1.6/LinearAlgebra/src/triangular.jl:655</a></li> <li> +(UL::<b>LinearAlgebra.UnitLowerTriangular</b>, J::<b>LinearAlgebra.UniformScaling</b>) in LinearAlgebra at <a href=\"file:///buildworker/worker/package_linux64/build/usr/share/julia/stdlib/v1.6/LinearAlgebra/src/uniformscaling.jl\" target=\"_blank\">/opt/julia-1.6.2/share/julia/stdlib/v1.6/LinearAlgebra/src/uniformscaling.jl:182</a></li> <li> +(A::<b>LinearAlgebra.UnitLowerTriangular</b>, B::<b>LinearAlgebra.Bidiagonal</b>) in LinearAlgebra at <a href=\"file:///buildworker/worker/package_linux64/build/usr/share/julia/stdlib/v1.6/LinearAlgebra/src/special.jl\" target=\"_blank\">/opt/julia-1.6.2/share/julia/stdlib/v1.6/LinearAlgebra/src/special.jl:86</a></li> <li> +(A::<b>LinearAlgebra.Hermitian</b>, B::<b>LinearAlgebra.Hermitian</b>) in LinearAlgebra at <a href=\"file:///buildworker/worker/package_linux64/build/usr/share/julia/stdlib/v1.6/LinearAlgebra/src/symmetric.jl\" target=\"_blank\">/opt/julia-1.6.2/share/julia/stdlib/v1.6/LinearAlgebra/src/symmetric.jl:469</a></li> <li> +(H::<b>LinearAlgebra.Hermitian</b>, D::<b>LinearAlgebra.Diagonal{var\"#s832\", V} where {var\"#s832\"<:Real, V<:AbstractVector{var\"#s832\"}}</b>) in LinearAlgebra at <a href=\"file:///buildworker/worker/package_linux64/build/usr/share/julia/stdlib/v1.6/LinearAlgebra/src/diagonal.jl\" target=\"_blank\">/opt/julia-1.6.2/share/julia/stdlib/v1.6/LinearAlgebra/src/diagonal.jl:169</a></li> <li> +(A::<b>LinearAlgebra.Hermitian</b>, J::<b>LinearAlgebra.UniformScaling{var\"#s832\"} where var\"#s832\"<:Complex</b>) in LinearAlgebra at <a href=\"file:///buildworker/worker/package_linux64/build/usr/share/julia/stdlib/v1.6/LinearAlgebra/src/uniformscaling.jl\" target=\"_blank\">/opt/julia-1.6.2/share/julia/stdlib/v1.6/LinearAlgebra/src/uniformscaling.jl:196</a></li> <li> +(A::<b>LinearAlgebra.Hermitian{var\"#s830\", var\"#s829\"} where {var\"#s830\", var\"#s829\"<:(SparseArrays.AbstractSparseMatrix{Tv, Ti} where {Tv, Ti})}</b>, B::<b>SparseArrays.AbstractSparseMatrix{Tv, Ti} where {Tv, Ti}</b>) in SparseArrays at <a href=\"file:///buildworker/worker/package_linux64/build/usr/share/julia/stdlib/v1.6/SparseArrays/src/linalg.jl\" target=\"_blank\">/opt/julia-1.6.2/share/julia/stdlib/v1.6/SparseArrays/src/linalg.jl:15</a></li> <li> +(A::<b>LinearAlgebra.Hermitian</b>, B::<b>SparseArrays.AbstractSparseMatrix{Tv, Ti} where {Tv, Ti}</b>) in SparseArrays at <a href=\"file:///buildworker/worker/package_linux64/build/usr/share/julia/stdlib/v1.6/SparseArrays/src/linalg.jl\" target=\"_blank\">/opt/julia-1.6.2/share/julia/stdlib/v1.6/SparseArrays/src/linalg.jl:18</a></li> <li> +(A::<b>LinearAlgebra.Hermitian{var\"#s820\", var\"#s819\"} where {var\"#s820\", var\"#s819\"<:(SparseArrays.AbstractSparseMatrix{Tv, Ti} where {Tv, Ti})}</b>, B::<b>LinearAlgebra.Symmetric{var\"#s818\", var\"#s817\"} where {var\"#s818\"<:Real, var\"#s817\"<:(SparseArrays.AbstractSparseMatrix{Tv, Ti} where {Tv, Ti})}</b>) in SparseArrays at <a href=\"file:///buildworker/worker/package_linux64/build/usr/share/julia/stdlib/v1.6/SparseArrays/src/linalg.jl\" target=\"_blank\">/opt/julia-1.6.2/share/julia/stdlib/v1.6/SparseArrays/src/linalg.jl:26</a></li> <li> +(A::<b>LinearAlgebra.Hermitian</b>, B::<b>LinearAlgebra.Symmetric{var\"#s832\", S} where {var\"#s832\"<:Real, S<:(AbstractMatrix{var\"#s832\"} where var\"#s832\"<:var\"#s832\")}</b>) in LinearAlgebra at <a href=\"file:///buildworker/worker/package_linux64/build/usr/share/julia/stdlib/v1.6/LinearAlgebra/src/symmetric.jl\" target=\"_blank\">/opt/julia-1.6.2/share/julia/stdlib/v1.6/LinearAlgebra/src/symmetric.jl:483</a></li> <li> +(A::<b>LinearAlgebra.Hermitian{var\"#s828\", var\"#s827\"} where {var\"#s828\", var\"#s827\"<:(SparseArrays.AbstractSparseMatrix{Tv, Ti} where {Tv, Ti})}</b>, B::<b>LinearAlgebra.Symmetric{var\"#s826\", var\"#s825\"} where {var\"#s826\", var\"#s825\"<:(SparseArrays.AbstractSparseMatrix{Tv, Ti} where {Tv, Ti})}</b>) in SparseArrays at <a href=\"file:///buildworker/worker/package_linux64/build/usr/share/julia/stdlib/v1.6/SparseArrays/src/linalg.jl\" target=\"_blank\">/opt/julia-1.6.2/share/julia/stdlib/v1.6/SparseArrays/src/linalg.jl:24</a></li> <li> +(x::<b>P</b>, y::<b>P</b>)<i> where P<:Dates.Period</i> in Dates at <a href=\"file:///buildworker/worker/package_linux64/build/usr/share/julia/stdlib/v1.6/Dates/src/periods.jl\" target=\"_blank\">/opt/julia-1.6.2/share/julia/stdlib/v1.6/Dates/src/periods.jl:79</a></li> <li> +(x::<b>Dates.Period</b>, y::<b>Dates.Period</b>) in Dates at <a href=\"file:///buildworker/worker/package_linux64/build/usr/share/julia/stdlib/v1.6/Dates/src/periods.jl\" target=\"_blank\">/opt/julia-1.6.2/share/julia/stdlib/v1.6/Dates/src/periods.jl:351</a></li> <li> +(y::<b>Dates.Period</b>, x::<b>Dates.CompoundPeriod</b>) in Dates at <a href=\"file:///buildworker/worker/package_linux64/build/usr/share/julia/stdlib/v1.6/Dates/src/periods.jl\" target=\"_blank\">/opt/julia-1.6.2/share/julia/stdlib/v1.6/Dates/src/periods.jl:353</a></li> <li> +(y::<b>Dates.Period</b>, x::<b>Dates.TimeType</b>) in Dates at <a href=\"file:///buildworker/worker/package_linux64/build/usr/share/julia/stdlib/v1.6/Dates/src/arithmetic.jl\" target=\"_blank\">/opt/julia-1.6.2/share/julia/stdlib/v1.6/Dates/src/arithmetic.jl:85</a></li> <li> +(x::<b>Dates.Period</b>, r::<b>AbstractRange{var\"#s832\"} where var\"#s832\"<:Dates.TimeType</b>) in Dates at <a href=\"file:///buildworker/worker/package_linux64/build/usr/share/julia/stdlib/v1.6/Dates/src/ranges.jl\" target=\"_blank\">/opt/julia-1.6.2/share/julia/stdlib/v1.6/Dates/src/ranges.jl:62</a></li> <li> +(y::<b>Union{Dates.CompoundPeriod, Dates.Period}</b>, x::<b>AbstractArray{var\"#s832\", N} where {var\"#s832\"<:Dates.TimeType, N}</b>) in Dates at <a href=\"file:///buildworker/worker/package_linux64/build/usr/share/julia/stdlib/v1.6/Dates/src/deprecated.jl\" target=\"_blank\">/opt/julia-1.6.2/share/julia/stdlib/v1.6/Dates/src/deprecated.jl:14</a></li> <li> +(index1::<b>CartesianIndex{N}</b>, index2::<b>CartesianIndex{N}</b>)<i> where N</i> in Base.IteratorsMD at <a href=\"https://github.com/JuliaLang/julia/tree/1b93d53fc4bb59350ada898038ed4de2994cce33/base/multidimensional.jl#L114\" target=\"_blank\">multidimensional.jl:114</a></li> <li> +(F::<b>LinearAlgebra.Hessenberg</b>, J::<b>LinearAlgebra.UniformScaling</b>) in LinearAlgebra at <a href=\"file:///buildworker/worker/package_linux64/build/usr/share/julia/stdlib/v1.6/LinearAlgebra/src/hessenberg.jl\" target=\"_blank\">/opt/julia-1.6.2/share/julia/stdlib/v1.6/LinearAlgebra/src/hessenberg.jl:559</a></li> <li> +(A::<b>LinearAlgebra.UpperTriangular</b>, B::<b>LinearAlgebra.UpperTriangular</b>) in LinearAlgebra at <a href=\"file:///buildworker/worker/package_linux64/build/usr/share/julia/stdlib/v1.6/LinearAlgebra/src/triangular.jl\" target=\"_blank\">/opt/julia-1.6.2/share/julia/stdlib/v1.6/LinearAlgebra/src/triangular.jl:648</a></li> <li> +(A::<b>LinearAlgebra.UpperTriangular</b>, B::<b>LinearAlgebra.UnitUpperTriangular</b>) in LinearAlgebra at <a href=\"file:///buildworker/worker/package_linux64/build/usr/share/julia/stdlib/v1.6/LinearAlgebra/src/triangular.jl\" target=\"_blank\">/opt/julia-1.6.2/share/julia/stdlib/v1.6/LinearAlgebra/src/triangular.jl:650</a></li> <li> +(A::<b>LinearAlgebra.UpperTriangular</b>, B::<b>LinearAlgebra.Bidiagonal</b>) in LinearAlgebra at <a href=\"file:///buildworker/worker/package_linux64/build/usr/share/julia/stdlib/v1.6/LinearAlgebra/src/special.jl\" target=\"_blank\">/opt/julia-1.6.2/share/julia/stdlib/v1.6/LinearAlgebra/src/special.jl:86</a></li> <li> +(A::<b>SparseArrays.AbstractSparseMatrix{Tv, Ti} where {Tv, Ti}</b>, B::<b>LinearAlgebra.Hermitian{var\"#s832\", var\"#s831\"} where {var\"#s832\", var\"#s831\"<:(SparseArrays.AbstractSparseMatrix{Tv, Ti} where {Tv, Ti})}</b>) in SparseArrays at <a href=\"file:///buildworker/worker/package_linux64/build/usr/share/julia/stdlib/v1.6/SparseArrays/src/linalg.jl\" target=\"_blank\">/opt/julia-1.6.2/share/julia/stdlib/v1.6/SparseArrays/src/linalg.jl:14</a></li> <li> +(A::<b>SparseArrays.AbstractSparseMatrix{Tv, Ti} where {Tv, Ti}</b>, B::<b>LinearAlgebra.Hermitian</b>) in SparseArrays at <a href=\"file:///buildworker/worker/package_linux64/build/usr/share/julia/stdlib/v1.6/SparseArrays/src/linalg.jl\" target=\"_blank\">/opt/julia-1.6.2/share/julia/stdlib/v1.6/SparseArrays/src/linalg.jl:17</a></li> <li> +(A::<b>SparseArrays.AbstractSparseMatrix{Tv, Ti} where {Tv, Ti}</b>, B::<b>LinearAlgebra.Symmetric{var\"#s832\", var\"#s831\"} where {var\"#s832\", var\"#s831\"<:(SparseArrays.AbstractSparseMatrix{Tv, Ti} where {Tv, Ti})}</b>) in SparseArrays at <a href=\"file:///buildworker/worker/package_linux64/build/usr/share/julia/stdlib/v1.6/SparseArrays/src/linalg.jl\" target=\"_blank\">/opt/julia-1.6.2/share/julia/stdlib/v1.6/SparseArrays/src/linalg.jl:14</a></li> <li> +(A::<b>SparseArrays.AbstractSparseMatrix{Tv, Ti} where {Tv, Ti}</b>, B::<b>LinearAlgebra.Symmetric</b>) in SparseArrays at <a href=\"file:///buildworker/worker/package_linux64/build/usr/share/julia/stdlib/v1.6/SparseArrays/src/linalg.jl\" target=\"_blank\">/opt/julia-1.6.2/share/julia/stdlib/v1.6/SparseArrays/src/linalg.jl:17</a></li> <li> +(y::<b>Dates.TimeType</b>, x::<b>StridedArray{var\"#s832\", N} where {var\"#s832\"<:Union{Dates.CompoundPeriod, Dates.Period}, N}</b>) in Dates at <a href=\"file:///buildworker/worker/package_linux64/build/usr/share/julia/stdlib/v1.6/Dates/src/deprecated.jl\" target=\"_blank\">/opt/julia-1.6.2/share/julia/stdlib/v1.6/Dates/src/deprecated.jl:18</a></li> <li> +(A::<b>SparseArrays.AbstractSparseMatrixCSC</b>, B::<b>SparseArrays.AbstractSparseMatrixCSC</b>) in SparseArrays at <a href=\"file:///buildworker/worker/package_linux64/build/usr/share/julia/stdlib/v1.6/SparseArrays/src/sparsematrix.jl\" target=\"_blank\">/opt/julia-1.6.2/share/julia/stdlib/v1.6/SparseArrays/src/sparsematrix.jl:1741</a></li> <li> +(x::<b>SparseArrays.AbstractSparseVector{Tv, Ti} where {Tv, Ti}</b>, y::<b>SparseArrays.AbstractSparseVector{Tv, Ti} where {Tv, Ti}</b>) in SparseArrays at <a href=\"file:///buildworker/worker/package_linux64/build/usr/share/julia/stdlib/v1.6/SparseArrays/src/sparsevector.jl\" target=\"_blank\">/opt/julia-1.6.2/share/julia/stdlib/v1.6/SparseArrays/src/sparsevector.jl:1345</a></li> <li> +(A::<b>SparseArrays.AbstractSparseMatrixCSC</b>, B::<b>Array</b>) in SparseArrays at <a href=\"file:///buildworker/worker/package_linux64/build/usr/share/julia/stdlib/v1.6/SparseArrays/src/sparsematrix.jl\" target=\"_blank\">/opt/julia-1.6.2/share/julia/stdlib/v1.6/SparseArrays/src/sparsematrix.jl:1744</a></li> <li> +(A::<b>SparseArrays.AbstractSparseMatrixCSC</b>, J::<b>LinearAlgebra.UniformScaling</b>) in SparseArrays at <a href=\"file:///buildworker/worker/package_linux64/build/usr/share/julia/stdlib/v1.6/SparseArrays/src/sparsematrix.jl\" target=\"_blank\">/opt/julia-1.6.2/share/julia/stdlib/v1.6/SparseArrays/src/sparsematrix.jl:3797</a></li> <li> +(r1::<b>OrdinalRange</b>, r2::<b>OrdinalRange</b>) in Base at <a href=\"https://github.com/JuliaLang/julia/tree/1b93d53fc4bb59350ada898038ed4de2994cce33/base/range.jl#L1103\" target=\"_blank\">range.jl:1103</a></li> <li> +(r1::<b>Union{LinRange, OrdinalRange, StepRangeLen}</b>, r2::<b>Union{LinRange, OrdinalRange, StepRangeLen}</b>) in Base at <a href=\"https://github.com/JuliaLang/julia/tree/1b93d53fc4bb59350ada898038ed4de2994cce33/base/range.jl#L1119\" target=\"_blank\">range.jl:1119</a></li> <li> +(x::<b>AbstractArray{var\"#s832\", N} where {var\"#s832\"<:Dates.TimeType, N}</b>, y::<b>Union{Dates.CompoundPeriod, Dates.Period}</b>) in Dates at <a href=\"file:///buildworker/worker/package_linux64/build/usr/share/julia/stdlib/v1.6/Dates/src/deprecated.jl\" target=\"_blank\">/opt/julia-1.6.2/share/julia/stdlib/v1.6/Dates/src/deprecated.jl:6</a></li> <li> +(A::<b>LinearAlgebra.LowerTriangular</b>, B::<b>LinearAlgebra.LowerTriangular</b>) in LinearAlgebra at <a href=\"file:///buildworker/worker/package_linux64/build/usr/share/julia/stdlib/v1.6/LinearAlgebra/src/triangular.jl\" target=\"_blank\">/opt/julia-1.6.2/share/julia/stdlib/v1.6/LinearAlgebra/src/triangular.jl:649</a></li> <li> +(A::<b>LinearAlgebra.LowerTriangular</b>, B::<b>LinearAlgebra.UnitLowerTriangular</b>) in LinearAlgebra at <a href=\"file:///buildworker/worker/package_linux64/build/usr/share/julia/stdlib/v1.6/LinearAlgebra/src/triangular.jl\" target=\"_blank\">/opt/julia-1.6.2/share/julia/stdlib/v1.6/LinearAlgebra/src/triangular.jl:651</a></li> <li> +(A::<b>LinearAlgebra.AbstractTriangular</b>, B::<b>LinearAlgebra.AbstractTriangular</b>) in LinearAlgebra at <a href=\"file:///buildworker/worker/package_linux64/build/usr/share/julia/stdlib/v1.6/LinearAlgebra/src/triangular.jl\" target=\"_blank\">/opt/julia-1.6.2/share/julia/stdlib/v1.6/LinearAlgebra/src/triangular.jl:656</a></li> <li> +(A::<b>LinearAlgebra.LowerTriangular</b>, B::<b>LinearAlgebra.Bidiagonal</b>) in LinearAlgebra at <a href=\"file:///buildworker/worker/package_linux64/build/usr/share/julia/stdlib/v1.6/LinearAlgebra/src/special.jl\" target=\"_blank\">/opt/julia-1.6.2/share/julia/stdlib/v1.6/LinearAlgebra/src/special.jl:86</a></li> <li> +(z::<b>Complex</b>, w::<b>Complex</b>) in Base at <a href=\"https://github.com/JuliaLang/julia/tree/1b93d53fc4bb59350ada898038ed4de2994cce33/base/complex.jl#L275\" target=\"_blank\">complex.jl:275</a></li> <li> +(A::<b>BitArray</b>, B::<b>BitArray</b>) in Base at <a href=\"https://github.com/JuliaLang/julia/tree/1b93d53fc4bb59350ada898038ed4de2994cce33/base/bitarray.jl#L1127\" target=\"_blank\">bitarray.jl:1127</a></li> <li> +(A::<b>AbstractArray</b>, B::<b>AbstractArray</b>) in Base at <a href=\"https://github.com/JuliaLang/julia/tree/1b93d53fc4bb59350ada898038ed4de2994cce33/base/arraymath.jl#L37\" target=\"_blank\">arraymath.jl:37</a></li> <li> +(x::<b>Float32</b>, y::<b>Float32</b>) in Base at <a href=\"https://github.com/JuliaLang/julia/tree/1b93d53fc4bb59350ada898038ed4de2994cce33/base/float.jl#L325\" target=\"_blank\">float.jl:325</a></li> <li> +(dt::<b>Dates.DateTime</b>, y::<b>Dates.Year</b>) in Dates at <a href=\"file:///buildworker/worker/package_linux64/build/usr/share/julia/stdlib/v1.6/Dates/src/arithmetic.jl\" target=\"_blank\">/opt/julia-1.6.2/share/julia/stdlib/v1.6/Dates/src/arithmetic.jl:23</a></li> <li> +(dt::<b>Dates.DateTime</b>, z::<b>Dates.Month</b>) in Dates at <a href=\"file:///buildworker/worker/package_linux64/build/usr/share/julia/stdlib/v1.6/Dates/src/arithmetic.jl\" target=\"_blank\">/opt/julia-1.6.2/share/julia/stdlib/v1.6/Dates/src/arithmetic.jl:47</a></li> <li> +(x::<b>Dates.DateTime</b>, y::<b>Dates.Quarter</b>) in Dates at <a href=\"file:///buildworker/worker/package_linux64/build/usr/share/julia/stdlib/v1.6/Dates/src/arithmetic.jl\" target=\"_blank\">/opt/julia-1.6.2/share/julia/stdlib/v1.6/Dates/src/arithmetic.jl:75</a></li> <li> +(x::<b>Dates.DateTime</b>, y::<b>Dates.Period</b>) in Dates at <a href=\"file:///buildworker/worker/package_linux64/build/usr/share/julia/stdlib/v1.6/Dates/src/arithmetic.jl\" target=\"_blank\">/opt/julia-1.6.2/share/julia/stdlib/v1.6/Dates/src/arithmetic.jl:81</a></li> <li> +(x::<b>BigFloat</b>, y::<b>BigFloat</b>) in Base.MPFR at <a href=\"https://github.com/JuliaLang/julia/tree/1b93d53fc4bb59350ada898038ed4de2994cce33/base/mpfr.jl#L364\" target=\"_blank\">mpfr.jl:364</a></li> <li> +(x::<b>BigFloat</b>, c::<b>Union{UInt16, UInt32, UInt64, UInt8}</b>) in Base.MPFR at <a href=\"https://github.com/JuliaLang/julia/tree/1b93d53fc4bb59350ada898038ed4de2994cce33/base/mpfr.jl#L371\" target=\"_blank\">mpfr.jl:371</a></li> <li> +(x::<b>BigFloat</b>, c::<b>Union{Int16, Int32, Int64, Int8}</b>) in Base.MPFR at <a href=\"https://github.com/JuliaLang/julia/tree/1b93d53fc4bb59350ada898038ed4de2994cce33/base/mpfr.jl#L379\" target=\"_blank\">mpfr.jl:379</a></li> <li> +(x::<b>BigFloat</b>, c::<b>Union{Float16, Float32, Float64}</b>) in Base.MPFR at <a href=\"https://github.com/JuliaLang/julia/tree/1b93d53fc4bb59350ada898038ed4de2994cce33/base/mpfr.jl#L387\" target=\"_blank\">mpfr.jl:387</a></li> <li> +(x::<b>BigFloat</b>, c::<b>BigInt</b>) in Base.MPFR at <a href=\"https://github.com/JuliaLang/julia/tree/1b93d53fc4bb59350ada898038ed4de2994cce33/base/mpfr.jl#L395\" target=\"_blank\">mpfr.jl:395</a></li> <li> +(a::<b>BigFloat</b>, b::<b>BigFloat</b>, c::<b>BigFloat</b>) in Base.MPFR at <a href=\"https://github.com/JuliaLang/julia/tree/1b93d53fc4bb59350ada898038ed4de2994cce33/base/mpfr.jl#L536\" target=\"_blank\">mpfr.jl:536</a></li> <li> +(a::<b>BigFloat</b>, b::<b>BigFloat</b>, c::<b>BigFloat</b>, d::<b>BigFloat</b>) in Base.MPFR at <a href=\"https://github.com/JuliaLang/julia/tree/1b93d53fc4bb59350ada898038ed4de2994cce33/base/mpfr.jl#L542\" target=\"_blank\">mpfr.jl:542</a></li> <li> +(a::<b>BigFloat</b>, b::<b>BigFloat</b>, c::<b>BigFloat</b>, d::<b>BigFloat</b>, e::<b>BigFloat</b>) in Base.MPFR at <a href=\"https://github.com/JuliaLang/julia/tree/1b93d53fc4bb59350ada898038ed4de2994cce33/base/mpfr.jl#L549\" target=\"_blank\">mpfr.jl:549</a></li> <li> +(z::<b>Complex{Bool}</b>, x::<b>Bool</b>) in Base at <a href=\"https://github.com/JuliaLang/julia/tree/1b93d53fc4bb59350ada898038ed4de2994cce33/base/complex.jl#L287\" target=\"_blank\">complex.jl:287</a></li> <li> +(z::<b>Complex</b>, x::<b>Bool</b>) in Base at <a href=\"https://github.com/JuliaLang/julia/tree/1b93d53fc4bb59350ada898038ed4de2994cce33/base/complex.jl#L294\" target=\"_blank\">complex.jl:294</a></li> <li> +(z::<b>Complex{Bool}</b>, x::<b>Real</b>) in Base at <a href=\"https://github.com/JuliaLang/julia/tree/1b93d53fc4bb59350ada898038ed4de2994cce33/base/complex.jl#L301\" target=\"_blank\">complex.jl:301</a></li> <li> +(z::<b>Complex</b>) in Base at <a href=\"https://github.com/JuliaLang/julia/tree/1b93d53fc4bb59350ada898038ed4de2994cce33/base/complex.jl#L273\" target=\"_blank\">complex.jl:273</a></li> <li> +(z::<b>Complex</b>, x::<b>Real</b>) in Base at <a href=\"https://github.com/JuliaLang/julia/tree/1b93d53fc4bb59350ada898038ed4de2994cce33/base/complex.jl#L313\" target=\"_blank\">complex.jl:313</a></li> <li> +(t::<b>Dates.Time</b>, dt::<b>Dates.Date</b>) in Dates at <a href=\"file:///buildworker/worker/package_linux64/build/usr/share/julia/stdlib/v1.6/Dates/src/arithmetic.jl\" target=\"_blank\">/opt/julia-1.6.2/share/julia/stdlib/v1.6/Dates/src/arithmetic.jl:20</a></li> <li> +(x::<b>Dates.Time</b>, y::<b>Dates.TimePeriod</b>) in Dates at <a href=\"file:///buildworker/worker/package_linux64/build/usr/share/julia/stdlib/v1.6/Dates/src/arithmetic.jl\" target=\"_blank\">/opt/julia-1.6.2/share/julia/stdlib/v1.6/Dates/src/arithmetic.jl:83</a></li> <li> +(dt::<b>Dates.Date</b>, t::<b>Dates.Time</b>) in Dates at <a href=\"file:///buildworker/worker/package_linux64/build/usr/share/julia/stdlib/v1.6/Dates/src/arithmetic.jl\" target=\"_blank\">/opt/julia-1.6.2/share/julia/stdlib/v1.6/Dates/src/arithmetic.jl:19</a></li> <li> +(dt::<b>Dates.Date</b>, y::<b>Dates.Year</b>) in Dates at <a href=\"file:///buildworker/worker/package_linux64/build/usr/share/julia/stdlib/v1.6/Dates/src/arithmetic.jl\" target=\"_blank\">/opt/julia-1.6.2/share/julia/stdlib/v1.6/Dates/src/arithmetic.jl:27</a></li> <li> +(dt::<b>Dates.Date</b>, z::<b>Dates.Month</b>) in Dates at <a href=\"file:///buildworker/worker/package_linux64/build/usr/share/julia/stdlib/v1.6/Dates/src/arithmetic.jl\" target=\"_blank\">/opt/julia-1.6.2/share/julia/stdlib/v1.6/Dates/src/arithmetic.jl:54</a></li> <li> +(x::<b>Dates.Date</b>, y::<b>Dates.Quarter</b>) in Dates at <a href=\"file:///buildworker/worker/package_linux64/build/usr/share/julia/stdlib/v1.6/Dates/src/arithmetic.jl\" target=\"_blank\">/opt/julia-1.6.2/share/julia/stdlib/v1.6/Dates/src/arithmetic.jl:73</a></li> <li> +(x::<b>Dates.Date</b>, y::<b>Dates.Week</b>) in Dates at <a href=\"file:///buildworker/worker/package_linux64/build/usr/share/julia/stdlib/v1.6/Dates/src/arithmetic.jl\" target=\"_blank\">/opt/julia-1.6.2/share/julia/stdlib/v1.6/Dates/src/arithmetic.jl:77</a></li> <li> +(x::<b>Dates.Date</b>, y::<b>Dates.Day</b>) in Dates at <a href=\"file:///buildworker/worker/package_linux64/build/usr/share/julia/stdlib/v1.6/Dates/src/arithmetic.jl\" target=\"_blank\">/opt/julia-1.6.2/share/julia/stdlib/v1.6/Dates/src/arithmetic.jl:79</a></li> <li> +(x::<b>Dates.TimeType</b>) in Dates at <a href=\"file:///buildworker/worker/package_linux64/build/usr/share/julia/stdlib/v1.6/Dates/src/arithmetic.jl\" target=\"_blank\">/opt/julia-1.6.2/share/julia/stdlib/v1.6/Dates/src/arithmetic.jl:8</a></li> <li> +(x::<b>Dates.AbstractTime</b>, y::<b>Missing</b>) in Dates at <a href=\"file:///buildworker/worker/package_linux64/build/usr/share/julia/stdlib/v1.6/Dates/src/arithmetic.jl\" target=\"_blank\">/opt/julia-1.6.2/share/julia/stdlib/v1.6/Dates/src/arithmetic.jl:88</a></li> <li> +(a::<b>Dates.TimeType</b>, b::<b>Dates.Period</b>, c::<b>Dates.Period</b>) in Dates at <a href=\"file:///buildworker/worker/package_linux64/build/usr/share/julia/stdlib/v1.6/Dates/src/periods.jl\" target=\"_blank\">/opt/julia-1.6.2/share/julia/stdlib/v1.6/Dates/src/periods.jl:373</a></li> <li> +(a::<b>Dates.TimeType</b>, b::<b>Dates.Period</b>, c::<b>Dates.Period</b>, d::<b>Dates.Period...</b>) in Dates at <a href=\"file:///buildworker/worker/package_linux64/build/usr/share/julia/stdlib/v1.6/Dates/src/periods.jl\" target=\"_blank\">/opt/julia-1.6.2/share/julia/stdlib/v1.6/Dates/src/periods.jl:374</a></li> <li> +(x::<b>Dates.TimeType</b>, y::<b>Dates.CompoundPeriod</b>) in Dates at <a href=\"file:///buildworker/worker/package_linux64/build/usr/share/julia/stdlib/v1.6/Dates/src/periods.jl\" target=\"_blank\">/opt/julia-1.6.2/share/julia/stdlib/v1.6/Dates/src/periods.jl:376</a></li> <li> +(::<b>Missing</b>) in Base at <a href=\"https://github.com/JuliaLang/julia/tree/1b93d53fc4bb59350ada898038ed4de2994cce33/base/missing.jl#L101\" target=\"_blank\">missing.jl:101</a></li> <li> +(::<b>Missing</b>, ::<b>Missing</b>) in Base at <a href=\"https://github.com/JuliaLang/julia/tree/1b93d53fc4bb59350ada898038ed4de2994cce33/base/missing.jl#L115\" target=\"_blank\">missing.jl:115</a></li> <li> +(::<b>Missing</b>, ::<b>Number</b>) in Base at <a href=\"https://github.com/JuliaLang/julia/tree/1b93d53fc4bb59350ada898038ed4de2994cce33/base/missing.jl#L116\" target=\"_blank\">missing.jl:116</a></li> <li> +(x::<b>Missing</b>, y::<b>Dates.AbstractTime</b>) in Dates at <a href=\"file:///buildworker/worker/package_linux64/build/usr/share/julia/stdlib/v1.6/Dates/src/arithmetic.jl\" target=\"_blank\">/opt/julia-1.6.2/share/julia/stdlib/v1.6/Dates/src/arithmetic.jl:89</a></li> <li> +(level::<b>Base.CoreLogging.LogLevel</b>, inc::<b>Integer</b>) in Base.CoreLogging at <a href=\"https://github.com/JuliaLang/julia/tree/1b93d53fc4bb59350ada898038ed4de2994cce33/base/logging.jl#L131\" target=\"_blank\">logging.jl:131</a></li> <li> +(x::<b>Dates.CompoundPeriod</b>, y::<b>Dates.Period</b>) in Dates at <a href=\"file:///buildworker/worker/package_linux64/build/usr/share/julia/stdlib/v1.6/Dates/src/periods.jl\" target=\"_blank\">/opt/julia-1.6.2/share/julia/stdlib/v1.6/Dates/src/periods.jl:352</a></li> <li> +(x::<b>Dates.CompoundPeriod</b>, y::<b>Dates.CompoundPeriod</b>) in Dates at <a href=\"file:///buildworker/worker/package_linux64/build/usr/share/julia/stdlib/v1.6/Dates/src/periods.jl\" target=\"_blank\">/opt/julia-1.6.2/share/julia/stdlib/v1.6/Dates/src/periods.jl:354</a></li> <li> +(x::<b>Dates.CompoundPeriod</b>, y::<b>Dates.TimeType</b>) in Dates at <a href=\"file:///buildworker/worker/package_linux64/build/usr/share/julia/stdlib/v1.6/Dates/src/periods.jl\" target=\"_blank\">/opt/julia-1.6.2/share/julia/stdlib/v1.6/Dates/src/periods.jl:382</a></li> <li> +(x::<b>BigInt</b>, y::<b>BigInt</b>) in Base.GMP at <a href=\"https://github.com/JuliaLang/julia/tree/1b93d53fc4bb59350ada898038ed4de2994cce33/base/gmp.jl#L479\" target=\"_blank\">gmp.jl:479</a></li> <li> +(a::<b>BigInt</b>, b::<b>BigInt</b>, c::<b>BigInt</b>) in Base.GMP at <a href=\"https://github.com/JuliaLang/julia/tree/1b93d53fc4bb59350ada898038ed4de2994cce33/base/gmp.jl#L519\" target=\"_blank\">gmp.jl:519</a></li> <li> +(a::<b>BigInt</b>, b::<b>BigInt</b>, c::<b>BigInt</b>, d::<b>BigInt</b>) in Base.GMP at <a href=\"https://github.com/JuliaLang/julia/tree/1b93d53fc4bb59350ada898038ed4de2994cce33/base/gmp.jl#L520\" target=\"_blank\">gmp.jl:520</a></li> <li> +(a::<b>BigInt</b>, b::<b>BigInt</b>, c::<b>BigInt</b>, d::<b>BigInt</b>, e::<b>BigInt</b>) in Base.GMP at <a href=\"https://github.com/JuliaLang/julia/tree/1b93d53fc4bb59350ada898038ed4de2994cce33/base/gmp.jl#L521\" target=\"_blank\">gmp.jl:521</a></li> <li> +(x::<b>BigInt</b>, c::<b>Union{UInt16, UInt32, UInt64, UInt8}</b>) in Base.GMP at <a href=\"https://github.com/JuliaLang/julia/tree/1b93d53fc4bb59350ada898038ed4de2994cce33/base/gmp.jl#L527\" target=\"_blank\">gmp.jl:527</a></li> <li> +(x::<b>BigInt</b>, c::<b>Union{Int16, Int32, Int64, Int8}</b>) in Base.GMP at <a href=\"https://github.com/JuliaLang/julia/tree/1b93d53fc4bb59350ada898038ed4de2994cce33/base/gmp.jl#L533\" target=\"_blank\">gmp.jl:533</a></li> <li> +(c::<b>BigInt</b>, x::<b>BigFloat</b>) in Base.MPFR at <a href=\"https://github.com/JuliaLang/julia/tree/1b93d53fc4bb59350ada898038ed4de2994cce33/base/mpfr.jl#L400\" target=\"_blank\">mpfr.jl:400</a></li> <li> +(a::<b>Pkg.Resolve.VersionWeight</b>, b::<b>Pkg.Resolve.VersionWeight</b>) in Pkg.Resolve at <a href=\"file:///buildworker/worker/package_linux64/build/usr/share/julia/stdlib/v1.6/Pkg/src/Resolve/versionweights.jl\" target=\"_blank\">/opt/julia-1.6.2/share/julia/stdlib/v1.6/Pkg/src/Resolve/versionweights.jl:22</a></li> <li> +(x::<b>Float64</b>, y::<b>Float64</b>) in Base at <a href=\"https://github.com/JuliaLang/julia/tree/1b93d53fc4bb59350ada898038ed4de2994cce33/base/float.jl#L326\" target=\"_blank\">float.jl:326</a></li> <li> +(x::<b>Float16</b>, y::<b>Float16</b>) in Base at <a href=\"https://github.com/JuliaLang/julia/tree/1b93d53fc4bb59350ada898038ed4de2994cce33/base/float.jl#L324\" target=\"_blank\">float.jl:324</a></li> <li> +(x::<b>Bool</b>) in Base at <a href=\"https://github.com/JuliaLang/julia/tree/1b93d53fc4bb59350ada898038ed4de2994cce33/base/bool.jl#L89\" target=\"_blank\">bool.jl:89</a></li> <li> +(x::<b>Number</b>, y::<b>Base.TwicePrecision</b>) in Base at <a href=\"https://github.com/JuliaLang/julia/tree/1b93d53fc4bb59350ada898038ed4de2994cce33/base/twiceprecision.jl#L271\" target=\"_blank\">twiceprecision.jl:271</a></li> <li> +(::<b>Number</b>, ::<b>Missing</b>) in Base at <a href=\"https://github.com/JuliaLang/julia/tree/1b93d53fc4bb59350ada898038ed4de2994cce33/base/missing.jl#L117\" target=\"_blank\">missing.jl:117</a></li> <li> +(x::<b>Number</b>, J::<b>LinearAlgebra.UniformScaling</b>) in LinearAlgebra at <a href=\"file:///buildworker/worker/package_linux64/build/usr/share/julia/stdlib/v1.6/LinearAlgebra/src/uniformscaling.jl\" target=\"_blank\">/opt/julia-1.6.2/share/julia/stdlib/v1.6/LinearAlgebra/src/uniformscaling.jl:146</a></li> <li> +(x::<b>Integer</b>, y::<b>Ptr</b>) in Base at <a href=\"https://github.com/JuliaLang/julia/tree/1b93d53fc4bb59350ada898038ed4de2994cce33/base/pointer.jl#L161\" target=\"_blank\">pointer.jl:161</a></li> <li> +(y::<b>Integer</b>, x::<b>Rational</b>) in Base at <a href=\"https://github.com/JuliaLang/julia/tree/1b93d53fc4bb59350ada898038ed4de2994cce33/base/rational.jl#L296\" target=\"_blank\">rational.jl:296</a></li> <li> +(x::<b>Integer</b>, y::<b>AbstractChar</b>) in Base at <a href=\"https://github.com/JuliaLang/julia/tree/1b93d53fc4bb59350ada898038ed4de2994cce33/base/char.jl#L224\" target=\"_blank\">char.jl:224</a></li> <li> +(x::<b>Bool</b>, y::<b>Bool</b>) in Base at <a href=\"https://github.com/JuliaLang/julia/tree/1b93d53fc4bb59350ada898038ed4de2994cce33/base/bool.jl#L92\" target=\"_blank\">bool.jl:92</a></li> <li> +(a::<b>Integer</b>, b::<b>Integer</b>) in Base at <a href=\"https://github.com/JuliaLang/julia/tree/1b93d53fc4bb59350ada898038ed4de2994cce33/base/int.jl#L919\" target=\"_blank\">int.jl:919</a></li> <li> +(x::<b>Bool</b>, y::<b>T</b>)<i> where T<:AbstractFloat</i> in Base at <a href=\"https://github.com/JuliaLang/julia/tree/1b93d53fc4bb59350ada898038ed4de2994cce33/base/bool.jl#L99\" target=\"_blank\">bool.jl:99</a></li> <li> +(x::<b>Bool</b>, z::<b>Complex{Bool}</b>) in Base at <a href=\"https://github.com/JuliaLang/julia/tree/1b93d53fc4bb59350ada898038ed4de2994cce33/base/complex.jl#L286\" target=\"_blank\">complex.jl:286</a></li> <li> +(x::<b>Bool</b>, z::<b>Complex</b>) in Base at <a href=\"https://github.com/JuliaLang/julia/tree/1b93d53fc4bb59350ada898038ed4de2994cce33/base/complex.jl#L293\" target=\"_blank\">complex.jl:293</a></li> <li> +(a::<b>Pkg.Resolve.FieldValue</b>, b::<b>Pkg.Resolve.FieldValue</b>) in Pkg.Resolve at <a href=\"file:///buildworker/worker/package_linux64/build/usr/share/julia/stdlib/v1.6/Pkg/src/Resolve/fieldvalues.jl\" target=\"_blank\">/opt/julia-1.6.2/share/julia/stdlib/v1.6/Pkg/src/Resolve/fieldvalues.jl:43</a></li> <li> +(B::<b>BitMatrix</b>, J::<b>LinearAlgebra.UniformScaling</b>) in LinearAlgebra at <a href=\"file:///buildworker/worker/package_linux64/build/usr/share/julia/stdlib/v1.6/LinearAlgebra/src/uniformscaling.jl\" target=\"_blank\">/opt/julia-1.6.2/share/julia/stdlib/v1.6/LinearAlgebra/src/uniformscaling.jl:152</a></li> <li> +(A::<b>AbstractMatrix{T} where T</b>, J::<b>LinearAlgebra.UniformScaling</b>) in LinearAlgebra at <a href=\"file:///buildworker/worker/package_linux64/build/usr/share/julia/stdlib/v1.6/LinearAlgebra/src/uniformscaling.jl\" target=\"_blank\">/opt/julia-1.6.2/share/julia/stdlib/v1.6/LinearAlgebra/src/uniformscaling.jl:215</a></li> <li> +(x::<b>AbstractArray{var\"#s79\", N} where {var\"#s79\"<:Number, N}</b>) in Base at <a href=\"https://github.com/JuliaLang/julia/tree/1b93d53fc4bb59350ada898038ed4de2994cce33/base/abstractarraymath.jl#L97\" target=\"_blank\">abstractarraymath.jl:97</a></li> <li> +(x::<b>Rational{BigInt}</b>, y::<b>Rational{BigInt}</b>) in Base.GMP.MPQ at <a href=\"https://github.com/JuliaLang/julia/tree/1b93d53fc4bb59350ada898038ed4de2994cce33/base/gmp.jl#L889\" target=\"_blank\">gmp.jl:889</a></li> <li> +(x::<b>Rational</b>) in Base at <a href=\"https://github.com/JuliaLang/julia/tree/1b93d53fc4bb59350ada898038ed4de2994cce33/base/rational.jl#L268\" target=\"_blank\">rational.jl:268</a></li> <li> +(x::<b>Real</b>, z::<b>Complex{Bool}</b>) in Base at <a href=\"https://github.com/JuliaLang/julia/tree/1b93d53fc4bb59350ada898038ed4de2994cce33/base/complex.jl#L300\" target=\"_blank\">complex.jl:300</a></li> <li> +(x::<b>Real</b>, z::<b>Complex</b>) in Base at <a href=\"https://github.com/JuliaLang/julia/tree/1b93d53fc4bb59350ada898038ed4de2994cce33/base/complex.jl#L312\" target=\"_blank\">complex.jl:312</a></li> <li> +(x::<b>Rational</b>, y::<b>Rational</b>) in Base at <a href=\"https://github.com/JuliaLang/julia/tree/1b93d53fc4bb59350ada898038ed4de2994cce33/base/rational.jl#L284\" target=\"_blank\">rational.jl:284</a></li> <li> +(x::<b>Number</b>) in Base at <a href=\"https://github.com/JuliaLang/julia/tree/1b93d53fc4bb59350ada898038ed4de2994cce33/base/operators.jl#L515\" target=\"_blank\">operators.jl:515</a></li> <li> +(x::<b>T</b>, y::<b>T</b>)<i> where T<:Number</i> in Base at <a href=\"https://github.com/JuliaLang/julia/tree/1b93d53fc4bb59350ada898038ed4de2994cce33/base/promotion.jl#L396\" target=\"_blank\">promotion.jl:396</a></li> <li> +(x::<b>Number</b>, y::<b>Number</b>) in Base at <a href=\"https://github.com/JuliaLang/julia/tree/1b93d53fc4bb59350ada898038ed4de2994cce33/base/promotion.jl#L321\" target=\"_blank\">promotion.jl:321</a></li> <li> +(a, b, c, xs...) in Base at <a href=\"https://github.com/JuliaLang/julia/tree/1b93d53fc4bb59350ada898038ed4de2994cce33/base/operators.jl#L560\" target=\"_blank\">operators.jl:560</a></li> </ul>"
      ],
      "text/plain": [
       "# 190 methods for generic function \"+\":\n",
       "[1] +(x::T, y::T) where T<:Union{Int128, Int16, Int32, Int64, Int8, UInt128, UInt16, UInt32, UInt64, UInt8} in Base at int.jl:87\n",
       "[2] +(c::Union{UInt16, UInt32, UInt64, UInt8}, x::BigInt) in Base.GMP at gmp.jl:528\n",
       "[3] +(c::Union{Int16, Int32, Int64, Int8}, x::BigInt) in Base.GMP at gmp.jl:534\n",
       "[4] +(c::Union{UInt16, UInt32, UInt64, UInt8}, x::BigFloat) in Base.MPFR at mpfr.jl:376\n",
       "[5] +(c::Union{Int16, Int32, Int64, Int8}, x::BigFloat) in Base.MPFR at mpfr.jl:384\n",
       "[6] +(c::Union{Float16, Float32, Float64}, x::BigFloat) in Base.MPFR at mpfr.jl:392\n",
       "[7] +(x::Union{Dates.CompoundPeriod, Dates.Period}) in Dates at /opt/julia-1.6.2/share/julia/stdlib/v1.6/Dates/src/periods.jl:362\n",
       "[8] +(y::AbstractFloat, x::Bool) in Base at bool.jl:102\n",
       "[9] +(A::LinearAlgebra.Bidiagonal, B::LinearAlgebra.Bidiagonal) in LinearAlgebra at /opt/julia-1.6.2/share/julia/stdlib/v1.6/LinearAlgebra/src/bidiag.jl:354\n",
       "[10] +(A::LinearAlgebra.Bidiagonal, B::LinearAlgebra.UpperTriangular) in LinearAlgebra at /opt/julia-1.6.2/share/julia/stdlib/v1.6/LinearAlgebra/src/special.jl:94\n",
       "[11] +(A::LinearAlgebra.Bidiagonal, B::LinearAlgebra.UnitUpperTriangular) in LinearAlgebra at /opt/julia-1.6.2/share/julia/stdlib/v1.6/LinearAlgebra/src/special.jl:94\n",
       "[12] +(A::LinearAlgebra.Bidiagonal, B::LinearAlgebra.LowerTriangular) in LinearAlgebra at /opt/julia-1.6.2/share/julia/stdlib/v1.6/LinearAlgebra/src/special.jl:94\n",
       "[13] +(A::LinearAlgebra.Bidiagonal, B::LinearAlgebra.UnitLowerTriangular) in LinearAlgebra at /opt/julia-1.6.2/share/julia/stdlib/v1.6/LinearAlgebra/src/special.jl:94\n",
       "[14] +(A::LinearAlgebra.Bidiagonal, B::LinearAlgebra.Diagonal) in LinearAlgebra at /opt/julia-1.6.2/share/julia/stdlib/v1.6/LinearAlgebra/src/special.jl:115\n",
       "[15] +(A::LinearAlgebra.Bidiagonal, B::LinearAlgebra.Tridiagonal) in LinearAlgebra at /opt/julia-1.6.2/share/julia/stdlib/v1.6/LinearAlgebra/src/special.jl:183\n",
       "[16] +(A::LinearAlgebra.Bidiagonal, B::LinearAlgebra.SymTridiagonal) in LinearAlgebra at /opt/julia-1.6.2/share/julia/stdlib/v1.6/LinearAlgebra/src/special.jl:203\n",
       "[17] +(A::LinearAlgebra.Bidiagonal{var\"#s832\", V} where {var\"#s832\"<:Number, V<:AbstractVector{var\"#s832\"}}, B::LinearAlgebra.UniformScaling) in LinearAlgebra at /opt/julia-1.6.2/share/julia/stdlib/v1.6/LinearAlgebra/src/special.jl:236\n",
       "[18] +(J::LinearAlgebra.UniformScaling) in LinearAlgebra at /opt/julia-1.6.2/share/julia/stdlib/v1.6/LinearAlgebra/src/uniformscaling.jl:150\n",
       "[19] +(J::LinearAlgebra.UniformScaling, x::Number) in LinearAlgebra at /opt/julia-1.6.2/share/julia/stdlib/v1.6/LinearAlgebra/src/uniformscaling.jl:145\n",
       "[20] +(J1::LinearAlgebra.UniformScaling, J2::LinearAlgebra.UniformScaling) in LinearAlgebra at /opt/julia-1.6.2/share/julia/stdlib/v1.6/LinearAlgebra/src/uniformscaling.jl:151\n",
       "[21] +(J::LinearAlgebra.UniformScaling, B::BitMatrix) in LinearAlgebra at /opt/julia-1.6.2/share/julia/stdlib/v1.6/LinearAlgebra/src/uniformscaling.jl:153\n",
       "[22] +(J::LinearAlgebra.UniformScaling, F::LinearAlgebra.Hessenberg) in LinearAlgebra at /opt/julia-1.6.2/share/julia/stdlib/v1.6/LinearAlgebra/src/hessenberg.jl:560\n",
       "[23] +(A::LinearAlgebra.UniformScaling, B::LinearAlgebra.Tridiagonal{var\"#s832\", V} where {var\"#s832\"<:Number, V<:AbstractVector{var\"#s832\"}}) in LinearAlgebra at /opt/julia-1.6.2/share/julia/stdlib/v1.6/LinearAlgebra/src/special.jl:245\n",
       "[24] +(A::LinearAlgebra.UniformScaling, B::LinearAlgebra.SymTridiagonal{var\"#s832\", V} where {var\"#s832\"<:Number, V<:AbstractVector{var\"#s832\"}}) in LinearAlgebra at /opt/julia-1.6.2/share/julia/stdlib/v1.6/LinearAlgebra/src/special.jl:250\n",
       "[25] +(A::LinearAlgebra.UniformScaling, B::LinearAlgebra.Bidiagonal{var\"#s832\", V} where {var\"#s832\"<:Number, V<:AbstractVector{var\"#s832\"}}) in LinearAlgebra at /opt/julia-1.6.2/share/julia/stdlib/v1.6/LinearAlgebra/src/special.jl:255\n",
       "[26] +(A::LinearAlgebra.UniformScaling, B::LinearAlgebra.Diagonal{var\"#s832\", V} where {var\"#s832\"<:Number, V<:AbstractVector{var\"#s832\"}}) in LinearAlgebra at /opt/julia-1.6.2/share/julia/stdlib/v1.6/LinearAlgebra/src/special.jl:260\n",
       "[27] +(J::LinearAlgebra.UniformScaling, A::AbstractMatrix{T} where T) in LinearAlgebra at /opt/julia-1.6.2/share/julia/stdlib/v1.6/LinearAlgebra/src/uniformscaling.jl:154\n",
       "[28] +(x::Rational, y::Integer) in Base at rational.jl:289\n",
       "[29] +(A::LinearAlgebra.Symmetric, B::LinearAlgebra.Symmetric) in LinearAlgebra at /opt/julia-1.6.2/share/julia/stdlib/v1.6/LinearAlgebra/src/symmetric.jl:469\n",
       "[30] +(S::LinearAlgebra.Symmetric, D::LinearAlgebra.Diagonal) in LinearAlgebra at /opt/julia-1.6.2/share/julia/stdlib/v1.6/LinearAlgebra/src/diagonal.jl:163\n",
       "[31] +(A::LinearAlgebra.Symmetric{var\"#s830\", var\"#s829\"} where {var\"#s830\", var\"#s829\"<:(SparseArrays.AbstractSparseMatrix{Tv, Ti} where {Tv, Ti})}, B::SparseArrays.AbstractSparseMatrix{Tv, Ti} where {Tv, Ti}) in SparseArrays at /opt/julia-1.6.2/share/julia/stdlib/v1.6/SparseArrays/src/linalg.jl:15\n",
       "[32] +(A::LinearAlgebra.Symmetric, B::SparseArrays.AbstractSparseMatrix{Tv, Ti} where {Tv, Ti}) in SparseArrays at /opt/julia-1.6.2/share/julia/stdlib/v1.6/SparseArrays/src/linalg.jl:18\n",
       "[33] +(A::LinearAlgebra.Symmetric{var\"#s824\", var\"#s823\"} where {var\"#s824\"<:Real, var\"#s823\"<:(SparseArrays.AbstractSparseMatrix{Tv, Ti} where {Tv, Ti})}, B::LinearAlgebra.Hermitian{var\"#s822\", var\"#s821\"} where {var\"#s822\", var\"#s821\"<:(SparseArrays.AbstractSparseMatrix{Tv, Ti} where {Tv, Ti})}) in SparseArrays at /opt/julia-1.6.2/share/julia/stdlib/v1.6/SparseArrays/src/linalg.jl:25\n",
       "[34] +(A::LinearAlgebra.Symmetric{var\"#s831\", S} where {var\"#s831\"<:Real, S<:(AbstractMatrix{var\"#s832\"} where var\"#s832\"<:var\"#s831\")}, B::LinearAlgebra.Hermitian) in LinearAlgebra at /opt/julia-1.6.2/share/julia/stdlib/v1.6/LinearAlgebra/src/symmetric.jl:484\n",
       "[35] +(A::LinearAlgebra.Symmetric{var\"#s832\", var\"#s831\"} where {var\"#s832\", var\"#s831\"<:(SparseArrays.AbstractSparseMatrix{Tv, Ti} where {Tv, Ti})}, B::LinearAlgebra.Hermitian{var\"#s830\", var\"#s829\"} where {var\"#s830\", var\"#s829\"<:(SparseArrays.AbstractSparseMatrix{Tv, Ti} where {Tv, Ti})}) in SparseArrays at /opt/julia-1.6.2/share/julia/stdlib/v1.6/SparseArrays/src/linalg.jl:23\n",
       "[36] +(x::AbstractIrrational, y::AbstractIrrational) in Base at irrationals.jl:156\n",
       "[37] +(Da::LinearAlgebra.Diagonal, Db::LinearAlgebra.Diagonal) in LinearAlgebra at /opt/julia-1.6.2/share/julia/stdlib/v1.6/LinearAlgebra/src/diagonal.jl:156\n",
       "[38] +(D::LinearAlgebra.Diagonal, S::LinearAlgebra.Symmetric) in LinearAlgebra at /opt/julia-1.6.2/share/julia/stdlib/v1.6/LinearAlgebra/src/diagonal.jl:160\n",
       "[39] +(D::LinearAlgebra.Diagonal{var\"#s832\", V} where {var\"#s832\"<:Real, V<:AbstractVector{var\"#s832\"}}, H::LinearAlgebra.Hermitian) in LinearAlgebra at /opt/julia-1.6.2/share/julia/stdlib/v1.6/LinearAlgebra/src/diagonal.jl:166\n",
       "[40] +(A::LinearAlgebra.Diagonal, B::LinearAlgebra.Bidiagonal) in LinearAlgebra at /opt/julia-1.6.2/share/julia/stdlib/v1.6/LinearAlgebra/src/special.jl:125\n",
       "[41] +(A::LinearAlgebra.Diagonal, B::LinearAlgebra.SymTridiagonal) in LinearAlgebra at /opt/julia-1.6.2/share/julia/stdlib/v1.6/LinearAlgebra/src/special.jl:135\n",
       "[42] +(A::LinearAlgebra.Diagonal, B::LinearAlgebra.Tridiagonal) in LinearAlgebra at /opt/julia-1.6.2/share/julia/stdlib/v1.6/LinearAlgebra/src/special.jl:163\n",
       "[43] +(A::LinearAlgebra.Diagonal{var\"#s832\", V} where {var\"#s832\"<:Number, V<:AbstractVector{var\"#s832\"}}, B::LinearAlgebra.UniformScaling) in LinearAlgebra at /opt/julia-1.6.2/share/julia/stdlib/v1.6/LinearAlgebra/src/special.jl:241\n",
       "[44] +(A::LinearAlgebra.UnitUpperTriangular, B::LinearAlgebra.UpperTriangular) in LinearAlgebra at /opt/julia-1.6.2/share/julia/stdlib/v1.6/LinearAlgebra/src/triangular.jl:652\n",
       "[45] +(A::LinearAlgebra.UnitUpperTriangular, B::LinearAlgebra.UnitUpperTriangular) in LinearAlgebra at /opt/julia-1.6.2/share/julia/stdlib/v1.6/LinearAlgebra/src/triangular.jl:654\n",
       "[46] +(UL::LinearAlgebra.UnitUpperTriangular, J::LinearAlgebra.UniformScaling) in LinearAlgebra at /opt/julia-1.6.2/share/julia/stdlib/v1.6/LinearAlgebra/src/uniformscaling.jl:182\n",
       "[47] +(A::LinearAlgebra.UnitUpperTriangular, B::LinearAlgebra.Bidiagonal) in LinearAlgebra at /opt/julia-1.6.2/share/julia/stdlib/v1.6/LinearAlgebra/src/special.jl:86\n",
       "[48] +(A::LinearAlgebra.SymTridiagonal, B::LinearAlgebra.SymTridiagonal) in LinearAlgebra at /opt/julia-1.6.2/share/julia/stdlib/v1.6/LinearAlgebra/src/tridiag.jl:205\n",
       "[49] +(A::LinearAlgebra.SymTridiagonal, B::LinearAlgebra.Diagonal) in LinearAlgebra at /opt/julia-1.6.2/share/julia/stdlib/v1.6/LinearAlgebra/src/special.jl:145\n",
       "[50] +(A::LinearAlgebra.SymTridiagonal, B::LinearAlgebra.Tridiagonal) in LinearAlgebra at /opt/julia-1.6.2/share/julia/stdlib/v1.6/LinearAlgebra/src/special.jl:159\n",
       "[51] +(A::LinearAlgebra.SymTridiagonal, B::LinearAlgebra.Bidiagonal) in LinearAlgebra at /opt/julia-1.6.2/share/julia/stdlib/v1.6/LinearAlgebra/src/special.jl:213\n",
       "[52] +(A::LinearAlgebra.SymTridiagonal{var\"#s832\", V} where {var\"#s832\"<:Number, V<:AbstractVector{var\"#s832\"}}, B::LinearAlgebra.UniformScaling) in LinearAlgebra at /opt/julia-1.6.2/share/julia/stdlib/v1.6/LinearAlgebra/src/special.jl:231\n",
       "[53] +(r::AbstractRange{var\"#s832\"} where var\"#s832\"<:Dates.TimeType, x::Dates.Period) in Dates at /opt/julia-1.6.2/share/julia/stdlib/v1.6/Dates/src/ranges.jl:63\n",
       "[54] +(A::LinearAlgebra.UpperHessenberg, B::LinearAlgebra.UpperHessenberg) in LinearAlgebra at /opt/julia-1.6.2/share/julia/stdlib/v1.6/LinearAlgebra/src/hessenberg.jl:101\n",
       "[55] +(H::LinearAlgebra.UpperHessenberg, J::LinearAlgebra.UniformScaling) in LinearAlgebra at /opt/julia-1.6.2/share/julia/stdlib/v1.6/LinearAlgebra/src/hessenberg.jl:106\n",
       "[56] +(x::T, y::Integer) where T<:AbstractChar in Base at char.jl:223\n",
       "[57] +(A::Array, Bs::Array...) in Base at arraymath.jl:43\n",
       "[58] +(X::StridedArray{var\"#s832\", N} where {var\"#s832\"<:Union{Dates.CompoundPeriod, Dates.Period}, N}, Y::StridedArray{var\"#s831\", N} where {var\"#s831\"<:Union{Dates.CompoundPeriod, Dates.Period}, N}) in Dates at /opt/julia-1.6.2/share/julia/stdlib/v1.6/Dates/src/deprecated.jl:62\n",
       "[59] +(A::Array, B::SparseArrays.AbstractSparseMatrixCSC) in SparseArrays at /opt/julia-1.6.2/share/julia/stdlib/v1.6/SparseArrays/src/sparsematrix.jl:1745\n",
       "[60] +(x::StridedArray{var\"#s832\", N} where {var\"#s832\"<:Union{Dates.CompoundPeriod, Dates.Period}, N}) in Dates at /opt/julia-1.6.2/share/julia/stdlib/v1.6/Dates/src/deprecated.jl:55\n",
       "[61] +(x::StridedArray{var\"#s832\", N} where {var\"#s832\"<:Union{Dates.CompoundPeriod, Dates.Period}, N}, y::Dates.TimeType) in Dates at /opt/julia-1.6.2/share/julia/stdlib/v1.6/Dates/src/deprecated.jl:10\n",
       "[62] +(x::Dates.Instant) in Dates at /opt/julia-1.6.2/share/julia/stdlib/v1.6/Dates/src/arithmetic.jl:4\n",
       "[63] +(A::LinearAlgebra.Tridiagonal, B::LinearAlgebra.Tridiagonal) in LinearAlgebra at /opt/julia-1.6.2/share/julia/stdlib/v1.6/LinearAlgebra/src/tridiag.jl:733\n",
       "[64] +(A::LinearAlgebra.Tridiagonal, B::LinearAlgebra.SymTridiagonal) in LinearAlgebra at /opt/julia-1.6.2/share/julia/stdlib/v1.6/LinearAlgebra/src/special.jl:157\n",
       "[65] +(A::LinearAlgebra.Tridiagonal, B::LinearAlgebra.Diagonal) in LinearAlgebra at /opt/julia-1.6.2/share/julia/stdlib/v1.6/LinearAlgebra/src/special.jl:173\n",
       "[66] +(A::LinearAlgebra.Tridiagonal, B::LinearAlgebra.Bidiagonal) in LinearAlgebra at /opt/julia-1.6.2/share/julia/stdlib/v1.6/LinearAlgebra/src/special.jl:193\n",
       "[67] +(A::LinearAlgebra.Tridiagonal{var\"#s832\", V} where {var\"#s832\"<:Number, V<:AbstractVector{var\"#s832\"}}, B::LinearAlgebra.UniformScaling) in LinearAlgebra at /opt/julia-1.6.2/share/julia/stdlib/v1.6/LinearAlgebra/src/special.jl:226\n",
       "[68] +(r1::StepRangeLen{T, R, S} where S, r2::StepRangeLen{T, R, S} where S) where {R<:Base.TwicePrecision, T} in Base at twiceprecision.jl:574\n",
       "[69] +(r1::StepRangeLen{T, S, S1} where S1, r2::StepRangeLen{T, S, S1} where S1) where {T, S} in Base at range.jl:1126\n",
       "[70] +(x::Ptr, y::Integer) in Base at pointer.jl:159\n",
       "[71] +(r1::LinRange{T}, r2::LinRange{T}) where T in Base at range.jl:1110\n",
       "[72] +(x::Base.TwicePrecision, y::Number) in Base at twiceprecision.jl:267\n",
       "[73] +(x::Base.TwicePrecision{T}, y::Base.TwicePrecision{T}) where T in Base at twiceprecision.jl:273\n",
       "[74] +(x::Base.TwicePrecision, y::Base.TwicePrecision) in Base at twiceprecision.jl:278\n",
       "[75] +(A::LinearAlgebra.UnitLowerTriangular, B::LinearAlgebra.LowerTriangular) in LinearAlgebra at /opt/julia-1.6.2/share/julia/stdlib/v1.6/LinearAlgebra/src/triangular.jl:653\n",
       "[76] +(A::LinearAlgebra.UnitLowerTriangular, B::LinearAlgebra.UnitLowerTriangular) in LinearAlgebra at /opt/julia-1.6.2/share/julia/stdlib/v1.6/LinearAlgebra/src/triangular.jl:655\n",
       "[77] +(UL::LinearAlgebra.UnitLowerTriangular, J::LinearAlgebra.UniformScaling) in LinearAlgebra at /opt/julia-1.6.2/share/julia/stdlib/v1.6/LinearAlgebra/src/uniformscaling.jl:182\n",
       "[78] +(A::LinearAlgebra.UnitLowerTriangular, B::LinearAlgebra.Bidiagonal) in LinearAlgebra at /opt/julia-1.6.2/share/julia/stdlib/v1.6/LinearAlgebra/src/special.jl:86\n",
       "[79] +(A::LinearAlgebra.Hermitian, B::LinearAlgebra.Hermitian) in LinearAlgebra at /opt/julia-1.6.2/share/julia/stdlib/v1.6/LinearAlgebra/src/symmetric.jl:469\n",
       "[80] +(H::LinearAlgebra.Hermitian, D::LinearAlgebra.Diagonal{var\"#s832\", V} where {var\"#s832\"<:Real, V<:AbstractVector{var\"#s832\"}}) in LinearAlgebra at /opt/julia-1.6.2/share/julia/stdlib/v1.6/LinearAlgebra/src/diagonal.jl:169\n",
       "[81] +(A::LinearAlgebra.Hermitian, J::LinearAlgebra.UniformScaling{var\"#s832\"} where var\"#s832\"<:Complex) in LinearAlgebra at /opt/julia-1.6.2/share/julia/stdlib/v1.6/LinearAlgebra/src/uniformscaling.jl:196\n",
       "[82] +(A::LinearAlgebra.Hermitian{var\"#s830\", var\"#s829\"} where {var\"#s830\", var\"#s829\"<:(SparseArrays.AbstractSparseMatrix{Tv, Ti} where {Tv, Ti})}, B::SparseArrays.AbstractSparseMatrix{Tv, Ti} where {Tv, Ti}) in SparseArrays at /opt/julia-1.6.2/share/julia/stdlib/v1.6/SparseArrays/src/linalg.jl:15\n",
       "[83] +(A::LinearAlgebra.Hermitian, B::SparseArrays.AbstractSparseMatrix{Tv, Ti} where {Tv, Ti}) in SparseArrays at /opt/julia-1.6.2/share/julia/stdlib/v1.6/SparseArrays/src/linalg.jl:18\n",
       "[84] +(A::LinearAlgebra.Hermitian{var\"#s820\", var\"#s819\"} where {var\"#s820\", var\"#s819\"<:(SparseArrays.AbstractSparseMatrix{Tv, Ti} where {Tv, Ti})}, B::LinearAlgebra.Symmetric{var\"#s818\", var\"#s817\"} where {var\"#s818\"<:Real, var\"#s817\"<:(SparseArrays.AbstractSparseMatrix{Tv, Ti} where {Tv, Ti})}) in SparseArrays at /opt/julia-1.6.2/share/julia/stdlib/v1.6/SparseArrays/src/linalg.jl:26\n",
       "[85] +(A::LinearAlgebra.Hermitian, B::LinearAlgebra.Symmetric{var\"#s832\", S} where {var\"#s832\"<:Real, S<:(AbstractMatrix{var\"#s832\"} where var\"#s832\"<:var\"#s832\")}) in LinearAlgebra at /opt/julia-1.6.2/share/julia/stdlib/v1.6/LinearAlgebra/src/symmetric.jl:483\n",
       "[86] +(A::LinearAlgebra.Hermitian{var\"#s828\", var\"#s827\"} where {var\"#s828\", var\"#s827\"<:(SparseArrays.AbstractSparseMatrix{Tv, Ti} where {Tv, Ti})}, B::LinearAlgebra.Symmetric{var\"#s826\", var\"#s825\"} where {var\"#s826\", var\"#s825\"<:(SparseArrays.AbstractSparseMatrix{Tv, Ti} where {Tv, Ti})}) in SparseArrays at /opt/julia-1.6.2/share/julia/stdlib/v1.6/SparseArrays/src/linalg.jl:24\n",
       "[87] +(x::P, y::P) where P<:Dates.Period in Dates at /opt/julia-1.6.2/share/julia/stdlib/v1.6/Dates/src/periods.jl:79\n",
       "[88] +(x::Dates.Period, y::Dates.Period) in Dates at /opt/julia-1.6.2/share/julia/stdlib/v1.6/Dates/src/periods.jl:351\n",
       "[89] +(y::Dates.Period, x::Dates.CompoundPeriod) in Dates at /opt/julia-1.6.2/share/julia/stdlib/v1.6/Dates/src/periods.jl:353\n",
       "[90] +(y::Dates.Period, x::Dates.TimeType) in Dates at /opt/julia-1.6.2/share/julia/stdlib/v1.6/Dates/src/arithmetic.jl:85\n",
       "[91] +(x::Dates.Period, r::AbstractRange{var\"#s832\"} where var\"#s832\"<:Dates.TimeType) in Dates at /opt/julia-1.6.2/share/julia/stdlib/v1.6/Dates/src/ranges.jl:62\n",
       "[92] +(y::Union{Dates.CompoundPeriod, Dates.Period}, x::AbstractArray{var\"#s832\", N} where {var\"#s832\"<:Dates.TimeType, N}) in Dates at /opt/julia-1.6.2/share/julia/stdlib/v1.6/Dates/src/deprecated.jl:14\n",
       "[93] +(index1::CartesianIndex{N}, index2::CartesianIndex{N}) where N in Base.IteratorsMD at multidimensional.jl:114\n",
       "[94] +(F::LinearAlgebra.Hessenberg, J::LinearAlgebra.UniformScaling) in LinearAlgebra at /opt/julia-1.6.2/share/julia/stdlib/v1.6/LinearAlgebra/src/hessenberg.jl:559\n",
       "[95] +(A::LinearAlgebra.UpperTriangular, B::LinearAlgebra.UpperTriangular) in LinearAlgebra at /opt/julia-1.6.2/share/julia/stdlib/v1.6/LinearAlgebra/src/triangular.jl:648\n",
       "[96] +(A::LinearAlgebra.UpperTriangular, B::LinearAlgebra.UnitUpperTriangular) in LinearAlgebra at /opt/julia-1.6.2/share/julia/stdlib/v1.6/LinearAlgebra/src/triangular.jl:650\n",
       "[97] +(A::LinearAlgebra.UpperTriangular, B::LinearAlgebra.Bidiagonal) in LinearAlgebra at /opt/julia-1.6.2/share/julia/stdlib/v1.6/LinearAlgebra/src/special.jl:86\n",
       "[98] +(A::SparseArrays.AbstractSparseMatrix{Tv, Ti} where {Tv, Ti}, B::LinearAlgebra.Hermitian{var\"#s832\", var\"#s831\"} where {var\"#s832\", var\"#s831\"<:(SparseArrays.AbstractSparseMatrix{Tv, Ti} where {Tv, Ti})}) in SparseArrays at /opt/julia-1.6.2/share/julia/stdlib/v1.6/SparseArrays/src/linalg.jl:14\n",
       "[99] +(A::SparseArrays.AbstractSparseMatrix{Tv, Ti} where {Tv, Ti}, B::LinearAlgebra.Hermitian) in SparseArrays at /opt/julia-1.6.2/share/julia/stdlib/v1.6/SparseArrays/src/linalg.jl:17\n",
       "[100] +(A::SparseArrays.AbstractSparseMatrix{Tv, Ti} where {Tv, Ti}, B::LinearAlgebra.Symmetric{var\"#s832\", var\"#s831\"} where {var\"#s832\", var\"#s831\"<:(SparseArrays.AbstractSparseMatrix{Tv, Ti} where {Tv, Ti})}) in SparseArrays at /opt/julia-1.6.2/share/julia/stdlib/v1.6/SparseArrays/src/linalg.jl:14\n",
       "[101] +(A::SparseArrays.AbstractSparseMatrix{Tv, Ti} where {Tv, Ti}, B::LinearAlgebra.Symmetric) in SparseArrays at /opt/julia-1.6.2/share/julia/stdlib/v1.6/SparseArrays/src/linalg.jl:17\n",
       "[102] +(y::Dates.TimeType, x::StridedArray{var\"#s832\", N} where {var\"#s832\"<:Union{Dates.CompoundPeriod, Dates.Period}, N}) in Dates at /opt/julia-1.6.2/share/julia/stdlib/v1.6/Dates/src/deprecated.jl:18\n",
       "[103] +(A::SparseArrays.AbstractSparseMatrixCSC, B::SparseArrays.AbstractSparseMatrixCSC) in SparseArrays at /opt/julia-1.6.2/share/julia/stdlib/v1.6/SparseArrays/src/sparsematrix.jl:1741\n",
       "[104] +(x::SparseArrays.AbstractSparseVector{Tv, Ti} where {Tv, Ti}, y::SparseArrays.AbstractSparseVector{Tv, Ti} where {Tv, Ti}) in SparseArrays at /opt/julia-1.6.2/share/julia/stdlib/v1.6/SparseArrays/src/sparsevector.jl:1345\n",
       "[105] +(A::SparseArrays.AbstractSparseMatrixCSC, B::Array) in SparseArrays at /opt/julia-1.6.2/share/julia/stdlib/v1.6/SparseArrays/src/sparsematrix.jl:1744\n",
       "[106] +(A::SparseArrays.AbstractSparseMatrixCSC, J::LinearAlgebra.UniformScaling) in SparseArrays at /opt/julia-1.6.2/share/julia/stdlib/v1.6/SparseArrays/src/sparsematrix.jl:3797\n",
       "[107] +(r1::OrdinalRange, r2::OrdinalRange) in Base at range.jl:1103\n",
       "[108] +(r1::Union{LinRange, OrdinalRange, StepRangeLen}, r2::Union{LinRange, OrdinalRange, StepRangeLen}) in Base at range.jl:1119\n",
       "[109] +(x::AbstractArray{var\"#s832\", N} where {var\"#s832\"<:Dates.TimeType, N}, y::Union{Dates.CompoundPeriod, Dates.Period}) in Dates at /opt/julia-1.6.2/share/julia/stdlib/v1.6/Dates/src/deprecated.jl:6\n",
       "[110] +(A::LinearAlgebra.LowerTriangular, B::LinearAlgebra.LowerTriangular) in LinearAlgebra at /opt/julia-1.6.2/share/julia/stdlib/v1.6/LinearAlgebra/src/triangular.jl:649\n",
       "[111] +(A::LinearAlgebra.LowerTriangular, B::LinearAlgebra.UnitLowerTriangular) in LinearAlgebra at /opt/julia-1.6.2/share/julia/stdlib/v1.6/LinearAlgebra/src/triangular.jl:651\n",
       "[112] +(A::LinearAlgebra.AbstractTriangular, B::LinearAlgebra.AbstractTriangular) in LinearAlgebra at /opt/julia-1.6.2/share/julia/stdlib/v1.6/LinearAlgebra/src/triangular.jl:656\n",
       "[113] +(A::LinearAlgebra.LowerTriangular, B::LinearAlgebra.Bidiagonal) in LinearAlgebra at /opt/julia-1.6.2/share/julia/stdlib/v1.6/LinearAlgebra/src/special.jl:86\n",
       "[114] +(z::Complex, w::Complex) in Base at complex.jl:275\n",
       "[115] +(A::BitArray, B::BitArray) in Base at bitarray.jl:1127\n",
       "[116] +(A::AbstractArray, B::AbstractArray) in Base at arraymath.jl:37\n",
       "[117] +(x::Float32, y::Float32) in Base at float.jl:325\n",
       "[118] +(dt::Dates.DateTime, y::Dates.Year) in Dates at /opt/julia-1.6.2/share/julia/stdlib/v1.6/Dates/src/arithmetic.jl:23\n",
       "[119] +(dt::Dates.DateTime, z::Dates.Month) in Dates at /opt/julia-1.6.2/share/julia/stdlib/v1.6/Dates/src/arithmetic.jl:47\n",
       "[120] +(x::Dates.DateTime, y::Dates.Quarter) in Dates at /opt/julia-1.6.2/share/julia/stdlib/v1.6/Dates/src/arithmetic.jl:75\n",
       "[121] +(x::Dates.DateTime, y::Dates.Period) in Dates at /opt/julia-1.6.2/share/julia/stdlib/v1.6/Dates/src/arithmetic.jl:81\n",
       "[122] +(x::BigFloat, y::BigFloat) in Base.MPFR at mpfr.jl:364\n",
       "[123] +(x::BigFloat, c::Union{UInt16, UInt32, UInt64, UInt8}) in Base.MPFR at mpfr.jl:371\n",
       "[124] +(x::BigFloat, c::Union{Int16, Int32, Int64, Int8}) in Base.MPFR at mpfr.jl:379\n",
       "[125] +(x::BigFloat, c::Union{Float16, Float32, Float64}) in Base.MPFR at mpfr.jl:387\n",
       "[126] +(x::BigFloat, c::BigInt) in Base.MPFR at mpfr.jl:395\n",
       "[127] +(a::BigFloat, b::BigFloat, c::BigFloat) in Base.MPFR at mpfr.jl:536\n",
       "[128] +(a::BigFloat, b::BigFloat, c::BigFloat, d::BigFloat) in Base.MPFR at mpfr.jl:542\n",
       "[129] +(a::BigFloat, b::BigFloat, c::BigFloat, d::BigFloat, e::BigFloat) in Base.MPFR at mpfr.jl:549\n",
       "[130] +(z::Complex{Bool}, x::Bool) in Base at complex.jl:287\n",
       "[131] +(z::Complex, x::Bool) in Base at complex.jl:294\n",
       "[132] +(z::Complex{Bool}, x::Real) in Base at complex.jl:301\n",
       "[133] +(z::Complex) in Base at complex.jl:273\n",
       "[134] +(z::Complex, x::Real) in Base at complex.jl:313\n",
       "[135] +(t::Dates.Time, dt::Dates.Date) in Dates at /opt/julia-1.6.2/share/julia/stdlib/v1.6/Dates/src/arithmetic.jl:20\n",
       "[136] +(x::Dates.Time, y::Dates.TimePeriod) in Dates at /opt/julia-1.6.2/share/julia/stdlib/v1.6/Dates/src/arithmetic.jl:83\n",
       "[137] +(dt::Dates.Date, t::Dates.Time) in Dates at /opt/julia-1.6.2/share/julia/stdlib/v1.6/Dates/src/arithmetic.jl:19\n",
       "[138] +(dt::Dates.Date, y::Dates.Year) in Dates at /opt/julia-1.6.2/share/julia/stdlib/v1.6/Dates/src/arithmetic.jl:27\n",
       "[139] +(dt::Dates.Date, z::Dates.Month) in Dates at /opt/julia-1.6.2/share/julia/stdlib/v1.6/Dates/src/arithmetic.jl:54\n",
       "[140] +(x::Dates.Date, y::Dates.Quarter) in Dates at /opt/julia-1.6.2/share/julia/stdlib/v1.6/Dates/src/arithmetic.jl:73\n",
       "[141] +(x::Dates.Date, y::Dates.Week) in Dates at /opt/julia-1.6.2/share/julia/stdlib/v1.6/Dates/src/arithmetic.jl:77\n",
       "[142] +(x::Dates.Date, y::Dates.Day) in Dates at /opt/julia-1.6.2/share/julia/stdlib/v1.6/Dates/src/arithmetic.jl:79\n",
       "[143] +(x::Dates.TimeType) in Dates at /opt/julia-1.6.2/share/julia/stdlib/v1.6/Dates/src/arithmetic.jl:8\n",
       "[144] +(x::Dates.AbstractTime, y::Missing) in Dates at /opt/julia-1.6.2/share/julia/stdlib/v1.6/Dates/src/arithmetic.jl:88\n",
       "[145] +(a::Dates.TimeType, b::Dates.Period, c::Dates.Period) in Dates at /opt/julia-1.6.2/share/julia/stdlib/v1.6/Dates/src/periods.jl:373\n",
       "[146] +(a::Dates.TimeType, b::Dates.Period, c::Dates.Period, d::Dates.Period...) in Dates at /opt/julia-1.6.2/share/julia/stdlib/v1.6/Dates/src/periods.jl:374\n",
       "[147] +(x::Dates.TimeType, y::Dates.CompoundPeriod) in Dates at /opt/julia-1.6.2/share/julia/stdlib/v1.6/Dates/src/periods.jl:376\n",
       "[148] +(::Missing) in Base at missing.jl:101\n",
       "[149] +(::Missing, ::Missing) in Base at missing.jl:115\n",
       "[150] +(::Missing, ::Number) in Base at missing.jl:116\n",
       "[151] +(x::Missing, y::Dates.AbstractTime) in Dates at /opt/julia-1.6.2/share/julia/stdlib/v1.6/Dates/src/arithmetic.jl:89\n",
       "[152] +(level::Base.CoreLogging.LogLevel, inc::Integer) in Base.CoreLogging at logging.jl:131\n",
       "[153] +(x::Dates.CompoundPeriod, y::Dates.Period) in Dates at /opt/julia-1.6.2/share/julia/stdlib/v1.6/Dates/src/periods.jl:352\n",
       "[154] +(x::Dates.CompoundPeriod, y::Dates.CompoundPeriod) in Dates at /opt/julia-1.6.2/share/julia/stdlib/v1.6/Dates/src/periods.jl:354\n",
       "[155] +(x::Dates.CompoundPeriod, y::Dates.TimeType) in Dates at /opt/julia-1.6.2/share/julia/stdlib/v1.6/Dates/src/periods.jl:382\n",
       "[156] +(x::BigInt, y::BigInt) in Base.GMP at gmp.jl:479\n",
       "[157] +(a::BigInt, b::BigInt, c::BigInt) in Base.GMP at gmp.jl:519\n",
       "[158] +(a::BigInt, b::BigInt, c::BigInt, d::BigInt) in Base.GMP at gmp.jl:520\n",
       "[159] +(a::BigInt, b::BigInt, c::BigInt, d::BigInt, e::BigInt) in Base.GMP at gmp.jl:521\n",
       "[160] +(x::BigInt, c::Union{UInt16, UInt32, UInt64, UInt8}) in Base.GMP at gmp.jl:527\n",
       "[161] +(x::BigInt, c::Union{Int16, Int32, Int64, Int8}) in Base.GMP at gmp.jl:533\n",
       "[162] +(c::BigInt, x::BigFloat) in Base.MPFR at mpfr.jl:400\n",
       "[163] +(a::Pkg.Resolve.VersionWeight, b::Pkg.Resolve.VersionWeight) in Pkg.Resolve at /opt/julia-1.6.2/share/julia/stdlib/v1.6/Pkg/src/Resolve/versionweights.jl:22\n",
       "[164] +(x::Float64, y::Float64) in Base at float.jl:326\n",
       "[165] +(x::Float16, y::Float16) in Base at float.jl:324\n",
       "[166] +(x::Bool) in Base at bool.jl:89\n",
       "[167] +(x::Number, y::Base.TwicePrecision) in Base at twiceprecision.jl:271\n",
       "[168] +(::Number, ::Missing) in Base at missing.jl:117\n",
       "[169] +(x::Number, J::LinearAlgebra.UniformScaling) in LinearAlgebra at /opt/julia-1.6.2/share/julia/stdlib/v1.6/LinearAlgebra/src/uniformscaling.jl:146\n",
       "[170] +(x::Integer, y::Ptr) in Base at pointer.jl:161\n",
       "[171] +(y::Integer, x::Rational) in Base at rational.jl:296\n",
       "[172] +(x::Integer, y::AbstractChar) in Base at char.jl:224\n",
       "[173] +(x::Bool, y::Bool) in Base at bool.jl:92\n",
       "[174] +(a::Integer, b::Integer) in Base at int.jl:919\n",
       "[175] +(x::Bool, y::T) where T<:AbstractFloat in Base at bool.jl:99\n",
       "[176] +(x::Bool, z::Complex{Bool}) in Base at complex.jl:286\n",
       "[177] +(x::Bool, z::Complex) in Base at complex.jl:293\n",
       "[178] +(a::Pkg.Resolve.FieldValue, b::Pkg.Resolve.FieldValue) in Pkg.Resolve at /opt/julia-1.6.2/share/julia/stdlib/v1.6/Pkg/src/Resolve/fieldvalues.jl:43\n",
       "[179] +(B::BitMatrix, J::LinearAlgebra.UniformScaling) in LinearAlgebra at /opt/julia-1.6.2/share/julia/stdlib/v1.6/LinearAlgebra/src/uniformscaling.jl:152\n",
       "[180] +(A::AbstractMatrix{T} where T, J::LinearAlgebra.UniformScaling) in LinearAlgebra at /opt/julia-1.6.2/share/julia/stdlib/v1.6/LinearAlgebra/src/uniformscaling.jl:215\n",
       "[181] +(x::AbstractArray{var\"#s79\", N} where {var\"#s79\"<:Number, N}) in Base at abstractarraymath.jl:97\n",
       "[182] +(x::Rational{BigInt}, y::Rational{BigInt}) in Base.GMP.MPQ at gmp.jl:889\n",
       "[183] +(x::Rational) in Base at rational.jl:268\n",
       "[184] +(x::Real, z::Complex{Bool}) in Base at complex.jl:300\n",
       "[185] +(x::Real, z::Complex) in Base at complex.jl:312\n",
       "[186] +(x::Rational, y::Rational) in Base at rational.jl:284\n",
       "[187] +(x::Number) in Base at operators.jl:515\n",
       "[188] +(x::T, y::T) where T<:Number in Base at promotion.jl:396\n",
       "[189] +(x::Number, y::Number) in Base at promotion.jl:321\n",
       "[190] +(a, b, c, xs...) in Base at operators.jl:560"
      ]
     },
     "execution_count": 1,
     "metadata": {},
     "output_type": "execute_result"
    }
   ],
   "source": [
    "methods(+)"
   ]
  },
  {
   "cell_type": "markdown",
   "id": "edb26c96",
   "metadata": {},
   "source": [
    "Use **@which** macro to learn which method we are using when we call **+**"
   ]
  },
  {
   "cell_type": "code",
   "execution_count": 2,
   "id": "80ec76ee",
   "metadata": {},
   "outputs": [
    {
     "data": {
      "text/html": [
       "+(x::<b>T</b>, y::<b>T</b>)<i> where T<:Union{Int128, Int16, Int32, Int64, Int8, UInt128, UInt16, UInt32, UInt64, UInt8}</i> in Base at <a href=\"https://github.com/JuliaLang/julia/tree/1b93d53fc4bb59350ada898038ed4de2994cce33/base/int.jl#L87\" target=\"_blank\">int.jl:87</a>"
      ],
      "text/plain": [
       "+(x::T, y::T) where T<:Union{Int128, Int16, Int32, Int64, Int8, UInt128, UInt16, UInt32, UInt64, UInt8} in Base at int.jl:87"
      ]
     },
     "execution_count": 2,
     "metadata": {},
     "output_type": "execute_result"
    }
   ],
   "source": [
    "@which 3 + 3"
   ]
  },
  {
   "cell_type": "code",
   "execution_count": 3,
   "id": "0023c1d2",
   "metadata": {},
   "outputs": [
    {
     "data": {
      "text/html": [
       "+(x::<b>Float64</b>, y::<b>Float64</b>) in Base at <a href=\"https://github.com/JuliaLang/julia/tree/1b93d53fc4bb59350ada898038ed4de2994cce33/base/float.jl#L326\" target=\"_blank\">float.jl:326</a>"
      ],
      "text/plain": [
       "+(x::Float64, y::Float64) in Base at float.jl:326"
      ]
     },
     "execution_count": 3,
     "metadata": {},
     "output_type": "execute_result"
    }
   ],
   "source": [
    "@which 3.0 + 3.0"
   ]
  },
  {
   "cell_type": "code",
   "execution_count": 4,
   "id": "9de763b1",
   "metadata": {},
   "outputs": [
    {
     "data": {
      "text/html": [
       "+(x::<b>Number</b>, y::<b>Number</b>) in Base at <a href=\"https://github.com/JuliaLang/julia/tree/1b93d53fc4bb59350ada898038ed4de2994cce33/base/promotion.jl#L321\" target=\"_blank\">promotion.jl:321</a>"
      ],
      "text/plain": [
       "+(x::Number, y::Number) in Base at promotion.jl:321"
      ]
     },
     "execution_count": 4,
     "metadata": {},
     "output_type": "execute_result"
    }
   ],
   "source": [
    "@which 3 + 3.0 "
   ]
  },
  {
   "cell_type": "markdown",
   "id": "33d24320",
   "metadata": {},
   "source": [
    "#### We can extend **+** by defining new methods for it\n",
    "\n",
    "Supose we want to concatenate two strings by + sign "
   ]
  },
  {
   "cell_type": "code",
   "execution_count": 5,
   "id": "930e2b50",
   "metadata": {},
   "outputs": [],
   "source": [
    "import Base: +"
   ]
  },
  {
   "cell_type": "code",
   "execution_count": 6,
   "id": "59831ea8",
   "metadata": {},
   "outputs": [
    {
     "ename": "LoadError",
     "evalue": "MethodError: no method matching +(::String, ::String)\n\u001b[0mClosest candidates are:\n\u001b[0m  +(::Any, ::Any, \u001b[91m::Any\u001b[39m, \u001b[91m::Any...\u001b[39m) at operators.jl:560",
     "output_type": "error",
     "traceback": [
      "MethodError: no method matching +(::String, ::String)\n\u001b[0mClosest candidates are:\n\u001b[0m  +(::Any, ::Any, \u001b[91m::Any\u001b[39m, \u001b[91m::Any...\u001b[39m) at operators.jl:560",
      "",
      "Stacktrace:",
      " [1] top-level scope",
      "   @ In[6]:1",
      " [2] eval",
      "   @ ./boot.jl:360 [inlined]",
      " [3] include_string(mapexpr::typeof(REPL.softscope), mod::Module, code::String, filename::String)",
      "   @ Base ./loading.jl:1116"
     ]
    }
   ],
   "source": [
    "\"hello \" + \"world\""
   ]
  },
  {
   "cell_type": "code",
   "execution_count": 7,
   "id": "23ced45b",
   "metadata": {},
   "outputs": [
    {
     "ename": "LoadError",
     "evalue": "no unique matching method found for the specified argument types",
     "output_type": "error",
     "traceback": [
      "no unique matching method found for the specified argument types",
      "",
      "Stacktrace:",
      " [1] error(s::String)",
      "   @ Base ./error.jl:33",
      " [2] which(tt::Type)",
      "   @ Base ./reflection.jl:1249",
      " [3] which(f::Any, t::Any)",
      "   @ Base ./reflection.jl:1238",
      " [4] top-level scope",
      "   @ In[7]:1",
      " [5] eval",
      "   @ ./boot.jl:360 [inlined]",
      " [6] include_string(mapexpr::typeof(REPL.softscope), mod::Module, code::String, filename::String)",
      "   @ Base ./loading.jl:1116"
     ]
    }
   ],
   "source": [
    "@which \"hello \"+\"world\""
   ]
  },
  {
   "cell_type": "code",
   "execution_count": 8,
   "id": "fc14d2d0",
   "metadata": {},
   "outputs": [
    {
     "data": {
      "text/plain": [
       "+ (generic function with 191 methods)"
      ]
     },
     "execution_count": 8,
     "metadata": {},
     "output_type": "execute_result"
    }
   ],
   "source": [
    "+(x:: String, y:: String) = string(x,y)"
   ]
  },
  {
   "cell_type": "code",
   "execution_count": 9,
   "id": "b1cd5164",
   "metadata": {},
   "outputs": [
    {
     "data": {
      "text/plain": [
       "\"hello world\""
      ]
     },
     "execution_count": 9,
     "metadata": {},
     "output_type": "execute_result"
    }
   ],
   "source": [
    "\"hello \"+\"world\""
   ]
  },
  {
   "cell_type": "code",
   "execution_count": 10,
   "id": "b61c35d0",
   "metadata": {},
   "outputs": [
    {
     "data": {
      "text/html": [
       "+(x::<b>String</b>, y::<b>String</b>) in Main at In[8]:1"
      ],
      "text/plain": [
       "+(x::String, y::String) in Main at In[8]:1"
      ]
     },
     "execution_count": 10,
     "metadata": {},
     "output_type": "execute_result"
    }
   ],
   "source": [
    "@which \"hello \"+\"world\""
   ]
  },
  {
   "cell_type": "markdown",
   "id": "fc62707a",
   "metadata": {},
   "source": [
    "It works! Let's check it for another example."
   ]
  },
  {
   "cell_type": "code",
   "execution_count": 11,
   "id": "7ddbbf25",
   "metadata": {},
   "outputs": [
    {
     "data": {
      "text/plain": [
       "foo (generic function with 4 methods)"
      ]
     },
     "execution_count": 11,
     "metadata": {},
     "output_type": "execute_result"
    }
   ],
   "source": [
    "foo(x,y) = println(\"duck-typed foo!\")\n",
    "foo(x::Int,y::Float64) = println(\"foo with an integer and a float!\")\n",
    "foo(x::Float64,y::Float64) = println(\"foo with two floats!\")\n",
    "foo(x::Int,y::Int) = println(\"foo with two integers!\")"
   ]
  },
  {
   "cell_type": "code",
   "execution_count": null,
   "id": "cceae9d6",
   "metadata": {},
   "outputs": [],
   "source": [
    "foo(1,2)"
   ]
  },
  {
   "cell_type": "code",
   "execution_count": null,
   "id": "a0709921",
   "metadata": {},
   "outputs": [],
   "source": [
    "foo(1,2.0)"
   ]
  },
  {
   "cell_type": "code",
   "execution_count": null,
   "id": "b424c937",
   "metadata": {},
   "outputs": [],
   "source": [
    "foo(1.0,2.0)"
   ]
  },
  {
   "cell_type": "code",
   "execution_count": null,
   "id": "096ed797",
   "metadata": {},
   "outputs": [],
   "source": [
    "foo(true,false)"
   ]
  }
 ],
 "metadata": {
  "@webio": {
   "lastCommId": null,
   "lastKernelId": null
  },
  "kernelspec": {
   "display_name": "Julia 1.6.2",
   "language": "julia",
   "name": "julia-1.6"
  },
  "language_info": {
   "file_extension": ".jl",
   "mimetype": "application/julia",
   "name": "julia",
   "version": "1.6.2"
  }
 },
 "nbformat": 4,
 "nbformat_minor": 5
}
