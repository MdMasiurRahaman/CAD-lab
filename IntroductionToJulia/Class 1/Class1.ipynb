{
 "cells": [
  {
   "cell_type": "markdown",
   "id": "462c50d2",
   "metadata": {},
   "source": [
    "## Introduction to Julia by Dr. Mohammad Masiur Rahaman (masiurr@iitbbs.ac.in)"
   ]
  },
  {
   "cell_type": "markdown",
   "id": "6e28c5d2",
   "metadata": {},
   "source": [
    "## How to print ?\n",
    "\n",
    "Use **println()** to print"
   ]
  },
  {
   "cell_type": "code",
   "execution_count": 1,
   "id": "819cc201",
   "metadata": {},
   "outputs": [
    {
     "name": "stdout",
     "output_type": "stream",
     "text": [
      "Julia\n"
     ]
    }
   ],
   "source": [
    "println(\"Julia\")"
   ]
  },
  {
   "cell_type": "code",
   "execution_count": 2,
   "id": "eadf0b10",
   "metadata": {},
   "outputs": [
    {
     "name": "stdout",
     "output_type": "stream",
     "text": [
      "Let us learn Julia\n"
     ]
    }
   ],
   "source": [
    "println(\"Let us learn Julia\")"
   ]
  },
  {
   "cell_type": "code",
   "execution_count": 3,
   "id": "af2fb696",
   "metadata": {},
   "outputs": [
    {
     "name": "stdout",
     "output_type": "stream",
     "text": [
      "500\n"
     ]
    }
   ],
   "source": [
    "100\n",
    "400\n",
    "println(\"500\")\n",
    "600\n",
    "700\n",
    "800;"
   ]
  },
  {
   "cell_type": "markdown",
   "id": "84d71ecf",
   "metadata": {},
   "source": [
    "## How to assign variables?\n",
    "\n",
    "No need to define explicitely the variable type.\n",
    "\n",
    "All we need the variable name, value and an equal sign.\n",
    "\n",
    "**Julia figures out the type of the variable automatically.**"
   ]
  },
  {
   "cell_type": "code",
   "execution_count": 1,
   "id": "a3d01cbf",
   "metadata": {},
   "outputs": [
    {
     "data": {
      "text/plain": [
       "Int64"
      ]
     },
     "execution_count": 1,
     "metadata": {},
     "output_type": "execute_result"
    }
   ],
   "source": [
    " a = 2\n",
    " typeof(a)"
   ]
  },
  {
   "cell_type": "code",
   "execution_count": 2,
   "id": "5c497cf6",
   "metadata": {},
   "outputs": [
    {
     "data": {
      "text/plain": [
       "Float64"
      ]
     },
     "execution_count": 2,
     "metadata": {},
     "output_type": "execute_result"
    }
   ],
   "source": [
    "b = 2.5 \n",
    "typeof(b)"
   ]
  },
  {
   "cell_type": "code",
   "execution_count": 3,
   "id": "0682b055",
   "metadata": {},
   "outputs": [
    {
     "data": {
      "text/plain": [
       "String"
      ]
     },
     "execution_count": 3,
     "metadata": {},
     "output_type": "execute_result"
    }
   ],
   "source": [
    "c = \"Myself Dr. Mohammad Masiur Rahaman\"\n",
    "typeof(c)"
   ]
  },
  {
   "cell_type": "markdown",
   "id": "18edb444",
   "metadata": {},
   "source": [
    "### Re-assign a value to a variable\n",
    "\n",
    "After assigning a value to a variable, we can reassign a value to a variable without any issue."
   ]
  },
  {
   "cell_type": "code",
   "execution_count": 4,
   "id": "03e18de7",
   "metadata": {},
   "outputs": [
    {
     "data": {
      "text/plain": [
       "String"
      ]
     },
     "execution_count": 4,
     "metadata": {},
     "output_type": "execute_result"
    }
   ],
   "source": [
    "a = c\n",
    "typeof(a)"
   ]
  },
  {
   "cell_type": "markdown",
   "id": "2d1c9c7b",
   "metadata": {},
   "source": [
    "## How to comment"
   ]
  },
  {
   "cell_type": "code",
   "execution_count": 5,
   "id": "f066dc9a",
   "metadata": {},
   "outputs": [],
   "source": [
    " # a single line comment #"
   ]
  },
  {
   "cell_type": "code",
   "execution_count": 6,
   "id": "f7650885",
   "metadata": {},
   "outputs": [],
   "source": [
    "#=\n",
    "For multiline comment\n",
    "use #= =#\n",
    "=#"
   ]
  },
  {
   "cell_type": "markdown",
   "id": "2644212f",
   "metadata": {},
   "source": [
    "## Syntax for basic math"
   ]
  },
  {
   "cell_type": "code",
   "execution_count": 7,
   "id": "34512ceb",
   "metadata": {},
   "outputs": [
    {
     "data": {
      "text/plain": [
       "14"
      ]
     },
     "execution_count": 7,
     "metadata": {},
     "output_type": "execute_result"
    }
   ],
   "source": [
    "sum = 3 + 5 + 6"
   ]
  },
  {
   "cell_type": "code",
   "execution_count": 8,
   "id": "2bc2cbd2",
   "metadata": {},
   "outputs": [
    {
     "data": {
      "text/plain": [
       "6"
      ]
     },
     "execution_count": 8,
     "metadata": {},
     "output_type": "execute_result"
    }
   ],
   "source": [
    "difference = 10 - 4 "
   ]
  },
  {
   "cell_type": "code",
   "execution_count": 10,
   "id": "5631b3a9",
   "metadata": {},
   "outputs": [
    {
     "data": {
      "text/plain": [
       "60"
      ]
     },
     "execution_count": 10,
     "metadata": {},
     "output_type": "execute_result"
    }
   ],
   "source": [
    "product = 5 * 6* 2"
   ]
  },
  {
   "cell_type": "code",
   "execution_count": 11,
   "id": "e239674c",
   "metadata": {},
   "outputs": [
    {
     "data": {
      "text/plain": [
       "5.0"
      ]
     },
     "execution_count": 11,
     "metadata": {},
     "output_type": "execute_result"
    }
   ],
   "source": [
    "quotient = 50/10"
   ]
  },
  {
   "cell_type": "code",
   "execution_count": 12,
   "id": "09af0bdf",
   "metadata": {},
   "outputs": [
    {
     "data": {
      "text/plain": [
       "1000"
      ]
     },
     "execution_count": 12,
     "metadata": {},
     "output_type": "execute_result"
    }
   ],
   "source": [
    "power = 10^3"
   ]
  },
  {
   "cell_type": "code",
   "execution_count": 13,
   "id": "1d6f7e5f",
   "metadata": {},
   "outputs": [
    {
     "data": {
      "text/plain": [
       "1"
      ]
     },
     "execution_count": 13,
     "metadata": {},
     "output_type": "execute_result"
    }
   ],
   "source": [
    "modulus = 101 % 2"
   ]
  },
  {
   "cell_type": "markdown",
   "id": "29c4bc4f",
   "metadata": {},
   "source": [
    "# Strings"
   ]
  },
  {
   "cell_type": "markdown",
   "id": "034543a5",
   "metadata": {},
   "source": [
    "## How to get a string ? \n",
    "\n",
    "Enclose your characters in **\" \"** or **\"\"\" \"\"\"**"
   ]
  },
  {
   "cell_type": "code",
   "execution_count": 14,
   "id": "ce43eb81",
   "metadata": {},
   "outputs": [
    {
     "data": {
      "text/plain": [
       "\"I am a string\""
      ]
     },
     "execution_count": 14,
     "metadata": {},
     "output_type": "execute_result"
    }
   ],
   "source": [
    "s1 = \"I am a string\""
   ]
  },
  {
   "cell_type": "code",
   "execution_count": 15,
   "id": "e4509762",
   "metadata": {},
   "outputs": [
    {
     "data": {
      "text/plain": [
       "\"I am also a string\""
      ]
     },
     "execution_count": 15,
     "metadata": {},
     "output_type": "execute_result"
    }
   ],
   "source": [
    "s2 = \"\"\"I am also a string\"\"\""
   ]
  },
  {
   "cell_type": "markdown",
   "id": "21a4d1e5",
   "metadata": {},
   "source": [
    "## What is the difference between single and triple quotes used for string\n",
    "\n",
    "one can use qutation marks in case of string using triple quotes."
   ]
  },
  {
   "cell_type": "code",
   "execution_count": 16,
   "id": "ce641954",
   "metadata": {},
   "outputs": [
    {
     "ename": "LoadError",
     "evalue": "syntax: cannot juxtapose string literal",
     "output_type": "error",
     "traceback": [
      "syntax: cannot juxtapose string literal",
      "",
      "Stacktrace:",
      " [1] top-level scope",
      "   @ In[16]:1",
      " [2] eval",
      "   @ ./boot.jl:360 [inlined]",
      " [3] include_string(mapexpr::typeof(REPL.softscope), mod::Module, code::String, filename::String)",
      "   @ Base ./loading.jl:1116"
     ]
    }
   ],
   "source": [
    "\"Here we get an \"error\" because of ambiguity where the quote ends\""
   ]
  },
  {
   "cell_type": "code",
   "execution_count": 17,
   "id": "a98a7ae6",
   "metadata": {},
   "outputs": [
    {
     "data": {
      "text/plain": [
       "\" Look, no \\\"error\\\" now!\""
      ]
     },
     "execution_count": 17,
     "metadata": {},
     "output_type": "execute_result"
    }
   ],
   "source": [
    "\"\"\" Look, no \"error\" now!\"\"\""
   ]
  },
  {
   "cell_type": "markdown",
   "id": "991722eb",
   "metadata": {},
   "source": [
    "## Single quote defines a character, not a string"
   ]
  },
  {
   "cell_type": "code",
   "execution_count": 18,
   "id": "a49e64d5",
   "metadata": {},
   "outputs": [
    {
     "data": {
      "text/plain": [
       "Char"
      ]
     },
     "execution_count": 18,
     "metadata": {},
     "output_type": "execute_result"
    }
   ],
   "source": [
    "typeof('a')"
   ]
  },
  {
   "cell_type": "code",
   "execution_count": 19,
   "id": "fc59b231",
   "metadata": {},
   "outputs": [
    {
     "ename": "LoadError",
     "evalue": "syntax: character literal contains multiple characters",
     "output_type": "error",
     "traceback": [
      "syntax: character literal contains multiple characters",
      "",
      "Stacktrace:",
      " [1] top-level scope",
      "   @ In[19]:1",
      " [2] eval",
      "   @ ./boot.jl:360 [inlined]",
      " [3] include_string(mapexpr::typeof(REPL.softscope), mod::Module, code::String, filename::String)",
      "   @ Base ./loading.jl:1116"
     ]
    }
   ],
   "source": [
    "'we get an error here'"
   ]
  },
  {
   "cell_type": "markdown",
   "id": "f6439d4b",
   "metadata": {},
   "source": [
    "## String interpolation\n",
    "\n",
    "We can use **$** sign to use existing variables into a string and to evaluate expressions within a string. "
   ]
  },
  {
   "cell_type": "code",
   "execution_count": 4,
   "id": "12f7d24e",
   "metadata": {},
   "outputs": [
    {
     "data": {
      "text/plain": [
       "45"
      ]
     },
     "execution_count": 4,
     "metadata": {},
     "output_type": "execute_result"
    }
   ],
   "source": [
    "name = \"Masiur\"\n",
    "subject = \"Julia\"\n",
    "number_registered = 45"
   ]
  },
  {
   "cell_type": "code",
   "execution_count": 5,
   "id": "b6bb85b6",
   "metadata": {},
   "outputs": [
    {
     "name": "stdout",
     "output_type": "stream",
     "text": [
      "Hello, my name is Masiur\n"
     ]
    }
   ],
   "source": [
    "println(\"Hello, my name is $name\")"
   ]
  },
  {
   "cell_type": "code",
   "execution_count": 6,
   "id": "d1364537",
   "metadata": {},
   "outputs": [
    {
     "name": "stdout",
     "output_type": "stream",
     "text": [
      "I am teaching Julia to you\n"
     ]
    }
   ],
   "source": [
    "println(\"I am teaching $subject to you\")"
   ]
  },
  {
   "cell_type": "code",
   "execution_count": 7,
   "id": "29fe18b4",
   "metadata": {},
   "outputs": [
    {
     "name": "stdout",
     "output_type": "stream",
     "text": [
      "No of students enrolled in this course is 45\n"
     ]
    }
   ],
   "source": [
    "println(\"No of students enrolled in this course is $number_registered\")"
   ]
  },
  {
   "cell_type": "markdown",
   "id": "538aaefd",
   "metadata": {},
   "source": [
    "## String concatenation\n",
    "\n",
    "Three ways:\n",
    "1. Use **string()** function. **string()** converts non string to a string.\n",
    "2. Use * \n",
    "3. Use string interpolation through **$**"
   ]
  },
  {
   "cell_type": "code",
   "execution_count": 34,
   "id": "bf1233c3",
   "metadata": {},
   "outputs": [
    {
     "data": {
      "text/plain": [
       "\"I think 80 is reasonable number of students\""
      ]
     },
     "execution_count": 34,
     "metadata": {},
     "output_type": "execute_result"
    }
   ],
   "source": [
    "string(\"I think \",  80, \" is reasonable number of students\")"
   ]
  },
  {
   "cell_type": "code",
   "execution_count": 35,
   "id": "0381e2f8",
   "metadata": {},
   "outputs": [
    {
     "data": {
      "text/plain": [
       "\"Let us learn new programming language Julia\""
      ]
     },
     "execution_count": 35,
     "metadata": {},
     "output_type": "execute_result"
    }
   ],
   "source": [
    "s3 = \"Let us learn \"\n",
    "s4 = \"new programming language Julia\"\n",
    "s3*s4"
   ]
  },
  {
   "cell_type": "code",
   "execution_count": 36,
   "id": "a77ecfd6",
   "metadata": {},
   "outputs": [
    {
     "data": {
      "text/plain": [
       "\"Let us learn new programming language Julia\""
      ]
     },
     "execution_count": 36,
     "metadata": {},
     "output_type": "execute_result"
    }
   ],
   "source": [
    "\"$s3$s4\""
   ]
  },
  {
   "cell_type": "markdown",
   "id": "7f455c88",
   "metadata": {},
   "source": [
    "# Data Structures\n",
    "\n",
    "Once we work with many pieces of data at once, it will be convenient for us to store data in structures \n",
    "like arrays or dictionaries rather than just relying on variables.\n",
    "\n",
    "Types of data structures:\n",
    "\n",
    "1. Dictionaries.\n",
    "\n",
    "2. Tuples\n",
    "\n",
    "3. Arrays"
   ]
  },
  {
   "cell_type": "markdown",
   "id": "e4708889",
   "metadata": {},
   "source": [
    "## Dictionaries\n",
    "\n",
    "If we have set of data that are related to each other, we may choose to store that data in a dictionary.\n",
    "An example is contact list where associate names with phone numbers. Use **Dict()** to create a dictionary."
   ]
  },
  {
   "cell_type": "code",
   "execution_count": 37,
   "id": "1c9d577d",
   "metadata": {},
   "outputs": [
    {
     "data": {
      "text/plain": [
       "Dict{String, String} with 2 entries:\n",
       "  \"Ayyappan\" => \"9061309937\"\n",
       "  \"Akash\"    => \"9937477240\""
      ]
     },
     "execution_count": 37,
     "metadata": {},
     "output_type": "execute_result"
    }
   ],
   "source": [
    "MyContact = Dict(\"Ayyappan\"=>\"9061309937\", \"Akash\"=>\"9937477240\")"
   ]
  },
  {
   "cell_type": "markdown",
   "id": "7a190716",
   "metadata": {},
   "source": [
    "#### We can add another contact to MyContact as follows"
   ]
  },
  {
   "cell_type": "code",
   "execution_count": 38,
   "id": "385ade31",
   "metadata": {},
   "outputs": [
    {
     "data": {
      "text/plain": [
       "\"7586940763\""
      ]
     },
     "execution_count": 38,
     "metadata": {},
     "output_type": "execute_result"
    }
   ],
   "source": [
    "MyContact[\"Sounak\"] = \"7586940763\""
   ]
  },
  {
   "cell_type": "markdown",
   "id": "60dac0d6",
   "metadata": {},
   "source": [
    "#### Lets check the updated MyContact now"
   ]
  },
  {
   "cell_type": "code",
   "execution_count": 39,
   "id": "616c4fba",
   "metadata": {},
   "outputs": [
    {
     "data": {
      "text/plain": [
       "Dict{String, String} with 3 entries:\n",
       "  \"Ayyappan\" => \"9061309937\"\n",
       "  \"Sounak\"   => \"7586940763\"\n",
       "  \"Akash\"    => \"9937477240\""
      ]
     },
     "execution_count": 39,
     "metadata": {},
     "output_type": "execute_result"
    }
   ],
   "source": [
    "MyContact"
   ]
  },
  {
   "cell_type": "markdown",
   "id": "f7283186",
   "metadata": {},
   "source": [
    "#### In MyContact each contact is a \"key\" and the phone number is the \"value\".\n",
    "\n",
    "We can get a value (phone number) by using the associated key (contact name)"
   ]
  },
  {
   "cell_type": "code",
   "execution_count": 40,
   "id": "ac9a4c75",
   "metadata": {},
   "outputs": [
    {
     "data": {
      "text/plain": [
       "\"9937477240\""
      ]
     },
     "execution_count": 40,
     "metadata": {},
     "output_type": "execute_result"
    }
   ],
   "source": [
    "MyContact[\"Akash\"]"
   ]
  },
  {
   "cell_type": "markdown",
   "id": "c70386af",
   "metadata": {},
   "source": [
    "#### We can also get a contact and simulataneously delete the contact from our contact list\n",
    "\n",
    "Use **pop!**"
   ]
  },
  {
   "cell_type": "code",
   "execution_count": 41,
   "id": "c9e54184",
   "metadata": {},
   "outputs": [
    {
     "data": {
      "text/plain": [
       "\"9937477240\""
      ]
     },
     "execution_count": 41,
     "metadata": {},
     "output_type": "execute_result"
    }
   ],
   "source": [
    "pop!(MyContact,\"Akash\")"
   ]
  },
  {
   "cell_type": "code",
   "execution_count": 42,
   "id": "d69f7c3e",
   "metadata": {},
   "outputs": [
    {
     "data": {
      "text/plain": [
       "Dict{String, String} with 2 entries:\n",
       "  \"Ayyappan\" => \"9061309937\"\n",
       "  \"Sounak\"   => \"7586940763\""
      ]
     },
     "execution_count": 42,
     "metadata": {},
     "output_type": "execute_result"
    }
   ],
   "source": [
    "MyContact"
   ]
  },
  {
   "cell_type": "markdown",
   "id": "0c5d18e8",
   "metadata": {},
   "source": [
    "#### Unlike tuples and arrays, dictionaries are not ordered. So, we cannot index into them."
   ]
  },
  {
   "cell_type": "code",
   "execution_count": 43,
   "id": "cf560e7b",
   "metadata": {},
   "outputs": [
    {
     "data": {
      "text/plain": [
       "\"9061309937\""
      ]
     },
     "execution_count": 43,
     "metadata": {},
     "output_type": "execute_result"
    }
   ],
   "source": [
    "MyContact[\"Ayyappan\"]"
   ]
  },
  {
   "cell_type": "markdown",
   "id": "67101ec9",
   "metadata": {},
   "source": [
    "## Tuples\n",
    "\n",
    "We can create a tuple by enclosing an ordered sequence of elements in **( )**"
   ]
  },
  {
   "cell_type": "code",
   "execution_count": 44,
   "id": "f8df6819",
   "metadata": {},
   "outputs": [
    {
     "data": {
      "text/plain": [
       "(\"Math\", \"Physics\", \"Mechanics\")"
      ]
     },
     "execution_count": 44,
     "metadata": {},
     "output_type": "execute_result"
    }
   ],
   "source": [
    "MyFavouriteSubjects = (\"Math\",\"Physics\",\"Mechanics\")"
   ]
  },
  {
   "cell_type": "markdown",
   "id": "baa0248a",
   "metadata": {},
   "source": [
    "#### We can index into a tuple"
   ]
  },
  {
   "cell_type": "code",
   "execution_count": 45,
   "id": "961bca16",
   "metadata": {},
   "outputs": [
    {
     "data": {
      "text/plain": [
       "\"Mechanics\""
      ]
     },
     "execution_count": 45,
     "metadata": {},
     "output_type": "execute_result"
    }
   ],
   "source": [
    "MyFavouriteSubjects[3]"
   ]
  },
  {
   "cell_type": "markdown",
   "id": "2684e848",
   "metadata": {},
   "source": [
    "#### Since tuples are immutable, we cannot update a tuple"
   ]
  },
  {
   "cell_type": "code",
   "execution_count": 46,
   "id": "7f007da3",
   "metadata": {},
   "outputs": [
    {
     "ename": "LoadError",
     "evalue": "MethodError: no method matching setindex!(::Tuple{String, String, String}, ::String, ::Int64)",
     "output_type": "error",
     "traceback": [
      "MethodError: no method matching setindex!(::Tuple{String, String, String}, ::String, ::Int64)",
      "",
      "Stacktrace:",
      " [1] top-level scope",
      "   @ In[46]:1",
      " [2] eval",
      "   @ ./boot.jl:360 [inlined]",
      " [3] include_string(mapexpr::typeof(REPL.softscope), mod::Module, code::String, filename::String)",
      "   @ Base ./loading.jl:1116"
     ]
    }
   ],
   "source": [
    "MyFavouriteSubjects[1] = \"Chemistry\""
   ]
  },
  {
   "cell_type": "markdown",
   "id": "018c118d",
   "metadata": {},
   "source": [
    "## Arrays\n",
    "\n",
    "Mutable and ordered. We can use index into them.\n",
    "\n",
    "Use **[ ]** to create arrays."
   ]
  },
  {
   "cell_type": "code",
   "execution_count": 47,
   "id": "05b08b2a",
   "metadata": {},
   "outputs": [
    {
     "data": {
      "text/plain": [
       "4-element Vector{String}:\n",
       " \"Shubham\"\n",
       " \"Ved\"\n",
       " \" Akash\"\n",
       " \"Ayyappan\""
      ]
     },
     "execution_count": 47,
     "metadata": {},
     "output_type": "execute_result"
    }
   ],
   "source": [
    "MyStudents = [\"Shubham\",\"Ved\",\" Akash\",\"Ayyappan\"]"
   ]
  },
  {
   "cell_type": "code",
   "execution_count": 48,
   "id": "6e6d54de",
   "metadata": {},
   "outputs": [
    {
     "data": {
      "text/plain": [
       "\" Akash\""
      ]
     },
     "execution_count": 48,
     "metadata": {},
     "output_type": "execute_result"
    }
   ],
   "source": [
    "MyStudents[3]"
   ]
  },
  {
   "cell_type": "code",
   "execution_count": 49,
   "id": "896e66dd",
   "metadata": {},
   "outputs": [
    {
     "data": {
      "text/plain": [
       "4-element Vector{Float64}:\n",
       " 1.0\n",
       " 2.0\n",
       " 3.0\n",
       " 4.0"
      ]
     },
     "execution_count": 49,
     "metadata": {},
     "output_type": "execute_result"
    }
   ],
   "source": [
    "Ranks = [1,2.0,3,4]"
   ]
  },
  {
   "cell_type": "code",
   "execution_count": 50,
   "id": "c41f3e45",
   "metadata": {},
   "outputs": [
    {
     "data": {
      "text/plain": [
       "1.0"
      ]
     },
     "execution_count": 50,
     "metadata": {},
     "output_type": "execute_result"
    }
   ],
   "source": [
    "Ranks[1]"
   ]
  },
  {
   "cell_type": "markdown",
   "id": "bd340b46",
   "metadata": {},
   "source": [
    "#### Array elements could be of mixture type variables."
   ]
  },
  {
   "cell_type": "code",
   "execution_count": 51,
   "id": "1993a574",
   "metadata": {},
   "outputs": [
    {
     "data": {
      "text/plain": [
       "4-element Vector{Any}:\n",
       "   \"Masiur\"\n",
       " 80\n",
       " 20.5\n",
       "   \"Math\""
      ]
     },
     "execution_count": 51,
     "metadata": {},
     "output_type": "execute_result"
    }
   ],
   "source": [
    "MixType = [\"Masiur\", 80, 20.5, \"Math\"]"
   ]
  },
  {
   "cell_type": "markdown",
   "id": "b1f1b384",
   "metadata": {},
   "source": [
    "#### We can edit an array\n",
    "\n",
    "Add element using **push!** and remove last element of an array by using **pop!**"
   ]
  },
  {
   "cell_type": "code",
   "execution_count": 52,
   "id": "68c8db30",
   "metadata": {},
   "outputs": [
    {
     "data": {
      "text/plain": [
       "5-element Vector{Any}:\n",
       "   \"Masiur\"\n",
       " 80\n",
       " 20.5\n",
       "   \"Math\"\n",
       " 50"
      ]
     },
     "execution_count": 52,
     "metadata": {},
     "output_type": "execute_result"
    }
   ],
   "source": [
    "push!(MixType, 50)"
   ]
  },
  {
   "cell_type": "code",
   "execution_count": 53,
   "id": "2f6683a5",
   "metadata": {},
   "outputs": [
    {
     "data": {
      "text/plain": [
       "50"
      ]
     },
     "execution_count": 53,
     "metadata": {},
     "output_type": "execute_result"
    }
   ],
   "source": [
    "pop!(MixType)"
   ]
  },
  {
   "cell_type": "code",
   "execution_count": 54,
   "id": "b12953b0",
   "metadata": {},
   "outputs": [
    {
     "data": {
      "text/plain": [
       "4-element Vector{Any}:\n",
       "   \"Masiur\"\n",
       " 80\n",
       " 20.5\n",
       "   \"Math\""
      ]
     },
     "execution_count": 54,
     "metadata": {},
     "output_type": "execute_result"
    }
   ],
   "source": [
    "MixType"
   ]
  },
  {
   "cell_type": "markdown",
   "id": "19515e1b",
   "metadata": {},
   "source": [
    "#### We can contruct multidimensional arrays \n",
    "\n",
    "Example of 2D and 3D arrays are shown using **rand()**"
   ]
  },
  {
   "cell_type": "code",
   "execution_count": 55,
   "id": "f624cb98",
   "metadata": {},
   "outputs": [
    {
     "data": {
      "text/plain": [
       "5×4 Matrix{Float64}:\n",
       " 0.155504  0.640918  0.963727  0.132618\n",
       " 0.62966   0.761255  0.66737   0.800312\n",
       " 0.295988  0.117301  0.614529  0.661131\n",
       " 0.652622  0.50681   0.232879  0.875908\n",
       " 0.730965  0.857693  0.59498   0.972163"
      ]
     },
     "execution_count": 55,
     "metadata": {},
     "output_type": "execute_result"
    }
   ],
   "source": [
    "rand(5,4)"
   ]
  },
  {
   "cell_type": "code",
   "execution_count": 56,
   "id": "e1d03b32",
   "metadata": {},
   "outputs": [
    {
     "data": {
      "text/plain": [
       "6×4×3 Array{Float64, 3}:\n",
       "[:, :, 1] =\n",
       " 0.752047  0.300725  0.0985098  0.436302\n",
       " 0.395204  0.446698  0.664295   0.849542\n",
       " 0.874984  0.243485  0.715646   0.972605\n",
       " 0.2839    0.145185  0.588118   0.510021\n",
       " 0.884402  0.652895  0.199214   0.960049\n",
       " 0.245701  0.792769  0.340034   0.341034\n",
       "\n",
       "[:, :, 2] =\n",
       " 0.989053   0.456674  0.446484  0.516422\n",
       " 0.58507    0.866347  0.702419  0.938081\n",
       " 0.841694   0.313724  0.326873  0.701081\n",
       " 0.907665   0.221544  0.632783  0.298593\n",
       " 0.0457083  0.225995  0.215118  0.232303\n",
       " 0.471141   0.266174  0.686354  0.31238\n",
       "\n",
       "[:, :, 3] =\n",
       " 0.211942  0.852611  0.91971   0.297858\n",
       " 0.660281  0.804743  0.575996  0.685108\n",
       " 0.559803  0.113208  0.086629  0.272614\n",
       " 0.659479  0.287011  0.850278  0.892091\n",
       " 0.87103   0.377639  0.810722  0.534732\n",
       " 0.280987  0.535998  0.790108  0.0601692"
      ]
     },
     "execution_count": 56,
     "metadata": {},
     "output_type": "execute_result"
    }
   ],
   "source": [
    "rand(6,4,3)"
   ]
  },
  {
   "cell_type": "markdown",
   "id": "2d3bedcb",
   "metadata": {},
   "source": [
    "# Loops\n",
    "\n",
    "Two types:\n",
    "\n",
    "1. While loops\n",
    "\n",
    "2. For loops"
   ]
  },
  {
   "cell_type": "markdown",
   "id": "63aa872b",
   "metadata": {},
   "source": [
    "## While loops \n",
    "\n",
    "The sytanx for a while loop is\n",
    "\n",
    "while    $\\,\\,$ **condition**\n",
    "\n",
    "    loop body\n",
    "    \n",
    "end"
   ]
  },
  {
   "cell_type": "code",
   "execution_count": 12,
   "id": "a00505fb",
   "metadata": {},
   "outputs": [
    {
     "name": "stdout",
     "output_type": "stream",
     "text": [
      "1\n",
      "2\n",
      "3\n",
      "4\n",
      "5\n",
      "6\n",
      "7\n",
      "8\n",
      "9\n",
      "10\n"
     ]
    }
   ],
   "source": [
    "n = 0\n",
    "while n < 10\n",
    "    n += 1\n",
    "    println(n)\n",
    "end"
   ]
  },
  {
   "cell_type": "code",
   "execution_count": 15,
   "id": "9117eb9d",
   "metadata": {},
   "outputs": [
    {
     "name": "stdout",
     "output_type": "stream",
     "text": [
      "Hi Shubham, its great to work with you!\n",
      "Hi Ved, its great to work with you!\n",
      "Hi Akash, its great to work with you!\n",
      "Hi Ayyappan, its great to work with you!\n"
     ]
    }
   ],
   "source": [
    "MyStudents = [\"Shubham\",\"Ved\",\"Akash\",\"Ayyappan\"]\n",
    "i = 1\n",
    "while i <= length(MyStudents)\n",
    "    student = MyStudents[i]\n",
    "    println(\"Hi $student, its great to work with you!\")\n",
    "    i += 1\n",
    "end"
   ]
  },
  {
   "cell_type": "markdown",
   "id": "ed4030a7",
   "metadata": {},
   "source": [
    "## for loops\n",
    "\n",
    "The sytanx for a for loop is\n",
    "\n",
    "for    $\\,\\,$ **variable** $\\,\\,$ in  $\\,\\,$ **loop iterable**\n",
    "\n",
    "    loop body\n",
    "    \n",
    "end"
   ]
  },
  {
   "cell_type": "code",
   "execution_count": 16,
   "id": "2e53d14b",
   "metadata": {},
   "outputs": [
    {
     "name": "stdout",
     "output_type": "stream",
     "text": [
      "1\n",
      "2\n",
      "3\n",
      "4\n",
      "5\n",
      "6\n",
      "7\n",
      "8\n",
      "9\n",
      "10\n"
     ]
    }
   ],
   "source": [
    "for n in 1:10\n",
    "   println(n)\n",
    "end"
   ]
  },
  {
   "cell_type": "markdown",
   "id": "1c6f6947",
   "metadata": {},
   "source": [
    "#### Note that **in** can be replaced by an **=** or **∈** "
   ]
  },
  {
   "cell_type": "code",
   "execution_count": 17,
   "id": "8045dab0",
   "metadata": {},
   "outputs": [
    {
     "name": "stdout",
     "output_type": "stream",
     "text": [
      "1\n",
      "2\n",
      "3\n",
      "4\n",
      "5\n",
      "6\n",
      "7\n",
      "8\n",
      "9\n",
      "10\n"
     ]
    }
   ],
   "source": [
    "for n = 1:10\n",
    "   println(n)\n",
    "end"
   ]
  },
  {
   "cell_type": "code",
   "execution_count": 18,
   "id": "6b99aa4b",
   "metadata": {},
   "outputs": [
    {
     "name": "stdout",
     "output_type": "stream",
     "text": [
      "1\n",
      "2\n",
      "3\n",
      "4\n",
      "5\n",
      "6\n",
      "7\n",
      "8\n",
      "9\n",
      "10\n"
     ]
    }
   ],
   "source": [
    "for n ∈ 1:10\n",
    "   println(n)\n",
    "end"
   ]
  },
  {
   "cell_type": "markdown",
   "id": "94758df1",
   "metadata": {},
   "source": [
    "#### Use of for loops to create addition tables"
   ]
  },
  {
   "cell_type": "code",
   "execution_count": 24,
   "id": "39740519",
   "metadata": {},
   "outputs": [
    {
     "data": {
      "text/plain": [
       "5×2 Matrix{Float64}:\n",
       " 0.0  0.0\n",
       " 0.0  0.0\n",
       " 0.0  0.0\n",
       " 0.0  0.0\n",
       " 0.0  0.0"
      ]
     },
     "execution_count": 24,
     "metadata": {},
     "output_type": "execute_result"
    }
   ],
   "source": [
    "m,n = 5,2\n",
    "A = zeros(m,n)"
   ]
  },
  {
   "cell_type": "code",
   "execution_count": 26,
   "id": "1540ad6b",
   "metadata": {},
   "outputs": [
    {
     "data": {
      "text/plain": [
       "5×2 Matrix{Float64}:\n",
       " 2.0  3.0\n",
       " 3.0  4.0\n",
       " 4.0  5.0\n",
       " 5.0  6.0\n",
       " 6.0  7.0"
      ]
     },
     "execution_count": 26,
     "metadata": {},
     "output_type": "execute_result"
    }
   ],
   "source": [
    "for i in 1:m\n",
    "  for j in 1:n\n",
    "    A[i,j] = i+j\n",
    "  end\n",
    "end\n",
    "A"
   ]
  },
  {
   "cell_type": "code",
   "execution_count": 27,
   "id": "648364e7",
   "metadata": {},
   "outputs": [
    {
     "data": {
      "text/plain": [
       "5×2 Matrix{Float64}:\n",
       " 0.0  0.0\n",
       " 0.0  0.0\n",
       " 0.0  0.0\n",
       " 0.0  0.0\n",
       " 0.0  0.0"
      ]
     },
     "execution_count": 27,
     "metadata": {},
     "output_type": "execute_result"
    }
   ],
   "source": [
    "B = zeros(m,n)"
   ]
  },
  {
   "cell_type": "code",
   "execution_count": 28,
   "id": "b4f1008d",
   "metadata": {},
   "outputs": [
    {
     "data": {
      "text/plain": [
       "5×2 Matrix{Float64}:\n",
       " 2.0  3.0\n",
       " 3.0  4.0\n",
       " 4.0  5.0\n",
       " 5.0  6.0\n",
       " 6.0  7.0"
      ]
     },
     "execution_count": 28,
     "metadata": {},
     "output_type": "execute_result"
    }
   ],
   "source": [
    "for i in 1:m, j in 1:n\n",
    "    B[i,j] = i+j\n",
    "end\n",
    "B"
   ]
  },
  {
   "cell_type": "markdown",
   "id": "88c4707c",
   "metadata": {},
   "source": [
    "#### The more \"Julia\" way to create the addition table would have been with an *array comprehension*"
   ]
  },
  {
   "cell_type": "code",
   "execution_count": 29,
   "id": "2fb6a401",
   "metadata": {},
   "outputs": [
    {
     "data": {
      "text/plain": [
       "5×2 Matrix{Int64}:\n",
       " 2  3\n",
       " 3  4\n",
       " 4  5\n",
       " 5  6\n",
       " 6  7"
      ]
     },
     "execution_count": 29,
     "metadata": {},
     "output_type": "execute_result"
    }
   ],
   "source": [
    "C = [i+j for i in 1:m, j in 1:n]"
   ]
  },
  {
   "cell_type": "markdown",
   "id": "8fca7e8c",
   "metadata": {},
   "source": [
    "#### An *array comphesion* embedded in a for loop"
   ]
  },
  {
   "cell_type": "code",
   "execution_count": 30,
   "id": "35282f29",
   "metadata": {},
   "outputs": [
    {
     "data": {
      "text/plain": [
       "1×1 Matrix{Int64}:\n",
       " 2"
      ]
     },
     "metadata": {},
     "output_type": "display_data"
    },
    {
     "data": {
      "text/plain": [
       "2×2 Matrix{Int64}:\n",
       " 2  3\n",
       " 3  4"
      ]
     },
     "metadata": {},
     "output_type": "display_data"
    },
    {
     "data": {
      "text/plain": [
       "3×3 Matrix{Int64}:\n",
       " 2  3  4\n",
       " 3  4  5\n",
       " 4  5  6"
      ]
     },
     "metadata": {},
     "output_type": "display_data"
    },
    {
     "data": {
      "text/plain": [
       "4×4 Matrix{Int64}:\n",
       " 2  3  4  5\n",
       " 3  4  5  6\n",
       " 4  5  6  7\n",
       " 5  6  7  8"
      ]
     },
     "metadata": {},
     "output_type": "display_data"
    },
    {
     "data": {
      "text/plain": [
       "5×5 Matrix{Int64}:\n",
       " 2  3  4  5   6\n",
       " 3  4  5  6   7\n",
       " 4  5  6  7   8\n",
       " 5  6  7  8   9\n",
       " 6  7  8  9  10"
      ]
     },
     "metadata": {},
     "output_type": "display_data"
    },
    {
     "data": {
      "text/plain": [
       "6×6 Matrix{Int64}:\n",
       " 2  3  4   5   6   7\n",
       " 3  4  5   6   7   8\n",
       " 4  5  6   7   8   9\n",
       " 5  6  7   8   9  10\n",
       " 6  7  8   9  10  11\n",
       " 7  8  9  10  11  12"
      ]
     },
     "metadata": {},
     "output_type": "display_data"
    },
    {
     "data": {
      "text/plain": [
       "7×7 Matrix{Int64}:\n",
       " 2  3   4   5   6   7   8\n",
       " 3  4   5   6   7   8   9\n",
       " 4  5   6   7   8   9  10\n",
       " 5  6   7   8   9  10  11\n",
       " 6  7   8   9  10  11  12\n",
       " 7  8   9  10  11  12  13\n",
       " 8  9  10  11  12  13  14"
      ]
     },
     "metadata": {},
     "output_type": "display_data"
    },
    {
     "data": {
      "text/plain": [
       "8×8 Matrix{Int64}:\n",
       " 2   3   4   5   6   7   8   9\n",
       " 3   4   5   6   7   8   9  10\n",
       " 4   5   6   7   8   9  10  11\n",
       " 5   6   7   8   9  10  11  12\n",
       " 6   7   8   9  10  11  12  13\n",
       " 7   8   9  10  11  12  13  14\n",
       " 8   9  10  11  12  13  14  15\n",
       " 9  10  11  12  13  14  15  16"
      ]
     },
     "metadata": {},
     "output_type": "display_data"
    },
    {
     "data": {
      "text/plain": [
       "9×9 Matrix{Int64}:\n",
       "  2   3   4   5   6   7   8   9  10\n",
       "  3   4   5   6   7   8   9  10  11\n",
       "  4   5   6   7   8   9  10  11  12\n",
       "  5   6   7   8   9  10  11  12  13\n",
       "  6   7   8   9  10  11  12  13  14\n",
       "  7   8   9  10  11  12  13  14  15\n",
       "  8   9  10  11  12  13  14  15  16\n",
       "  9  10  11  12  13  14  15  16  17\n",
       " 10  11  12  13  14  15  16  17  18"
      ]
     },
     "metadata": {},
     "output_type": "display_data"
    },
    {
     "data": {
      "text/plain": [
       "10×10 Matrix{Int64}:\n",
       "  2   3   4   5   6   7   8   9  10  11\n",
       "  3   4   5   6   7   8   9  10  11  12\n",
       "  4   5   6   7   8   9  10  11  12  13\n",
       "  5   6   7   8   9  10  11  12  13  14\n",
       "  6   7   8   9  10  11  12  13  14  15\n",
       "  7   8   9  10  11  12  13  14  15  16\n",
       "  8   9  10  11  12  13  14  15  16  17\n",
       "  9  10  11  12  13  14  15  16  17  18\n",
       " 10  11  12  13  14  15  16  17  18  19\n",
       " 11  12  13  14  15  16  17  18  19  20"
      ]
     },
     "metadata": {},
     "output_type": "display_data"
    }
   ],
   "source": [
    "for k in 1:10\n",
    "   D = [i+j for i in 1:k, j in 1:k]\n",
    "   display(D)\n",
    "end"
   ]
  }
 ],
 "metadata": {
  "@webio": {
   "lastCommId": null,
   "lastKernelId": null
  },
  "kernelspec": {
   "display_name": "Julia 1.6.2",
   "language": "julia",
   "name": "julia-1.6"
  },
  "language_info": {
   "file_extension": ".jl",
   "mimetype": "application/julia",
   "name": "julia",
   "version": "1.6.2"
  }
 },
 "nbformat": 4,
 "nbformat_minor": 5
}
